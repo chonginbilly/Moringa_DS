{
  "nbformat": 4,
  "nbformat_minor": 0,
  "metadata": {
    "colab": {
      "provenance": [],
      "include_colab_link": true
    },
    "kernelspec": {
      "name": "python3",
      "display_name": "Python 3"
    },
    "language_info": {
      "name": "python"
    }
  },
  "cells": [
    {
      "cell_type": "markdown",
      "metadata": {
        "id": "view-in-github",
        "colab_type": "text"
      },
      "source": [
        "<a href=\"https://colab.research.google.com/github/chonginbilly/Bi-Project/blob/Moringa_python/Copy_of_Implementing_Statistics_with_Functions_Lab.ipynb\" target=\"_parent\"><img src=\"https://colab.research.google.com/assets/colab-badge.svg\" alt=\"Open In Colab\"/></a>"
      ]
    },
    {
      "cell_type": "markdown",
      "source": [
        "<font color=\"green\">*To start working on this notebook, or any other notebook that we will use in this course, we will need to save our own copy of it. We can do this by clicking File > Save a Copy in Drive. We will then be able to make edits to our own copy of this notebook.*</font>\n",
        "\n",
        "---"
      ],
      "metadata": {
        "id": "-V10i5TOSI48"
      }
    },
    {
      "cell_type": "markdown",
      "source": [
        "# Implementing Statistics with Functions - Lab"
      ],
      "metadata": {
        "id": "YNkf_R7o5J3S"
      }
    },
    {
      "cell_type": "markdown",
      "source": [
        "## Introduction"
      ],
      "metadata": {
        "id": "R2EOyT635JLl"
      }
    },
    {
      "cell_type": "markdown",
      "source": [
        "Step into the vibrant arena of fitness analytics, where we don the hats of data analysts for a cutting-edge health and fitness company. Our mission? To sculpt personalized workout plans that seamlessly integrate with the diverse needs of two distinct client groups—Group A, faithful to traditional workouts, and Group B, venturing into the uncharted territory of \"HIIT Fusion\" fitness.\n",
        "\n",
        "As we embark on this analytics expedition, we wield the tools of statistical analysis, leveraging the Measures of Central Tendency and Measures of Dispersion acquired in prior lessons. Our focus lies in unraveling the stories told by fitness metrics: average step counts, calories torched per workout, workout duration distributions, and beyond. These insights are the building blocks for crafting workout plans that go beyond the ordinary, shaping a fitness experience that resonates uniquely with each group.\n",
        "\n",
        "Prepare to infuse your statistical expertise into the dynamic landscape of fitness analytics, where data illuminates the path to tailor-made workout excellence!"
      ],
      "metadata": {
        "id": "wDMCf6fU5I7w"
      }
    },
    {
      "cell_type": "markdown",
      "source": [
        "## Objectives"
      ],
      "metadata": {
        "id": "W8VUDW6W5ZM7"
      }
    },
    {
      "cell_type": "markdown",
      "source": [
        "By the end of this lab, you will be able to:\n",
        "\n",
        "- Calculate the mean, median, and mode for a given dataset.\n",
        "- Interpret the results to understand the central tendencies of the data.\n",
        "- Explore the range, interquartile range (IQR), variance, and standard deviation calculations.\n",
        "- Apply measures of dispersion to assess and quantify the spread of data."
      ],
      "metadata": {
        "id": "QgpE1_Au5qrR"
      }
    },
    {
      "cell_type": "markdown",
      "source": [
        "## Import libraries"
      ],
      "metadata": {
        "id": "HRqQ_rUu6v5n"
      }
    },
    {
      "cell_type": "code",
      "execution_count": null,
      "metadata": {
        "id": "bZuZ-86BSECk"
      },
      "outputs": [],
      "source": [
        "import numpy as np"
      ]
    },
    {
      "cell_type": "markdown",
      "source": [
        "## PulsePrecision Fitness Analytics"
      ],
      "metadata": {
        "id": "yWR-q_-S6z8g"
      }
    },
    {
      "cell_type": "markdown",
      "source": [
        "Welcome to the PulsePrecision Fitness Analytics Lab, where we, esteemed data analysts, will navigate the intricate landscape of fitness metrics for two distinct client groups. Group A adheres to the tried-and-true routine of traditional workouts, while Group B pioneers the unexplored territory of \"HIIT Fusion\" fitness. Our mission is to unearth insights that will sculpt personalized workout plans, ensuring an optimal fitness experience for each group."
      ],
      "metadata": {
        "id": "Qrv6Ws1W7KRl"
      }
    },
    {
      "cell_type": "code",
      "source": [
        "# Run this cell without changes\n",
        "\n",
        "# Set random seed for reproducibility\n",
        "np.random.seed(42)\n",
        "\n",
        "# Generate fitness data for Group A (Traditional Workouts)\n",
        "group_a_data = {\n",
        "  'step_count': np.random.randint(5000, 15000, 50),\n",
        "  'calories_burned': np.random.randint(100, 600, 50),\n",
        "  'workout_duration_minutes': np.random.randint(20, 90, 50),\n",
        "}\n",
        "\n",
        "# Generate fitness data for Group B (HIIT Fusion)\n",
        "group_b_data = {\n",
        "  'step_count': np.random.randint(3000, 12000, 50),\n",
        "  'calories_burned': np.random.randint(150, 700, 50),\n",
        "  'workout_duration_minutes': np.random.randint(15, 60, 50),\n",
        "  'intensity_rating': np.random.randint(1, 10, 50),\n",
        "  'interval_count': np.random.randint(5, 15, 50),\n",
        "}"
      ],
      "metadata": {
        "id": "YUx0m0G36zTr"
      },
      "execution_count": null,
      "outputs": []
    },
    {
      "cell_type": "code",
      "source": [
        "# Run this cell without changes\n",
        "group_a_data"
      ],
      "metadata": {
        "colab": {
          "base_uri": "https://localhost:8080/"
        },
        "id": "VuG2Xc6q7ZyX",
        "outputId": "1b3a46f3-f9c7-4d32-ba03-4559d850e95f"
      },
      "execution_count": null,
      "outputs": [
        {
          "output_type": "execute_result",
          "data": {
            "text/plain": [
              "{'step_count': array([12270,  5860, 10390, 10191, 10734, 11265,  5466,  9426, 10578,\n",
              "        13322,  6685,  5769, 11949,  7433, 10311, 10051, 11420,  6184,\n",
              "         9555,  8385, 11396, 13666, 14274,  7558, 12849,  7047,  7747,\n",
              "        14167, 14998,  5189,  7734,  8005,  9658,  6899, 12734,  6267,\n",
              "         6528,  8556,  8890, 13838, 10393, 13792, 13433, 12513,  7612,\n",
              "        12041, 14555, 11235, 10486, 12099]),\n",
              " 'calories_burned': array([554, 527, 363, 530, 134, 305, 180, 519, 149, 459, 487, 101, 489,\n",
              "        153, 205, 359, 409, 576, 290, 501, 317, 143, 261, 301, 545, 583,\n",
              "        369, 450, 403, 370, 555, 561, 314, 351, 289, 395, 312, 307, 336,\n",
              "        437, 466, 152, 379, 509, 316, 351, 287, 479, 592, 140]),\n",
              " 'workout_duration_minutes': array([48, 34, 64, 84, 28, 20, 27, 82, 30, 27, 54, 54, 52, 24, 60, 47, 26,\n",
              "        31, 53, 52, 67, 42, 81, 56, 63, 54, 84, 66, 22, 20, 24, 33, 46, 28,\n",
              "        34, 61, 70, 82, 71, 23, 42, 34, 62, 48, 55, 32, 51, 78, 47, 85])}"
            ]
          },
          "metadata": {},
          "execution_count": 12
        }
      ]
    },
    {
      "cell_type": "code",
      "source": [
        "# Run this cell without changes\n",
        "group_b_data"
      ],
      "metadata": {
        "colab": {
          "base_uri": "https://localhost:8080/"
        },
        "id": "yJJ4_F7y7feB",
        "outputId": "00d109c8-7b51-42b8-ead0-0137c2775f3c"
      },
      "execution_count": null,
      "outputs": [
        {
          "output_type": "execute_result",
          "data": {
            "text/plain": [
              "{'step_count': array([ 5693,  6627,  8450,  4663,  8592, 10392,  4306,  9776,  8864,\n",
              "        10526, 11901,  8575,  8530,  7413,  6748,  3663,  4998, 10994,\n",
              "         4495,  6304,  6763,  8232,  4853,  9585,  4291,  6581, 10554,\n",
              "        10280,  4636,  6696,  3698,  7737,  3854, 11164,  8855, 10392,\n",
              "         9528,  8249,  8172,  4707,  8791,  8535,  7931,  6510,  3202,\n",
              "         7218, 11958,  7389,  5327, 11004]),\n",
              " 'calories_burned': array([347, 660, 293, 350, 273, 336, 475, 613, 498, 552, 495, 660, 296,\n",
              "        297, 638, 487, 622, 300, 564, 447, 412, 293, 495, 151, 453, 403,\n",
              "        602, 186, 309, 158, 382, 248, 357, 280, 553, 301, 203, 269, 569,\n",
              "        571, 253, 403, 376, 261, 659, 622, 248, 302, 487, 312]),\n",
              " 'workout_duration_minutes': array([30, 55, 50, 47, 18, 47, 28, 35, 34, 22, 21, 17, 31, 47, 26, 36, 36,\n",
              "        44, 52, 52, 59, 22, 41, 41, 48, 35, 44, 47, 42, 47, 19, 33, 18, 49,\n",
              "        31, 58, 42, 44, 43, 20, 49, 55, 51, 38, 43, 45, 49, 47, 35, 46]),\n",
              " 'intensity_rating': array([7, 1, 3, 2, 9, 6, 3, 8, 8, 2, 6, 7, 2, 2, 1, 8, 1, 9, 6, 7, 7, 3,\n",
              "        2, 9, 8, 7, 9, 4, 4, 1, 8, 3, 7, 2, 2, 7, 6, 3, 9, 6, 6, 1, 4, 6,\n",
              "        6, 5, 1, 8, 5, 5]),\n",
              " 'interval_count': array([11,  8, 10,  8,  7, 11, 12,  8,  6, 14,  7,  5, 12,  7, 14, 11, 14,\n",
              "         9, 14,  9, 11, 13,  9,  5, 14, 14,  5,  6, 10, 13, 12,  9,  5, 11,\n",
              "         9, 10, 11,  7, 14,  7,  9, 10, 13,  9,  5,  8,  9, 14, 14,  9])}"
            ]
          },
          "metadata": {},
          "execution_count": 13
        }
      ]
    },
    {
      "cell_type": "markdown",
      "source": [
        "## Lab Tasks\n",
        "\n",
        "\n"
      ],
      "metadata": {
        "id": "sxVS-Xgu7tjP"
      }
    },
    {
      "cell_type": "markdown",
      "source": [
        "**Task 1: Central Tendency for Group A**\n",
        "- Calculate the mean, median, and mode for the step count in Group A.\n",
        "- Interpret the results to understand the central tendencies of the step count data."
      ],
      "metadata": {
        "id": "MKdSQWDM7yR1"
      }
    },
    {
      "cell_type": "code",
      "source": [
        "import numpy as np\n",
        "import os\n",
        "\n",
        "count_group_a = group_a_data['step_count']\n",
        "# Calculate mean\n",
        "mean= np.mean(count_group_a)\n",
        "\n",
        "# Calculate median\n",
        "median= np.median(count_group_a)\n",
        "\n",
        "# Calculate mode\n",
        "mode= np.bincount(count_group_a).argmax()\n",
        "\n",
        "print(f\"The Mean for Group A Step Count is : {mean}\")\n",
        "print(f\"The Median for Group A Step Count is: {median}\")\n",
        "print(f\"The Mode for Group A Step Count is: {mode}\")\n"
      ],
      "metadata": {
        "id": "TuGF_jtIbrxQ",
        "outputId": "e2b60485-c35a-4873-a08f-16565f72d10e",
        "colab": {
          "base_uri": "https://localhost:8080/"
        }
      },
      "execution_count": null,
      "outputs": [
        {
          "output_type": "stream",
          "name": "stdout",
          "text": [
            "The Mean for Group A Step Count is : 10068.06\n",
            "The Median for Group A Step Count is: 10350.5\n",
            "The Mode for Group A Step Count is: 5189\n"
          ]
        }
      ]
    },
    {
      "cell_type": "markdown",
      "source": [
        "**Task 2: Central Tendency for Group B**\n",
        "- Calculate the mean, median, and mode for the calories burned in Group B.\n",
        "- Interpret the results to understand the central tendencies of the calories burned data.\n"
      ],
      "metadata": {
        "id": "OvFD-LBx783y"
      }
    },
    {
      "cell_type": "code",
      "source": [
        "## CODE GOES HERE\n",
        "import numpy as np\n",
        "\n",
        "# Calories burned data for Group B\n",
        "calories_group_b = group_b_data['calories_burned']\n",
        "\n",
        "# Calculate mean\n",
        "mean = np.mean(calories_group_b)\n",
        "\n",
        "# Calculate median\n",
        "median = np.median(calories_group_b)\n",
        "\n",
        "# Calculate mode\n",
        "mode= np.bincount(calories_group_b).argmax()\n",
        "\n",
        "print(f\"The Mean for Group B burned calories is:{mean}\")\n",
        "print(f\"The Median for Group B Calories Burned is:{median}\")\n",
        "print(f\"The Mode for Group B Calories Burned is:{mode}\")\n"
      ],
      "metadata": {
        "id": "0W7_kEQn7-y4",
        "outputId": "95444218-fa49-4ac7-a95a-8d9d3d7cb5a8",
        "colab": {
          "base_uri": "https://localhost:8080/"
        }
      },
      "execution_count": null,
      "outputs": [
        {
          "output_type": "stream",
          "name": "stdout",
          "text": [
            "The Mean for Group B burned calories is:406.42\n",
            "The Median for Group B Calories Burned is:379.0\n",
            "The Mode for Group B Calories Burned is:248\n"
          ]
        }
      ]
    },
    {
      "cell_type": "markdown",
      "source": [
        "**Task 3: Dispersion Analysis for Group A**\n",
        "- Explore the range, interquartile range (IQR), variance, and standard deviation for the workout duration in Group A.\n",
        "- Apply measures of dispersion to assess and quantify the spread of workout duration data."
      ],
      "metadata": {
        "id": "eC4iCnq-8A-X"
      }
    },
    {
      "cell_type": "code",
      "source": [
        "## CODE GOES HERE\n",
        "import numpy as np\n",
        "\n",
        "# Workout duration data for Group A\n",
        "workout_duration= group_a_data['workout_duration_minutes']\n",
        "\n",
        "# Calculate range\n",
        "range = np.ptp(workout_duration)\n",
        "\n",
        "# Calculate interquartile range (IQR)\n",
        "q1, q2 = np.percentile(workout_duration, [60 ,20])\n",
        "iqr = q1 - q2\n",
        "\n",
        "# Calculate variance\n",
        "variance = np.var(workout_duration)\n",
        "\n",
        "# Calculate standard deviation\n",
        "std_dev= np.std(workout_duration)\n",
        "\n",
        "# Display the results\n",
        "print(f\"Range for Group A Workout Duration is:{range}\")\n",
        "print(f\"Interquartile Range (IQR) for Group A Workout Duration is:{iqr}\")\n",
        "print(f\"Variance for Group A Workout Duration is:{variance}\")\n",
        "print(f\"Standard Deviation for Group A Workout Duration is:{std_dev}\")\n"
      ],
      "metadata": {
        "id": "xYHvWrLQ8ANA",
        "outputId": "15c1728b-1f12-4c20-af91-c706ac68c327",
        "colab": {
          "base_uri": "https://localhost:8080/"
        }
      },
      "execution_count": null,
      "outputs": [
        {
          "output_type": "stream",
          "name": "stdout",
          "text": [
            "Range for Group A Workout Duration is:65\n",
            "Interquartile Range (IQR) for Group A Workout Duration is:26.0\n",
            "Variance for Group A Workout Duration is:382.3344\n",
            "Standard Deviation for Group A Workout Duration is:19.55337311054029\n"
          ]
        }
      ]
    },
    {
      "cell_type": "markdown",
      "source": [
        "**Task 4: Dispersion Analysis for Group B**\n",
        "- Explore the range, interquartile range (IQR), variance, and standard deviation for the intensity rating in Group B.\n",
        "- Apply measures of dispersion to assess and quantify the spread of intensity rating data."
      ],
      "metadata": {
        "id": "1f7HI1fQ8EwK"
      }
    },
    {
      "cell_type": "code",
      "source": [
        "## CODE GOES HERE\n",
        "import numpy as np\n",
        "\n",
        "# Intensity rating data for Group B\n",
        "intensity_rating= group_b_data['intensity_rating']\n",
        "\n",
        "# Calculate range\n",
        "range = np.ptp(intensity_rating)\n",
        "\n",
        "# Calculate interquartile range (IQR)\n",
        "q0, q1 = np.percentile(intensity_rating, [40 ,30])\n",
        "iqr = q0 - q1\n",
        "\n",
        "# Calculate variance\n",
        "variance= np.var(intensity_rating)\n",
        "\n",
        "# Calculate standard deviation\n",
        "std_dev= np.std(intensity_rating)\n",
        "\n",
        "# Display the results\n",
        "print(f\"Range for Group B Intensity Rating is:{range}\")\n",
        "print(f\"Interquartile Range (IQR) for Group B Intensity Rating is:{iqr}\")\n",
        "print(f\"Variance for Group B Intensity Rating is: {variance}\")\n",
        "print(f\"Standard Deviation for Group B Intensity Rating is: {std_dev}\")\n"
      ],
      "metadata": {
        "id": "JTu-uTYq8FPU",
        "outputId": "7e373cb4-c171-489c-9605-df92c2da789a",
        "colab": {
          "base_uri": "https://localhost:8080/"
        }
      },
      "execution_count": null,
      "outputs": [
        {
          "output_type": "stream",
          "name": "stdout",
          "text": [
            "Range for Group B Intensity Rating is:8\n",
            "Interquartile Range (IQR) for Group B Intensity Rating is:1.0\n",
            "Variance for Group B Intensity Rating is: 7.0384\n",
            "Standard Deviation for Group B Intensity Rating is: 2.6529983038064686\n"
          ]
        }
      ]
    },
    {
      "cell_type": "markdown",
      "source": [
        "## Summary"
      ],
      "metadata": {
        "id": "brINmCT38KA_"
      }
    },
    {
      "cell_type": "markdown",
      "source": [
        "In the PulsePrecision Fitness Analytics Lab, we actively engaged with diverse fitness datasets, calculating the mean, median, and mode for step count and calories burned, unveiling the distinctive central tendencies within each client group. Navigating dispersion analysis, we explored the range, interquartile range (IQR), variance, and standard deviation, gaining valuable insights into the spread of workout duration and intensity rating data. Through this hands-on journey, we refined our analytical skills, recognizing the impactful role of data in crafting personalized fitness plans. As we wrap up this lab, we anticipate the upcoming lesson, where we'll explore deeper into the dynamic connections between variables with covariance and correlation."
      ],
      "metadata": {
        "id": "ZIMPqMjw84nV"
      }
    }
  ]
}