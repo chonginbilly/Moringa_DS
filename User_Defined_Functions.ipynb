{
  "nbformat": 4,
  "nbformat_minor": 0,
  "metadata": {
    "colab": {
      "provenance": [],
      "include_colab_link": true
    },
    "kernelspec": {
      "name": "python3",
      "display_name": "Python 3"
    },
    "language_info": {
      "name": "python"
    }
  },
  "cells": [
    {
      "cell_type": "markdown",
      "metadata": {
        "id": "view-in-github",
        "colab_type": "text"
      },
      "source": [
        "<a href=\"https://colab.research.google.com/github/chonginbilly/Moringa_DS/blob/main/User_Defined_Functions.ipynb\" target=\"_parent\"><img src=\"https://colab.research.google.com/assets/colab-badge.svg\" alt=\"Open In Colab\"/></a>"
      ]
    },
    {
      "cell_type": "markdown",
      "source": [
        "<font color=\"green\">*To start working on this notebook, or any other notebook that we will use in this course, we will need to save our own copy of it. We can do this by clicking File > Save a Copy in Drive. We will then be able to make edits to our own copy of this notebook.*</font>\n",
        "\n",
        "---"
      ],
      "metadata": {
        "id": "iWo1DhABE8-E"
      }
    },
    {
      "cell_type": "markdown",
      "source": [
        "#Creating Functions"
      ],
      "metadata": {
        "id": "jM-AzNLVE9lU"
      }
    },
    {
      "cell_type": "markdown",
      "source": [
        "## Introduction"
      ],
      "metadata": {
        "id": "DNTXEG_1FDRv"
      }
    },
    {
      "cell_type": "markdown",
      "source": [
        "Step into the world of code crafting! In our prior lesson, we explored the realm of built-in functions—those ready-made tools simplifying our tasks. Python boasts two function types: **built-in** ones and **user-defined** functions. In this session, we'll delve into the art of crafting our unique functions and wielding them in our code.\n",
        "\n",
        "User-defined functions are your personalized tools in the coding arsenal. These functions are crafted by you, catering specifically to your needs within your code. Imagine creating your own set of instructions or commands tailored to solve recurring problems or perform specific tasks. These functions not only streamline your code but also enhance its readability and reusability. By encapsulating a series of actions into a single named block, user-defined functions empower you to efficiently manage and execute complex operations, putting the power of customization firmly in your hands."
      ],
      "metadata": {
        "id": "KmH4i8nIGMyZ"
      }
    },
    {
      "cell_type": "markdown",
      "source": [
        "## Objectives"
      ],
      "metadata": {
        "id": "Qqnlo2azHFBg"
      }
    },
    {
      "cell_type": "markdown",
      "source": [
        "You will be able to:\n",
        "\n",
        "- Learn to create functions in Python\n",
        "- Understand how functions encapsulate code for reuse, enhancing code organization and readability."
      ],
      "metadata": {
        "id": "mdOckrLMHHRi"
      }
    },
    {
      "cell_type": "markdown",
      "source": [
        "## Optimizing Operations with Python Functions"
      ],
      "metadata": {
        "id": "F125mJc2UP2A"
      }
    },
    {
      "cell_type": "markdown",
      "source": [
        "Let's envision a scenario where we're dealing with a list of numbers and need to perform a repetitive operation on each number in the list. Initially, we have a list containing the first set of numbers: `[2, 4, 6, 8, 10]`.\n"
      ],
      "metadata": {
        "id": "3lcgW3yXXKM_"
      }
    },
    {
      "cell_type": "code",
      "source": [
        "numbers_list = [2, 4, 6, 8, 10]\n",
        "doubled_numbers = []\n",
        "\n",
        "# Doubling each number in the first set\n",
        "for number in numbers_list:\n",
        "  doubled_numbers.append(number * 2)\n",
        "\n",
        "print(doubled_numbers)"
      ],
      "metadata": {
        "colab": {
          "base_uri": "https://localhost:8080/"
        },
        "id": "oJNs2J_8XDDO",
        "outputId": "c925c00e-f565-4753-ea57-89ecd87669d5"
      },
      "execution_count": null,
      "outputs": [
        {
          "output_type": "stream",
          "name": "stdout",
          "text": [
            "[4, 8, 12, 16, 20]\n"
          ]
        }
      ]
    },
    {
      "cell_type": "markdown",
      "source": [
        "This code assists us in doubling each number in the initial list. However, later on, we acquire a different set of numbers: `[3, 6, 9, 12, 15]`. We require the same operation (doubling) on these new numbers."
      ],
      "metadata": {
        "id": "dXdpZV4HXatO"
      }
    },
    {
      "cell_type": "code",
      "source": [
        "numbers_list = [3, 6, 9, 12, 15]\n",
        "doubled_numbers = []\n",
        "\n",
        "# Repeating the code for the second set of numbers\n",
        "for number in numbers_list:\n",
        "  doubled_numbers.append(number * 2)\n",
        "\n",
        "print(doubled_numbers)"
      ],
      "metadata": {
        "colab": {
          "base_uri": "https://localhost:8080/"
        },
        "id": "BwANWGNKXRl3",
        "outputId": "0a35e4ef-6e34-49de-afbc-7c2ba63d69ee"
      },
      "execution_count": null,
      "outputs": [
        {
          "output_type": "stream",
          "name": "stdout",
          "text": [
            "[6, 12, 18, 24, 30]\n"
          ]
        }
      ]
    },
    {
      "cell_type": "markdown",
      "source": [
        "Performing identical operations manually for each set of numbers leads to code duplication, making our script longer and prone to potential errors. This repetition hints at the need for a more efficient and scalable solution. That's precisely where functions come into play, offering us a smarter way to handle repetitive tasks!"
      ],
      "metadata": {
        "id": "JqTEwX2NXqc2"
      }
    },
    {
      "cell_type": "markdown",
      "source": [
        "Let's have that same code wrapped in a function:"
      ],
      "metadata": {
        "id": "asGtPglFYCOO"
      }
    },
    {
      "cell_type": "code",
      "source": [
        "def double_numbers():\n",
        "  doubled_numbers = []\n",
        "\n",
        "  for number in numbers_list:\n",
        "    doubled_numbers.append(number * 2)\n",
        "\n",
        "  return doubled_numbers"
      ],
      "metadata": {
        "id": "TZklIpMbXkHb"
      },
      "execution_count": null,
      "outputs": []
    },
    {
      "cell_type": "markdown",
      "source": [
        "Now, behold the magic of functions! Behold the incantation that transforms repetitive code into a reusable spell! By encapsulating our operation within a function, we've unlocked a powerful charm in Python."
      ],
      "metadata": {
        "id": "zLzyvoe9ZdH5"
      }
    },
    {
      "cell_type": "code",
      "source": [
        "# Reusing our function for the first set of numbers\n",
        "numbers_list = [2, 4, 6, 8, 10]\n",
        "doubled_first_numbers = double_numbers()\n",
        "print(doubled_first_numbers)"
      ],
      "metadata": {
        "colab": {
          "base_uri": "https://localhost:8080/"
        },
        "id": "d1Vjq2M3ZdnX",
        "outputId": "328fd996-6489-47c2-e9bc-519707460124"
      },
      "execution_count": null,
      "outputs": [
        {
          "output_type": "stream",
          "name": "stdout",
          "text": [
            "[4, 8, 12, 16, 20]\n"
          ]
        }
      ]
    },
    {
      "cell_type": "code",
      "source": [
        "# Reusing the function for the second set of numbers\n",
        "numbers_list = [3, 6, 9, 12, 15]\n",
        "doubled_second_numbers = double_numbers()\n",
        "print(doubled_second_numbers)"
      ],
      "metadata": {
        "colab": {
          "base_uri": "https://localhost:8080/"
        },
        "id": "PtrpOqbgZwVP",
        "outputId": "ad0bc567-07b6-4680-dbe5-f94d0499c493"
      },
      "execution_count": null,
      "outputs": [
        {
          "output_type": "stream",
          "name": "stdout",
          "text": [
            "[6, 12, 18, 24, 30]\n"
          ]
        }
      ]
    },
    {
      "cell_type": "code",
      "source": [
        "# what about a third set of numbers?\n",
        "numbers_list = [5, 10, 15, 20, 25]\n",
        "doubled_third_numbers = double_numbers()\n",
        "print(doubled_third_numbers)"
      ],
      "metadata": {
        "colab": {
          "base_uri": "https://localhost:8080/"
        },
        "id": "airRqMj5aA3u",
        "outputId": "48b5c868-a1d2-46d6-c6a5-e0bd1cd18000"
      },
      "execution_count": null,
      "outputs": [
        {
          "output_type": "stream",
          "name": "stdout",
          "text": [
            "[10, 20, 30, 40, 50]\n"
          ]
        }
      ]
    },
    {
      "cell_type": "markdown",
      "source": [
        "With a flick of the wand, our function `double_numbers()` performs the doubling enchantment on any list of numbers we provide, minimizing our code and ensuring consistency. We've waved farewell to repetition, embraced clarity, and harnessed the true essence of code reuse—a skill worthy of every aspiring wizard in the realm of programming!"
      ],
      "metadata": {
        "id": "Sh6fRJsaakes"
      }
    },
    {
      "cell_type": "markdown",
      "source": [
        "## Essential Concepts in Python Functions"
      ],
      "metadata": {
        "id": "j9ZBuxt4bTHC"
      }
    },
    {
      "cell_type": "markdown",
      "source": [
        "Let's delve into the intricacies of function definition, function calling, and the `return` keyword—a trio of fundamental concepts in Python."
      ],
      "metadata": {
        "id": "ciLH6XW4bije"
      }
    },
    {
      "cell_type": "markdown",
      "source": [
        "### Function Definition:"
      ],
      "metadata": {
        "id": "whLr_WV2bs3M"
      }
    },
    {
      "cell_type": "markdown",
      "source": [
        "A function is a block of code that performs a specific task. Defining a function involves specifying its name and the sequence of operations it should execute. To define a function, we use the `def` keyword followed by the **function name** and **parentheses**, optionally including parameters within the parentheses if the function needs inputs. The function's code block is indented below the definition line.\n",
        "\n",
        "Syntax\n",
        "\n",
        "```\n",
        "def function_name():\n",
        "  # block of code\n",
        "  # to be executed repeatedly\n",
        "```"
      ],
      "metadata": {
        "id": "idAe1V-vbqYG"
      }
    },
    {
      "cell_type": "code",
      "source": [
        "def double_numbers():\n",
        "  doubled_numbers = []\n",
        "\n",
        "  for number in numbers_list:\n",
        "    doubled_numbers.append(number * 2)\n",
        "\n",
        "  return doubled_numbers"
      ],
      "metadata": {
        "id": "NijxXYTjabVX"
      },
      "execution_count": null,
      "outputs": []
    },
    {
      "cell_type": "code",
      "source": [
        "# another example\n",
        "def welcome_employees():\n",
        "  for employee in new_employees:\n",
        "    print(f\"Hello {employee}, welcome to Naivas Supermarket!! We are glad to have you on board\")"
      ],
      "metadata": {
        "id": "j2bRkovfcjeg"
      },
      "execution_count": null,
      "outputs": []
    },
    {
      "cell_type": "markdown",
      "source": [
        "### Function Calling"
      ],
      "metadata": {
        "id": "5Eo9XHyphZiC"
      }
    },
    {
      "cell_type": "markdown",
      "source": [
        "Once a function is defined, it can be executed or called by using its name followed by parentheses. If the function expects inputs (parameters), they are provided within the parentheses during the function call."
      ],
      "metadata": {
        "id": "86Q-NY6vhgdQ"
      }
    },
    {
      "cell_type": "code",
      "source": [
        "numbers_list = [2, 4, 6, 8, 10]\n",
        "doubled_first_numbers = double_numbers() # calling our function\n",
        "print(doubled_first_numbers)"
      ],
      "metadata": {
        "colab": {
          "base_uri": "https://localhost:8080/"
        },
        "id": "25NN6AVPdZwU",
        "outputId": "fc8b725d-4426-4a13-abc8-551da5ea92be"
      },
      "execution_count": null,
      "outputs": [
        {
          "output_type": "stream",
          "name": "stdout",
          "text": [
            "[4, 8, 12, 16, 20]\n"
          ]
        }
      ]
    },
    {
      "cell_type": "code",
      "source": [
        "new_employees = [\"linda\", \"Felicia\", \"Monica\", \"Sharron\"]\n",
        "welcome_employees() # caling welcome_employees function"
      ],
      "metadata": {
        "colab": {
          "base_uri": "https://localhost:8080/"
        },
        "id": "gvg8gYluhqGY",
        "outputId": "01475af2-f462-4d4f-e0da-41f79f779a73"
      },
      "execution_count": null,
      "outputs": [
        {
          "output_type": "stream",
          "name": "stdout",
          "text": [
            "Hello linda, welcome to Naivas Supermarket!! We are glad to have you on board\n",
            "Hello Felicia, welcome to Naivas Supermarket!! We are glad to have you on board\n",
            "Hello Monica, welcome to Naivas Supermarket!! We are glad to have you on board\n",
            "Hello Sharron, welcome to Naivas Supermarket!! We are glad to have you on board\n"
          ]
        }
      ]
    },
    {
      "cell_type": "markdown",
      "source": [
        "### Return Keyword"
      ],
      "metadata": {
        "id": "2qz8e1EViaxt"
      }
    },
    {
      "cell_type": "markdown",
      "source": [
        "The `return` keyword is used within a function to specify the value it should give back when called. It allows a function to compute a result and then pass that result back to the code that called the function.\n"
      ],
      "metadata": {
        "id": "ScIQxezgiX7N"
      }
    },
    {
      "cell_type": "code",
      "source": [
        "def double_numbers(numbers_list):\n",
        "  doubled_numbers = []\n",
        "\n",
        "  for number in numbers_list:\n",
        "      doubled_numbers.append(number * 2)\n",
        "\n",
        "  return doubled_numbers # pass the list doubled_numbers as the result of the function"
      ],
      "metadata": {
        "id": "S-L1j-PIiFZU"
      },
      "execution_count": null,
      "outputs": []
    },
    {
      "cell_type": "code",
      "source": [
        "# example\n",
        "\n",
        "def calculation():\n",
        "  a = 5\n",
        "  b = 6\n",
        "  sum = a + b\n",
        "\n",
        "  return sum"
      ],
      "metadata": {
        "id": "pDdw8JC9ixSa"
      },
      "execution_count": null,
      "outputs": []
    },
    {
      "cell_type": "code",
      "source": [
        "# caling the function\n",
        "calculation()"
      ],
      "metadata": {
        "colab": {
          "base_uri": "https://localhost:8080/"
        },
        "id": "v_kxw7Rli-NI",
        "outputId": "2fbdbf89-6825-46b5-ccf8-57893f89e19f"
      },
      "execution_count": null,
      "outputs": [
        {
          "output_type": "execute_result",
          "data": {
            "text/plain": [
              "11"
            ]
          },
          "metadata": {},
          "execution_count": 17
        }
      ]
    },
    {
      "cell_type": "markdown",
      "source": [
        "Lets create the function again without the return statement:"
      ],
      "metadata": {
        "id": "upXdsqWqkNvy"
      }
    },
    {
      "cell_type": "code",
      "source": [
        "# function definition\n",
        "def addition():\n",
        "  a = 5\n",
        "  b = 6\n",
        "  sum = a + b"
      ],
      "metadata": {
        "id": "M3MjIMD5kGeA"
      },
      "execution_count": null,
      "outputs": []
    },
    {
      "cell_type": "code",
      "source": [
        "# function calling\n",
        "addition()"
      ],
      "metadata": {
        "id": "Vh95_T-txBIs"
      },
      "execution_count": null,
      "outputs": []
    },
    {
      "cell_type": "markdown",
      "source": [
        "The `addition()` function performs a calculation but doesn't explicitly return any value. The importance of the return statement becomes evident when we aim to use the result of a function in other parts of our code.\n",
        "\n",
        "The `return` statement essentially allows functions to produce an output or result that can be captured and used by the rest of the program. Without `return`, the function performs its operations but doesn't pass any information back to the calling code.\n"
      ],
      "metadata": {
        "id": "XmLm6OhOxhJo"
      }
    },
    {
      "cell_type": "markdown",
      "source": [
        "## Knock yourself out: Global and Local variables"
      ],
      "metadata": {
        "id": "CWpplis3yBKX"
      }
    },
    {
      "cell_type": "markdown",
      "source": [
        "Variables in Python can have different scopes, impacting their accessibility within functions."
      ],
      "metadata": {
        "id": "f5aebtSTym86"
      }
    },
    {
      "cell_type": "markdown",
      "source": [
        "### Global Variables"
      ],
      "metadata": {
        "id": "VVAsD485yoTl"
      }
    },
    {
      "cell_type": "markdown",
      "source": [
        "Defined outside any function, global variables are accessible throughout the entire code, including within functions."
      ],
      "metadata": {
        "id": "dqvd5DnHywl7"
      }
    },
    {
      "cell_type": "code",
      "source": [
        "global_var = 10\n",
        "\n",
        "def function_with_global():\n",
        "  print(\"Global variable accessed inside function:\", global_var)\n",
        "\n",
        "function_with_global()  # Output: Global variable accessed inside function: 10\n"
      ],
      "metadata": {
        "colab": {
          "base_uri": "https://localhost:8080/"
        },
        "id": "Vodefar4xwjx",
        "outputId": "61666fe3-e00e-4562-d78d-6abaf3811522"
      },
      "execution_count": null,
      "outputs": [
        {
          "output_type": "stream",
          "name": "stdout",
          "text": [
            "Global variable accessed inside function: 10\n"
          ]
        }
      ]
    },
    {
      "cell_type": "markdown",
      "source": [
        "### Local Variables"
      ],
      "metadata": {
        "id": "NdB1T0CRy_LC"
      }
    },
    {
      "cell_type": "markdown",
      "source": [
        "Local variables are defined within a function and can only be accessed within that specific function scope."
      ],
      "metadata": {
        "id": "kzm7XF7mzK26"
      }
    },
    {
      "cell_type": "code",
      "source": [
        "\n",
        "def function_with_local():\n",
        "  local_var = 20\n",
        "  print(\"Local variable:\", local_var)\n",
        "\n",
        "function_with_local()  # Output: Local variable: 20"
      ],
      "metadata": {
        "colab": {
          "base_uri": "https://localhost:8080/"
        },
        "id": "GBEO21GRzOwa",
        "outputId": "a19ac6ef-c742-4c2f-ea48-923707030351"
      },
      "execution_count": null,
      "outputs": [
        {
          "output_type": "stream",
          "name": "stdout",
          "text": [
            "Local variable: 20\n"
          ]
        }
      ]
    },
    {
      "cell_type": "markdown",
      "source": [
        "### Global Keyword"
      ],
      "metadata": {
        "id": "WB1pLB32zZVj"
      }
    },
    {
      "cell_type": "markdown",
      "source": [
        "To modify a global variable within a function, the `global` keyword is used to explicitly declare the variable's global scope.\n"
      ],
      "metadata": {
        "id": "knLNPs0EzewS"
      }
    },
    {
      "cell_type": "code",
      "source": [
        "global_var = 10\n",
        "\n",
        "def modify_global():\n",
        "  global global_var\n",
        "  global_var = 15\n",
        "\n",
        "modify_global()\n",
        "print(\"Modified global variable:\", global_var)  # Output: Modified global variable: 15"
      ],
      "metadata": {
        "colab": {
          "base_uri": "https://localhost:8080/"
        },
        "id": "wToPj4aWzkVM",
        "outputId": "84595b19-c002-4698-bb24-94d9fc68d879"
      },
      "execution_count": null,
      "outputs": [
        {
          "output_type": "stream",
          "name": "stdout",
          "text": [
            "Modified global variable: 15\n"
          ]
        }
      ]
    },
    {
      "cell_type": "markdown",
      "source": [
        "Understanding global and local scopes is crucial in managing variable accessibility and preventing unintentional modifications or unexpected behaviors within Python functions."
      ],
      "metadata": {
        "id": "NxQRNiNQzhKr"
      }
    },
    {
      "cell_type": "markdown",
      "source": [
        "## Summary"
      ],
      "metadata": {
        "id": "oruOSJ8ZyGGx"
      }
    },
    {
      "cell_type": "markdown",
      "source": [
        "In this lesson, we've explored the core elements of Python functions. We've covered how to define functions using `def`, understood the importance of function calling, and recognized the pivotal role of the `return` statement in conveying results back to the main code. Functions act as modular units, facilitating code reuse, enhancing organization, and improving overall code efficiency. By mastering these concepts, we've equipped ourselves with the ability to create reusable code structures, paving the way for more sophisticated Python programming adventures."
      ],
      "metadata": {
        "id": "WY4Nb-S5yLnD"
      }
    }
  ]
}