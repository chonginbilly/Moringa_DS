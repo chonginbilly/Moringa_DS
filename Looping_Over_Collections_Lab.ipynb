{
  "nbformat": 4,
  "nbformat_minor": 0,
  "metadata": {
    "colab": {
      "provenance": [],
      "toc_visible": true,
      "include_colab_link": true
    },
    "kernelspec": {
      "name": "python3",
      "display_name": "Python 3"
    },
    "language_info": {
      "name": "python"
    }
  },
  "cells": [
    {
      "cell_type": "markdown",
      "metadata": {
        "id": "view-in-github",
        "colab_type": "text"
      },
      "source": [
        "<a href=\"https://colab.research.google.com/github/chonginbilly/Moringa_DS/blob/Moringa_python/Looping_Over_Collections_Lab.ipynb\" target=\"_parent\"><img src=\"https://colab.research.google.com/assets/colab-badge.svg\" alt=\"Open In Colab\"/></a>"
      ]
    },
    {
      "cell_type": "markdown",
      "source": [
        "<font color=\"green\">*To start working on this notebook, or any other notebook that we will use in this course, we will need to save our own copy of it. We can do this by clicking File > Save a Copy in Drive. We will then be able to make edits to our own copy of this notebook.*</font>\n",
        "\n",
        "---"
      ],
      "metadata": {
        "id": "PffBPC6ZpZ-A"
      }
    },
    {
      "cell_type": "markdown",
      "source": [
        "# Looping Over Collections - Lab"
      ],
      "metadata": {
        "id": "o-BoGvjHaUDu"
      }
    },
    {
      "cell_type": "markdown",
      "source": [
        "## Introduction"
      ],
      "metadata": {
        "id": "dh_24SUwaYIO"
      }
    },
    {
      "cell_type": "markdown",
      "source": [
        "Hey there, Python Pioneers! Welcome to the Looping Over Collections Lab, where we're about to embark on a rollercoaster ride through Python's looping wonders. Brace yourselves for an adventure that spans from unraveling the mystical for loops to wielding the almighty loop control statements! Get ready to code your way through lists, dictionaries, and tuples while mastering the art of iteration. This lab isn’t just a stroll through the Python park; it's a high-speed looping extravaganza!"
      ],
      "metadata": {
        "id": "cah4GDXfdwqH"
      }
    },
    {
      "cell_type": "markdown",
      "source": [
        "## Objectives"
      ],
      "metadata": {
        "id": "xUL-90W2aZvf"
      }
    },
    {
      "cell_type": "markdown",
      "source": [
        "You will be able to:\n",
        "\n",
        "* Understand `for` loop constructs in Python to effectively iterate through collections\n",
        "* Practice navigating diverse data structures like `lists`, `dictionaries`, and `tuples` using loops and performing operations on their elements.\n",
        "* Use loop control statements such as `break` and `continue` to manage iteration flow within loops for enhanced efficiency."
      ],
      "metadata": {
        "id": "lCCH7OUVafPl"
      }
    },
    {
      "cell_type": "markdown",
      "source": [
        "## Lab Tasks"
      ],
      "metadata": {
        "id": "VOsaU7DKaq4f"
      }
    },
    {
      "cell_type": "markdown",
      "source": [
        "**Task 1: Basics of For Loops**\n",
        "- Create a list containing numbers from 1 to 5.\n",
        "- Use a `for` loop to print each number in the list.\n"
      ],
      "metadata": {
        "id": "IuPPwNVDboZT"
      }
    },
    {
      "cell_type": "code",
      "execution_count": null,
      "metadata": {
        "id": "-YqaiHCVpXvE"
      },
      "outputs": [],
      "source": [
        "## CODE GOES HERE"
      ]
    },
    {
      "cell_type": "markdown",
      "source": [
        "**Task 2: Looping Through a Dictionary**\n",
        "- Construct a dictionary with three key-value pairs, each representing a fruit and its quantity (e.g., `\"Apple\": 5, \"Banana\": 7, \"Orange\": 3`).\n",
        "- Loop through the dictionary and print each fruit and its quantity.\n"
      ],
      "metadata": {
        "id": "0JqZwaEVbsfF"
      }
    },
    {
      "cell_type": "code",
      "source": [
        "## CODE GOES HERE"
      ],
      "metadata": {
        "id": "cpCr80--b2rj"
      },
      "execution_count": null,
      "outputs": []
    },
    {
      "cell_type": "markdown",
      "source": [
        "**Task 3: Manipulating List Elements**\n",
        "- Generate a list of numbers from 1 to 10.\n",
        "- Use a `for` loop to square each number in the list and store the results in a new list.\n",
        "- Print the new list."
      ],
      "metadata": {
        "id": "0uErDJpjb4xR"
      }
    },
    {
      "cell_type": "code",
      "source": [
        "## CODE GOES HERE"
      ],
      "metadata": {
        "id": "POaptoxhb-7o"
      },
      "execution_count": null,
      "outputs": []
    },
    {
      "cell_type": "markdown",
      "source": [
        "**Task 4: Filtering Using Loops**\n",
        "- Create a list of numbers from 1 to 10.\n",
        "- Utilize a `for` loop and `if` statements to print only the even numbers from the list."
      ],
      "metadata": {
        "id": "VA_uSJ-3cBkA"
      }
    },
    {
      "cell_type": "code",
      "source": [
        "## CODE GOES HERE"
      ],
      "metadata": {
        "id": "xR8r240icHlT"
      },
      "execution_count": null,
      "outputs": []
    },
    {
      "cell_type": "markdown",
      "source": [
        "**Task 5: Implementing Loop Control Statements**\n",
        "- Generate a list of integers from 1 to 10.\n",
        "- Use a `for` loop with a `break` statement to exit the loop once it reaches the number 7.\n",
        "- Print each number until the loop stops."
      ],
      "metadata": {
        "id": "qnS72cgycHFb"
      }
    },
    {
      "cell_type": "code",
      "source": [
        "## CODE GOES HERE"
      ],
      "metadata": {
        "id": "Bx75WjxrcQbT"
      },
      "execution_count": null,
      "outputs": []
    },
    {
      "cell_type": "markdown",
      "source": [
        "**Task 6: Skipping Iterations**\n",
        "- Create a list of numbers from 1 to 10.\n",
        "- Implement a `for` loop with a `continue` statement to skip printing the number 5.\n",
        "- Print all other numbers in the list."
      ],
      "metadata": {
        "id": "LFlFYIDEcTQh"
      }
    },
    {
      "cell_type": "code",
      "source": [
        "## CODE GOES HERE"
      ],
      "metadata": {
        "id": "-9k4T4j8cYpb"
      },
      "execution_count": null,
      "outputs": []
    },
    {
      "cell_type": "markdown",
      "source": [
        "**Task 7: Advanced Dictionary Operations**\n",
        "- Build a dictionary representing a student's grades with subjects as keys and corresponding grades as values (e.g., `{\"Math\": 85, \"Science\": 78, \"History\": 92}`).\n",
        "- Utilize a `for` loop to calculate the average grade across all subjects and print the result."
      ],
      "metadata": {
        "id": "kszdmCQxca0s"
      }
    },
    {
      "cell_type": "code",
      "source": [
        "## CODE GOES HERE"
      ],
      "metadata": {
        "id": "F1rItrdrcn_E"
      },
      "execution_count": null,
      "outputs": []
    },
    {
      "cell_type": "markdown",
      "source": [
        "**Task 8: List Comprehension Basics**\n",
        "- Generate a list of odd numbers from 1 to 20 using list comprehension.\n",
        "- Print the resulting list of even numbers.\n",
        "\n"
      ],
      "metadata": {
        "id": "_Lg_HmBQcnhV"
      }
    },
    {
      "cell_type": "code",
      "source": [
        "## CODE GOES HERE"
      ],
      "metadata": {
        "id": "Nd3VRY6ZdIAP"
      },
      "execution_count": null,
      "outputs": []
    },
    {
      "cell_type": "markdown",
      "source": [
        "**Task 9: Dictionary Comprehension Practice**\n",
        "- Create a dictionary with numbers from 1 to 5 as keys and their squares as values using dictionary comprehension.\n",
        "- Print the resulting dictionary."
      ],
      "metadata": {
        "id": "17DxjrITdDSZ"
      }
    },
    {
      "cell_type": "code",
      "source": [
        "## CODE GOES HERE"
      ],
      "metadata": {
        "id": "1N5iyIOTdJ0m"
      },
      "execution_count": null,
      "outputs": []
    },
    {
      "cell_type": "markdown",
      "source": [
        "## Summary"
      ],
      "metadata": {
        "id": "DQBrWA6LatSX"
      }
    },
    {
      "cell_type": "markdown",
      "source": [
        "In this lab session, we've soared through the diverse landscape of Python's looping mechanisms. From mastering the fundamentals of for loops to navigating intricate data structures like `lists`, `dictionaries`, and `tuples`, we've honed our iteration skills. Along the journey, we've not only wielded the power of loop control statements like `break` and `continue` but also dabbled in the finesse of list and dictionary comprehension. This hands-on exploration has empowered us to wield Python's looping magic proficiently in handling diverse collections."
      ],
      "metadata": {
        "id": "6Hvq8L3ad-bn"
      }
    }
  ]
}