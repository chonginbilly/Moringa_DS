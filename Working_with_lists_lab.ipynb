{
  "nbformat": 4,
  "nbformat_minor": 0,
  "metadata": {
    "colab": {
      "provenance": [],
      "include_colab_link": true
    },
    "kernelspec": {
      "name": "python3",
      "display_name": "Python 3"
    },
    "language_info": {
      "name": "python"
    }
  },
  "cells": [
    {
      "cell_type": "markdown",
      "metadata": {
        "id": "view-in-github",
        "colab_type": "text"
      },
      "source": [
        "<a href=\"https://colab.research.google.com/github/chonginbilly/Moringa_DS/blob/Moringa_python/Working_with_lists_lab.ipynb\" target=\"_parent\"><img src=\"https://colab.research.google.com/assets/colab-badge.svg\" alt=\"Open In Colab\"/></a>"
      ]
    },
    {
      "cell_type": "markdown",
      "source": [
        "<font color=\"green\">*To start working on this notebook, or any other notebook that we will use in this course, we will need to save our own copy of it. We can do this by clicking File > Save a Copy in Drive. We will then be able to make edits to our own copy of this notebook.*</font>\n",
        "\n",
        "---\n",
        "\n"
      ],
      "metadata": {
        "id": "OyBjIHkJWJk0"
      }
    },
    {
      "cell_type": "markdown",
      "source": [
        "# Working With Lists - Lab"
      ],
      "metadata": {
        "id": "eMIBfklJWL1a"
      }
    },
    {
      "cell_type": "markdown",
      "source": [
        "## Introduction"
      ],
      "metadata": {
        "id": "Y-_Jy7j6WPzb"
      }
    },
    {
      "cell_type": "markdown",
      "source": [
        "In our journey to grasp the fundamentals of Python programming, we have navigated through various concepts, including lists—a fundamental and versatile data structure. Lists provide us with the capability to store and manage collections of data, enabling dynamic manipulation and organization. Our exploration now delves into the intricacies of working with lists, encompassing accessing elements, modifying content, and organizing data within lists. This lab serves as a practical application of our understanding, aiming to reinforce our proficiency in list operations and manipulation."
      ],
      "metadata": {
        "id": "o6HulhUkWRfE"
      }
    },
    {
      "cell_type": "markdown",
      "source": [
        "## Objectives"
      ],
      "metadata": {
        "id": "q2HnuwrFWbM5"
      }
    },
    {
      "cell_type": "markdown",
      "source": [
        "You will be able to:\n",
        "\n",
        "* Access elements within a list and display them in various orders.\n",
        "* Explore functions to sort lists alphabetically and in reverse, understanding their impact on list arrangements.\n",
        "* Apply functions to manipulate and reverse the order of lists without losing the original sequence.\n",
        "* Validate changes made to lists without altering the initial arrangement.\n"
      ],
      "metadata": {
        "id": "aSSMUwcnWdb6"
      }
    },
    {
      "cell_type": "markdown",
      "source": [
        "## Lab Tasks"
      ],
      "metadata": {
        "id": "jmUEggSsWu2J"
      }
    },
    {
      "cell_type": "markdown",
      "source": [
        "### Exploring Our Favorite Music Genres"
      ],
      "metadata": {
        "id": "RRrdbVUIXpO-"
      }
    },
    {
      "cell_type": "markdown",
      "source": [
        "As music enthusiasts, we're tasked to curate a list of your top five favorite music genres.\n"
      ],
      "metadata": {
        "id": "cRr8tH1hbJjm"
      }
    },
    {
      "cell_type": "markdown",
      "source": [
        "```\n",
        "    Creating Our List: Let's create a Python list called our_favorite_music_genres containing our top five favorite music genres. Make sure they're in order of preference.\n",
        "\n",
        "    Accessing Elements: Write Python code to access and print:\n",
        "        The third music genre in our list.\n",
        "        The last two music genres in the list using negative indexing.\n",
        "\n",
        "    Modifying the List: Let's make some changes:\n",
        "        Replace our second favorite music genre with a new one.\n",
        "        Add an extra music genre to the beginning of the list.\n",
        "        Remove the last music genre from the list.\n",
        "\n",
        "    Organizing the List: Implement the following operations and print the results:\n",
        "        Sort the list in alphabetical order without modifying the original list.\n",
        "        Reverse the list order.\n",
        "        Find and print the length of the modified list.\n",
        "\n",
        "```"
      ],
      "metadata": {
        "id": "qK8bTOJGbLWK"
      }
    },
    {
      "cell_type": "code",
      "execution_count": null,
      "metadata": {
        "id": "-xVlbsjdVzs4"
      },
      "outputs": [],
      "source": [
        "## CODE GOES HERE"
      ]
    },
    {
      "cell_type": "markdown",
      "source": [
        "* Bonus:\n",
        "\n",
        "```\n",
        "Create a function that accepts a list of music genres and returns a sorted version of the list without changing the original list.\n",
        "```"
      ],
      "metadata": {
        "id": "KfRe9tcDeiOX"
      }
    },
    {
      "cell_type": "code",
      "source": [
        "## CODE GOES HERE"
      ],
      "metadata": {
        "id": "HauqtLOCev3Z"
      },
      "execution_count": null,
      "outputs": []
    },
    {
      "cell_type": "markdown",
      "source": [
        "### Exploring Our Favorite Travel Destinations"
      ],
      "metadata": {
        "id": "EWSPsrwSdOaQ"
      }
    },
    {
      "cell_type": "markdown",
      "source": [
        "Imagine we're globetrotters eager to explore Python's capabilities in handling lists while curating a collection of our dream travel destinations. Let's embark on this coding adventure!"
      ],
      "metadata": {
        "id": "aQ4uFSAUdKZz"
      }
    },
    {
      "cell_type": "markdown",
      "source": [
        "```\n",
        "    Creating Our List:\n",
        "        Create a Python list named dream_destinations comprising your top five dream travel destinations across the globe. Arrange them randomly.\n",
        "\n",
        "    Accessing Elements:\n",
        "        Write Python code to access and print:\n",
        "            The first and last destinations in your list.\n",
        "            The second and fourth destinations using appropriate indexing.\n",
        "\n",
        "    Modifying the List:\n",
        "        Let's add some spontaneity to our travel plans:\n",
        "            Insert a new dream destination between the third and fourth entries in the list.\n",
        "            Update the first destination to reflect a recent addition to our travel bucket list.\n",
        "            Remove the last two destinations from our list.\n",
        "\n",
        "    Organizing the List:\n",
        "        Implement the following operations and print the results:\n",
        "            Sort the list in alphabetical order without altering the original list.\n",
        "            Find and print the total number of dream destinations in our modified list.\n",
        "            Create a new list combining our dream destinations with the first letter of each destination capitalized.\n",
        "\n",
        "```"
      ],
      "metadata": {
        "id": "cR0f_GGVdvsh"
      }
    },
    {
      "cell_type": "markdown",
      "source": [
        "* Bonus\n",
        "\n",
        "```\n",
        "Create a function that accepts two lists of travel destinations and returns a merged list with unique destinations.\n",
        "```"
      ],
      "metadata": {
        "id": "mCWrawuueyQF"
      }
    },
    {
      "cell_type": "code",
      "source": [
        "## CODE GOES HERE"
      ],
      "metadata": {
        "id": "gyvKJU3Sb9Nj"
      },
      "execution_count": null,
      "outputs": []
    },
    {
      "cell_type": "markdown",
      "source": [
        "## Summary"
      ],
      "metadata": {
        "id": "-_FR40twfbRO"
      }
    },
    {
      "cell_type": "markdown",
      "source": [
        "This lab encapsulates a multifaceted approach to engaging with lists, emphasizing their dynamic nature and the myriad ways we can manipulate their content. From organizing elements to arranging them alphabetically, reversing sequences, and validating our changes, this exercise aims to test our ability to work with Python lists effectively.\n"
      ],
      "metadata": {
        "id": "VSHCCc2Ffcxx"
      }
    }
  ]
}