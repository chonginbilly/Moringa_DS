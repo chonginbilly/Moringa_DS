{
  "nbformat": 4,
  "nbformat_minor": 0,
  "metadata": {
    "colab": {
      "provenance": [],
      "include_colab_link": true
    },
    "kernelspec": {
      "name": "python3",
      "display_name": "Python 3"
    },
    "language_info": {
      "name": "python"
    }
  },
  "cells": [
    {
      "cell_type": "markdown",
      "metadata": {
        "id": "view-in-github",
        "colab_type": "text"
      },
      "source": [
        "<a href=\"https://colab.research.google.com/github/chonginbilly/Bi-Project/blob/main/Copy_of_Covariance_and_Correlation_Lab.ipynb\" target=\"_parent\"><img src=\"https://colab.research.google.com/assets/colab-badge.svg\" alt=\"Open In Colab\"/></a>"
      ]
    },
    {
      "cell_type": "markdown",
      "source": [
        "<font color=\"green\">*To start working on this notebook, or any other notebook that we will use in this course, we will need to save our own copy of it. We can do this by clicking File > Save a Copy in Drive. We will then be able to make edits to our own copy of this notebook.*</font>\n",
        "\n",
        "---"
      ],
      "metadata": {
        "id": "-V10i5TOSI48"
      }
    },
    {
      "cell_type": "markdown",
      "source": [
        "# Covariance and Correlation - Lab"
      ],
      "metadata": {
        "id": "fGB67OimN7hs"
      }
    },
    {
      "cell_type": "markdown",
      "source": [
        "## Introduction"
      ],
      "metadata": {
        "id": "D3IW7LwwN8w0"
      }
    },
    {
      "cell_type": "markdown",
      "source": [
        "In this hands-on exercise, we'll explore the world of statistical measures, focusing on covariance and correlation. As aspiring data analysts, we aim to understand the relationships between variables and quantify their strengths. Using Python, we'll calculate these measures step by step and explore their significance in interpreting data patterns. Get ready to unravel the statistical intricacies and gain valuable insights into the connections between height and weight in a sample dataset. Let's embark on this statistical journey!"
      ],
      "metadata": {
        "id": "RQEm8_1JOTH_"
      }
    },
    {
      "cell_type": "markdown",
      "source": [
        "## Objectives"
      ],
      "metadata": {
        "id": "jHtJ9SVVPYRH"
      }
    },
    {
      "cell_type": "markdown",
      "source": [
        "By the end of this lab, you will be able to:\n",
        "\n",
        "- Calculate the covariance between two variables in a given dataset.\n",
        "- Interpret the results to understand the direction and strength of the relationship.\n",
        "- Calculate correlation coefficients to standardize the measure of variable relationships.\n",
        "- Analyze and interpret correlation coefficients to assess the strength and direction of relationships."
      ],
      "metadata": {
        "id": "rsZTLs6EPZt1"
      }
    },
    {
      "cell_type": "markdown",
      "source": [
        "## Import Libraries"
      ],
      "metadata": {
        "id": "Y-2ZwmLZPc2P"
      }
    },
    {
      "cell_type": "code",
      "execution_count": null,
      "metadata": {
        "id": "bZuZ-86BSECk"
      },
      "outputs": [],
      "source": [
        "import numpy as np\n",
        "import matplotlib.pyplot as plt\n",
        "import seaborn as sns"
      ]
    },
    {
      "cell_type": "markdown",
      "source": [
        "## The Data"
      ],
      "metadata": {
        "id": "emB_7fdCUJGp"
      }
    },
    {
      "cell_type": "markdown",
      "source": [
        "Imagine you are working with a dataset that captures the study habits and academic performance of 30 students. Two variables are included in the dataset: **Study Hours** and **Exam Scores**. The *Study Hours* variable represents the number of hours each student spends studying, and the *Exam Scores* variable represents the scores achieved by each student in a particular exam.\n",
        "\n",
        "At this stage, you are equipped to compute the average study hours and exam scores, as well as other descriptive statistics like medians, variances, and standard deviations. However, to gain a deeper understanding, you want to conduct statistical analysis for these two variables. Throughout this lab, you will explore the following questions:\n",
        "\n",
        "1. Is there a linear relationship between study hours and exam scores?\n",
        "2. Does the number of study hours tend to correlate with an increase in exam scores?\n",
        "3. How strong is the linear relationship between study hours and exam scores?\n",
        "\n",
        "Remember, statistical analysis provides valuable insights, but it's crucial to interpret results cautiously, recognizing that exceptions may exist. By generalizing trends, you can build a broader understanding of the patterns in students' study habits and academic performance.\n",
        "\n",
        "Now, run the provided cells below to load the study hours and exam scores into memory, and let's embark on this statistical exploration!"
      ],
      "metadata": {
        "id": "2IIQqtO5V3R5"
      }
    },
    {
      "cell_type": "code",
      "source": [
        "# Run this cell without changes\n",
        "\n",
        "# Set a random seed for reproducibility\n",
        "np.random.seed(42)\n",
        "\n",
        "# Generate synthetic data for study hours and exam scores\n",
        "study_hours = np.random.uniform(2, 10, 30)\n",
        "exam_scores = 50 + 5 * study_hours + np.random.normal(0, 5, 30)\n",
        "\n",
        "# Display the generated data\n",
        "print(\"Study Hours:\", study_hours)\n",
        "print(\"Exam Scores:\", exam_scores)"
      ],
      "metadata": {
        "colab": {
          "base_uri": "https://localhost:8080/"
        },
        "id": "UiGAiGr5Pmfl",
        "outputId": "b72df8e1-8ee3-4592-befe-53cf65da098f"
      },
      "execution_count": null,
      "outputs": [
        {
          "output_type": "stream",
          "name": "stdout",
          "text": [
            "Study Hours: [4.99632095 9.60571445 7.85595153 6.78926787 3.24814912 3.24795616\n",
            " 2.4646689  8.92940917 6.80892009 7.66458062 2.16467595 9.75927882\n",
            " 8.65954113 3.69871289 3.45459974 3.46723608 4.43393794 6.19805145\n",
            " 5.45556015 4.32983312 6.89482316 3.11595089 4.33715719 4.93089475\n",
            " 5.64855987 8.28140769 3.59739026 6.11387551 6.73931655 2.3716033 ]\n",
            "Exam Scores: [69.22663687 99.90706235 86.27656422 82.48787062 63.23221256 75.50117174\n",
            " 62.25585836 89.35849119 88.15732503 82.21868486 61.86769775 88.99804347\n",
            " 86.65677539 69.47787061 70.96533159 68.1930218  71.59144831 79.48473879\n",
            " 69.88519079 68.04994457 82.17092193 70.86536556 73.40387739 65.83927295\n",
            " 79.86321922 89.48162705 64.60234128 83.62775898 88.85158037 66.5144171 ]\n"
          ]
        }
      ]
    },
    {
      "cell_type": "markdown",
      "source": [
        "## Calculating Covariance"
      ],
      "metadata": {
        "id": "LlwPhQJ3WtDV"
      }
    },
    {
      "cell_type": "markdown",
      "source": [
        "The formula for population covariance $(\\text{cov}_{\\text{pop}})$ between two variables $X$ and $Y$ is given by:\n",
        "\n",
        "$ \\text{cov}_{\\text{pop}}(X, Y) = \\frac{\\sum_{i=1}^{n}(x_i - \\mu_X)(y_i - \\mu_Y)}{n} $\n",
        "\n",
        "Where:\n",
        "- $ n $ is the number of data points,\n",
        "- $ x_i $ and $ y_i $ are individual data points,\n",
        "- $\\mu_X$ and $\\mu_Y$ are the means of $X$ and $Y$.\n",
        "\n",
        "This formula represents the covariance for an entire population. If you're working with a sample of the population, you would use the sample covariance formula, which involves dividing by $(n-1)$ instead of $n$ for unbiased estimation.\n",
        "\n"
      ],
      "metadata": {
        "id": "Ezs_ozmwXcAu"
      }
    },
    {
      "cell_type": "markdown",
      "source": [
        "In this lab, we will use the formula for sample covariance. This choice is based on the assumption that the data we are working with represents a sample taken from a larger population. In this context, the broader population could be considered as all students studying in Moringa School. The sample version of the formula is tailored to provide an unbiased estimation of covariance for the entire population based on the characteristics of the observed sample."
      ],
      "metadata": {
        "id": "slkarooOaCYM"
      }
    },
    {
      "cell_type": "markdown",
      "source": [
        "The formula for sample covariance $(\\text{cov}_{\\text{sample}})$ between two variables $X$ and $Y$ is given by:\n",
        "\n",
        "$ \\text{cov}_{\\text{sample}}(X, Y) = \\frac{\\sum_{i=1}^{n}(x_i - \\bar{X})(y_i - \\bar{Y})}{n-1} $\n",
        "\n",
        "Where:\n",
        "- $n$ is the number of data points,\n",
        "- $x_i$ and $y_i$ are individual data points,\n",
        "- $\\bar{X}$ and $\\bar{Y}$ are the means of $X$ and $Y$.\n"
      ],
      "metadata": {
        "id": "PgaLTaaTgZRI"
      }
    },
    {
      "cell_type": "markdown",
      "source": [
        "### Mean Normalization"
      ],
      "metadata": {
        "id": "nywozqwvi1dv"
      }
    },
    {
      "cell_type": "markdown",
      "source": [
        "Examining the covariance formula, you'll observe that it involves the terms $(x_i - \\bar{X})$ and $(y_i - \\bar{Y})$, known as **mean-normalized** variables $ X $ and $ Y $. The concept behind mean normalization is to subtract the mean of $\\bar{X}$ from each element in $X$ and the mean of $\\bar{Y}$ from each element in $Y$. Consequently, the modified (*normalized*) $X$ and $Y$ have a mean of 0. To achieve this, a function can be crafted to take a list, calculate its mean, and return a new list containing each element minus the computed mean value. This process prepares the data for the subsequent calculations of $(x_i - \\bar{X})$ and $(y_i - \\bar{Y})$."
      ],
      "metadata": {
        "id": "pBHu9GfEjENj"
      }
    },
    {
      "cell_type": "code",
      "source": [
        "# Replace None with appropriate code\n",
        "\n",
        "def mean_normalize(var):\n",
        "  # Initialize a list for storing normalized values\n",
        "\n",
        "  None\n",
        "\n",
        "\n",
        "  # Calculate the mean of var\n",
        "\n",
        "  None\n",
        "\n",
        "\n",
        "  # For each element in var, subtract the mean and add the result to the new list\n",
        "\n",
        "  None\n",
        "\n",
        "\n",
        "  # Return the new list\n",
        "\n",
        "  None\n",
        "\n",
        "mean_normalize([1, 2, 3, 4, 5]), mean_normalize([11, 22, 33, 44, 55])\n",
        "\n",
        "# ([-2.0, -1.0, 0.0, 1.0, 2.0], [-22.0, -11.0, 0.0, 11.0, 22.0])"
      ],
      "metadata": {
        "colab": {
          "base_uri": "https://localhost:8080/"
        },
        "id": "JSD0b0keWTyr",
        "outputId": "170d56d0-07d7-40fb-ad20-1e4686aa52a7"
      },
      "execution_count": null,
      "outputs": [
        {
          "output_type": "execute_result",
          "data": {
            "text/plain": [
              "(None, None)"
            ]
          },
          "metadata": {},
          "execution_count": 35
        }
      ]
    },
    {
      "cell_type": "code",
      "source": [
        "#CODE GOES HERE.\n",
        "def mean_normalize(var):\n",
        "    # Initialize a list for storing normalized values\n",
        "    normalized_values = []\n",
        "\n",
        "    # Calculate the mean of var\n",
        "    mean_val = sum(var) / len(var)\n",
        "\n",
        "    # For each element in var, subtract the mean and add the result to the new list\n",
        "    for element in var:\n",
        "        normalized_values.append(element - mean_val)\n",
        "\n",
        "    # Return the new list\n",
        "    return normalized_values\n",
        "output1 = mean_normalize([1, 2, 3, 4, 5])\n",
        "output2 = mean_normalize([11, 22, 33, 44, 55])\n",
        "\n",
        "print(f\"The firtst is:{output1}\")\n",
        "print(f\"The second is:{output2}\")\n"
      ],
      "metadata": {
        "id": "lGH8Feq9-yJV",
        "outputId": "cdc072f5-bb67-4d28-c817-a9aaabbffba0",
        "colab": {
          "base_uri": "https://localhost:8080/"
        }
      },
      "execution_count": null,
      "outputs": [
        {
          "output_type": "stream",
          "name": "stdout",
          "text": [
            "The firtst is:[-2.0, -1.0, 0.0, 1.0, 2.0]\n",
            "The second is:[-22.0, -11.0, 0.0, 11.0, 22.0]\n"
          ]
        }
      ]
    },
    {
      "cell_type": "markdown",
      "source": [
        "Excellent! The function ensures the variance of list elements is preserved while centering the mean at zero. For a rapid examination, let's visualize the impact of mean normalization on the data.\n",
        "\n",
        "Apply the `mean_normalize()` function to generate a new variable, `study_hours_normalized`, which will be employed in the plotting code provided below.\n"
      ],
      "metadata": {
        "id": "zfJKKu8lmO7H"
      }
    },
    {
      "cell_type": "code",
      "source": [
        "# Mean normalize the study hours (replace None with appropriate code)\n",
        "\n",
        "study_hours_normalized = None\n",
        "\n",
        "study_hours_normalized"
      ],
      "metadata": {
        "id": "F-zI7yrrmPX6"
      },
      "execution_count": null,
      "outputs": []
    },
    {
      "cell_type": "markdown",
      "source": [
        "Now, run the cell below to visualize the data before and after mean normalization."
      ],
      "metadata": {
        "id": "63iZ5Pp8mgI2"
      }
    },
    {
      "cell_type": "code",
      "source": [
        "# run cell without any changes\n",
        "\n",
        "fig, ax = plt.subplots(nrows=1, ncols=2, figsize=(12,8))\n",
        "\n",
        "sns.histplot(study_hours, bins=6, color=\"orange\", stat=\"frequency\", ax=ax[0])\n",
        "ax[0].set_title(\"Before\", fontsize=12)\n",
        "\n",
        "sns.histplot(study_hours_normalized, bins=6, color=\"green\", stat=\"frequency\", ax=ax[0])\n",
        "ax[1].set_title(\"After\", fontsize=12)\n",
        "\n",
        "fig.suptitle(\"Distribution of Study Hours Data Before and After Normalization\", fontsize=14)\n",
        "\n",
        "plt.show()"
      ],
      "metadata": {
        "colab": {
          "base_uri": "https://localhost:8080/",
          "height": 756
        },
        "id": "uFfADe-HmZ_l",
        "outputId": "d6d092bb-21c2-45bc-c3e6-bc840f0d4a39"
      },
      "execution_count": null,
      "outputs": [
        {
          "output_type": "display_data",
          "data": {
            "text/plain": [
              "<Figure size 1200x800 with 2 Axes>"
            ],
            "image/png": "[encoded data removed]"
          },
          "metadata": {}
        }
      ]
    },
    {
      "cell_type": "markdown",
      "source": [
        "After applying the `mean_normalize()` function, the fundamental shape of the data remains unchanged; however, a notable shift occurs in the mean, which is now centered around zero."
      ],
      "metadata": {
        "id": "wsf11ICpoiBU"
      }
    },
    {
      "cell_type": "markdown",
      "source": [
        "### The Dot product"
      ],
      "metadata": {
        "id": "TA1G46FZp0R2"
      }
    },
    {
      "cell_type": "markdown",
      "source": [
        "Now that you've successfully normalized the variables, both study hours and exam scores, denoted as $(x_i - \\bar{X})$ and $(y_i - \\bar{Y})$ in mathematical notation, the next step is to calculate the dot product of these two normalized variables in order to calculate $^{n}{i=1}(x_i - \\bar{X})(y_i - \\bar{Y})$.\n",
        ">> *The dot product, also known as the scalar product, is an algebraic operation that takes two equal-length sequences of numbers, typically coordinate vectors, and produces a single numerical value*.\n",
        "\n",
        "To compute the dot product for two vectors a and b, each corresponding element is multiplied, and the results are summed together:\n",
        "\n",
        "$ a[0] * b[0] + a[1] * b[1] + a[2] * b[2] ... $\n",
        "\n",
        "Now, let's create a function that takes two iterables and returns their dot product."
      ],
      "metadata": {
        "id": "3JlFjJ1urZOr"
      }
    },
    {
      "cell_type": "code",
      "source": [
        "# Replace None with appropriate code\n",
        "\n",
        "def dot_product(x, y):\n",
        "\n",
        "  None\n",
        "\n",
        "a = [1, 2, 3]\n",
        "\n",
        "b = [4, 5, 6]\n",
        "\n",
        "dot_product(a,b)\n",
        "\n",
        "#  32, calculated as (1*4 + 2*5 + 3*6)\n"
      ],
      "metadata": {
        "id": "VmVCiH3Amrux"
      },
      "execution_count": null,
      "outputs": []
    },
    {
      "cell_type": "code",
      "source": [
        "#code goes here.\n",
        "def dot_product(x, y):\n",
        "    # Use the built-in sum function with a list comprehension.\n",
        "    result = sum(xi * yi for xi, yi in zip(x, y))\n",
        "    return result\n",
        "\n",
        "a = [1, 2, 3]\n",
        "b = [4, 5, 6]\n",
        "\n",
        "result = dot_product(a, b)\n",
        "print(result)\n"
      ],
      "metadata": {
        "id": "zPseS3_ZA0XF",
        "outputId": "c721c921-a713-4353-de64-46d5a94bfca8",
        "colab": {
          "base_uri": "https://localhost:8080/"
        }
      },
      "execution_count": null,
      "outputs": [
        {
          "output_type": "stream",
          "name": "stdout",
          "text": [
            "32\n"
          ]
        }
      ]
    },
    {
      "cell_type": "markdown",
      "source": [
        "Awesome!! We have just calculated the numerator of the covariance function. We can proceed to then calculate the covariance by applying the `mean_normalize` and `dot_product`, and divide the whole thing by $n-1$ in order to get the covariance:"
      ],
      "metadata": {
        "id": "_7TLPtu0v56g"
      }
    },
    {
      "cell_type": "code",
      "source": [
        "# Replace None with appropriate code\n",
        "\n",
        "def covariance(x, y):\n",
        "\n",
        "  # Mean normalize both lists\n",
        "\n",
        "  x_norm = None\n",
        "\n",
        "  y_norm = None\n",
        "\n",
        "  # Calculate the numerator\n",
        "\n",
        "  numerator = None\n",
        "\n",
        "  # Divide the numerator by n - 1 and return\n",
        "\n",
        "  return None\n",
        "\n",
        "\n",
        "covariance(study_hours, exam_scores)\n",
        "\n",
        "# 21.07714"
      ],
      "metadata": {
        "id": "orTBP8IIwShX"
      },
      "execution_count": null,
      "outputs": []
    },
    {
      "cell_type": "code",
      "source": [
        "# Define the mean_normalize function\n",
        "def mean_normalize(var):\n",
        "    mean_val = sum(var) / len(var)\n",
        "    normalized_values = [element - mean_val for element in var]\n",
        "    return normalized_values\n",
        "\n",
        "# Define the dot_product function\n",
        "def dot_product(x, y):\n",
        "    result = sum(xi * yi for xi, yi in zip(x, y))\n",
        "    return result\n",
        "\n",
        "# Define the covariance function\n",
        "def covariance(x, y):\n",
        "    # Mean normalize both lists\n",
        "    x_norm = mean_normalize(x)\n",
        "    y_norm = mean_normalize(y)\n",
        "\n",
        "    # Calculate the numerator\n",
        "    numerator = dot_product(x_norm, y_norm)\n",
        "\n",
        "    # Divide the numerator by n (not n - 1) and return\n",
        "    result = numerator / len(x)\n",
        "    return result\n",
        "\n",
        "# Example data\n",
        "study_hours = [10, 8, 12, 15, 9]\n",
        "exam_scores = [50, 45, 59, 65, 40]\n",
        "\n",
        "# Calculate and print the covariance\n",
        "result = covariance(study_hours, exam_scores)\n",
        "print(result)\n"
      ],
      "metadata": {
        "id": "iOgFKoBkPXDF",
        "outputId": "e1c49857-7c2c-426f-ddd3-b4e7e484fc99",
        "colab": {
          "base_uri": "https://localhost:8080/"
        }
      },
      "execution_count": null,
      "outputs": [
        {
          "output_type": "stream",
          "name": "stdout",
          "text": [
            "21.160000000000004\n"
          ]
        }
      ]
    },
    {
      "cell_type": "markdown",
      "source": [
        "We obtained a covariance value of approximately 21.08. Referring back to the initial questions:\n",
        "\n",
        "1. Is there a linear relationship between study hours and exam scores?\n",
        "2. Does the number of study hours tend to correlate with an increase in exam scores?\n",
        "3. How strong is the linear relationship between study hours and exam scores?\n",
        "\n",
        "The covariance value allows us to answer questions 1 and 2:\n",
        "\n",
        "- Given that the covariance is not close to zero, we can conclude that there is a linear relationship between study hours and exam scores.\n",
        "- Since the covariance is positive, it suggests that, in general, an increase in study hours tends to correlate with an increase in exam scores.\n",
        "\n",
        "However, providing a definitive answer to question 3 based on covariance alone is challenging. The scale of the covariance depends on the units of measurement (study hours and exam scores). To make a generalized claim about the strength of the relationship, we'll proceed to calculate the correlation, specifically the Pearson correlation coefficient."
      ],
      "metadata": {
        "id": "hSOsrPYM3ZVI"
      }
    },
    {
      "cell_type": "markdown",
      "source": [
        "## Calculating Correlation"
      ],
      "metadata": {
        "id": "CNtlSa2E3wuN"
      }
    },
    {
      "cell_type": "markdown",
      "source": [
        "The formula for calculating correlation in a population is represented by the Pearson correlation coefficient:\n",
        "\n",
        "$ \\text{Population Correlation (} \\rho \\text{): } \\rho = \\frac{\\text{cov}(\\text{X}, \\text{Y})}{\\sigma_{\\text{X}} \\cdot \\sigma_{\\text{Y}}} $\n",
        "\n",
        "Where:\n",
        "- $\\rho$ is the population correlation coefficient,\n",
        "- $\\text{cov}(\\text{X}, \\text{Y})$ is the covariance between variables X and Y,\n",
        "- $\\sigma_{\\text{X}}$ and $\\sigma_{\\text{Y}}$ are the standard deviations of variables X and Y.\n",
        "\n",
        "For a sample, we use a slightly modified formula:\n",
        "\n",
        "$ \\text{Sample Correlation (} r \\text{): } r = \\frac{\\text{cov}(\\text{X}, \\text{Y})}{s_{\\text{X}} \\cdot s_{\\text{Y}}} $\n",
        "\n",
        "Where:\n",
        "- $r$ is the sample correlation coefficient,\n",
        "- $\\text{cov}(\\text{X}, \\text{Y})$ is the covariance between variables X and Y,\n",
        "- $s_{\\text{X}}$ and $s_{\\text{Y}}$ are the sample standard deviations of variables X and Y.\n",
        "\n",
        "It's important to note that $ \\bar{x} $ and $ \\bar{y} $ represent sample means, making these formulas applicable for sample correlation, while $ \\mu_{x} $ and $ \\mu_{y} $ would represent population means for the population correlation.\n"
      ],
      "metadata": {
        "id": "F-e2pegx4cz1"
      }
    },
    {
      "cell_type": "markdown",
      "source": [
        "Let's leverage this auxiliary function to compute the standard deviation:"
      ],
      "metadata": {
        "id": "z43emY4w9D4l"
      }
    },
    {
      "cell_type": "code",
      "source": [
        "# Run this cell without changes\n",
        "def stddev(var):\n",
        "  mean = sum(var) / len(var)\n",
        "  sum_of_squares = sum((i - mean) ** 2 for i in var)\n",
        "  variance = sum_of_squares / (len(var) - 1)\n",
        "\n",
        "  return variance ** 0.5\n",
        "\n",
        "stddev(study_hours)\n",
        "\n",
        "# 2.25926"
      ],
      "metadata": {
        "id": "dENyJ_Fy3v6P",
        "outputId": "a3419d4c-3f57-4f15-ff2f-bc4a36b4ef51",
        "colab": {
          "base_uri": "https://localhost:8080/"
        }
      },
      "execution_count": null,
      "outputs": [
        {
          "output_type": "execute_result",
          "data": {
            "text/plain": [
              "2.7748873851023212"
            ]
          },
          "metadata": {},
          "execution_count": 82
        }
      ]
    },
    {
      "cell_type": "markdown",
      "source": [
        "Now, let's integrate the previously defined functions, `covariance()` and `stddev()`, to create a new function called `correlation()`. This function will be responsible for calculating the correlation between two variables. The correlation is determined by dividing the covariance of the two lists by the product of their standard deviations. This process yields a standardized measure that helps assess the strength and direction of the relationship between the variables."
      ],
      "metadata": {
        "id": "CuwR45cg_nI2"
      }
    },
    {
      "cell_type": "code",
      "source": [
        "# Calculate correlation between two variables using formula above\n",
        "\n",
        "# Replace None with appropriate code\n",
        "\n",
        "\n",
        "def correlation(x, y):\n",
        "\n",
        "  # Find the numerator (covariance)\n",
        "\n",
        "  numerator = None\n",
        "\n",
        "\n",
        "\n",
        "  # Find standard deviations of both lists\n",
        "\n",
        "  s_x = None\n",
        "\n",
        "  s_y = None\n",
        "\n",
        "  # Return numerator divided by multiplied standard deviations\n",
        "\n",
        "  return None\n",
        "\n",
        "\n",
        "correlation(study_hours, exam_scores)\n",
        "\n",
        "# 0.913029"
      ],
      "metadata": {
        "id": "VkoFxYpG9min"
      },
      "execution_count": null,
      "outputs": []
    },
    {
      "cell_type": "code",
      "source": [
        "# Define the mean_normalize, dot_product, covariance, and stddev functions (as previously defined)\n",
        "\n",
        "def mean_normalize(var):\n",
        "    mean_val = sum(var) / len(var)\n",
        "    normalized_values = [element - mean_val for element in var]\n",
        "    return normalized_values\n",
        "\n",
        "def dot_product(x, y):\n",
        "    result = sum(xi * yi for xi, yi in zip(x, y))\n",
        "    return result\n",
        "\n",
        "def covariance(x, y):\n",
        "    x_norm = mean_normalize(x)\n",
        "    y_norm = mean_normalize(y)\n",
        "    numerator = dot_product(x_norm, y_norm)\n",
        "    result = numerator / (len(x) - 1)\n",
        "    return result\n",
        "\n",
        "def stddev(var):\n",
        "    mean_val = sum(var) / len(var)\n",
        "    squared_diff = [(element - mean_val) ** 2 for element in var]\n",
        "    variance = sum(squared_diff) / (len(var) - 1)\n",
        "    return variance ** 0.5\n",
        "\n",
        "# Define the correlation function\n",
        "def correlation(x, y):\n",
        "    # Find the numerator (covariance)\n",
        "    numerator = covariance(x, y)\n",
        "\n",
        "    # Find standard deviations of both lists\n",
        "    s_x = stddev(x)\n",
        "    s_y = stddev(y)\n",
        "\n",
        "    # Return numerator divided by multiplied standard deviations\n",
        "    result = numerator / (s_x * s_y)\n",
        "    return result\n",
        "\n",
        "# Example data\n",
        "study_hours = [10, 8, 12, 15, 9]\n",
        "exam_scores = [50, 45, 50, 65, 40]\n",
        "\n",
        "# Calculate and print the correlation\n",
        "result = correlation(study_hours, exam_scores)\n",
        "print(result)\n"
      ],
      "metadata": {
        "id": "3DG4JI0WPELN",
        "outputId": "1f6fc323-a06d-4c5d-ad64-5c6f24ea4852",
        "colab": {
          "base_uri": "https://localhost:8080/"
        }
      },
      "execution_count": null,
      "outputs": [
        {
          "output_type": "stream",
          "name": "stdout",
          "text": [
            "0.9149855276286858\n"
          ]
        }
      ]
    },
    {
      "cell_type": "markdown",
      "source": [
        "With a correlation coefficient of 0.913029, which is very close to 1, we can confidently answer question 3. There exists a **very strong linear relationship** between study hours and exam scores, at least within the context of this specific sample comprising 30 individuals. It's crucial to recognize the impact of sample size on these statistical measures. While the correlation appears substantial for this set of 30 records, it's essential to acknowledge that this result could vary when analyzing a different group of individuals. Smaller sample sizes, in particular, may exhibit more noticeable variations in correlation values.\n",
        "\n",
        ">> **Note**: The correlation of a variable with itself always equals 1.\n"
      ],
      "metadata": {
        "id": "36UPLxF3BDbf"
      }
    },
    {
      "cell_type": "code",
      "source": [
        "# Run this cell without changes\n",
        "\n",
        "fig, ax = plt.subplots(figsize=(12,8))\n",
        "\n",
        "sns.scatterplot(x=study_hours, y=exam_scores, label=\"actual data\", ax=ax, color=\"orange\")\n",
        "\n",
        "x_bounds = [min(study_hours), max(study_hours)]\n",
        "\n",
        "y_bounds = [min(exam_scores), max(exam_scores)]\n",
        "\n",
        "ax.plot(x_bounds, y_bounds, \"--\", label=\"perfect correlation\", color=\"green\")\n",
        "\n",
        "ax.set_title(\"Study Hours vs. Exam Scores for a Sample of Individuals\")\n",
        "\n",
        "ax.set_xlabel(\"Study hours\")\n",
        "\n",
        "ax.set_ylabel(\"Exam scores\")\n",
        "\n",
        "ax.legend();"
      ],
      "metadata": {
        "colab": {
          "base_uri": "https://localhost:8080/",
          "height": 718
        },
        "id": "fU0VyVkpBEyh",
        "outputId": "1eb821b5-b5dd-4f6a-9bea-28e5fb2fd9e8"
      },
      "execution_count": null,
      "outputs": [
        {
          "output_type": "display_data",
          "data": {
            "text/plain": [
              "<Figure size 1200x800 with 1 Axes>"
            ],
            "image/png": "[encoded data removed]"
          },
          "metadata": {}
        }
      ]
    },
    {
      "cell_type": "markdown",
      "source": [
        "## Streamlining the Procedure with NumPy"
      ],
      "metadata": {
        "id": "qi5VqzG2Csyp"
      }
    },
    {
      "cell_type": "markdown",
      "source": [
        "The purpose of this exercise was to foster a comprehensive understanding of these statistical concepts and provide hands-on experience in crafting Python functions.\n",
        "\n",
        "In a real-world data science environment, manually constructing these functions would be impractical. Instead, professionals leverage libraries to effortlessly compute these statistics. In this case, we'll utilize NumPy to demonstrate how these calculations can be performed quickly and efficiently."
      ],
      "metadata": {
        "id": "n8fWETC-Cwjg"
      }
    },
    {
      "cell_type": "markdown",
      "source": [
        "### Covariance with NumPy"
      ],
      "metadata": {
        "id": "WlmpUtubC2L_"
      }
    },
    {
      "cell_type": "code",
      "source": [
        "## CODE GOES HERE\n",
        "import numpy as np\n",
        "\n",
        "# Example data\n",
        "study_hours = np.array([10, 8, 12, 15, 9])\n",
        "exam_scores = np.array([50, 45, 60, 70, 40])\n",
        "\n",
        "# Calculate covariance using NumPy\n",
        "covariance_matrix = np.cov(study_hours, exam_scores)\n",
        "\n",
        "# The covariance between study_hours and exam_scores is the element at (0, 1) or (1, 0) in the covariance matrix\n",
        "covariance= covariance_matrix[0, 1]\n",
        "\n",
        "print(covariance)\n"
      ],
      "metadata": {
        "id": "S2Md1YtuBxyg",
        "outputId": "e635ca5c-a84f-42bf-f9f8-354ca6f2fca8",
        "colab": {
          "base_uri": "https://localhost:8080/"
        }
      },
      "execution_count": null,
      "outputs": [
        {
          "output_type": "stream",
          "name": "stdout",
          "text": [
            "32.0\n"
          ]
        }
      ]
    },
    {
      "cell_type": "markdown",
      "source": [
        "## Correlation with NumPy"
      ],
      "metadata": {
        "id": "5E32b-u9C5Tv"
      }
    },
    {
      "cell_type": "code",
      "source": [
        "## CODE GOES HERE\n",
        "import numpy as np\n",
        "\n",
        "# Example data\n",
        "study_hours = np.array([10, 8, 12, 15, 9])\n",
        "exam_scores = np.array([50, 45, 60, 70, 40])\n",
        "\n",
        "# Calculate correlation using NumPy\n",
        "correlation= np.corrcoef(study_hours, exam_scores)[0, 1]\n",
        "\n",
        "print(correlation)\n"
      ],
      "metadata": {
        "id": "XD_wPTyaC8vL",
        "outputId": "e64156f8-07fb-498d-9039-ec7bbc41dff6",
        "colab": {
          "base_uri": "https://localhost:8080/"
        }
      },
      "execution_count": null,
      "outputs": [
        {
          "output_type": "stream",
          "name": "stdout",
          "text": [
            "0.9576804340193746\n"
          ]
        }
      ]
    },
    {
      "cell_type": "markdown",
      "source": [
        "Admit it, using NumPy can spare you from enough hand-cramping to make your fingers thank you! While calculating these statistics by hand might have caused a few nosebleeds, NumPy swoops in with its digital prowess, making complex computations a breeze. Embrace the elegance of efficient data science and save those tissues for a victory dab – because in the world of statistics, NumPy is the unsung hero."
      ],
      "metadata": {
        "id": "myQQSzxwDVgO"
      }
    },
    {
      "cell_type": "markdown",
      "source": [
        "## Summary"
      ],
      "metadata": {
        "id": "fi0wAgICDX8-"
      }
    },
    {
      "cell_type": "markdown",
      "source": [
        "In this lab, we explored the fundamentals of covariance and correlation, calculating them manually to gain a deeper understanding. We began by computing covariance and discussing its implications, emphasizing the importance of mean normalization in statistical analysis. By applying these concepts to a scenario involving study hours and exam scores, we answered fundamental questions about the relationship between the two variables. The lab highlighted the significance of correlation in standardizing measures of variable relationships, allowing for a scale-independent evaluation of the linear relationship's strength and direction. As a practical touch, we introduced the use of NumPy for more efficient statistical calculations in a professional data science setting."
      ],
      "metadata": {
        "id": "4IonuqPgDae5"
      }
    }
  ]
}