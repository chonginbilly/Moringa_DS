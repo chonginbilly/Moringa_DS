{
  "nbformat": 4,
  "nbformat_minor": 0,
  "metadata": {
    "colab": {
      "provenance": [],
      "toc_visible": true,
      "include_colab_link": true
    },
    "kernelspec": {
      "name": "python3",
      "display_name": "Python 3"
    },
    "language_info": {
      "name": "python"
    }
  },
  "cells": [
    {
      "cell_type": "markdown",
      "metadata": {
        "id": "view-in-github",
        "colab_type": "text"
      },
      "source": [
        "<a href=\"https://colab.research.google.com/github/chonginbilly/Moringa_DS/blob/Moringa_python/Built_in_Functions_%26_Methods.ipynb\" target=\"_parent\"><img src=\"https://colab.research.google.com/assets/colab-badge.svg\" alt=\"Open In Colab\"/></a>"
      ]
    },
    {
      "cell_type": "markdown",
      "source": [
        "<font color=\"green\">*To start working on this notebook, or any other notebook that we will use in this course, we will need to save our own copy of it. We can do this by clicking File > Save a Copy in Drive. We will then be able to make edits to our own copy of this notebook.*</font>\n",
        "\n",
        "---"
      ],
      "metadata": {
        "id": "pRyvhXgrFMAO"
      }
    },
    {
      "cell_type": "markdown",
      "source": [
        "# Built-in Python Functions and Methods"
      ],
      "metadata": {
        "id": "tN0rAD4_FNzc"
      }
    },
    {
      "cell_type": "markdown",
      "source": [
        "## Introduction"
      ],
      "metadata": {
        "id": "YQvnEH4QFSIa"
      }
    },
    {
      "cell_type": "markdown",
      "source": [
        "In programming, built-in functions and methods serve as powerful tools integral to the Python language. Built-in functions are predefined operations that perform specific tasks, such as **manipulating data**, **performing calculations**, or **handling inputs and outputs**. These functions are readily available within Python without requiring additional installations or external libraries. They provide a foundational toolkit for programmers, streamlining common operations and simplifying complex tasks. One good example that we have already encountered is the `print()` that we have already come across.\n",
        "\n",
        "Methods, on the other hand, are *functions that are associated with specific data types or objects in Python*. They operate on the data they are attached to, enabling these objects to perform actions or return specific information. They enhance the functionality of objects by allowing them to interact with and manipulate their own data in a structured manner. Understanding these built-in functions and methods is crucial for any Python programmer, as they form the backbone of the language and empower developers to efficiently solve problems, manipulate data, and create robust applications.\n",
        "\n",
        "For the list object in Python, there are various built-in methods that enhance its capabilities. Methods like `append()`,  `remove()`,  and  `sort()` allow manipulation of list elements by adding new elements, removing specific ones, or sorting the list in ascending or descending order."
      ],
      "metadata": {
        "id": "hgDpCenFFjtB"
      }
    },
    {
      "cell_type": "markdown",
      "source": [
        "## Objectives"
      ],
      "metadata": {
        "id": "Jjsa2vgXGO3j"
      }
    },
    {
      "cell_type": "markdown",
      "source": [
        "You will be able to:\n",
        "\n",
        "- Apply built-in Python functions and methods effectively for streamlined programming.\n",
        "- Differentiate between functions and methods in Python's context.\n",
        "- Utilize comparison operators to compare various objects and data types.\n",
        "- Implement logical operators to handle multiple conditions in code.\n",
        "- Employ identity operators to verify the identity of specific objects within Python."
      ],
      "metadata": {
        "id": "dUITLxIVGUNR"
      }
    },
    {
      "cell_type": "markdown",
      "source": [
        "## What is a built-in function?"
      ],
      "metadata": {
        "id": "xLqt8BCWI6fS"
      }
    },
    {
      "cell_type": "markdown",
      "source": [
        "Built-in functions are essential tools in Python. They're predefined functions available for immediate use, requiring no additional definition. These functions perform specific tasks and operations, like `print()` for displaying output, `len()` for determining the length of a sequence, and `input()` for user input retrieval. They provide a foundation for performing various operations without needing to create them from scratch, making programming more efficient and accessible for developers."
      ],
      "metadata": {
        "id": "NS-jWt00JAHC"
      }
    },
    {
      "cell_type": "code",
      "execution_count": null,
      "metadata": {
        "colab": {
          "base_uri": "https://localhost:8080/"
        },
        "id": "IXgnyUIXygYQ",
        "outputId": "7508a46c-ff12-4306-a45c-46c9c62b2580"
      },
      "outputs": [
        {
          "output_type": "stream",
          "name": "stdout",
          "text": [
            "Welcome to Moringa School\n"
          ]
        }
      ],
      "source": [
        "# example 1 - print\n",
        "print(\"Welcome to Moringa School\")"
      ]
    },
    {
      "cell_type": "code",
      "source": [
        "# example 2 - len\n",
        "students = [\"John\", \"Jane\", \"James\", \"Joyce\"]\n",
        "len(students)"
      ],
      "metadata": {
        "colab": {
          "base_uri": "https://localhost:8080/"
        },
        "id": "13q3GDAuJNQG",
        "outputId": "652b2a08-26d0-4d48-ad3a-34a91bc17f6d"
      },
      "execution_count": null,
      "outputs": [
        {
          "output_type": "execute_result",
          "data": {
            "text/plain": [
              "4"
            ]
          },
          "metadata": {},
          "execution_count": 3
        }
      ]
    },
    {
      "cell_type": "code",
      "source": [
        "# example 3 - sorted\n",
        "sorted(students)"
      ],
      "metadata": {
        "colab": {
          "base_uri": "https://localhost:8080/"
        },
        "id": "B_8YCPmhLcuB",
        "outputId": "7a99fc7d-358c-47c9-e183-800024c37853"
      },
      "execution_count": null,
      "outputs": [
        {
          "output_type": "execute_result",
          "data": {
            "text/plain": [
              "['James', 'Jane', 'John', 'Joyce']"
            ]
          },
          "metadata": {},
          "execution_count": 5
        }
      ]
    },
    {
      "cell_type": "code",
      "source": [
        "# example 4 - input\n",
        "first_name = input(\"Enter your name\\n\")"
      ],
      "metadata": {
        "colab": {
          "base_uri": "https://localhost:8080/"
        },
        "id": "LrzbO9BTJNN-",
        "outputId": "f7a2acc6-8393-42ee-ebb6-0cb85d5cc4ba"
      },
      "execution_count": null,
      "outputs": [
        {
          "name": "stdout",
          "output_type": "stream",
          "text": [
            "Enter your name\n",
            "John Doe\n"
          ]
        }
      ]
    },
    {
      "cell_type": "markdown",
      "source": [
        "## Understanding Methods in Python"
      ],
      "metadata": {
        "id": "8lxp5VAgJMQU"
      }
    },
    {
      "cell_type": "markdown",
      "source": [
        "In Python, methods represent functions closely associated with specific objects. They're invoked on these objects using dot notation, such as `object.method()`. Methods manipulate or interact with the object they're called on, accessing and modifying its attributes or performing specific operations. For instance, methods like `append()` for lists or `capitalize()` for strings directly modify the associated object. Understanding methods involves recognizing their close tie to objects and how they offer specialized functionalities that directly affect or retrieve data from those objects. This distinction from functions is vital in object-oriented programming, emphasizing the relationship between behavior and the objects themselves."
      ],
      "metadata": {
        "id": "UMjD1mBYKxI_"
      }
    },
    {
      "cell_type": "markdown",
      "source": [
        "### String Methods"
      ],
      "metadata": {
        "id": "Dv75IQvt1yIX"
      }
    },
    {
      "cell_type": "markdown",
      "source": [
        "String methods in Python offer various functionalities to manipulate and work with text. For instance, `upper()` converts all characters in a string to uppercase, while `lower()` does the opposite, converting characters to lowercase. `replace()` replaces specific substrings within a string with another substring, and `split()` divides a string into a list based on a specified separator. These methods, among others like `strip()`, `find()`, and `join()`, empower us to modify, search, and manipulate strings efficiently, catering to diverse text-processing needs in Python programming.\n"
      ],
      "metadata": {
        "id": "NFY33LbpPqDp"
      }
    },
    {
      "cell_type": "code",
      "source": [
        "# example 1 - upper(), lower() and title()\n",
        "\n",
        "name = \"MoRiNgA sChOoL\"\n",
        "print(name.upper())\n",
        "print(name.lower())\n",
        "print(name.title())"
      ],
      "metadata": {
        "colab": {
          "base_uri": "https://localhost:8080/"
        },
        "id": "yyMWC4lhPZaX",
        "outputId": "1fe664fd-d658-48d2-e98f-f4214d900955"
      },
      "execution_count": null,
      "outputs": [
        {
          "output_type": "stream",
          "name": "stdout",
          "text": [
            "MORINGA SCHOOL\n",
            "moringa school\n",
            "Moringa School\n"
          ]
        }
      ]
    },
    {
      "cell_type": "code",
      "source": [
        "# example 2 - replace()\n",
        "text = \"I shop at Naivas Thika.\"\n",
        "print(text.replace(\"Naivas Thika\", \"Naivas Juja City\"))"
      ],
      "metadata": {
        "colab": {
          "base_uri": "https://localhost:8080/"
        },
        "id": "xagsDJKbPZX0",
        "outputId": "6ebe8c5e-8fb9-42b6-fe1a-59bb39ed0756"
      },
      "execution_count": null,
      "outputs": [
        {
          "output_type": "stream",
          "name": "stdout",
          "text": [
            "I shop at Naivas Juja City.\n"
          ]
        }
      ]
    },
    {
      "cell_type": "code",
      "source": [
        "# example 3 - split() - split text based on specified operator into a list, default space\n",
        "print(text.split())"
      ],
      "metadata": {
        "colab": {
          "base_uri": "https://localhost:8080/"
        },
        "id": "trMtyYMaPZVN",
        "outputId": "e7f9164a-f197-450a-f272-1cbd67e1c1f5"
      },
      "execution_count": null,
      "outputs": [
        {
          "output_type": "stream",
          "name": "stdout",
          "text": [
            "['I', 'shop', 'at', 'Naivas', 'Thika.']\n"
          ]
        }
      ]
    },
    {
      "cell_type": "code",
      "source": [
        "# split with specified operator\n",
        "numbers = \"one, two, three\"\n",
        "print(numbers.split(','))"
      ],
      "metadata": {
        "colab": {
          "base_uri": "https://localhost:8080/"
        },
        "id": "anTc8Du0PZSx",
        "outputId": "9f44cc9c-b019-4afd-d0b8-2b847a4fcafd"
      },
      "execution_count": null,
      "outputs": [
        {
          "output_type": "stream",
          "name": "stdout",
          "text": [
            "['one', ' two', ' three']\n"
          ]
        }
      ]
    },
    {
      "cell_type": "code",
      "source": [
        "# example 4 - strip\n",
        "name = \" Moringa School \"\n",
        "print(name)\n",
        "print(name.rstrip())\n",
        "print(name.lstrip())\n",
        "print(name.strip())"
      ],
      "metadata": {
        "colab": {
          "base_uri": "https://localhost:8080/"
        },
        "id": "TiM2gcLOPZQf",
        "outputId": "41f2c4aa-3c3a-472e-b658-b18ffe41a159"
      },
      "execution_count": null,
      "outputs": [
        {
          "output_type": "stream",
          "name": "stdout",
          "text": [
            " Moringa School \n",
            " Moringa School\n",
            "Moringa School \n",
            "Moringa School\n"
          ]
        }
      ]
    },
    {
      "cell_type": "code",
      "source": [
        "# example 5 - find()\n",
        "print(text.find('shop'))"
      ],
      "metadata": {
        "colab": {
          "base_uri": "https://localhost:8080/"
        },
        "id": "5yTdc6gBPZOR",
        "outputId": "89cb7c55-a8be-4826-a166-9adeb2ea69ad"
      },
      "execution_count": null,
      "outputs": [
        {
          "output_type": "stream",
          "name": "stdout",
          "text": [
            "2\n"
          ]
        }
      ]
    },
    {
      "cell_type": "code",
      "source": [
        "# example 6 - join()\n",
        "words = [\"I\", \"am\", \"a\", \"champion\"]\n",
        "print(\" \".join(words))"
      ],
      "metadata": {
        "colab": {
          "base_uri": "https://localhost:8080/"
        },
        "id": "o1-3aGFJPZL5",
        "outputId": "ef1e314d-f655-46e7-ee6a-11e5b96e9861"
      },
      "execution_count": null,
      "outputs": [
        {
          "output_type": "stream",
          "name": "stdout",
          "text": [
            "I am a champion\n"
          ]
        }
      ]
    },
    {
      "cell_type": "markdown",
      "source": [
        "### List Methods"
      ],
      "metadata": {
        "id": "slsI4yLtXFro"
      }
    },
    {
      "cell_type": "markdown",
      "source": [
        "List methods in Python provide versatile tools for working with sequences of elements. For example, `append()` adds an element to the end of a list, while `extend()` appends elements from another list to the current list. `pop()` removes and returns an element at a specified index, and `sort()` arranges elements in ascending order by default. Other methods like `insert()`, `remove()`, and `index()` offer functionalities to insert elements, remove specific values, and find the index of a given value within a list. These methods offer flexibility and efficiency in managing lists, facilitating various data manipulations and arrangements."
      ],
      "metadata": {
        "id": "_WmW2J6ZXMNf"
      }
    },
    {
      "cell_type": "code",
      "source": [
        "# List methods example\n",
        "my_list = [1, 2, 3]\n",
        "\n",
        "# Appending elements\n",
        "my_list.append(4)\n",
        "print(my_list)\n",
        "\n",
        "# Removing and returning the last element\n",
        "popped_element = my_list.pop()\n",
        "print(f\"popped_element: {popped_element}\")\n",
        "\n",
        "# Sorting the list\n",
        "my_list.sort()\n",
        "print(my_list)\n",
        "\n",
        "# index of an item\n",
        "print(my_list.index(2))"
      ],
      "metadata": {
        "colab": {
          "base_uri": "https://localhost:8080/"
        },
        "id": "ohMO8WtNXe5M",
        "outputId": "549929de-4ef9-4bbc-d770-e9b0b37eb855"
      },
      "execution_count": null,
      "outputs": [
        {
          "output_type": "stream",
          "name": "stdout",
          "text": [
            "[1, 2, 3, 4]\n",
            "popped_element: 4\n",
            "[1, 2, 3]\n",
            "1\n"
          ]
        }
      ]
    },
    {
      "cell_type": "markdown",
      "source": [
        "### Dict Methods"
      ],
      "metadata": {
        "id": "0TJ3A_E7Ykex"
      }
    },
    {
      "cell_type": "markdown",
      "source": [
        "Dictionary methods in Python enable efficient handling of key-value pairs. For instance, `keys()` retrieves all keys within a dictionary, `values()` retrieves all values, and `items()` returns key-value pairs as tuples. The `get()` method fetches the value associated with a specified key, providing a default value if the key doesn't exist. Let's use an example with a dictionary representing Naivas Supermarket branches:"
      ],
      "metadata": {
        "id": "hKV1J1tjYnBH"
      }
    },
    {
      "cell_type": "code",
      "source": [
        "naivas_branches = {\n",
        "    \"Nairobi\": 15,\n",
        "    \"Kisumu\": 8,\n",
        "    \"Mombasa\": 12,\n",
        "    \"Eldoret\": 6\n",
        "}\n",
        "\n",
        "# Using dictionary methods\n",
        "print(naivas_branches.keys())\n",
        "print(naivas_branches.values())\n",
        "print(naivas_branches.items())\n",
        "\n",
        "print(naivas_branches.get(\"Nairobi\"))\n",
        "print(naivas_branches.get(\"Nakuru\", \"Branch count not available\"))  # Get with default value for a non-existent key\n"
      ],
      "metadata": {
        "colab": {
          "base_uri": "https://localhost:8080/"
        },
        "id": "bJC0ON4sXknU",
        "outputId": "7c3d314f-8ba0-4d6c-deb3-6bf5950ccede"
      },
      "execution_count": null,
      "outputs": [
        {
          "output_type": "stream",
          "name": "stdout",
          "text": [
            "dict_keys(['Nairobi', 'Kisumu', 'Mombasa', 'Eldoret'])\n",
            "dict_values([15, 8, 12, 6])\n",
            "dict_items([('Nairobi', 15), ('Kisumu', 8), ('Mombasa', 12), ('Eldoret', 6)])\n",
            "15\n",
            "Branch count not available\n"
          ]
        }
      ]
    },
    {
      "cell_type": "markdown",
      "source": [
        "## Functions vs. Methods: Understanding the Difference"
      ],
      "metadata": {
        "id": "6qsMVkqYbqrf"
      }
    },
    {
      "cell_type": "markdown",
      "source": [
        "In Python, functions are standalone blocks of code that execute specific tasks and can return values. They operate independently and can accept parameters. Methods, however, are functions associated with specific objects or classes. They're called using dot notation (`object.method()` or `class.method()`), directly affecting or manipulating the object they're called upon. Recognizing this distinction is pivotal, as functions operate on their own, while methods are bound to specific objects or classes, reflecting Python's object-oriented nature."
      ],
      "metadata": {
        "id": "ZmM7LViJfLO8"
      }
    },
    {
      "cell_type": "code",
      "source": [
        "# example\n",
        "first_name = \"Moringa school\"\n",
        "numbers = [101, 102, 103, 104]\n",
        "my_tuple = (\"qwerty\", \"password@123\")\n",
        "\n",
        "print(len(first_name))\n",
        "print(len(numbers))\n",
        "print(len(my_tuple))"
      ],
      "metadata": {
        "colab": {
          "base_uri": "https://localhost:8080/"
        },
        "id": "0pCDmfI8buPj",
        "outputId": "8dd6370f-7021-406a-d7fa-b98e12aa7eed"
      },
      "execution_count": null,
      "outputs": [
        {
          "output_type": "stream",
          "name": "stdout",
          "text": [
            "14\n",
            "4\n",
            "2\n"
          ]
        }
      ]
    },
    {
      "cell_type": "markdown",
      "source": [
        "In this example, the `len()` function is used to determine the length of different objects: a string (`first_name`), a list (`numbers`), and a tuple (`my_tuple`).\n",
        "\n",
        "When we use `len()` with `first_name`, it returns the length of the string \"Moringa school\", which is the number of characters in the string.\n",
        "\n",
        "Likewise, applying `len()` to the `numbers` list provides the count of elements within that list, giving the output of 4 as there are four items present in the list.\n",
        "\n",
        "Finally, using `len(`) with `my_tuple` calculates the length of the tuple, which is the number of elements present within the tuple.\n",
        "\n",
        "The `len()` function, in this case, demonstrates its versatility by being able to determine the 'length' or count of elements in different types of objects, showcasing its usability across various data structures in Python.\n",
        "\n"
      ],
      "metadata": {
        "id": "tL5a1sl2gl3c"
      }
    },
    {
      "cell_type": "markdown",
      "source": [
        "Methods in Python are functions that are associated with specific objects or classes. They operate on or manipulate the data within those objects. Unlike standalone functions, methods are called using the dot notation (`object.method()` or `class.method()`), directly tied to the object they're called upon.\n",
        "\n",
        "For instance, let's consider the `append()` method commonly used with lists. When we have a list object, such as:\n"
      ],
      "metadata": {
        "id": "ls7S1ooXxkBX"
      }
    },
    {
      "cell_type": "code",
      "source": [
        "# example list\n",
        "total_sales = [2000, 2300, 1200, 2500]"
      ],
      "metadata": {
        "id": "__FO5G97gFVR"
      },
      "execution_count": null,
      "outputs": []
    },
    {
      "cell_type": "markdown",
      "source": [
        "We can call the `append()` method on this list:"
      ],
      "metadata": {
        "id": "5e6tdNjLyNXe"
      }
    },
    {
      "cell_type": "code",
      "source": [
        "# adding new sales\n",
        "total_sales.append(2765)\n",
        "print(total_sales)"
      ],
      "metadata": {
        "colab": {
          "base_uri": "https://localhost:8080/"
        },
        "id": "0S86xTriyGnC",
        "outputId": "45201cf5-9ba0-4bc3-e27d-053e9d63686a"
      },
      "execution_count": null,
      "outputs": [
        {
          "output_type": "stream",
          "name": "stdout",
          "text": [
            "[2000, 2300, 1200, 2500, 2765]\n"
          ]
        }
      ]
    },
    {
      "cell_type": "code",
      "source": [
        "# covert the list to tuple\n",
        "sales_tuple = tuple(total_sales)\n",
        "type(sales_tuple)"
      ],
      "metadata": {
        "colab": {
          "base_uri": "https://localhost:8080/"
        },
        "id": "lAuBwMzhyaAV",
        "outputId": "446153dc-a693-499f-cdf7-10f50b0067d5"
      },
      "execution_count": null,
      "outputs": [
        {
          "output_type": "execute_result",
          "data": {
            "text/plain": [
              "tuple"
            ]
          },
          "metadata": {},
          "execution_count": 5
        }
      ]
    },
    {
      "cell_type": "code",
      "source": [
        "# using the append method on a tuple\n",
        "sales_tuple.append(2955)"
      ],
      "metadata": {
        "colab": {
          "base_uri": "https://localhost:8080/",
          "height": 200
        },
        "id": "e7l9OS2_yxf_",
        "outputId": "4c85bf3e-1341-43a5-cd1f-76b7088c91a1"
      },
      "execution_count": null,
      "outputs": [
        {
          "output_type": "error",
          "ename": "AttributeError",
          "evalue": "'tuple' object has no attribute 'append'",
          "traceback": [
            "\u001b[0;31m---------------------------------------------------------------------------\u001b[0m",
            "\u001b[0;31mAttributeError\u001b[0m                            Traceback (most recent call last)",
            "\u001b[0;32m<ipython-input-6-52b55812b521>\u001b[0m in \u001b[0;36m<cell line: 2>\u001b[0;34m()\u001b[0m\n\u001b[1;32m      1\u001b[0m \u001b[0;31m# using the append method on a tuple\u001b[0m\u001b[0;34m\u001b[0m\u001b[0;34m\u001b[0m\u001b[0m\n\u001b[0;32m----> 2\u001b[0;31m \u001b[0msales_tuple\u001b[0m\u001b[0;34m.\u001b[0m\u001b[0mappend\u001b[0m\u001b[0;34m(\u001b[0m\u001b[0;36m2955\u001b[0m\u001b[0;34m)\u001b[0m\u001b[0;34m\u001b[0m\u001b[0;34m\u001b[0m\u001b[0m\n\u001b[0m",
            "\u001b[0;31mAttributeError\u001b[0m: 'tuple' object has no attribute 'append'"
          ]
        }
      ]
    },
    {
      "cell_type": "markdown",
      "source": [
        "The method `append()`  can only be used with list objects. When we attempt to use `append()` with other data types or objects that are not lists will result in an error. This exemplifies how methods are tailored to work exclusively with specific types of objects, showcasing their object-specific functionality within Python."
      ],
      "metadata": {
        "id": "p-rl0tEwzWo1"
      }
    },
    {
      "cell_type": "markdown",
      "source": [
        "## Python Operators"
      ],
      "metadata": {
        "id": "tKP6Rhti0AUe"
      }
    },
    {
      "cell_type": "markdown",
      "source": [
        "![comaprison](https://drive.google.com/uc?export=view&id=16qbbpcJFcyUmX4OAL_jyS24j4W4xNIQ6)"
      ],
      "metadata": {
        "id": "FPTv2XSzEjYj"
      }
    },
    {
      "cell_type": "markdown",
      "source": [
        "Python operators are tools used to perform operations on variables and values. They allow us to carry out tasks like **arithmetic computations**, **comparison of values**, **logical evaluations**, **assignment of values**, and more. These operators can manipulate different data types, such as numbers, strings, lists, and more complex data structures. They include arithmetic operators for basic math (+, -, *, /), comparison operators to compare values (==, !=, <, >), logical operators for combining conditions (and, or, not), identity operators to compare objects' memory locations (is, is not), membership operators to check if a value exists within a sequence (in, not in), and assignment operators for assigning values to variables (=, +=, -=, etc.). Python operators are fundamental tools that enable us to carry out a wide array of operations, making Python a versatile language for various programming tasks."
      ],
      "metadata": {
        "id": "XtqB-eU-FXZ0"
      }
    },
    {
      "cell_type": "markdown",
      "source": [
        "### What are comparison operators?"
      ],
      "metadata": {
        "id": "Q6sckDWlF05L"
      }
    },
    {
      "cell_type": "markdown",
      "source": [
        "Comparison operators, also known as relational operators, assess the values of two elements and yield either `True` or `False` based on their comparison. In Python, these operators are used to evaluate relationships between elements.\n",
        "\n",
        "The `==` operator checks equality between two elements, while `!=` checks inequality. Additionally, `<`, `>`, `<=`, and `>=` each examine the relationship in value between two elements."
      ],
      "metadata": {
        "id": "8C7a7y-NGHDm"
      }
    },
    {
      "cell_type": "code",
      "source": [
        "# example 1\n",
        "8 == 8"
      ],
      "metadata": {
        "colab": {
          "base_uri": "https://localhost:8080/"
        },
        "id": "Fot-h5zizDCb",
        "outputId": "40c4c87b-5e39-4eac-b880-45c86fb6710f"
      },
      "execution_count": null,
      "outputs": [
        {
          "output_type": "execute_result",
          "data": {
            "text/plain": [
              "True"
            ]
          },
          "metadata": {},
          "execution_count": 1
        }
      ]
    },
    {
      "cell_type": "code",
      "source": [
        "# example 2\n",
        "8 != 8"
      ],
      "metadata": {
        "colab": {
          "base_uri": "https://localhost:8080/"
        },
        "id": "Dpvg2_DTGmcD",
        "outputId": "9330c9ea-e255-41d8-b8d6-b1e380b35709"
      },
      "execution_count": null,
      "outputs": [
        {
          "output_type": "execute_result",
          "data": {
            "text/plain": [
              "False"
            ]
          },
          "metadata": {},
          "execution_count": 2
        }
      ]
    },
    {
      "cell_type": "code",
      "source": [
        "# example 3\n",
        "\"moringa\" == \"MORINGA\""
      ],
      "metadata": {
        "colab": {
          "base_uri": "https://localhost:8080/"
        },
        "id": "v7YBsKO3Gq1l",
        "outputId": "6d3fdbf6-67d2-4a32-c47e-28fbd934dbac"
      },
      "execution_count": null,
      "outputs": [
        {
          "output_type": "execute_result",
          "data": {
            "text/plain": [
              "False"
            ]
          },
          "metadata": {},
          "execution_count": 3
        }
      ]
    },
    {
      "cell_type": "code",
      "source": [
        "# example 4\n",
        "6 > 9"
      ],
      "metadata": {
        "colab": {
          "base_uri": "https://localhost:8080/"
        },
        "id": "sut6q0OmGy3t",
        "outputId": "d6450d99-08ff-4b62-e28b-c019fde76aa2"
      },
      "execution_count": null,
      "outputs": [
        {
          "output_type": "execute_result",
          "data": {
            "text/plain": [
              "False"
            ]
          },
          "metadata": {},
          "execution_count": 4
        }
      ]
    },
    {
      "cell_type": "code",
      "source": [
        "# example 5\n",
        "10 >= 10"
      ],
      "metadata": {
        "colab": {
          "base_uri": "https://localhost:8080/"
        },
        "id": "hvZ9RaGGG3C7",
        "outputId": "5907cb94-17d8-46e9-f265-d5d8b929ab11"
      },
      "execution_count": null,
      "outputs": [
        {
          "output_type": "execute_result",
          "data": {
            "text/plain": [
              "True"
            ]
          },
          "metadata": {},
          "execution_count": 6
        }
      ]
    },
    {
      "cell_type": "code",
      "source": [
        "# example 6\n",
        "password = \"\"\n",
        "\n",
        "while password != \"Moringa@123\":\n",
        "  password = input(\"Enter password:\\n\")\n",
        "\n",
        "  if password == \"Moringa@123\":\n",
        "    print(\"Welcome! Successful Log in\")\n",
        "    break\n",
        "\n",
        "  else:\n",
        "    print(\"Sorry! Try again\")"
      ],
      "metadata": {
        "colab": {
          "base_uri": "https://localhost:8080/"
        },
        "id": "_I5SncajG7yx",
        "outputId": "fee8832b-8655-4a93-93d0-1bb7852cd682"
      },
      "execution_count": null,
      "outputs": [
        {
          "output_type": "stream",
          "name": "stdout",
          "text": [
            "Enter password:\n",
            "moringa@123\n",
            "Sorry! Try again\n",
            "Enter password:\n",
            "Moringa@123\n",
            "Welcome! Successful Log in\n"
          ]
        }
      ]
    },
    {
      "cell_type": "markdown",
      "source": [
        "### Logical Operators"
      ],
      "metadata": {
        "id": "SQN5Dcp-I-vP"
      }
    },
    {
      "cell_type": "markdown",
      "source": [
        "Logical operators in Python—`and`, `or`, and `not`—are used to combine or negate conditions in expressions.\n",
        "\n",
        "- `and`: Combines two conditions, returning `True` only if both conditions are `True`; if any one condition is `False`, the entire expression evaluates to `False`.\n",
        "- `or`: Combines two conditions, yielding `True` if at least one condition is `True`; only when both conditions are `False` does the expression evaluate to False.\n",
        "- `not`: Negates the condition it operates on, converting `True` to `False` and `False` to `True`; it's a unary operator that works on a single condition, reversing its truth value.\n",
        "\n",
        "We use these operators commonly in conditional statements (if, while, etc.) to control program flow by evaluating multiple conditions or inverting the truth value of a condition. They're essential for making decisions based on various conditions within our programs.\n"
      ],
      "metadata": {
        "id": "JMaJBYg6JBKW"
      }
    },
    {
      "cell_type": "markdown",
      "source": [
        "`and`\n",
        "\n",
        "||||\n",
        "|:----:|:----:|:----:|\n",
        "|True|True|True|\n",
        "|True|False|False|\n",
        "|False|True|False|\n",
        "|False|False|False|\n",
        "\n",
        "`or`\n",
        "\n",
        "||||\n",
        "|:---:|:---:|:---:|\n",
        "|True|True|True|\n",
        "|True|False|True|\n",
        "|False|True|True|\n",
        "|False|False|False|"
      ],
      "metadata": {
        "id": "yfIGega4Jejq"
      }
    },
    {
      "cell_type": "code",
      "source": [
        "# Using 'and' logical operator\n",
        "is_raining = True\n",
        "have_umbrella = True\n",
        "\n",
        "if is_raining and have_umbrella:\n",
        "  print(\"I'll go for a walk despite the rain.\")\n",
        "else:\n",
        "  print(\"I might stay indoors because of the rain.\")"
      ],
      "metadata": {
        "colab": {
          "base_uri": "https://localhost:8080/"
        },
        "id": "dX2D2G8jIOJv",
        "outputId": "76a34c20-b78d-4d3a-8c14-517f4a1cfcfd"
      },
      "execution_count": null,
      "outputs": [
        {
          "output_type": "stream",
          "name": "stdout",
          "text": [
            "I'll go for a walk despite the rain.\n"
          ]
        }
      ]
    },
    {
      "cell_type": "code",
      "source": [
        "# Evaluates to False\n",
        "is_raining = True\n",
        "have_umbrella = False\n",
        "\n",
        "if is_raining and have_umbrella:\n",
        "  print(\"I'll go for a walk despite the rain.\")\n",
        "else:\n",
        "  print(\"I might stay indoors because of the rain.\")"
      ],
      "metadata": {
        "colab": {
          "base_uri": "https://localhost:8080/"
        },
        "id": "ztGNTMeoLpOg",
        "outputId": "2a858950-3e70-4137-ce20-9780cfd8d4ef"
      },
      "execution_count": null,
      "outputs": [
        {
          "output_type": "stream",
          "name": "stdout",
          "text": [
            "I might stay indoors because of the rain.\n"
          ]
        }
      ]
    },
    {
      "cell_type": "code",
      "source": [
        "# Using 'or' logical operator\n",
        "is_sunny = False\n",
        "is_warm = True\n",
        "\n",
        "if is_sunny or is_warm:\n",
        "  print(\"It's a good day for outdoor activities.\")\n",
        "else:\n",
        "  print(\"I might prefer staying indoors.\")"
      ],
      "metadata": {
        "colab": {
          "base_uri": "https://localhost:8080/"
        },
        "id": "T4j2sTGvLxZ1",
        "outputId": "a9b9b2d3-4dc5-4f6c-a454-44f78e89a053"
      },
      "execution_count": null,
      "outputs": [
        {
          "output_type": "stream",
          "name": "stdout",
          "text": [
            "It's a good day for outdoor activities.\n"
          ]
        }
      ]
    },
    {
      "cell_type": "code",
      "source": [
        "# Using 'not' logical operator\n",
        "is_sunny = False\n",
        "\n",
        "if not is_sunny:\n",
        "  print(\"It's not sunny today, might need an umbrella.\")\n",
        "else:\n",
        "  print(\"It's a sunny day, no need for an umbrella.\")"
      ],
      "metadata": {
        "colab": {
          "base_uri": "https://localhost:8080/"
        },
        "id": "MPSAHFWyL8gz",
        "outputId": "54f54dbe-378a-4229-91f3-00dc79bf57af"
      },
      "execution_count": null,
      "outputs": [
        {
          "output_type": "stream",
          "name": "stdout",
          "text": [
            "It's not sunny today, might need an umbrella.\n"
          ]
        }
      ]
    },
    {
      "cell_type": "code",
      "source": [
        "# secrete guessing game\n",
        "import random\n",
        "secret_number = random.randint(0, 100)\n",
        "\n",
        "if (secret_number >= 5) and (secret_number <= 20):\n",
        "  print(\"You are our lucky winner\")\n",
        "\n",
        "else:\n",
        "  print(\"Try again! hard luck\")"
      ],
      "metadata": {
        "colab": {
          "base_uri": "https://localhost:8080/"
        },
        "id": "69JPjLpSzZSs",
        "outputId": "ed0f2a64-e2fd-40d4-ae63-7bdc1989112d"
      },
      "execution_count": null,
      "outputs": [
        {
          "output_type": "stream",
          "name": "stdout",
          "text": [
            "You are our lucky winner\n"
          ]
        }
      ]
    },
    {
      "cell_type": "markdown",
      "source": [
        "### Other operators - Identity Operators"
      ],
      "metadata": {
        "id": "sIgIaqLy19qF"
      }
    },
    {
      "cell_type": "markdown",
      "source": [
        "The identity operators, `is` and `is not`, assess whether one element is or isn't the same object as another element. While `!=` and `==` examine the equality of values between elements, `is` and `is not` scrutinize if the elements reference the same object.\n"
      ],
      "metadata": {
        "id": "yO-i0SVWzYhY"
      }
    },
    {
      "cell_type": "code",
      "source": [
        "# Example 1\n",
        "x = [1, 2, 3]\n",
        "y = [1, 2, 3]\n",
        "print(x is y)"
      ],
      "metadata": {
        "colab": {
          "base_uri": "https://localhost:8080/"
        },
        "id": "lv4C5qYl2h6o",
        "outputId": "159aee77-3181-4258-8132-eb4e9f664a77"
      },
      "execution_count": null,
      "outputs": [
        {
          "output_type": "stream",
          "name": "stdout",
          "text": [
            "False\n"
          ]
        }
      ]
    },
    {
      "cell_type": "code",
      "source": [
        "# Example 2\n",
        "a = 5\n",
        "b = 5\n",
        "print(a is not b)"
      ],
      "metadata": {
        "colab": {
          "base_uri": "https://localhost:8080/"
        },
        "id": "T3xcKf_62nse",
        "outputId": "b57cae90-af6e-4456-e047-8d6cef94d1d7"
      },
      "execution_count": null,
      "outputs": [
        {
          "output_type": "stream",
          "name": "stdout",
          "text": [
            "False\n"
          ]
        }
      ]
    },
    {
      "cell_type": "code",
      "source": [
        "# Example 3\n",
        "list1 = [4, 5, 6]\n",
        "list2 = list1\n",
        "print(list1 is list2)"
      ],
      "metadata": {
        "colab": {
          "base_uri": "https://localhost:8080/"
        },
        "id": "2R0XdckA21uV",
        "outputId": "af33cbb8-a808-4158-eb4e-d6ab3b9e7b78"
      },
      "execution_count": null,
      "outputs": [
        {
          "output_type": "stream",
          "name": "stdout",
          "text": [
            "True\n"
          ]
        }
      ]
    },
    {
      "cell_type": "code",
      "source": [
        "# Example 4\n",
        "str1 = \"hello\"\n",
        "str2 = \"hello\"\n",
        "print(str1 is str2)"
      ],
      "metadata": {
        "colab": {
          "base_uri": "https://localhost:8080/"
        },
        "id": "eKe4M2fB25v-",
        "outputId": "f97d9148-fee7-4f9e-d795-8721e71bed1f"
      },
      "execution_count": null,
      "outputs": [
        {
          "output_type": "stream",
          "name": "stdout",
          "text": [
            "True\n"
          ]
        }
      ]
    },
    {
      "cell_type": "markdown",
      "source": [
        "In the first and second examples, even though the values are the same, the lists and integers are **separate objects in memory**, so is and is not return `False`. In the third and fourth examples, `list2` and `str2` reference the **same objects** as `list1` and `str1` respectively, resulting in `True` for is comparisons."
      ],
      "metadata": {
        "id": "Ifg21fUB3HoN"
      }
    },
    {
      "cell_type": "markdown",
      "source": [
        "## Summary"
      ],
      "metadata": {
        "id": "qp4yYgw84Ts-"
      }
    },
    {
      "cell_type": "markdown",
      "source": [
        "Awesome! In our lesson, we covered fundamental aspects of Python programming. We explored using built-in functions and methods effectively, understanding the distinction between functions and methods, and employing comparison, logical, and identity operators to handle various conditions within our code. These concepts are pivotal in manipulating data, making informed decisions, and writing efficient code."
      ],
      "metadata": {
        "id": "B0agB6qL4WwI"
      }
    }
  ]
}