{
  "nbformat": 4,
  "nbformat_minor": 0,
  "metadata": {
    "colab": {
      "provenance": [],
      "include_colab_link": true
    },
    "kernelspec": {
      "name": "python3",
      "display_name": "Python 3"
    },
    "language_info": {
      "name": "python"
    }
  },
  "cells": [
    {
      "cell_type": "markdown",
      "metadata": {
        "id": "view-in-github",
        "colab_type": "text"
      },
      "source": [
        "<a href=\"https://colab.research.google.com/github/chonginbilly/Moringa_DS/blob/Moringa_python/Built_in_Python_Functions_and_Methods_Lab.ipynb\" target=\"_parent\"><img src=\"https://colab.research.google.com/assets/colab-badge.svg\" alt=\"Open In Colab\"/></a>"
      ]
    },
    {
      "cell_type": "markdown",
      "source": [
        "<font color=\"green\">*To start working on this notebook, or any other notebook that we will use in this course, we will need to save our own copy of it. We can do this by clicking File > Save a Copy in Drive. We will then be able to make edits to our own copy of this notebook.*</font>\n",
        "\n",
        "---"
      ],
      "metadata": {
        "id": "tdY_ta87qwsM"
      }
    },
    {
      "cell_type": "markdown",
      "source": [
        "# Built-in Python Operators, Functions and Methods - Lab"
      ],
      "metadata": {
        "id": "8JJ4E7dB6Kj7"
      }
    },
    {
      "cell_type": "markdown",
      "source": [
        "## Introduction"
      ],
      "metadata": {
        "id": "W0lZNkSv6Of6"
      }
    },
    {
      "cell_type": "markdown",
      "source": [
        "In this hands-on lab, we're immersing ourselves in the dynamic realm of Python's built-in functions, methods, and operators. This is where theory meets practice! You'll actively engage with the concepts we've just covered, tackling real-world tasks that directly apply to our recent lesson. Here, you'll wield built-in functions to manipulate data, harness methods to transform objects, and navigate through logical and comparison operators to conquer coding challenges. This practical session is your field to reinforce your comprehension and elevate your Python skills. Let's dive into the code and bring these concepts to life!"
      ],
      "metadata": {
        "id": "Oi00PtgO6WpF"
      }
    },
    {
      "cell_type": "markdown",
      "source": [
        "## Objectives"
      ],
      "metadata": {
        "id": "5vhDGF_06Xyj"
      }
    },
    {
      "cell_type": "markdown",
      "source": [
        "In this lab, you will:\n",
        "\n",
        "- Apply built-in Python functions creatively to manipulate and process diverse data sets.\n",
        "- Execute and practice a variety of methods associated with different Python objects, Implement comparison operators effectively to compare and analyze various data types and objects.\n",
        "- Employ logical operators skillfully to create code that handles multiple conditions and decision-making scenarios.\n",
        "- Utilize identity operators to confirm and validate the identity of specific objects within Python code."
      ],
      "metadata": {
        "id": "odAc12s96t3b"
      }
    },
    {
      "cell_type": "markdown",
      "source": [
        "## Lab Tasks"
      ],
      "metadata": {
        "id": "vPPQqMaW6y-T"
      }
    },
    {
      "cell_type": "markdown",
      "source": [
        "**Task 1: Secret Code Length**\n",
        " - Use the `len()` function to determine the length of a secret message input by the user.\n"
      ],
      "metadata": {
        "id": "F2U3ALtK8T8P"
      }
    },
    {
      "cell_type": "code",
      "execution_count": null,
      "metadata": {
        "id": "urQo_RGWqvwn"
      },
      "outputs": [],
      "source": [
        "## CODE GOES HERE"
      ]
    },
    {
      "cell_type": "markdown",
      "source": [
        "**Task 2: Greatest Treasure**\n",
        " - Employ the `max()` function to discover the most valuable gem (largest number) among a pirate's loot (a provided list of treasures).\n",
        "\n"
      ],
      "metadata": {
        "id": "AxXoSFu99Pxu"
      }
    },
    {
      "cell_type": "code",
      "source": [
        "## CODE GOES HERE"
      ],
      "metadata": {
        "id": "xVZCdN3h9OrE"
      },
      "execution_count": null,
      "outputs": []
    },
    {
      "cell_type": "markdown",
      "source": [
        "**Task 3: Guess the Mystery Number**\n",
        " - Engage in a number-guessing game, comparing user guesses to a secret number using comparison operators."
      ],
      "metadata": {
        "id": "8VA10o9R9XVy"
      }
    },
    {
      "cell_type": "code",
      "source": [
        "## CODE GOES HERE"
      ],
      "metadata": {
        "id": "hyztahHg9djx"
      },
      "execution_count": null,
      "outputs": []
    },
    {
      "cell_type": "markdown",
      "source": [
        "**Task 4: Password Puzzle**\n",
        " - Crack a hidden password by comparing a user's guess to the correct code."
      ],
      "metadata": {
        "id": "16jCRjGN9gKD"
      }
    },
    {
      "cell_type": "code",
      "source": [
        "## CODE GOES HERE"
      ],
      "metadata": {
        "id": "xA_TQIQr9lhr"
      },
      "execution_count": null,
      "outputs": []
    },
    {
      "cell_type": "markdown",
      "source": [
        "**Task 5: Mysterious Conditions**\n",
        " - Design a program incorporating both `and` and `or` operators to unveil a hidden message under specific conditions.\n"
      ],
      "metadata": {
        "id": "ITtuq18o9n_k"
      }
    },
    {
      "cell_type": "code",
      "source": [
        "## CODE GOES HERE"
      ],
      "metadata": {
        "id": "jkfn-FTH9t9U"
      },
      "execution_count": null,
      "outputs": []
    },
    {
      "cell_type": "markdown",
      "source": [
        "**Task 6 Magical Divisibility Test**\n",
        " - Create a wizardry-themed script to magically determine if a number can be divided by two enchanted numbers.\n"
      ],
      "metadata": {
        "id": "SIpo9rg-9wKt"
      }
    },
    {
      "cell_type": "code",
      "source": [
        "## CODE GOES HERE"
      ],
      "metadata": {
        "id": "A2irXtXt90JM"
      },
      "execution_count": null,
      "outputs": []
    },
    {
      "cell_type": "markdown",
      "source": [
        "**Task 7: Parallel Universes**\n",
        " - Explore the identity of two portals (lists) using the is operator to confirm if they transport travelers to the same realm.\n"
      ],
      "metadata": {
        "id": "bmd4GNHQ924Z"
      }
    },
    {
      "cell_type": "code",
      "source": [
        "## CODE GOES HERE"
      ],
      "metadata": {
        "id": "43nqQMrI92JF"
      },
      "execution_count": null,
      "outputs": []
    },
    {
      "cell_type": "markdown",
      "source": [
        "**Task 8: Mirror Mirror**\n",
        " - Discover if two distinct reflections (strings) with identical content are actually separate or two facets of the same mirror.\n"
      ],
      "metadata": {
        "id": "Xzs68DIJ9_YS"
      }
    },
    {
      "cell_type": "code",
      "source": [
        "## CODE GOES HERE"
      ],
      "metadata": {
        "id": "e3uTKlE397wS"
      },
      "execution_count": null,
      "outputs": []
    },
    {
      "cell_type": "markdown",
      "source": [
        "**Task 9: Character Hunt**\n",
        " - Embark on a quest to count hidden characters within a mystical inscription using the `count()` method."
      ],
      "metadata": {
        "id": "GdrZRRPd-GNu"
      }
    },
    {
      "cell_type": "code",
      "source": [
        "## CODE GOES HERE"
      ],
      "metadata": {
        "id": "HvLd0lg6-O0n"
      },
      "execution_count": null,
      "outputs": []
    },
    {
      "cell_type": "markdown",
      "source": [
        "**Task 10: Enigma Solver**\n",
        " - Decode the hidden rules to unlock a cipher that demands a number to be both even and a multiple of 4, alongside an identity riddle."
      ],
      "metadata": {
        "id": "U3rGOcbp-VYD"
      }
    },
    {
      "cell_type": "code",
      "source": [
        "## CODE GOES HERE"
      ],
      "metadata": {
        "id": "QuwjS_YT-Umh"
      },
      "execution_count": null,
      "outputs": []
    },
    {
      "cell_type": "markdown",
      "source": [
        "## Summary"
      ],
      "metadata": {
        "id": "S-gfDW32-ael"
      }
    },
    {
      "cell_type": "markdown",
      "source": [
        "In our mystical Python lab, we embarked on a quest filled with intriguing challenges. Through secret codes, treasure hunts, and magical puzzles, we stealthily ventured into Python's realm of functions, operators, and comparisons. From unraveling hidden messages to deciphering enigmatic conditions, each task honed our skills in using built-in functions, comparison and logical operators, and identity checks. These engaging quests not only captivated our curiosity but also subtly honed our Python prowess, allowing us to master these mystical techniques while enjoying an adventurous journey through code."
      ],
      "metadata": {
        "id": "F5V3vJt0-lLN"
      }
    }
  ]
}