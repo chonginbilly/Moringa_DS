{
  "nbformat": 4,
  "nbformat_minor": 0,
  "metadata": {
    "colab": {
      "provenance": [],
      "toc_visible": true,
      "include_colab_link": true
    },
    "kernelspec": {
      "name": "python3",
      "display_name": "Python 3"
    },
    "language_info": {
      "name": "python"
    }
  },
  "cells": [
    {
      "cell_type": "markdown",
      "metadata": {
        "id": "view-in-github",
        "colab_type": "text"
      },
      "source": [
        "<a href=\"https://colab.research.google.com/github/chonginbilly/Moringa_DS/blob/main/Working_With_Dictionaries.ipynb\" target=\"_parent\"><img src=\"https://colab.research.google.com/assets/colab-badge.svg\" alt=\"Open In Colab\"/></a>"
      ]
    },
    {
      "cell_type": "markdown",
      "source": [
        "<font color=\"green\">*To start working on this notebook, or any other notebook that we will use in this course, we will need to save our own copy of it. We can do this by clicking File > Save a Copy in Drive. We will then be able to make edits to our own copy of this notebook.*</font>\n",
        "\n",
        "---\n",
        "\n"
      ],
      "metadata": {
        "id": "0aO871a6h_o6"
      }
    },
    {
      "cell_type": "markdown",
      "source": [
        "# Working with Dictionaries"
      ],
      "metadata": {
        "id": "jEZvNP76iDi3"
      }
    },
    {
      "cell_type": "markdown",
      "source": [
        "## Introduction"
      ],
      "metadata": {
        "id": "HWd16cgsiIks"
      }
    },
    {
      "cell_type": "markdown",
      "source": [
        "Having explored the functionality of lists in Python previously, we now turn our attention to Python's dictionaries, a crucial collection type. While lists uphold ordered sequences akin to a catalog, dictionaries excel in handling multifaceted information. Think of lists as an ordered lineup, like cars in a catalog, while dictionaries shine when dealing with diverse attributes such as a car's make, model, year, and color.\n",
        "\n",
        "Dictionaries categorize data into **key-value pairs**, a departure from lists relying on indices for access. They enable retrieval of associated values through specific keys, much like uncovering word definitions in traditional dictionaries. This lesson focuses on mastering Python's dictionaries, teaching access and modification of data within them. Demonstrations on looping through dictionary data and nesting various structures within dictionaries, such as lists and other dictionaries, highlight the flexibility dictionaries offer. This understanding grants the ability to accurately model real-world objects, storing extensive information about individuals, word meanings, geographical features, and beyond.\n"
      ],
      "metadata": {
        "id": "lvIm8IldkKbJ"
      }
    },
    {
      "cell_type": "markdown",
      "source": [
        "## Objectives"
      ],
      "metadata": {
        "id": "kohtAp109nX5"
      }
    },
    {
      "cell_type": "markdown",
      "source": [
        "You will be able to:\n",
        "\n",
        "* Efficiently manipulate key-value pairs, adding, modifying, and removing entries within dictionaries.\n",
        "* Access both keys and their corresponding values within dictionaries.\n",
        "* Understand dictionaries as core Python structures, mastering their syntax and fundamental functionalities.\n",
        "* Manage Key-Value Pairs Efficiently"
      ],
      "metadata": {
        "id": "EIro7PtL9qxE"
      }
    },
    {
      "cell_type": "markdown",
      "source": [
        "## What Makes Dictionaries Valuable Compared to Lists?"
      ],
      "metadata": {
        "id": "eDTokt0HFwo_"
      }
    },
    {
      "cell_type": "markdown",
      "source": [
        "We prefer dictionaries over lists as they pair keys with values, allowing us to organize data more effectively. While lists serve well for maintaining ordered collections, we find dictionaries shine when we need to associate specific information with identifiable keys. However, when we attempt to use lists to organize more complex data, they can become messy.\n",
        "\n",
        "Consider a scenario where we're tracking details about various cities. If we were to use a list, the information might look like this:\n"
      ],
      "metadata": {
        "id": "N-QGbQG_Gnht"
      }
    },
    {
      "cell_type": "code",
      "source": [
        "# storing city information in a list\n",
        "nairobi = [\"Nairobi\", 268.8, 4397073, \"Kenya\"]"
      ],
      "metadata": {
        "id": "DeN0DRkcGs3E"
      },
      "execution_count": null,
      "outputs": []
    },
    {
      "cell_type": "markdown",
      "source": [
        "However, this list approach quickly becomes challenging when we need specific details. What if we want to know the country Nairobi belongs to? We'd have to remember its position within the list. Plus, as we expand the information for each city or add more attributes like climate or landmarks, it becomes even more complex.\n",
        "\n",
        "Alternatively, using dictionaries neatly organizes this data:\n"
      ],
      "metadata": {
        "id": "pUeXCbF7HYWg"
      }
    },
    {
      "cell_type": "code",
      "source": [
        "# organizing student details using a dict\n",
        "nairobi = {\n",
        "    \"name\": \"Nairobi\",\n",
        "    \"Area\": 268.8,\n",
        "    \"Population\": 4397073,\n",
        "    \"Country\": \"Kenya\"\n",
        "}"
      ],
      "metadata": {
        "id": "UuL7FjWjHaDx"
      },
      "execution_count": null,
      "outputs": []
    },
    {
      "cell_type": "markdown",
      "source": [
        "Though the dictionary format might seem more verbose, it offers a clear link between attributes (**keys**) and their respective **values**. This structure simplifies storage and retrieval of information, proving efficient for managing details about cities or any entities. Retrieving specific details is straightforward, relying on the associated keys for direct access."
      ],
      "metadata": {
        "id": "wl882rEVKnGN"
      }
    },
    {
      "cell_type": "markdown",
      "source": [
        "## Creating a Dictionary"
      ],
      "metadata": {
        "id": "hWkLxJ_0LRn9"
      }
    },
    {
      "cell_type": "markdown",
      "source": [
        "A Python dictionary comprises pairs of **keys** and their corresponding **values**, allowing direct access to specific values through their associated keys. The value linked to a key can encompass various data types—numbers, `strings`, `lists`, or even other `dictionaries` — essentially any object creatable in Python.\n",
        "\n",
        "In Python, dictionaries are encapsulated within curly braces, `{}`, housing a sequence of key-value pairs within them.\n"
      ],
      "metadata": {
        "id": "qNNn-UyeNJVK"
      }
    },
    {
      "cell_type": "markdown",
      "source": [
        "Syntax:\n",
        "```\n",
        "dict_name = {\n",
        "  key_1:values,\n",
        "  key_2:values\n",
        "}\n",
        "```"
      ],
      "metadata": {
        "id": "qvso-tukiRlP"
      }
    },
    {
      "cell_type": "code",
      "source": [
        "# example 1 - Dict with one Key value pair\n",
        "student_name = {\n",
        "    \"Name\" : \"John\"\n",
        "}\n",
        "\n",
        "print(student_name)"
      ],
      "metadata": {
        "colab": {
          "base_uri": "https://localhost:8080/"
        },
        "id": "CZEgDrKqOutv",
        "outputId": "d247ec9d-b491-4fcd-f738-9b338e47cf85"
      },
      "execution_count": null,
      "outputs": [
        {
          "output_type": "stream",
          "name": "stdout",
          "text": [
            "{'Name': 'John'}\n"
          ]
        }
      ]
    },
    {
      "cell_type": "markdown",
      "source": [
        "A **key-value** pair is a set of values associated with each other. When you\n",
        "provide a key, Python returns the value associated with that key. Every key is connected to its value by a colon `:`, and individual key-value pairs are separated by commas `,`. You can store as many key-value pairs as you want in a\n",
        "dictionary."
      ],
      "metadata": {
        "id": "GrUMyQilQZzj"
      }
    },
    {
      "cell_type": "code",
      "source": [
        "# example 2 - student details\n",
        "student = {\n",
        "    \"Name\" : \"John Kamau\", # key-value pair\n",
        "    \"Age\" : 24,\n",
        "    \"Gender\" : \"Male\",\n",
        "    \"Voted\" : True\n",
        "}\n",
        "\n",
        "print(student)"
      ],
      "metadata": {
        "colab": {
          "base_uri": "https://localhost:8080/"
        },
        "id": "G7HueQYChlXC",
        "outputId": "5c2e35ca-e48b-44f1-8cdd-a00a7ac06b0d"
      },
      "execution_count": null,
      "outputs": [
        {
          "output_type": "stream",
          "name": "stdout",
          "text": [
            "{'Name': 'John Kamau', 'Age': 24, 'Gender': 'Male', 'Voted': True}\n"
          ]
        }
      ]
    },
    {
      "cell_type": "code",
      "source": [
        "# example 3\n",
        "tv_programs = {\n",
        "    \"Citizen\" : [\"Papa shirandula\", \"Machachari\", \"Inspekta Mwala\"],\n",
        "    \"NTV\" : [\"The Beat\", \"The Trend\", \"Cartoon Network\"],\n",
        "}\n",
        "\n",
        "print(tv_programs)"
      ],
      "metadata": {
        "colab": {
          "base_uri": "https://localhost:8080/"
        },
        "id": "pf-qCmefjGJT",
        "outputId": "b854e368-2794-4c96-984a-24b38bc55207"
      },
      "execution_count": null,
      "outputs": [
        {
          "output_type": "stream",
          "name": "stdout",
          "text": [
            "{'Citizen': ['Papa shirandula', 'Machachari', 'Inspekta Mwala'], 'NTV': ['The Beat', 'The Trend', 'Cartoon Network']}\n"
          ]
        }
      ]
    },
    {
      "cell_type": "code",
      "source": [
        "# example 4 - Nested Dict\n",
        "class_details = {\n",
        "    \"Assignments\": {\n",
        "        \"Topic 1\": [\"Variables\",\"Data types\",\"lists\",\"Dictonaries\"],\n",
        "        \"Topic 2\": [\"Functions\",\"Loops\",\"methods\",\"input\"]\n",
        "    },\n",
        "    \"labs\": {\n",
        "        \"code labs\": [10, 14, 12, 10],\n",
        "        \"completed lessons\": [True, False, True, True]\n",
        "    }\n",
        "}\n",
        "print(class_details)"
      ],
      "metadata": {
        "colab": {
          "base_uri": "https://localhost:8080/"
        },
        "id": "HYl1EXqukY5d",
        "outputId": "8d2b46f0-f6e8-4b3f-ebdd-bdd1b4ac6a35"
      },
      "execution_count": null,
      "outputs": [
        {
          "output_type": "stream",
          "name": "stdout",
          "text": [
            "{'Assignments': {'Topic 1': ['Variables', 'Data types', 'lists', 'Dictonaries'], 'Topic 2': ['Functions', 'Loops', 'methods', 'input']}, 'labs': {'code labs': [10, 14, 12, 10], 'completed lessons': [True, False, True, True]}}\n"
          ]
        }
      ]
    },
    {
      "cell_type": "code",
      "source": [
        "# confirming the type\n",
        "type(class_details)"
      ],
      "metadata": {
        "colab": {
          "base_uri": "https://localhost:8080/"
        },
        "id": "BJFNNHoOl3lv",
        "outputId": "073c1a70-2a19-4d1f-be05-a33f96e21fc1"
      },
      "execution_count": null,
      "outputs": [
        {
          "output_type": "execute_result",
          "data": {
            "text/plain": [
              "dict"
            ]
          },
          "metadata": {},
          "execution_count": 48
        }
      ]
    },
    {
      "cell_type": "markdown",
      "source": [
        "Supposing we want to represent information about the electronics sold at Naivas Supermarket? There are different categories of electronics such as Kitchen Appliances, water dispensers and television with each having different options availble."
      ],
      "metadata": {
        "id": "SxgPbs7-N301"
      }
    },
    {
      "cell_type": "markdown",
      "source": [
        "![naivas_electronics](https://drive.google.com/uc?export=view&id=1q0wp2fe447gnzhEoQYEJg89oIwsvlkaK)"
      ],
      "metadata": {
        "id": "hw1zuVONLVkv"
      }
    },
    {
      "cell_type": "markdown",
      "source": [
        "Now let's see how some of the above information can be represented as a dictionary in Python."
      ],
      "metadata": {
        "id": "BAuVHyU2OgfU"
      }
    },
    {
      "cell_type": "code",
      "source": [
        "#  naivas electronics representation using a dict\n",
        "naivas_electronics = {\n",
        "    'Kitchen Appliances': [\"Blender & Juicers\", \"Coffee Makers\", \"Cooler Boxes\", \"Electric Kettle\"],\n",
        "    'Water Dispenser': [\"Hot + Cold Dispenser\", \"Hot and Normal Dispenser\", \"Purifier Unit\"],\n",
        "    'Televisions': [\"Decoders\", \"Digital TV\", \"Smart TV\", \"Wall Bracket\"]\n",
        "}\n",
        "\n",
        "print(naivas_electronics)"
      ],
      "metadata": {
        "colab": {
          "base_uri": "https://localhost:8080/"
        },
        "id": "egstYiubOmYu",
        "outputId": "c672bd9a-30ad-4c99-b647-2d7e27fa7312"
      },
      "execution_count": null,
      "outputs": [
        {
          "output_type": "stream",
          "name": "stdout",
          "text": [
            "{'Kitchen Appliances': ['Blender & Juicers', 'Coffee Makers', 'Cooler Boxes', 'Electric Kettle'], 'Water Dispenser': ['Hot + Cold Dispenser', 'Hot and Normal Dispenser', 'Purifier Unit'], 'Televisions': ['Decoders', 'Digital TV', 'Smart TV', 'Wall Bracket']}\n"
          ]
        }
      ]
    },
    {
      "cell_type": "markdown",
      "source": [
        "## Accessing items in a Dictonary"
      ],
      "metadata": {
        "id": "5MHWkWLKnUbp"
      }
    },
    {
      "cell_type": "markdown",
      "source": [
        "Each value in a dictionary is associated with a paticular key. To get the value, we provide the name of the dictionary and the place they key inside a set of square brackets."
      ],
      "metadata": {
        "id": "jO_qA6c9Q2PB"
      }
    },
    {
      "cell_type": "markdown",
      "source": [
        "Syntax:\n",
        "\n",
        "```\n",
        "dict_name[key]\n",
        "```"
      ],
      "metadata": {
        "id": "d3Q71myEnZYt"
      }
    },
    {
      "cell_type": "code",
      "source": [
        "# example 1\n",
        "student['Gender']"
      ],
      "metadata": {
        "colab": {
          "base_uri": "https://localhost:8080/",
          "height": 35
        },
        "id": "8bejFWOsmBJQ",
        "outputId": "7c2fdfd3-e08d-4e79-826c-6dd31439c368"
      },
      "execution_count": null,
      "outputs": [
        {
          "output_type": "execute_result",
          "data": {
            "text/plain": [
              "'Male'"
            ],
            "application/vnd.google.colaboratory.intrinsic+json": {
              "type": "string"
            }
          },
          "metadata": {},
          "execution_count": 50
        }
      ]
    },
    {
      "cell_type": "code",
      "source": [
        "# example 2\n",
        "tv_programs['Citizen']"
      ],
      "metadata": {
        "colab": {
          "base_uri": "https://localhost:8080/"
        },
        "id": "kWbm583nnpWT",
        "outputId": "5ba09c3a-1135-4aba-8064-1d5f7a596827"
      },
      "execution_count": null,
      "outputs": [
        {
          "output_type": "execute_result",
          "data": {
            "text/plain": [
              "['Papa shirandula', 'Machachari', 'Inspekta Mwala']"
            ]
          },
          "metadata": {},
          "execution_count": 51
        }
      ]
    },
    {
      "cell_type": "code",
      "source": [
        "# example 3\n",
        "tv_programs['Citizen'][2]"
      ],
      "metadata": {
        "colab": {
          "base_uri": "https://localhost:8080/",
          "height": 35
        },
        "id": "l5XjbiNPn3b9",
        "outputId": "9a9f505d-5da9-475c-a2b8-9cd09d9f1bb7"
      },
      "execution_count": null,
      "outputs": [
        {
          "output_type": "execute_result",
          "data": {
            "text/plain": [
              "'Inspekta Mwala'"
            ],
            "application/vnd.google.colaboratory.intrinsic+json": {
              "type": "string"
            }
          },
          "metadata": {},
          "execution_count": 52
        }
      ]
    },
    {
      "cell_type": "code",
      "source": [
        "# example 4\n",
        "class_details[\"Assignments\"][\"Topic 2\"][1]"
      ],
      "metadata": {
        "colab": {
          "base_uri": "https://localhost:8080/",
          "height": 35
        },
        "id": "suprhKJAoFob",
        "outputId": "affd4135-30ff-4ec3-9f93-1fca8692d8da"
      },
      "execution_count": null,
      "outputs": [
        {
          "output_type": "execute_result",
          "data": {
            "text/plain": [
              "'Loops'"
            ],
            "application/vnd.google.colaboratory.intrinsic+json": {
              "type": "string"
            }
          },
          "metadata": {},
          "execution_count": 53
        }
      ]
    },
    {
      "cell_type": "markdown",
      "source": [
        "## Adding New items to a Dict"
      ],
      "metadata": {
        "id": "yoNZihToo1nm"
      }
    },
    {
      "cell_type": "markdown",
      "source": [
        "Dictionaries are dynamic structures, and you can add new key-value pairs\n",
        "to a dictionary at any time. To add a new key-value pair, you\n",
        "would give the name of the dictionary followed by the new key in square\n",
        "brackets along with the new value."
      ],
      "metadata": {
        "id": "ZXKuE8zDR1te"
      }
    },
    {
      "cell_type": "code",
      "source": [
        "# before\n",
        "print(student)"
      ],
      "metadata": {
        "colab": {
          "base_uri": "https://localhost:8080/"
        },
        "id": "lLaSq6ZspCZ7",
        "outputId": "ae46d74d-45f3-4ebb-afdd-20bbf4aa30ef"
      },
      "execution_count": null,
      "outputs": [
        {
          "output_type": "stream",
          "name": "stdout",
          "text": [
            "{'Name': 'John Kamau', 'Age': 24, 'Gender': 'Male', 'Voted': True}\n"
          ]
        }
      ]
    },
    {
      "cell_type": "code",
      "source": [
        "# add class to the student details\n",
        "student[\"Class\"] = \"BD-NAI\""
      ],
      "metadata": {
        "id": "mDemmeCKohGz"
      },
      "execution_count": null,
      "outputs": []
    },
    {
      "cell_type": "code",
      "source": [
        "# updated dict\n",
        "print(student)"
      ],
      "metadata": {
        "colab": {
          "base_uri": "https://localhost:8080/"
        },
        "id": "N_ltjclOpPRz",
        "outputId": "a2ead63a-ea58-4a1e-c20c-10f4acdbe7cf"
      },
      "execution_count": null,
      "outputs": [
        {
          "output_type": "stream",
          "name": "stdout",
          "text": [
            "{'Name': 'John Kamau', 'Age': 24, 'Gender': 'Male', 'Voted': True, 'Class': 'BD-NAI'}\n"
          ]
        }
      ]
    },
    {
      "cell_type": "code",
      "source": [
        "# adding Electrical accessories to our Naivas electronics dict\n",
        "naivas_electronics[\"Electrical Accessories\"] = [\"Aerials\", \"Cables\", \"ShowerHead\"]\n",
        "print(naivas_electronics)"
      ],
      "metadata": {
        "colab": {
          "base_uri": "https://localhost:8080/"
        },
        "id": "SGTcedmUSIjR",
        "outputId": "26c2827a-1ebb-4831-c353-34c9d8006890"
      },
      "execution_count": null,
      "outputs": [
        {
          "output_type": "stream",
          "name": "stdout",
          "text": [
            "{'Kitchen Appliances': ['Blender & Juicers', 'Coffee Makers', 'Cooler Boxes', 'Electric Kettle'], 'Water Dispenser': ['Hot + Cold Dispenser', 'Hot and Normal Dispenser', 'Purifier Unit'], 'Televisions': ['Decoders', 'Digital TV', 'Smart TV', 'Wall Bracket'], 'Electrical Accessories': ['Aerials', 'Cables', 'ShowerHead']}\n"
          ]
        }
      ]
    },
    {
      "cell_type": "markdown",
      "source": [
        "## Modiftying Values in a Dict"
      ],
      "metadata": {
        "id": "lcNwkuJMS0jm"
      }
    },
    {
      "cell_type": "markdown",
      "source": [
        "To modify a value in a dictionary, we give the name of the dictionary with the\n",
        "key in square brackets and then the new value you want associated with\n",
        "that key."
      ],
      "metadata": {
        "id": "0oFqNqJES6yC"
      }
    },
    {
      "cell_type": "code",
      "source": [
        "# before\n",
        "print(student)"
      ],
      "metadata": {
        "colab": {
          "base_uri": "https://localhost:8080/"
        },
        "id": "Y8iAhRTGTHj3",
        "outputId": "2dab37ee-00b4-4ed9-8a03-4e66a11a3450"
      },
      "execution_count": null,
      "outputs": [
        {
          "output_type": "stream",
          "name": "stdout",
          "text": [
            "{'Name': 'John Kamau', 'Age': 24, 'Gender': 'Male', 'Voted': True, 'Class': 'BD-NAI'}\n"
          ]
        }
      ]
    },
    {
      "cell_type": "code",
      "source": [
        "# Change Age value\n",
        "student[\"Age\"] = 25"
      ],
      "metadata": {
        "id": "0P7j7Nb-TJDH"
      },
      "execution_count": null,
      "outputs": []
    },
    {
      "cell_type": "code",
      "source": [
        "# updated dict\n",
        "print(student)"
      ],
      "metadata": {
        "colab": {
          "base_uri": "https://localhost:8080/"
        },
        "id": "xmO4DX0kTWhl",
        "outputId": "21f25d69-37dc-45ae-a875-204bf7d9660a"
      },
      "execution_count": null,
      "outputs": [
        {
          "output_type": "stream",
          "name": "stdout",
          "text": [
            "{'Name': 'John Kamau', 'Age': 25, 'Gender': 'Male', 'Voted': True, 'Class': 'BD-NAI'}\n"
          ]
        }
      ]
    },
    {
      "cell_type": "markdown",
      "source": [
        "## Removing Key Value Pairs"
      ],
      "metadata": {
        "id": "fNi3i_z-Tq0O"
      }
    },
    {
      "cell_type": "markdown",
      "source": [
        "When we no longer require specific information stored in a dictionary, we can utilize the `del` statement to entirely eliminate a key-value pair. Simply specify the name of the dictionary along with the key you want to remove."
      ],
      "metadata": {
        "id": "ptoG2aweT2yh"
      }
    },
    {
      "cell_type": "code",
      "source": [
        "# removing key-value paris\n",
        "del student[\"Voted\"]\n",
        "print(student)"
      ],
      "metadata": {
        "colab": {
          "base_uri": "https://localhost:8080/"
        },
        "id": "_H6L_BobpTiU",
        "outputId": "f1551566-e606-41a5-cd16-87afd3369cea"
      },
      "execution_count": null,
      "outputs": [
        {
          "output_type": "stream",
          "name": "stdout",
          "text": [
            "{'Name': 'John Kamau', 'Age': 25, 'Gender': 'Male', 'Class': 'BD-NAI'}\n"
          ]
        }
      ]
    },
    {
      "cell_type": "markdown",
      "source": [
        "*Be aware that the deleted key-value pair is removed permanently.*"
      ],
      "metadata": {
        "id": "jHbAMc_tWG1H"
      }
    },
    {
      "cell_type": "markdown",
      "source": [
        "## More Dict Methods"
      ],
      "metadata": {
        "id": "K4UiyvbQW5FP"
      }
    },
    {
      "cell_type": "code",
      "source": [
        "# Dict built in methods\n",
        "help(dict)"
      ],
      "metadata": {
        "colab": {
          "base_uri": "https://localhost:8080/"
        },
        "id": "S7YeGXPoXBUK",
        "outputId": "839f0556-b12d-4eb5-f31b-741ad505f505"
      },
      "execution_count": null,
      "outputs": [
        {
          "output_type": "stream",
          "name": "stdout",
          "text": [
            "Help on class dict in module builtins:\n",
            "\n",
            "class dict(object)\n",
            " |  dict() -> new empty dictionary\n",
            " |  dict(mapping) -> new dictionary initialized from a mapping object's\n",
            " |      (key, value) pairs\n",
            " |  dict(iterable) -> new dictionary initialized as if via:\n",
            " |      d = {}\n",
            " |      for k, v in iterable:\n",
            " |          d[k] = v\n",
            " |  dict(**kwargs) -> new dictionary initialized with the name=value pairs\n",
            " |      in the keyword argument list.  For example:  dict(one=1, two=2)\n",
            " |  \n",
            " |  Built-in subclasses:\n",
            " |      StgDict\n",
            " |  \n",
            " |  Methods defined here:\n",
            " |  \n",
            " |  __contains__(self, key, /)\n",
            " |      True if the dictionary has the specified key, else False.\n",
            " |  \n",
            " |  __delitem__(self, key, /)\n",
            " |      Delete self[key].\n",
            " |  \n",
            " |  __eq__(self, value, /)\n",
            " |      Return self==value.\n",
            " |  \n",
            " |  __ge__(self, value, /)\n",
            " |      Return self>=value.\n",
            " |  \n",
            " |  __getattribute__(self, name, /)\n",
            " |      Return getattr(self, name).\n",
            " |  \n",
            " |  __getitem__(...)\n",
            " |      x.__getitem__(y) <==> x[y]\n",
            " |  \n",
            " |  __gt__(self, value, /)\n",
            " |      Return self>value.\n",
            " |  \n",
            " |  __init__(self, /, *args, **kwargs)\n",
            " |      Initialize self.  See help(type(self)) for accurate signature.\n",
            " |  \n",
            " |  __ior__(self, value, /)\n",
            " |      Return self|=value.\n",
            " |  \n",
            " |  __iter__(self, /)\n",
            " |      Implement iter(self).\n",
            " |  \n",
            " |  __le__(self, value, /)\n",
            " |      Return self<=value.\n",
            " |  \n",
            " |  __len__(self, /)\n",
            " |      Return len(self).\n",
            " |  \n",
            " |  __lt__(self, value, /)\n",
            " |      Return self<value.\n",
            " |  \n",
            " |  __ne__(self, value, /)\n",
            " |      Return self!=value.\n",
            " |  \n",
            " |  __or__(self, value, /)\n",
            " |      Return self|value.\n",
            " |  \n",
            " |  __repr__(self, /)\n",
            " |      Return repr(self).\n",
            " |  \n",
            " |  __reversed__(self, /)\n",
            " |      Return a reverse iterator over the dict keys.\n",
            " |  \n",
            " |  __ror__(self, value, /)\n",
            " |      Return value|self.\n",
            " |  \n",
            " |  __setitem__(self, key, value, /)\n",
            " |      Set self[key] to value.\n",
            " |  \n",
            " |  __sizeof__(...)\n",
            " |      D.__sizeof__() -> size of D in memory, in bytes\n",
            " |  \n",
            " |  clear(...)\n",
            " |      D.clear() -> None.  Remove all items from D.\n",
            " |  \n",
            " |  copy(...)\n",
            " |      D.copy() -> a shallow copy of D\n",
            " |  \n",
            " |  get(self, key, default=None, /)\n",
            " |      Return the value for key if key is in the dictionary, else default.\n",
            " |  \n",
            " |  items(...)\n",
            " |      D.items() -> a set-like object providing a view on D's items\n",
            " |  \n",
            " |  keys(...)\n",
            " |      D.keys() -> a set-like object providing a view on D's keys\n",
            " |  \n",
            " |  pop(...)\n",
            " |      D.pop(k[,d]) -> v, remove specified key and return the corresponding value.\n",
            " |      \n",
            " |      If the key is not found, return the default if given; otherwise,\n",
            " |      raise a KeyError.\n",
            " |  \n",
            " |  popitem(self, /)\n",
            " |      Remove and return a (key, value) pair as a 2-tuple.\n",
            " |      \n",
            " |      Pairs are returned in LIFO (last-in, first-out) order.\n",
            " |      Raises KeyError if the dict is empty.\n",
            " |  \n",
            " |  setdefault(self, key, default=None, /)\n",
            " |      Insert key with a value of default if key is not in the dictionary.\n",
            " |      \n",
            " |      Return the value for key if key is in the dictionary, else default.\n",
            " |  \n",
            " |  update(...)\n",
            " |      D.update([E, ]**F) -> None.  Update D from dict/iterable E and F.\n",
            " |      If E is present and has a .keys() method, then does:  for k in E: D[k] = E[k]\n",
            " |      If E is present and lacks a .keys() method, then does:  for k, v in E: D[k] = v\n",
            " |      In either case, this is followed by: for k in F:  D[k] = F[k]\n",
            " |  \n",
            " |  values(...)\n",
            " |      D.values() -> an object providing a view on D's values\n",
            " |  \n",
            " |  ----------------------------------------------------------------------\n",
            " |  Class methods defined here:\n",
            " |  \n",
            " |  __class_getitem__(...) from builtins.type\n",
            " |      See PEP 585\n",
            " |  \n",
            " |  fromkeys(iterable, value=None, /) from builtins.type\n",
            " |      Create a new dictionary with keys from iterable and values set to value.\n",
            " |  \n",
            " |  ----------------------------------------------------------------------\n",
            " |  Static methods defined here:\n",
            " |  \n",
            " |  __new__(*args, **kwargs) from builtins.type\n",
            " |      Create and return a new object.  See help(type) for accurate signature.\n",
            " |  \n",
            " |  ----------------------------------------------------------------------\n",
            " |  Data and other attributes defined here:\n",
            " |  \n",
            " |  __hash__ = None\n",
            "\n"
          ]
        }
      ]
    },
    {
      "cell_type": "code",
      "source": [
        "# example 1 - keys of the dict\n",
        "student.keys()"
      ],
      "metadata": {
        "colab": {
          "base_uri": "https://localhost:8080/"
        },
        "id": "OGh5Ce0ZqERl",
        "outputId": "cffa54d9-a7e0-4230-b039-4b23794dcd60"
      },
      "execution_count": null,
      "outputs": [
        {
          "output_type": "execute_result",
          "data": {
            "text/plain": [
              "dict_keys(['Name', 'Age', 'Gender', 'Class'])"
            ]
          },
          "metadata": {},
          "execution_count": 63
        }
      ]
    },
    {
      "cell_type": "code",
      "source": [
        "# example 2 - values of the dict\n",
        "student.values()"
      ],
      "metadata": {
        "colab": {
          "base_uri": "https://localhost:8080/"
        },
        "id": "OWaCiwfKqfkr",
        "outputId": "cf14b251-b073-4e7f-a9b5-97ebb1b85b40"
      },
      "execution_count": null,
      "outputs": [
        {
          "output_type": "execute_result",
          "data": {
            "text/plain": [
              "dict_values(['John Kamau', 25, 'Male', 'BD-NAI'])"
            ]
          },
          "metadata": {},
          "execution_count": 64
        }
      ]
    },
    {
      "cell_type": "code",
      "source": [
        "# example 3 - creating a copy of the dict\n",
        "copied_student = student.copy()\n",
        "print(copied_student)"
      ],
      "metadata": {
        "colab": {
          "base_uri": "https://localhost:8080/"
        },
        "id": "CYpYmR2Iqzqn",
        "outputId": "2d7fe573-73da-43e1-9584-b13c4dc1081e"
      },
      "execution_count": null,
      "outputs": [
        {
          "output_type": "stream",
          "name": "stdout",
          "text": [
            "{'Name': 'John Kamau', 'Age': 25, 'Gender': 'Male', 'Class': 'BD-NAI'}\n"
          ]
        }
      ]
    },
    {
      "cell_type": "markdown",
      "source": [
        "While dictionaries offer extensive functionalities, diving too deeply into specifics can overwhelming early on. A solid starting point involves utilizing tab completion or the help method to explore dictionary methods. Additionally, for understanding the workings of a particular method, accessing the docstring provides valuable insight."
      ],
      "metadata": {
        "id": "_Rnht-EPXye-"
      }
    },
    {
      "cell_type": "markdown",
      "source": [
        "## Nested Dict"
      ],
      "metadata": {
        "id": "LXBTFnSxe0q8"
      }
    },
    {
      "cell_type": "markdown",
      "source": [
        "When we work with nested dictionaries, we create a structure where dictionaries are contained within other dictionaries as their values. This approach allows us to organize complex data more effectively.\n",
        "For instance, if we're managing student information, we might structure it like this:"
      ],
      "metadata": {
        "id": "y6YqkmsKfW3R"
      }
    },
    {
      "cell_type": "code",
      "source": [
        "# nested dict\n",
        "students = {\n",
        "    'Alice': {\n",
        "      'age': 15,\n",
        "      'grade': '10th',\n",
        "      'subjects': ['Math', 'Science']\n",
        "    },\n",
        "\n",
        "    'Bob': {\n",
        "      'age': 16,\n",
        "      'grade': '11th',\n",
        "      'subjects': ['History', 'English']\n",
        "    }\n",
        "}"
      ],
      "metadata": {
        "id": "Zl8vFLYWGcZE"
      },
      "execution_count": null,
      "outputs": []
    },
    {
      "cell_type": "markdown",
      "source": [
        "Here, each student's name acts as a key, and the corresponding value is another dictionary containing various attributes like age, grade, and a list of subjects. This structure allows for clear organization and direct access to specific student details.\n",
        "Accessing information from nested dictionaries involves chaining square brackets `[ ]` to navigate through the levels."
      ],
      "metadata": {
        "id": "_1rgG0Q-gbkJ"
      }
    },
    {
      "cell_type": "code",
      "source": [
        "# examples\n",
        "print(students['Alice']['age'])\n",
        "print(students['Bob']['subjects'][0])"
      ],
      "metadata": {
        "colab": {
          "base_uri": "https://localhost:8080/"
        },
        "id": "cv8nMkPEf2JD",
        "outputId": "c153f93f-bf81-4457-cfd1-ee15460ce930"
      },
      "execution_count": null,
      "outputs": [
        {
          "output_type": "stream",
          "name": "stdout",
          "text": [
            "15\n",
            "History\n"
          ]
        }
      ]
    },
    {
      "cell_type": "markdown",
      "source": [
        "## Summary"
      ],
      "metadata": {
        "id": "Qhd-mKziDLT2"
      }
    },
    {
      "cell_type": "markdown",
      "source": [
        "In this section, we encountered a new collection type, the dictionary. A dictionary consists of key-value pairs, delineated by curly braces, `{}`, and follows the 'key':'value' pattern for each attribute, separated by commas: `dictionary = {'key_1':'value_1', 'key_2':'value_2'}`.\n",
        "\n",
        "Retrieving a specific value from a dictionary involves using the bracket accessor combined with the key; for instance, `dictionary['key_2']` retrieves 'value_2'. We can also include a new attribute using the format `dictionary['key_3'] = 'value_3'`.\n",
        "\n",
        "Additionally, we explored representing data as nested structures. When working with nested data structures, it's beneficial to focus on the edges of the structure, such as `[{`, and articulate how the data is nested. Moreover, when accessing data within nested structures, breaking down the problem into steps helps us gain feedback throughout the process.\n"
      ],
      "metadata": {
        "id": "hzPMxrEWhBKc"
      }
    }
  ]
}