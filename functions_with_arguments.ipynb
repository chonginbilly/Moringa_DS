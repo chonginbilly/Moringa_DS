{
  "nbformat": 4,
  "nbformat_minor": 0,
  "metadata": {
    "colab": {
      "provenance": [],
      "toc_visible": true,
      "include_colab_link": true
    },
    "kernelspec": {
      "name": "python3",
      "display_name": "Python 3"
    },
    "language_info": {
      "name": "python"
    }
  },
  "cells": [
    {
      "cell_type": "markdown",
      "metadata": {
        "id": "view-in-github",
        "colab_type": "text"
      },
      "source": [
        "<a href=\"https://colab.research.google.com/github/chonginbilly/Moringa_DS/blob/main/functions_with_arguments.ipynb\" target=\"_parent\"><img src=\"https://colab.research.google.com/assets/colab-badge.svg\" alt=\"Open In Colab\"/></a>"
      ]
    },
    {
      "cell_type": "markdown",
      "source": [
        "<font color=\"green\">*To start working on this notebook, or any other notebook that we will use in this course, we will need to save our own copy of it. We can do this by clicking File > Save a Copy in Drive. We will then be able to make edits to our own copy of this notebook.*</font>\n",
        "\n",
        "---"
      ],
      "metadata": {
        "id": "tdY_ta87qwsM"
      }
    },
    {
      "cell_type": "markdown",
      "source": [
        "# Passing infromation into a Function"
      ],
      "metadata": {
        "id": "stQj6KlyscUN"
      }
    },
    {
      "cell_type": "markdown",
      "source": [
        "## Introduction"
      ],
      "metadata": {
        "id": "oO5Q8HOosSi7"
      }
    },
    {
      "cell_type": "markdown",
      "source": [
        "In programming, functions serve as potent tools for executing specific tasks. However, their capabilities expand significantly when we grant them the ability to receive information. This section delves into the art of transmitting data, known as **arguments** or **parameters**, into functions. By conveying information to functions, we enable them to adapt their behavior based on the provided inputs. Let's dive in and discover how to effectively communicate data to functions for more versatile and tailored operations."
      ],
      "metadata": {
        "id": "WWpEyLvgsSP8"
      }
    },
    {
      "cell_type": "markdown",
      "source": [
        "## Objectives"
      ],
      "metadata": {
        "id": "id2buCTCwNyE"
      }
    },
    {
      "cell_type": "markdown",
      "source": [
        "You will be able to:\n",
        "\n",
        "- Define and employ a function utilizing arguments."
      ],
      "metadata": {
        "id": "-IlBdPkowPXC"
      }
    },
    {
      "cell_type": "markdown",
      "source": [
        "## Passing information to a function"
      ],
      "metadata": {
        "id": "t6rOPRgHyQqF"
      }
    },
    {
      "cell_type": "markdown",
      "source": [
        "We have a straightforward function called `welcome_user()` that prints a greeting."
      ],
      "metadata": {
        "id": "w3zQzrg0xoy8"
      }
    },
    {
      "cell_type": "code",
      "execution_count": null,
      "metadata": {
        "id": "urQo_RGWqvwn",
        "colab": {
          "base_uri": "https://localhost:8080/",
          "height": 35
        },
        "outputId": "aab0eca7-573c-439f-99a5-e7544dde9928"
      },
      "outputs": [
        {
          "output_type": "execute_result",
          "data": {
            "text/plain": [
              "'Good Morning!! Welcome to Moringa School.'"
            ],
            "application/vnd.google.colaboratory.intrinsic+json": {
              "type": "string"
            }
          },
          "metadata": {},
          "execution_count": 1
        }
      ],
      "source": [
        "def welcome_user():\n",
        "  \"\"\"Display a simple greeting\"\"\"\n",
        "  message = f\"Good Morning!! Welcome to Moringa School.\"\n",
        "\n",
        "  return message\n",
        "\n",
        "welcome_user()"
      ]
    },
    {
      "cell_type": "markdown",
      "source": [
        "We can slightly modify the `welcome_user()` function to not only greet the user with a generic message but also address them by name. To achieve this, we add a parameter called `username` within the parentheses of the function's definition at `def welcome_user()`. By including `username` here, we enable the function to accept any specific value of username we provide. This alteration prompts the function to expect us to input a value for username each time we call it. When we call `welcome_user()`, we have the option to pass it a name, such as 'Sarah', within the parentheses."
      ],
      "metadata": {
        "id": "JsnO-IARzBig"
      }
    },
    {
      "cell_type": "code",
      "source": [
        "# adding parameters\n",
        "def welcome_user(username):\n",
        "  \"\"\"Display a simple greeting\"\"\"\n",
        "  message = f\"Good Morning {username.title()}!! Welcome to Moringa School.\"\n",
        "\n",
        "  return message\n",
        "\n",
        "welcome_user('sarah')"
      ],
      "metadata": {
        "colab": {
          "base_uri": "https://localhost:8080/",
          "height": 35
        },
        "id": "oPEOvM6Vzi24",
        "outputId": "4e63e555-d1d1-45c3-a888-df20bc96edcb"
      },
      "execution_count": null,
      "outputs": [
        {
          "output_type": "execute_result",
          "data": {
            "text/plain": [
              "'Good Morning Sarah!! Welcome to Moringa School.'"
            ],
            "application/vnd.google.colaboratory.intrinsic+json": {
              "type": "string"
            }
          },
          "metadata": {},
          "execution_count": 2
        }
      ]
    },
    {
      "cell_type": "markdown",
      "source": [
        "We can pass in a different username each time we are calling the function:"
      ],
      "metadata": {
        "id": "7R0T2TrMzvLJ"
      }
    },
    {
      "cell_type": "code",
      "source": [
        "# passing a different name\n",
        "welcome_user('allan')"
      ],
      "metadata": {
        "colab": {
          "base_uri": "https://localhost:8080/",
          "height": 35
        },
        "id": "0QbwkVxpz3Kd",
        "outputId": "145d9203-b44d-4d90-c5b8-7023c254101a"
      },
      "execution_count": null,
      "outputs": [
        {
          "output_type": "execute_result",
          "data": {
            "text/plain": [
              "'Good Morning Allan!! Welcome to Moringa School.'"
            ],
            "application/vnd.google.colaboratory.intrinsic+json": {
              "type": "string"
            }
          },
          "metadata": {},
          "execution_count": 3
        }
      ]
    },
    {
      "cell_type": "markdown",
      "source": [
        "## Arguments and Parameters"
      ],
      "metadata": {
        "id": "dnLPjaPF0GDA"
      }
    },
    {
      "cell_type": "markdown",
      "source": [
        "In the `welcome_user()` function mentioned earlier, we specified that `welcome_user()` must be given a value for the variable username. Once we called the function and supplied the necessary information (a person’s name), it delivered the appropriate greeting.\n",
        "\n",
        "The variable `username` within the `welcome_user()` definition exemplifies a **parameter**, serving as essential information the function requires to execute its task. On the other hand, the `'sarah'` value within `welcome_user('sarah')` stands as an **argument**—an informational piece passed from a function call to the function itself. During the function call, we place the specific value we want the function to process within parentheses. In this instance, the argument `'sarah'` was conveyed to the `welcome_user()` function and subsequently assigned to the parameter username.\n",
        "\n",
        "Occasionally, people interchangeably refer to the variables in a function definition as arguments or the variables in a function call as parameters\n"
      ],
      "metadata": {
        "id": "xTBcHdgj0h57"
      }
    },
    {
      "cell_type": "markdown",
      "source": [
        "![toilet_sign](https://drive.google.com/uc?export=view&id=1Sh3y0VCjlFFnowKyBn7zkYMetRXWBx6k)"
      ],
      "metadata": {
        "id": "0vSYpKoc2ZtB"
      }
    },
    {
      "cell_type": "markdown",
      "source": [
        "Imagine the toilet as our function—it serves a specific purpose. The sign \"male\" on the toilet door represents the parameter, acting as a requirement for someone to access the toilet. When different guys like John, Brian, and David approach, they become the arguments in this scenario.\n",
        "As we approach the toilet (function), we notice the sign \"male\" (parameter) indicating who can enter. Just like John, Brian, or David (arguments) need to match the sign's requirement to use the toilet, we, when using functions, must provide values that meet the parameters’ expectations.\n",
        "The male sign (parameter) tells us who's allowed inside the toilet (function), while John, Brian, or David (arguments) represent individuals complying with that criterion. Similarly, when we use functions, we need to supply values (arguments) that align with the function's parameters for it to operate effectively.\n"
      ],
      "metadata": {
        "id": "_dvqufOf3Ink"
      }
    },
    {
      "cell_type": "markdown",
      "source": [
        "## Passing arguments"
      ],
      "metadata": {
        "id": "zqpVCNua3Rff"
      }
    },
    {
      "cell_type": "markdown",
      "source": [
        "We can pass multiple arguments to a function because a function definition might have various parameters. There are diverse ways to pass arguments to functions. We can employ **positional arguments**, which require aligning them in the same order as the parameters in the function definition. Alternatively, we can utilize **keyword arguments**, where each argument comprises a variable name paired with a corresponding value. Additionally, we can pass lists and dictionaries containing values. Let's explore each of these methods individually."
      ],
      "metadata": {
        "id": "i-nN4LPG3hIU"
      }
    },
    {
      "cell_type": "markdown",
      "source": [
        "### Positional Arguments"
      ],
      "metadata": {
        "id": "u-xKN0pi4ALu"
      }
    },
    {
      "cell_type": "markdown",
      "source": [
        "When calling a function, Python matches each argument in the function call with a respective parameter in the function definition. The most straightforward approach is based on the order of the arguments provided. Values aligned in this manner are termed positional arguments.\n",
        "\n",
        "For instance, imagine a function that provides information about cars. This function informs us about the make of a car and it’s year of manufacture."
      ],
      "metadata": {
        "id": "Wj9OuWC04reU"
      }
    },
    {
      "cell_type": "code",
      "source": [
        "# function definition\n",
        "def describe_car(make, year):\n",
        "  \"\"\"Describe a car\"\"\"\n",
        "  message = f\"This car is a {make} manufactured in the year {year}\"\n",
        "\n",
        "  return message\n",
        "\n",
        "# function call\n",
        "describe_car(\"toyota\", 2008)"
      ],
      "metadata": {
        "colab": {
          "base_uri": "https://localhost:8080/",
          "height": 35
        },
        "id": "_OCbJCCt4v1h",
        "outputId": "7d4ce34a-d73e-420f-caa0-fb72234ad152"
      },
      "execution_count": null,
      "outputs": [
        {
          "output_type": "execute_result",
          "data": {
            "text/plain": [
              "'This car is a toyota manufactured in the year 2008'"
            ],
            "application/vnd.google.colaboratory.intrinsic+json": {
              "type": "string"
            }
          },
          "metadata": {},
          "execution_count": 4
        }
      ]
    },
    {
      "cell_type": "markdown",
      "source": [
        "We can call a function as many times as needed."
      ],
      "metadata": {
        "id": "r6P4Amck5L7-"
      }
    },
    {
      "cell_type": "code",
      "source": [
        "# second function call\n",
        "describe_car(\"mazda\", 2020)"
      ],
      "metadata": {
        "colab": {
          "base_uri": "https://localhost:8080/",
          "height": 35
        },
        "id": "RwexioyG5Law",
        "outputId": "e5c497fa-a062-4fa8-90ac-84b6b4de59f5"
      },
      "execution_count": null,
      "outputs": [
        {
          "output_type": "execute_result",
          "data": {
            "text/plain": [
              "'This car is a mazda manufactured in the year 2020'"
            ],
            "application/vnd.google.colaboratory.intrinsic+json": {
              "type": "string"
            }
          },
          "metadata": {},
          "execution_count": 5
        }
      ]
    },
    {
      "cell_type": "markdown",
      "source": [
        "Order does matter in positional arguments as we will end up with unexpected results if we mix up the order of arguments in a function call when using positional arguments."
      ],
      "metadata": {
        "id": "APSyae4r5vMu"
      }
    },
    {
      "cell_type": "code",
      "source": [
        "# mixing up the order\n",
        "describe_car(2009, \"nissan\")"
      ],
      "metadata": {
        "colab": {
          "base_uri": "https://localhost:8080/",
          "height": 35
        },
        "id": "P_fQNF4O6JEg",
        "outputId": "a743390e-6ace-4d6a-906e-6f560a6c1b52"
      },
      "execution_count": null,
      "outputs": [
        {
          "output_type": "execute_result",
          "data": {
            "text/plain": [
              "'This car is a 2009 manufactured in the year nissan'"
            ],
            "application/vnd.google.colaboratory.intrinsic+json": {
              "type": "string"
            }
          },
          "metadata": {},
          "execution_count": 6
        }
      ]
    },
    {
      "cell_type": "markdown",
      "source": [
        "When encountering unexpected outcomes, ensure that the order of arguments in your function call aligns with the order of parameters in the function's definition. This step assists in resolving discrepancies and obtaining the intended results."
      ],
      "metadata": {
        "id": "0Kq0QS7G6n8N"
      }
    },
    {
      "cell_type": "markdown",
      "source": [
        "### Keyword Arguments"
      ],
      "metadata": {
        "id": "1EZMzZdI62ez"
      }
    },
    {
      "cell_type": "markdown",
      "source": [
        "We can use a keyword argument as a name-value pair passed to a function. This pairing directly links the name with its corresponding value within the argument. This approach ensures clarity and avoids confusion, preventing situations where we might unintentionally end up with a car named “2000” with manufactured in the year “Nissan”. By employing keyword arguments, we free ourselves from the need to meticulously order our arguments in the function call, and they distinctly delineate the purpose of each value within the function call."
      ],
      "metadata": {
        "id": "QhwLNZ037m9s"
      }
    },
    {
      "cell_type": "code",
      "source": [
        "# example 1\n",
        "describe_car(year=2009, make=\"nissan\")"
      ],
      "metadata": {
        "colab": {
          "base_uri": "https://localhost:8080/",
          "height": 35
        },
        "id": "TesrjTsZ7oNk",
        "outputId": "d007a5e6-c474-471c-8724-dcdbd5010407"
      },
      "execution_count": null,
      "outputs": [
        {
          "output_type": "execute_result",
          "data": {
            "text/plain": [
              "'This car is a nissan manufactured in the year 2009'"
            ],
            "application/vnd.google.colaboratory.intrinsic+json": {
              "type": "string"
            }
          },
          "metadata": {},
          "execution_count": 7
        }
      ]
    },
    {
      "cell_type": "code",
      "source": [
        "# example 2\n",
        "describe_car(make=\"nissan\", year=2020)"
      ],
      "metadata": {
        "colab": {
          "base_uri": "https://localhost:8080/",
          "height": 35
        },
        "id": "tM7XkcwM7v1h",
        "outputId": "6283061d-c1ef-4811-9d99-1e850421430f"
      },
      "execution_count": null,
      "outputs": [
        {
          "output_type": "execute_result",
          "data": {
            "text/plain": [
              "'This car is a nissan manufactured in the year 2020'"
            ],
            "application/vnd.google.colaboratory.intrinsic+json": {
              "type": "string"
            }
          },
          "metadata": {},
          "execution_count": 8
        }
      ]
    },
    {
      "cell_type": "markdown",
      "source": [
        "### Default Value"
      ],
      "metadata": {
        "id": "NKxPRJMy8GpV"
      }
    },
    {
      "cell_type": "markdown",
      "source": [
        "When we write a function, defining a default value for each parameter becomes possible. Python utilizes the provided argument value for a parameter in the function call. In cases where no argument is specified, it resorts to the parameter's default value. Hence, when incorporating a default value for a parameter, we have the option to omit the associated argument usually present in the function call. This strategy involving default values streamlines our function calls and enhances the clarity regarding the typical usage of our functions."
      ],
      "metadata": {
        "id": "ErhbrowJ8nSM"
      }
    },
    {
      "cell_type": "code",
      "source": [
        "def greet_user(username, greeting='Hello'):\n",
        "  print(f\"{greeting}, {username}!\")"
      ],
      "metadata": {
        "id": "fZYTvWIG9ZtK"
      },
      "execution_count": null,
      "outputs": []
    },
    {
      "cell_type": "code",
      "source": [
        "# Calling the function with both parameters specified\n",
        "greet_user('Alice', 'Hi')"
      ],
      "metadata": {
        "colab": {
          "base_uri": "https://localhost:8080/"
        },
        "id": "TRaykMo99dlP",
        "outputId": "04939379-17ba-498a-d5ad-aa3ce2092a80"
      },
      "execution_count": null,
      "outputs": [
        {
          "output_type": "stream",
          "name": "stdout",
          "text": [
            "Hi, Alice!\n"
          ]
        }
      ]
    },
    {
      "cell_type": "code",
      "source": [
        "# Calling the function with only one parameter specified\n",
        "greet_user('Bob')"
      ],
      "metadata": {
        "colab": {
          "base_uri": "https://localhost:8080/"
        },
        "id": "x7hLGeY09inO",
        "outputId": "9ea93486-bc68-4c23-e3b5-c26d56f63574"
      },
      "execution_count": null,
      "outputs": [
        {
          "output_type": "stream",
          "name": "stdout",
          "text": [
            "Hello, Bob!\n"
          ]
        }
      ]
    },
    {
      "cell_type": "markdown",
      "source": [
        "In this example, the function `greet_user()` takes two parameters: `username` and `greeting`. The `greeting` parameter has a default value of `'Hello'`. When we call `greet_user('Alice', 'Hi')`, both parameters are explicitly provided. However, when calling `greet_user('Bob')`, we only specify the username, allowing the function to use the default value for greeting, which is `'Hello'`."
      ],
      "metadata": {
        "id": "rBAzhsM89vfU"
      }
    },
    {
      "cell_type": "markdown",
      "source": [
        "### Avoiding argument errors"
      ],
      "metadata": {
        "id": "aMsFQ3e0-O5u"
      }
    },
    {
      "cell_type": "markdown",
      "source": [
        "As we start using functions, encountering errors about unmatched arguments is common. These errors occur when we provide fewer or more arguments than what a function requires to execute its tasks. For instance, if we attempt to call `describe_car()` without any arguments, it results in an error due to the insufficient number of arguments provided."
      ],
      "metadata": {
        "id": "bpLnGK8E-oPG"
      }
    },
    {
      "cell_type": "code",
      "source": [
        "# argument errors\n",
        "describe_car() # << no arguments passed"
      ],
      "metadata": {
        "colab": {
          "base_uri": "https://localhost:8080/",
          "height": 200
        },
        "id": "wJPtHvlE-vnw",
        "outputId": "3be71638-9eef-4357-b3d4-4fa73d052016"
      },
      "execution_count": null,
      "outputs": [
        {
          "output_type": "error",
          "ename": "TypeError",
          "evalue": "describe_car() missing 2 required positional arguments: 'make' and 'year'",
          "traceback": [
            "\u001b[0;31m---------------------------------------------------------------------------\u001b[0m",
            "\u001b[0;31mTypeError\u001b[0m                                 Traceback (most recent call last)",
            "\u001b[0;32m<ipython-input-13-7b9c5dc6e592>\u001b[0m in \u001b[0;36m<cell line: 2>\u001b[0;34m()\u001b[0m\n\u001b[1;32m      1\u001b[0m \u001b[0;31m# argument errors\u001b[0m\u001b[0;34m\u001b[0m\u001b[0;34m\u001b[0m\u001b[0m\n\u001b[0;32m----> 2\u001b[0;31m \u001b[0mdescribe_car\u001b[0m\u001b[0;34m(\u001b[0m\u001b[0;34m)\u001b[0m \u001b[0;31m# << no arguments passed\u001b[0m\u001b[0;34m\u001b[0m\u001b[0;34m\u001b[0m\u001b[0m\n\u001b[0m",
            "\u001b[0;31mTypeError\u001b[0m: describe_car() missing 2 required positional arguments: 'make' and 'year'"
          ]
        }
      ]
    },
    {
      "cell_type": "markdown",
      "source": [
        "### Making an argument optional"
      ],
      "metadata": {
        "id": "_u6mRU2s-vOU"
      }
    },
    {
      "cell_type": "markdown",
      "source": [
        "At times, it's logical to offer an optional argument within a function, enabling users to decide whether to provide additional information. Utilizing default values facilitates making an argument optional, granting users the flexibility to provide extra details if they choose to do so."
      ],
      "metadata": {
        "id": "-RIZBgHY_Yho"
      }
    },
    {
      "cell_type": "code",
      "source": [
        "def formatted_name(first_name, middle_name, last_name):\n",
        "  \"\"\"Return a full name, neatly formatted.\"\"\"\n",
        "  full_name = f\"{first_name.title()} {middle_name.title()} {last_name.title()}\"\n",
        "  return full_name.title()\n",
        "\n",
        "musician = formatted_name('john', 'mathew', 'kamau')\n",
        "print(musician)"
      ],
      "metadata": {
        "colab": {
          "base_uri": "https://localhost:8080/"
        },
        "id": "TLP0uR4x_b73",
        "outputId": "cc5aa749-9b68-4685-9934-0f6dfcaa098b"
      },
      "execution_count": null,
      "outputs": [
        {
          "output_type": "stream",
          "name": "stdout",
          "text": [
            "John Mathew Kamau\n"
          ]
        }
      ]
    },
    {
      "cell_type": "markdown",
      "source": [
        "This function operates effectively when provided with a first, middle, and last name. It takes all three components and constructs a string from them, ensuring appropriate spaces and converting the full name to title case.\n",
        "\n",
        "However, middle names aren’t always necessary. As currently written, this function would fail if called with just a first and last name. To accommodate an optional middle name, we assign an empty default value to the `middle_name` argument. This adjustment allows us to ignore the middle name unless explicitly provided by the user. By setting the default value of `middle_name` as an empty string and positioning it at the **end** of the parameter list, we enable `formatted_name()` to function seamlessly without requiring a middle name."
      ],
      "metadata": {
        "id": "xT_KmQnGAsqz"
      }
    },
    {
      "cell_type": "code",
      "source": [
        "def formatted_name(first_name, last_name, middle_name=\"\"):\n",
        "  \"\"\"Return a full name, neatly formatted.\"\"\"\n",
        "  if middle_name:\n",
        "    full_name = f\"{first_name.title()} {middle_name.title()} {last_name.title()}\"\n",
        "  else:\n",
        "    full_name = f\"{first_name.title()} {last_name.title()}\"\n",
        "\n",
        "  return full_name.title()"
      ],
      "metadata": {
        "id": "eUjOmypeBCfQ"
      },
      "execution_count": null,
      "outputs": []
    },
    {
      "cell_type": "code",
      "source": [
        "# without middle name\n",
        "actor = formatted_name(\"john\", \"doe\")\n",
        "print(actor)"
      ],
      "metadata": {
        "colab": {
          "base_uri": "https://localhost:8080/"
        },
        "id": "YFYw32UqBf2c",
        "outputId": "570b9799-f2f6-4f49-f81c-201153c51403"
      },
      "execution_count": null,
      "outputs": [
        {
          "output_type": "stream",
          "name": "stdout",
          "text": [
            "John Doe\n"
          ]
        }
      ]
    },
    {
      "cell_type": "code",
      "source": [
        "# with middle name\n",
        "driver = formatted_name(\"jane\", \"chege\", \"wangui\")\n",
        "print(driver)"
      ],
      "metadata": {
        "colab": {
          "base_uri": "https://localhost:8080/"
        },
        "id": "1QbLu-3bBjuI",
        "outputId": "fe115675-dfd6-48e9-b23d-da871b522e9e"
      },
      "execution_count": null,
      "outputs": [
        {
          "output_type": "stream",
          "name": "stdout",
          "text": [
            "Jane Wangui Chege\n"
          ]
        }
      ]
    },
    {
      "cell_type": "markdown",
      "source": [
        "## Summary"
      ],
      "metadata": {
        "id": "9aJf6awIuiVD"
      }
    },
    {
      "cell_type": "markdown",
      "source": [
        "Passing information to functions through parameters and arguments enhances the versatility and adaptability of our code. Parameters act as placeholders within a function, defining the data the function needs to perform its task. When the function is called and supplied with specific values as arguments, these values are assigned to the parameters, allowing the function to execute with customized inputs. This approach not only allows functions to be more flexible in handling different data but also contributes to clearer and more reusable code, delineating the expected inputs and their impact on the function's behavior."
      ],
      "metadata": {
        "id": "MiLhJ0c2ukWt"
      }
    }
  ]
}