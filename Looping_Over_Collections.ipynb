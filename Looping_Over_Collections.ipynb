{
  "nbformat": 4,
  "nbformat_minor": 0,
  "metadata": {
    "colab": {
      "provenance": [],
      "toc_visible": true,
      "include_colab_link": true
    },
    "kernelspec": {
      "name": "python3",
      "display_name": "Python 3"
    },
    "language_info": {
      "name": "python"
    }
  },
  "cells": [
    {
      "cell_type": "markdown",
      "metadata": {
        "id": "view-in-github",
        "colab_type": "text"
      },
      "source": [
        "<a href=\"https://colab.research.google.com/github/chonginbilly/Moringa_DS/blob/main/Looping_Over_Collections.ipynb\" target=\"_parent\"><img src=\"https://colab.research.google.com/assets/colab-badge.svg\" alt=\"Open In Colab\"/></a>"
      ]
    },
    {
      "cell_type": "markdown",
      "source": [
        "<font color=\"green\">*To start working on this notebook, or any other notebook that we will use in this course, we will need to save our own copy of it. We can do this by clicking File > Save a Copy in Drive. We will then be able to make edits to our own copy of this notebook.*</font>\n",
        "\n",
        "---"
      ],
      "metadata": {
        "id": "XFjvnQ7EAN9G"
      }
    },
    {
      "cell_type": "markdown",
      "source": [
        "# Looping Over Collections"
      ],
      "metadata": {
        "id": "Po40anDKAPbt"
      }
    },
    {
      "cell_type": "markdown",
      "source": [
        "## Introduction"
      ],
      "metadata": {
        "id": "FWVyNX23ATvv"
      }
    },
    {
      "cell_type": "markdown",
      "source": [
        "In programming, the ability to iterate through collections of data is fundamental. `For` loops are an essential tool allowing us to traverse and interact with different types of collections, such as lists, tuples, dictionaries, and strings. Through this lesson, we'll explore how for loops enable us to access each element within a collection, perform operations on these elements, and execute repetitive tasks efficiently.\n",
        "\n",
        "This lesson serves as a gateway to mastering iteration techniques, unveiling the flexibility and utility of for loops in handling various data structures. Let's embark on this journey to harness the potential of for loops and streamline our interaction with collections in Python."
      ],
      "metadata": {
        "id": "73o-rX58AWXB"
      }
    },
    {
      "cell_type": "markdown",
      "source": [
        "## Objectives"
      ],
      "metadata": {
        "id": "idjFJKumA1UI"
      }
    },
    {
      "cell_type": "markdown",
      "source": [
        "You will be able to:\n",
        "\n",
        "* Grasp the concept of `for` loops and their syntax, enabling iteration through diverse collections.\n",
        "* Effectively traverse lists, dictionaries, tuples, and other collections using looping constructs.\n",
        "* Executing operations, modifications, or analyses on elements within collections for loops.\n",
        "* Utilize `break` and `continue` statements within for loops to manage iteration flow"
      ],
      "metadata": {
        "id": "U23sYNz6A3O9"
      }
    },
    {
      "cell_type": "markdown",
      "source": [
        "## What is a `for` Loop?"
      ],
      "metadata": {
        "id": "4IFdsKfSBdMI"
      }
    },
    {
      "cell_type": "markdown",
      "source": [
        "A `for` loop is a control flow statement used in programming to iterate through a **sequence** of elements or perform a set of instructions **repeatedly for each item** in a collection. It allows executing a block of code for every element within the specified sequence or range.\n",
        "\n",
        "Suppose we have a basic collection containing 4 elements: `Nyeri, Kitale, Bungoma, and Marsabit`. To print each element individually without utilizing a loop, we'd need to manually write out each element as demonstrated below:\n"
      ],
      "metadata": {
        "id": "7c9TwbAyBg9P"
      }
    },
    {
      "cell_type": "code",
      "source": [
        "# list of towns\n",
        "towns = [\"Nyeri\",\"Kitale\",\"Bungoma\",\"Marsabit\"]"
      ],
      "metadata": {
        "id": "Pxfx7SVPsI_3"
      },
      "execution_count": null,
      "outputs": []
    },
    {
      "cell_type": "code",
      "source": [
        "print(towns[0])\n",
        "print(towns[1])\n",
        "print(towns[2])\n",
        "print(towns[3])"
      ],
      "metadata": {
        "colab": {
          "base_uri": "https://localhost:8080/"
        },
        "id": "d3mDrudisUlo",
        "outputId": "19588e8b-417c-40ee-f283-a04bd7d79229"
      },
      "execution_count": null,
      "outputs": [
        {
          "output_type": "stream",
          "name": "stdout",
          "text": [
            "Nyeri\n",
            "Kitale\n",
            "Bungoma\n",
            "Marsabit\n"
          ]
        }
      ]
    },
    {
      "cell_type": "markdown",
      "source": [
        "### How to construct a `for` loop"
      ],
      "metadata": {
        "id": "vE-AhPTdEtkr"
      }
    },
    {
      "cell_type": "markdown",
      "source": [
        "In the previous example, we accessed each index in the list sequentially and printed its corresponding value. While this method is effective, it becomes tedious when dealing with longer lists, especially when the list length is unknown.\n",
        "\n",
        "In many cases, not knowing the collection's length makes writing static code for each element not only unmanageable but also impractical. Let's explore how we can achieve the same operation using a `for` loop!"
      ],
      "metadata": {
        "id": "nTSWXOSyEyPO"
      }
    },
    {
      "cell_type": "markdown",
      "source": [
        "Syntax:\n",
        "\n",
        "```\n",
        "for item in sequence:\n",
        "    # Code block to be executed\n",
        "    # for each item in the sequence\n",
        "\n",
        "```\n",
        "\n",
        "Explanation:\n",
        "- `for` keyword initiates the loop.\n",
        "- `item` is a variable that represents each element in the sequence during iteration.\n",
        "- `sequence` refers to the collection or iterable being traversed.\n",
        "- The indented code block following the colon (`:`) is executed for each item in the sequence.\n"
      ],
      "metadata": {
        "id": "f2bFBgR4CEGB"
      }
    },
    {
      "cell_type": "code",
      "execution_count": null,
      "metadata": {
        "colab": {
          "base_uri": "https://localhost:8080/"
        },
        "id": "V1ESeEn9rvcT",
        "outputId": "e08de09b-d527-4ffa-e0fe-590556248a64"
      },
      "outputs": [
        {
          "output_type": "stream",
          "name": "stdout",
          "text": [
            "Nyeri\n",
            "Kitale\n",
            "Bungoma\n",
            "Marsabit\n"
          ]
        }
      ],
      "source": [
        "# constructing a for loop\n",
        "for town in towns:\n",
        "  print(town)"
      ]
    },
    {
      "cell_type": "markdown",
      "source": [
        "In the loop above, we're using a `for` loop to go through **each** element in the `towns` list. The loop begins by taking the first element in the towns list, storing it in a **variable** called `town`, and then executing the indented block of code.\n",
        "\n",
        "For each iteration, the variable `town` represents one of the towns(elements) in our list. We then print the value stored in the town variable using the `print()` function. This process repeats for every town(element) in the towns list, printing each town's name individually.\n",
        "\n",
        "Let's demonstrates how the loop operates when cycling through the `towns` list.\n"
      ],
      "metadata": {
        "id": "Xcm9E6JPFxYT"
      }
    },
    {
      "cell_type": "code",
      "source": [
        "# Initializing a counter to keep track of iterations\n",
        "town_count = 0\n",
        "\n",
        "# Loop through each town in the 'towns' list\n",
        "for town_name in towns:\n",
        "\n",
        "  # Increment the count for each iteration\n",
        "  town_count += 1\n",
        "\n",
        "  # Print the current iteration count\n",
        "  print(\"Iteration count:\", town_count)\n",
        "\n",
        "  # Print the name of the town for the current iteration\n",
        "  print(\"Current town:\", town_name)\n",
        "\n",
        "print(\"\\nThe loop has finished executing. I'm outside the loop block, hence this line prints only once!\")\n"
      ],
      "metadata": {
        "colab": {
          "base_uri": "https://localhost:8080/"
        },
        "id": "2OWripdpyENE",
        "outputId": "6acc916e-267c-420d-9cd4-b289f5ccab62"
      },
      "execution_count": null,
      "outputs": [
        {
          "output_type": "stream",
          "name": "stdout",
          "text": [
            "Iteration count: 1\n",
            "Current town: Nyeri\n",
            "Iteration count: 2\n",
            "Current town: Kitale\n",
            "Iteration count: 3\n",
            "Current town: Bungoma\n",
            "Iteration count: 4\n",
            "Current town: Marsabit\n",
            "\n",
            "The loop has finished executing. I'm outside the loop block, hence this line prints only once!\n"
          ]
        }
      ]
    },
    {
      "cell_type": "markdown",
      "source": [
        "## `break` and `continue` statement"
      ],
      "metadata": {
        "id": "AZuegsJRXv0O"
      }
    },
    {
      "cell_type": "markdown",
      "source": [
        "In Python, the `break` and `continue` statements are powerful tools used within `for` loops to manage the flow of iteration."
      ],
      "metadata": {
        "id": "z3xJi4gOX3Nj"
      }
    },
    {
      "cell_type": "markdown",
      "source": [
        "### `break` statement"
      ],
      "metadata": {
        "id": "lHGrl6amYDCq"
      }
    },
    {
      "cell_type": "markdown",
      "source": [
        "The `break` statement is employed to prematurely exit a loop's execution based on a certain condition. When encountered, it immediately terminates the loop and transfers the control to the code following the loop."
      ],
      "metadata": {
        "id": "ePcMNFJCYGI4"
      }
    },
    {
      "cell_type": "code",
      "source": [
        "for num in range(1, 11):\n",
        "  if num == 5:\n",
        "    break  # Exit the loop when num equals 5\n",
        "  print(num)"
      ],
      "metadata": {
        "colab": {
          "base_uri": "https://localhost:8080/"
        },
        "id": "KfVg4WYiYRKK",
        "outputId": "9f9c4c84-c018-47b4-d8cc-a367a337c375"
      },
      "execution_count": null,
      "outputs": [
        {
          "output_type": "stream",
          "name": "stdout",
          "text": [
            "1\n",
            "2\n",
            "3\n",
            "4\n"
          ]
        }
      ]
    },
    {
      "cell_type": "markdown",
      "source": [
        "In this scenario, when the loop reaches the value 5, the `break` statement is triggered, causing an abrupt exit from the loop."
      ],
      "metadata": {
        "id": "Sl6qeI-vZS0J"
      }
    },
    {
      "cell_type": "markdown",
      "source": [
        "### `continue` statement"
      ],
      "metadata": {
        "id": "sUC0MeaTZYuH"
      }
    },
    {
      "cell_type": "markdown",
      "source": [
        "On the other hand, the `continue` statement allows us to skip the current iteration and proceed to the next iteration of the loop. It's beneficial when certain conditions are met, and we wish to bypass specific iterations."
      ],
      "metadata": {
        "id": "LaEPKWHWZlD5"
      }
    },
    {
      "cell_type": "code",
      "source": [
        "for num in range(1, 11):\n",
        "  if (num % 2 == 0):\n",
        "    continue  # Skip even numbers\n",
        "  print(num)"
      ],
      "metadata": {
        "colab": {
          "base_uri": "https://localhost:8080/"
        },
        "id": "W8wRcvD9ZkZS",
        "outputId": "66700bd3-d510-42cf-9243-efe5ba49ca3c"
      },
      "execution_count": null,
      "outputs": [
        {
          "output_type": "stream",
          "name": "stdout",
          "text": [
            "1\n",
            "3\n",
            "5\n",
            "7\n",
            "9\n"
          ]
        }
      ]
    },
    {
      "cell_type": "markdown",
      "source": [
        "Here, when encountering an even number `(num % 2 == 0)`, the `continue` statement is executed, skipping that iteration and proceeding to the next one."
      ],
      "metadata": {
        "id": "fVfvdsGtZ37w"
      }
    },
    {
      "cell_type": "markdown",
      "source": [
        "## Looping through a list"
      ],
      "metadata": {
        "id": "HBPC8H8GIS9K"
      }
    },
    {
      "cell_type": "markdown",
      "source": [
        "* Looping through a list in Python involves iterating over each element within the list."
      ],
      "metadata": {
        "id": "c1Z-yzuqIi7K"
      }
    },
    {
      "cell_type": "code",
      "source": [
        "# Example 1\n",
        "sugar_list = [\"Mumias\", \"Western\", \"Kabras\", \"Nzoia\"]\n",
        "\n",
        "for sugar in sugar_list:\n",
        "  print(f'I love {sugar} sugar !!')"
      ],
      "metadata": {
        "colab": {
          "base_uri": "https://localhost:8080/"
        },
        "id": "RebVaPiQIlXP",
        "outputId": "a810d00c-19d1-4937-e12a-2c9e7cc98eb8"
      },
      "execution_count": null,
      "outputs": [
        {
          "output_type": "stream",
          "name": "stdout",
          "text": [
            "I love Mumias sugar !!\n",
            "I love Western sugar !!\n",
            "I love Kabras sugar !!\n",
            "I love Nzoia sugar !!\n"
          ]
        }
      ]
    },
    {
      "cell_type": "code",
      "source": [
        "# example 2\n",
        "numbers = [1, 2, 3, 4, 5, 6, 7, 8]\n",
        "\n",
        "# lets print the even numbers from the list\n",
        "for num in numbers:\n",
        "  if (num % 2 == 0):\n",
        "    print(f\"{num}\")\n",
        "\n",
        "print(\"\\nThe loop has finished executing. I'm outside the loop block!\")"
      ],
      "metadata": {
        "colab": {
          "base_uri": "https://localhost:8080/"
        },
        "id": "LhLIxCDyJNie",
        "outputId": "7ce884f1-47e5-4ca5-d9ce-23e86adae492"
      },
      "execution_count": null,
      "outputs": [
        {
          "output_type": "stream",
          "name": "stdout",
          "text": [
            "2\n",
            "4\n",
            "6\n",
            "8\n",
            "\n",
            "The loop has finished executing. I'm outside the loop block!\n"
          ]
        }
      ]
    },
    {
      "cell_type": "code",
      "source": [
        "# example 3\n",
        "daily_sales = [1200, 1800, 1500, 2100, 1700]\n",
        "\n",
        "total_sales = 0\n",
        "\n",
        "# Calculate total sales\n",
        "for sale in daily_sales:\n",
        "\n",
        "  # Add each daily sale to the total_sales variable\n",
        "  total_sales += sale\n",
        "\n",
        "print(\"Total sales for the week:\", total_sales)\n"
      ],
      "metadata": {
        "colab": {
          "base_uri": "https://localhost:8080/"
        },
        "id": "ZFNaRrbhMPfD",
        "outputId": "2316aa3c-6aad-4c20-eb70-ef9db3b436cc"
      },
      "execution_count": null,
      "outputs": [
        {
          "output_type": "stream",
          "name": "stdout",
          "text": [
            "Total sales for the week: 8300\n"
          ]
        }
      ]
    },
    {
      "cell_type": "markdown",
      "source": [
        "### Avoiding Indentation Errors"
      ],
      "metadata": {
        "id": "90Zm9NAgMfG4"
      }
    },
    {
      "cell_type": "markdown",
      "source": [
        "Let's keep an eye out for some common indentation pitfalls as we write code in Python! Sometimes, we might accidentally indent lines that don't need to be indented, or forget to indent lines that should be. By spotting and learning from these errors early on, we'll steer clear of them in our own programs. Plus, it'll be a breeze to fix them when they sneak into our code!"
      ],
      "metadata": {
        "id": "Pz7yLAs0NRmQ"
      }
    },
    {
      "cell_type": "markdown",
      "source": [
        "*Errors should never pass silently.*"
      ],
      "metadata": {
        "id": "vWaoWW7cNfz6"
      }
    },
    {
      "cell_type": "markdown",
      "source": [
        "#### Forgetting to indent"
      ],
      "metadata": {
        "id": "vh4oI4tdNaPV"
      }
    },
    {
      "cell_type": "code",
      "source": [
        "# list of fruits\n",
        "fruits = ['Mangoes', 'Oranges', 'Apples', 'Bananas']"
      ],
      "metadata": {
        "id": "FhaHiELoPZoq"
      },
      "execution_count": null,
      "outputs": []
    },
    {
      "cell_type": "code",
      "source": [
        "# loop through list of fruits\n",
        "for fruit in fruits:\n",
        "print(fruit) # block of code under the for loop should be indented"
      ],
      "metadata": {
        "colab": {
          "base_uri": "https://localhost:8080/",
          "height": 144
        },
        "id": "Ueq9pMXsNV24",
        "outputId": "402fc55e-dafc-4223-8c66-fea99ed875e6"
      },
      "execution_count": null,
      "outputs": [
        {
          "output_type": "error",
          "ename": "IndentationError",
          "evalue": "ignored",
          "traceback": [
            "\u001b[0;36m  File \u001b[0;32m\"<ipython-input-22-cd878b3477ef>\"\u001b[0;36m, line \u001b[0;32m3\u001b[0m\n\u001b[0;31m    print(fruit) # block of code under the for loop should be indented\u001b[0m\n\u001b[0m    ^\u001b[0m\n\u001b[0;31mIndentationError\u001b[0m\u001b[0;31m:\u001b[0m expected an indented block after 'for' statement on line 2\n"
          ]
        }
      ]
    },
    {
      "cell_type": "markdown",
      "source": [
        "#### Forgetting to indent additional lines"
      ],
      "metadata": {
        "id": "MUnRVXyOOb0G"
      }
    },
    {
      "cell_type": "code",
      "source": [
        "# using the list of fruits above\n",
        "for fruit in fruits:\n",
        "  print(f'I love {fruit.lower()}') # correctly indented\n",
        "print(f\"How many {fruit.lower()} do you need to make juice\") # additional line not indented"
      ],
      "metadata": {
        "colab": {
          "base_uri": "https://localhost:8080/"
        },
        "id": "fDQmU1vbOfiF",
        "outputId": "ad5ba683-4d4a-4141-a2a4-1ecf5f4e61ce"
      },
      "execution_count": null,
      "outputs": [
        {
          "output_type": "stream",
          "name": "stdout",
          "text": [
            "I love mangoes\n",
            "I love oranges\n",
            "I love apples\n",
            "I love bananas\n",
            "How many bananas do you need to make juice\n"
          ]
        }
      ]
    },
    {
      "cell_type": "markdown",
      "source": [
        "#### Indenting Unnecessarily After the Loop"
      ],
      "metadata": {
        "id": "yTZ2b6w_PpB5"
      }
    },
    {
      "cell_type": "code",
      "source": [
        "for fruit in fruits:\n",
        "  print(f'I love {fruit.lower()}') # correctly indented\n",
        "\n",
        "  print(\"Done looping through the list.\") # indenting unnecessarily"
      ],
      "metadata": {
        "colab": {
          "base_uri": "https://localhost:8080/"
        },
        "id": "UCsK1A-lPq_7",
        "outputId": "d2596c00-53a7-48ab-ba6f-eefbbbc08c93"
      },
      "execution_count": null,
      "outputs": [
        {
          "output_type": "stream",
          "name": "stdout",
          "text": [
            "I love mangoes\n",
            "Done looping through the list.\n",
            "I love oranges\n",
            "Done looping through the list.\n",
            "I love apples\n",
            "Done looping through the list.\n",
            "I love bananas\n",
            "Done looping through the list.\n"
          ]
        }
      ]
    },
    {
      "cell_type": "markdown",
      "source": [
        "#### Forgetting the colon"
      ],
      "metadata": {
        "id": "9GXIk3WoP9Hw"
      }
    },
    {
      "cell_type": "code",
      "source": [
        "for fruit in fruits\n",
        "  print(f'I love {fruit.lower()}')"
      ],
      "metadata": {
        "colab": {
          "base_uri": "https://localhost:8080/",
          "height": 144
        },
        "id": "Yh785zHXP8OJ",
        "outputId": "416a1b66-3d16-4e32-f248-2f258f727c53"
      },
      "execution_count": null,
      "outputs": [
        {
          "output_type": "error",
          "ename": "SyntaxError",
          "evalue": "ignored",
          "traceback": [
            "\u001b[0;36m  File \u001b[0;32m\"<ipython-input-25-04cceba158ae>\"\u001b[0;36m, line \u001b[0;32m1\u001b[0m\n\u001b[0;31m    for fruit in fruits\u001b[0m\n\u001b[0m                       ^\u001b[0m\n\u001b[0;31mSyntaxError\u001b[0m\u001b[0;31m:\u001b[0m expected ':'\n"
          ]
        }
      ]
    },
    {
      "cell_type": "markdown",
      "source": [
        "## Looping through a Tuple"
      ],
      "metadata": {
        "id": "RZBbXuPRQUv-"
      }
    },
    {
      "cell_type": "markdown",
      "source": [
        "Looping through a tuple in Python follows a similar concept to looping through a list. However, tuples are immutable, meaning their elements cannot be modified once defined."
      ],
      "metadata": {
        "id": "5ogCpz1pQb3n"
      }
    },
    {
      "cell_type": "code",
      "source": [
        "# tuple of kenyan_cities\n",
        "kenyan_cities = (\"Nairobi\", \"Mombasa\", \"Kisumu\", \"Nakuru\")\n",
        "\n",
        "# looping through a tuple\n",
        "for city in kenyan_cities:\n",
        "  print(\"Current city:\", city)\n"
      ],
      "metadata": {
        "colab": {
          "base_uri": "https://localhost:8080/"
        },
        "id": "kk9mBQKlQgjK",
        "outputId": "4f24f00b-f8a1-4c0b-e559-be7f51d00a00"
      },
      "execution_count": null,
      "outputs": [
        {
          "output_type": "stream",
          "name": "stdout",
          "text": [
            "Current city: Nairobi\n",
            "Current city: Mombasa\n",
            "Current city: Kisumu\n",
            "Current city: Nakuru\n"
          ]
        }
      ]
    },
    {
      "cell_type": "markdown",
      "source": [
        "## Looping through a dict"
      ],
      "metadata": {
        "id": "5etrAPVHr8DO"
      }
    },
    {
      "cell_type": "markdown",
      "source": [
        "Python dictionaries can hold a small collection of key-value pairs or vast amounts of data. Given their capacity, Python allows looping through dictionaries. With dictionaries serving various data storage purposes, multiple methods exist for looping through them. Iteration can involve *cycling through all key-value pairs, keys alone*, or *values alone within a dictionary.*"
      ],
      "metadata": {
        "id": "BL7gfSz7Zh5X"
      }
    },
    {
      "cell_type": "code",
      "source": [
        "# using the student dict\n",
        "copied_student = {\n",
        "    'Name': 'John Kamau',\n",
        "    'Age': 24,\n",
        "    'Gender': 'Male',\n",
        "    'Voted': True,\n",
        "    'Class': 'BD-NAI'\n",
        "}\n",
        "print(copied_student)"
      ],
      "metadata": {
        "id": "XtHdcAd_r7EZ",
        "colab": {
          "base_uri": "https://localhost:8080/"
        },
        "outputId": "febb5ac7-f27b-4d87-b802-ca11fd3b1da2"
      },
      "execution_count": null,
      "outputs": [
        {
          "output_type": "stream",
          "name": "stdout",
          "text": [
            "{'Name': 'John Kamau', 'Age': 24, 'Gender': 'Male', 'Voted': True, 'Class': 'BD-NAI'}\n"
          ]
        }
      ]
    },
    {
      "cell_type": "markdown",
      "source": [
        "### Looping Through All the Keys in a Dictionary"
      ],
      "metadata": {
        "id": "LaHu8H5-sF27"
      }
    },
    {
      "cell_type": "markdown",
      "source": [
        "Allows us to access each key individually, enabling the retrieval of associated values or performing specific actions based on these keys."
      ],
      "metadata": {
        "id": "98Fw1VfhaleI"
      }
    },
    {
      "cell_type": "code",
      "source": [
        "# looping through all the keys\n",
        "for key in copied_student.keys():\n",
        "  print(key)"
      ],
      "metadata": {
        "colab": {
          "base_uri": "https://localhost:8080/"
        },
        "id": "CiDMv7zqsBCU",
        "outputId": "a69e2c41-d3ac-4b63-d91a-f60b09f93261"
      },
      "execution_count": null,
      "outputs": [
        {
          "output_type": "stream",
          "name": "stdout",
          "text": [
            "Name\n",
            "Age\n",
            "Gender\n",
            "Voted\n",
            "Class\n"
          ]
        }
      ]
    },
    {
      "cell_type": "code",
      "source": [
        "# retrival of associated values\n",
        "for key in copied_student.keys():\n",
        "  if (key.lower() == \"gender\"):\n",
        "    print(copied_student[key])"
      ],
      "metadata": {
        "colab": {
          "base_uri": "https://localhost:8080/"
        },
        "id": "k0UL6ve3ay9O",
        "outputId": "836b602e-9d51-477f-d4d0-d44e4d561d17"
      },
      "execution_count": null,
      "outputs": [
        {
          "output_type": "stream",
          "name": "stdout",
          "text": [
            "Male\n"
          ]
        }
      ]
    },
    {
      "cell_type": "markdown",
      "source": [
        "### Looping Through a Dictionary’s Keys in a Particular Order"
      ],
      "metadata": {
        "id": "TNGDrGH4cSdw"
      }
    },
    {
      "cell_type": "markdown",
      "source": [
        "Looping through a dictionary returns the items in\n",
        "the same order they were inserted. Sometimes, though, we’ll want to loop\n",
        "through a dictionary in a different order.\n",
        "\n",
        "One way to do this is to sort the keys as they’re returned in the for loop.\n",
        "You can use the `sorted()` function to get a copy of the keys in order:"
      ],
      "metadata": {
        "id": "EaLsxYYDcqub"
      }
    },
    {
      "cell_type": "code",
      "source": [
        "# looping through keys in a particular order\n",
        "for key in sorted(copied_student.keys()):\n",
        "  print(key)"
      ],
      "metadata": {
        "colab": {
          "base_uri": "https://localhost:8080/"
        },
        "id": "bDiQcF0ac2cj",
        "outputId": "8ad85f7a-6935-491d-ab4b-9a61818fac1e"
      },
      "execution_count": null,
      "outputs": [
        {
          "output_type": "stream",
          "name": "stdout",
          "text": [
            "Age\n",
            "Class\n",
            "Gender\n",
            "Name\n",
            "Voted\n"
          ]
        }
      ]
    },
    {
      "cell_type": "markdown",
      "source": [
        "### Looping Through All Values in a Dictionary"
      ],
      "metadata": {
        "id": "FeXjsGuHwQ3u"
      }
    },
    {
      "cell_type": "markdown",
      "source": [
        "If we are primarily interested in the values that a dictionary contains,\n",
        "we can use the `values()` method to return a `list` of values without any keys."
      ],
      "metadata": {
        "id": "fyQ-YoLNdVa6"
      }
    },
    {
      "cell_type": "code",
      "source": [
        "# looping through values\n",
        "for value in copied_student.values():\n",
        "  print(value)"
      ],
      "metadata": {
        "colab": {
          "base_uri": "https://localhost:8080/"
        },
        "id": "yODA_GjuuJvz",
        "outputId": "27ee7da4-fd8f-4968-96c4-69bc37700837"
      },
      "execution_count": null,
      "outputs": [
        {
          "output_type": "stream",
          "name": "stdout",
          "text": [
            "John Kamau\n",
            "24\n",
            "Male\n",
            "True\n",
            "BD-NAI\n"
          ]
        }
      ]
    },
    {
      "cell_type": "markdown",
      "source": [
        "### Looping Through All Key-Value Pairs"
      ],
      "metadata": {
        "id": "HR5ZE4aTwiY1"
      }
    },
    {
      "cell_type": "markdown",
      "source": [
        "We use the `item()` method to loop through all the key-value pairs."
      ],
      "metadata": {
        "id": "xPhviDIzeUXw"
      }
    },
    {
      "cell_type": "code",
      "source": [
        "# looping through All Key-Value Pairs\n",
        "for item in copied_student.items():\n",
        "  print(item)"
      ],
      "metadata": {
        "colab": {
          "base_uri": "https://localhost:8080/"
        },
        "id": "dCILbg6jwa_8",
        "outputId": "4f2c2dc2-080e-4e68-e829-1e99ab183e80"
      },
      "execution_count": null,
      "outputs": [
        {
          "output_type": "stream",
          "name": "stdout",
          "text": [
            "('Name', 'John Kamau')\n",
            "('Age', 24)\n",
            "('Gender', 'Male')\n",
            "('Voted', True)\n",
            "('Class', 'BD-NAI')\n"
          ]
        }
      ]
    },
    {
      "cell_type": "code",
      "source": [
        "# return type\n",
        "type(item)"
      ],
      "metadata": {
        "colab": {
          "base_uri": "https://localhost:8080/"
        },
        "id": "yY0Y6z1_wpOI",
        "outputId": "852d2b48-dd63-42f4-fd30-9b9809a77af3"
      },
      "execution_count": null,
      "outputs": [
        {
          "output_type": "execute_result",
          "data": {
            "text/plain": [
              "tuple"
            ]
          },
          "metadata": {},
          "execution_count": 14
        }
      ]
    },
    {
      "cell_type": "markdown",
      "source": [
        "## Knock yourself out"
      ],
      "metadata": {
        "id": "5h6VCUDuQvHZ"
      }
    },
    {
      "cell_type": "markdown",
      "source": [
        "### List Comprehension"
      ],
      "metadata": {
        "id": "6rTKztN4RLM0"
      }
    },
    {
      "cell_type": "markdown",
      "source": [
        "List comprehension in Python allows us to create lists concisely and efficiently using a single line of code. It replaces the need for explicit `for` loops and `append()` calls, providing a streamlined approach to list creation."
      ],
      "metadata": {
        "id": "bZdRzPnaROTP"
      }
    },
    {
      "cell_type": "markdown",
      "source": [
        "Syntax:\n",
        "\n",
        "```\n",
        "new_list = [expression for item in iterable if condition]\n",
        "\n",
        "```\n",
        "\n",
        "* `expression` determines what gets added to the new list.\n",
        "* `item` refers to each element in the iterable.\n",
        "* `iterable` represents the sequence being iterated over.\n",
        "* `condition` (optional) filters elements based on a specified condition.\n"
      ],
      "metadata": {
        "id": "r53b5AxfRY72"
      }
    },
    {
      "cell_type": "code",
      "source": [
        "# example\n",
        "numbers = [1, 2, 3, 4, 5]\n",
        "\n",
        "squared_numbers = [num ** 2 for num in numbers if num % 2 == 0]\n",
        "\n",
        "print(squared_numbers)"
      ],
      "metadata": {
        "colab": {
          "base_uri": "https://localhost:8080/"
        },
        "id": "-ShlBM1LQx0Q",
        "outputId": "f37b6be5-2c21-427a-d415-b59d5a9b30c8"
      },
      "execution_count": null,
      "outputs": [
        {
          "output_type": "stream",
          "name": "stdout",
          "text": [
            "[4, 16]\n"
          ]
        }
      ]
    },
    {
      "cell_type": "markdown",
      "source": [
        "* `num ** 2` calculates the square of each number.\n",
        "* `num` iterates through each element in numbers.\n",
        "* `numbers` is the iterable being traversed.\n",
        "* `if num % 2 == 0` filters only even numbers for squaring.\n"
      ],
      "metadata": {
        "id": "hNHOOj8aSjcs"
      }
    },
    {
      "cell_type": "markdown",
      "source": [
        ">> **NOTE**: *List comprehensions offer an expressive, concise, and efficient way to generate lists in Python, integrating iteration, conditionals, and expressions within a single line of code.*"
      ],
      "metadata": {
        "id": "gPZSirwlSWB2"
      }
    },
    {
      "cell_type": "code",
      "source": [
        "# example 2 - Converts Celsius temperatures to Fahrenheit\n",
        "celsius_temps = [0, 10, 20, 30, 40]\n",
        "\n",
        "fahrenheit_temps = [temp * 9/5 + 32 for temp in celsius_temps]\n",
        "\n",
        "print(fahrenheit_temps)"
      ],
      "metadata": {
        "colab": {
          "base_uri": "https://localhost:8080/"
        },
        "id": "SI_cKadbScYI",
        "outputId": "7a4b07c4-09b8-4731-fe5a-e649d4f65347"
      },
      "execution_count": null,
      "outputs": [
        {
          "output_type": "stream",
          "name": "stdout",
          "text": [
            "[32.0, 50.0, 68.0, 86.0, 104.0]\n"
          ]
        }
      ]
    },
    {
      "cell_type": "markdown",
      "source": [
        "### Dict Comprehension"
      ],
      "metadata": {
        "id": "l7D3heFNTXa_"
      }
    },
    {
      "cell_type": "markdown",
      "source": [
        "Dictionary comprehension in Python is akin to list comprehension, but it constructs dictionaries instead of lists. It offers a concise and efficient way to generate dictionaries using a single line of code."
      ],
      "metadata": {
        "id": "eOX5i_vPUPWm"
      }
    },
    {
      "cell_type": "markdown",
      "source": [
        "Syntax:\n",
        "\n",
        "```\n",
        "new_dict = {key_expression: value_expression for item in iterable if condition}\n",
        "```\n",
        "\n",
        "* `key_expression` defines the keys for the new dictionary.\n",
        "* `value_expression` determines the values associated with the keys.\n",
        "* `item represents` each element in the iterable (like a list, tuple, or range).\n",
        "* `iterable` refers to the sequence being iterated over.\n",
        "* `condition` (optional) filters elements to be included in the dictionary based on a specified condition.\n"
      ],
      "metadata": {
        "id": "a05j34XVURbQ"
      }
    },
    {
      "cell_type": "code",
      "source": [
        "# example\n",
        "numbers = [1, 2, 3, 4, 5]\n",
        "\n",
        "squared_dict = {num: num ** 2 for num in numbers if num % 2 == 0}\n",
        "\n",
        "print(squared_dict)"
      ],
      "metadata": {
        "colab": {
          "base_uri": "https://localhost:8080/"
        },
        "id": "mu5J8iwzTbrQ",
        "outputId": "fce87d45-7a83-4652-e676-e59f8f953df8"
      },
      "execution_count": null,
      "outputs": [
        {
          "output_type": "stream",
          "name": "stdout",
          "text": [
            "{2: 4, 4: 16}\n"
          ]
        }
      ]
    },
    {
      "cell_type": "code",
      "source": [
        "# example 2\n",
        "cities = [\"Nairobi\", \"Mombasa\", \"Kisumu\"]\n",
        "\n",
        "# dict of name and length of name\n",
        "city_lengths = {city: len(city) for city in cities}\n",
        "\n",
        "print(city_lengths)"
      ],
      "metadata": {
        "colab": {
          "base_uri": "https://localhost:8080/"
        },
        "id": "lKbps54EUxX7",
        "outputId": "9a01cd34-55a3-4dca-e7f0-fa8575494be4"
      },
      "execution_count": null,
      "outputs": [
        {
          "output_type": "stream",
          "name": "stdout",
          "text": [
            "{'Nairobi': 7, 'Mombasa': 7, 'Kisumu': 6}\n"
          ]
        }
      ]
    },
    {
      "cell_type": "markdown",
      "source": [
        "## Summary"
      ],
      "metadata": {
        "id": "I85rjrrfWHkL"
      }
    },
    {
      "cell_type": "markdown",
      "source": [
        "Throughout this comprehensive lesson on `for` loops, we actively explored mastering the manipulation and navigation of diverse data structures in Python. We honed our understanding of for loop concepts and syntax, skillfully navigating through different collections. The session allowed us to refine our abilities in executing operations on collection elements, optimizing iteration flow using loop control statements, and applying these skills practically in problem-solving scenarios. This hands-on experience has equipped us with adeptness in leveraging `for` loops, significantly enhancing our proficiency in handling Python collections."
      ],
      "metadata": {
        "id": "PFgPrs8CWLtJ"
      }
    }
  ]
}