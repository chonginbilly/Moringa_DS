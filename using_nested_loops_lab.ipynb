{
  "nbformat": 4,
  "nbformat_minor": 0,
  "metadata": {
    "colab": {
      "provenance": [],
      "include_colab_link": true
    },
    "kernelspec": {
      "name": "python3",
      "display_name": "Python 3"
    },
    "language_info": {
      "name": "python"
    }
  },
  "cells": [
    {
      "cell_type": "markdown",
      "metadata": {
        "id": "view-in-github",
        "colab_type": "text"
      },
      "source": [
        "<a href=\"https://colab.research.google.com/github/chonginbilly/Moringa_DS/blob/Moringa_python/using_nested_loops_lab.ipynb\" target=\"_parent\"><img src=\"https://colab.research.google.com/assets/colab-badge.svg\" alt=\"Open In Colab\"/></a>"
      ]
    },
    {
      "cell_type": "markdown",
      "source": [
        "<font color=\"green\">*To start working on this notebook, or any other notebook that we will use in this course, we will need to save our own copy of it. We can do this by clicking File > Save a Copy in Drive. We will then be able to make edits to our own copy of this notebook.*</font>\n",
        "\n",
        "---\n"
      ],
      "metadata": {
        "id": "tdY_ta87qwsM"
      }
    },
    {
      "cell_type": "markdown",
      "source": [
        "# Using Nested Loops - Lab"
      ],
      "metadata": {
        "id": "21Kau-PCV1WI"
      }
    },
    {
      "cell_type": "markdown",
      "source": [
        "## Introduction"
      ],
      "metadata": {
        "id": "cKV3JMMDV8Jl"
      }
    },
    {
      "cell_type": "markdown",
      "source": [
        "In this lab, we'll explore the practical application of nested data structures and loops, fundamental aspects in efficiently managing and manipulating complex information within Python. Through a series of tasks, you'll be tasked with creating and navigating through nested lists and dictionaries, tackling scenarios ranging from analyzing exam scores and employee data to processing temperature records and managing product inventories. By engaging with these nested structures and loop constructs, you'll gain hands-on experience in accessing, iterating through, and organizing multi-layered data. These exercises are designed to solidify your understanding of nested structures and looping techniques, enabling you to adeptly handle intricate data arrangements and conduct insightful analyses within Python programming."
      ],
      "metadata": {
        "id": "UBiBOSBfWoGK"
      }
    },
    {
      "cell_type": "markdown",
      "source": [
        "## Objectives"
      ],
      "metadata": {
        "id": "niWY5QCsXXtR"
      }
    },
    {
      "cell_type": "markdown",
      "source": [
        "You will be able to:\n",
        "\n",
        "- Utilize nested loops for extracting insights when it is appropriate"
      ],
      "metadata": {
        "id": "CScWOcGIXS8N"
      }
    },
    {
      "cell_type": "markdown",
      "source": [
        "## Lab Tasks"
      ],
      "metadata": {
        "id": "yE7JWCKaXaHh"
      }
    },
    {
      "cell_type": "markdown",
      "source": [
        "**Task 1: Nested List Looping**\n",
        "\n",
        "- Create a nested list named `student_grades` containing three inner lists.\n",
        "- Each inner list should represent the grades of different students.\n",
        "- Loop through the `student_grades` list to print the grades of each student on a new line. Use a nested loop structure to access each student's grades within the nested list."
      ],
      "metadata": {
        "id": "67AVpyz5XhvJ"
      }
    },
    {
      "cell_type": "code",
      "source": [
        "## CODE GOES HERE"
      ],
      "metadata": {
        "id": "-YpDuzmJXhah"
      },
      "execution_count": null,
      "outputs": []
    },
    {
      "cell_type": "markdown",
      "source": [
        "**Task 2: Dictionary with Nested Structures**\n",
        "\n",
        "- Construct a dictionary named `sales_data` where each key-value pair represents a branch's sales data.\n",
        "- Each branch's data should include the branch name as the key and a list of monthly sales figures as the value.\n",
        "- Loop through the `sales_data` dictionary to print each branch's name along with its individual monthly sales figures on separate lines using nested loops.\n"
      ],
      "metadata": {
        "id": "AXoWZSwpXluR"
      }
    },
    {
      "cell_type": "code",
      "source": [
        "## CODE GOES HERE"
      ],
      "metadata": {
        "id": "nhU-lnLJWnl8"
      },
      "execution_count": null,
      "outputs": []
    },
    {
      "cell_type": "markdown",
      "source": [
        "**Task 3: Flattening Nested Lists**\n",
        "\n",
        "- Given a nested list named `nested_numbers`, containing several inner lists, use list comprehension to flatten this nested structure into a single list named `all_numbers`.\n",
        "- Print the `all_numbers` list to showcase the combined elements from the nested structure, simplifying it into a linear format."
      ],
      "metadata": {
        "id": "oAV0ZjkrXpIN"
      }
    },
    {
      "cell_type": "code",
      "execution_count": null,
      "metadata": {
        "id": "urQo_RGWqvwn"
      },
      "outputs": [],
      "source": [
        "## CODE GOES HERE"
      ]
    },
    {
      "cell_type": "markdown",
      "source": [
        "**Task 4: Exam Scores Analysis**\n",
        "\n",
        "- Create a nested list named `exam_scores` representing scores of multiple exams for different students.\n",
        "- Each inner list should indicate the scores for one student across multiple exams.\n",
        "- Iterate through this nested list to calculate and print the average score for each student.\n",
        "- Additionally, determine and display the highest score achieved across all students and exams."
      ],
      "metadata": {
        "id": "gHp1ycddXxbd"
      }
    },
    {
      "cell_type": "code",
      "source": [
        "## CODE GOES HERE"
      ],
      "metadata": {
        "id": "e4e92jAcXz7y"
      },
      "execution_count": null,
      "outputs": []
    },
    {
      "cell_type": "markdown",
      "source": [
        "\n",
        "**Task 5: Employee Data Aggregation**\n",
        "\n",
        "- Generate a dictionary named `employee_data` containing employee details where the keys represent department names and the values are lists containing employee names.\n",
        "- Iterate through this dictionary to print each department's name along with the list of employees within that department.\n",
        "- Utilize nested loops to access and display the employee names within each department."
      ],
      "metadata": {
        "id": "3g3O2KXdX0sv"
      }
    },
    {
      "cell_type": "code",
      "source": [
        "## CODE GOES HERE"
      ],
      "metadata": {
        "id": "3xC8XLQSX2kn"
      },
      "execution_count": null,
      "outputs": []
    },
    {
      "cell_type": "markdown",
      "source": [
        "**Task 6: Temperature Record Processing**\n",
        "\n",
        "- Construct a dictionary named `temperature_data` where each key signifies a city name, and the corresponding value is a list representing daily temperature readings.\n",
        "- Iterate through this dictionary to calculate and display the average temperature for each city.\n",
        "- Moreover, determine and print the highest and lowest temperatures recorded among all cities."
      ],
      "metadata": {
        "id": "V87fyf0xX3Pv"
      }
    },
    {
      "cell_type": "code",
      "source": [
        "## CODE GOES HERE"
      ],
      "metadata": {
        "id": "ekDJMeyAX5aB"
      },
      "execution_count": null,
      "outputs": []
    },
    {
      "cell_type": "markdown",
      "source": [
        "**Task 7: Product Inventory Analysis**\n",
        "\n",
        "- Create a dictionary named `product_inventory` where the keys represent product categories, and the values are lists containing product names.\n",
        "- Iterate through this dictionary to print each product category along with the list of products within that category.\n",
        "- Employ nested loops to access and display the product names within each category."
      ],
      "metadata": {
        "id": "PaiirspoX6Bu"
      }
    },
    {
      "cell_type": "code",
      "source": [
        "## CODE GOES HERE"
      ],
      "metadata": {
        "id": "irFkLZVTX7zw"
      },
      "execution_count": null,
      "outputs": []
    },
    {
      "cell_type": "markdown",
      "source": [
        "**Task 8: Classroom Attendance Analysis**\n",
        "\n",
        "- Generate a dictionary named `class_attendance` where each key signifies a day of the week, and the corresponding value is a list representing the students present on that day.\n",
        "- Iterate through this dictionary to print each day of the week along with the list of students present.\n",
        "- Use nested loops to access and display the student names for each day."
      ],
      "metadata": {
        "id": "pjGE2tEPX8hw"
      }
    },
    {
      "cell_type": "code",
      "source": [
        "## CODE GOES HERE"
      ],
      "metadata": {
        "id": "G0GzRD7pX9GQ"
      },
      "execution_count": null,
      "outputs": []
    },
    {
      "cell_type": "markdown",
      "source": [
        "## Summary"
      ],
      "metadata": {
        "id": "CEvGzWSpY_6D"
      }
    },
    {
      "cell_type": "markdown",
      "source": [
        "Throughout this lab, we've engaged with nested data structures and loop mechanisms in Python, tackling various scenarios involving multi-layered information. By working through tasks related to student grades, employee data, temperature records, product inventory, and classroom attendance, we've honed our skills in handling diverse data arrangements. These exercises have equipped us to navigate nested lists and dictionaries efficiently using loops, empowering us to access, manipulate, and analyze complex information with ease. This hands-on experience has reinforced our understanding of nested structures and loop iterations, enabling us to proficiently manage intricate data sets within Python programming."
      ],
      "metadata": {
        "id": "J9sRFpnbY--g"
      }
    }
  ]
}