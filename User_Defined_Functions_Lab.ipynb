{
  "nbformat": 4,
  "nbformat_minor": 0,
  "metadata": {
    "colab": {
      "provenance": [],
      "include_colab_link": true
    },
    "kernelspec": {
      "name": "python3",
      "display_name": "Python 3"
    },
    "language_info": {
      "name": "python"
    }
  },
  "cells": [
    {
      "cell_type": "markdown",
      "metadata": {
        "id": "view-in-github",
        "colab_type": "text"
      },
      "source": [
        "<a href=\"https://colab.research.google.com/github/chonginbilly/Moringa_DS/blob/Moringa_python/User_Defined_Functions_Lab.ipynb\" target=\"_parent\"><img src=\"https://colab.research.google.com/assets/colab-badge.svg\" alt=\"Open In Colab\"/></a>"
      ]
    },
    {
      "cell_type": "markdown",
      "source": [
        "<font color=\"green\">*To start working on this notebook, or any other notebook that we will use in this course, we will need to save our own copy of it. We can do this by clicking File > Save a Copy in Drive. We will then be able to make edits to our own copy of this notebook.*</font>\n",
        "\n",
        "---"
      ],
      "metadata": {
        "id": "tdY_ta87qwsM"
      }
    },
    {
      "cell_type": "markdown",
      "source": [
        "# Creating Functions - Lab"
      ],
      "metadata": {
        "id": "Bc-aRr86_IMa"
      }
    },
    {
      "cell_type": "markdown",
      "source": [
        "## Introduction"
      ],
      "metadata": {
        "id": "M_MLM2Vu_MRr"
      }
    },
    {
      "cell_type": "markdown",
      "source": [
        "Welcome to the Functions Practice Lab! In this session, we'll dive into the world of functions to hone our Python programming skills. This lab is designed to provide hands-on experience in creating and utilizing functions effectively. You'll embark on a series of exercises aimed at writing functions to solve specific tasks, reinforcing your understanding of function definitions, calling, and returning a function results to be used in some other part of the code. Get ready to flex your coding muscles as you embark on this journey to master the art of functions in Python! Let's begin!"
      ],
      "metadata": {
        "id": "5MylJGoP_N9L"
      }
    },
    {
      "cell_type": "markdown",
      "source": [
        "## Objectives"
      ],
      "metadata": {
        "id": "ymy_JhZN_PXb"
      }
    },
    {
      "cell_type": "markdown",
      "source": [
        "You will be able to:\n",
        "\n",
        "- Write functions to perform specific tasks"
      ],
      "metadata": {
        "id": "eaejTJ76_TgT"
      }
    },
    {
      "cell_type": "markdown",
      "source": [
        "## Lab Tasks"
      ],
      "metadata": {
        "id": "xLkGY3XUBbjn"
      }
    },
    {
      "cell_type": "markdown",
      "source": [
        "**Task 1: Greet users**\n",
        "\n",
        "- Create a function `greet_user()` that prints a welcome message, then call this function in your code."
      ],
      "metadata": {
        "id": "hNYRJUilBhwx"
      }
    },
    {
      "cell_type": "code",
      "execution_count": null,
      "metadata": {
        "id": "urQo_RGWqvwn"
      },
      "outputs": [],
      "source": [
        "## CODE GOES HERE"
      ]
    },
    {
      "cell_type": "markdown",
      "source": [
        "**Task 2: Calculate Square**\n",
        "\n",
        "- Write a function `calculate_square()` that calculates the square of a predefined number (e.g., 5) and returns the result. Call the function and print the returned value."
      ],
      "metadata": {
        "id": "QkTKox_-BzWA"
      }
    },
    {
      "cell_type": "code",
      "source": [
        "## CODE GOES HERE"
      ],
      "metadata": {
        "id": "gj_njaslB-uO"
      },
      "execution_count": null,
      "outputs": []
    },
    {
      "cell_type": "markdown",
      "source": [
        "**Task 3: Check Even**\n",
        "- Develop a function `check_even()` that checks if a given number (e.g., 8) is even or odd. Use the return statement to send back a message indicating whether the number is even or odd. Call the function and display the result.\n"
      ],
      "metadata": {
        "id": "EGW0Tn-hCApJ"
      }
    },
    {
      "cell_type": "code",
      "source": [
        "## CODE GOES HERE"
      ],
      "metadata": {
        "id": "sGMBYSzrCFch"
      },
      "execution_count": null,
      "outputs": []
    },
    {
      "cell_type": "markdown",
      "source": [
        "## Summary"
      ],
      "metadata": {
        "id": "1t0PRK1j_4gt"
      }
    },
    {
      "cell_type": "markdown",
      "source": [
        "Awesome! In this lab, we explored the core elements of Python functions through practical tasks. We practiced creating functions to achieve different goals and gained insights into their structure and functionality. This hands-on practice deepened our understanding of how functions are crafted and utilized in Python, laying a solid foundation for their effective use in various coding scenarios.\n"
      ],
      "metadata": {
        "id": "w81swkYG_55N"
      }
    }
  ]
}