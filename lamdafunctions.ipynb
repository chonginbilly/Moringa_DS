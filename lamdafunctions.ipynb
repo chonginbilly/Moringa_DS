{
  "nbformat": 4,
  "nbformat_minor": 0,
  "metadata": {
    "colab": {
      "provenance": [],
      "include_colab_link": true
    },
    "kernelspec": {
      "name": "python3",
      "display_name": "Python 3"
    },
    "language_info": {
      "name": "python"
    }
  },
  "cells": [
    {
      "cell_type": "markdown",
      "metadata": {
        "id": "view-in-github",
        "colab_type": "text"
      },
      "source": [
        "<a href=\"https://colab.research.google.com/github/chonginbilly/Moringa_DS/blob/Moringa_python/lamdafunctions.ipynb\" target=\"_parent\"><img src=\"https://colab.research.google.com/assets/colab-badge.svg\" alt=\"Open In Colab\"/></a>"
      ]
    },
    {
      "cell_type": "markdown",
      "source": [
        "<font color=\"green\">*To start working on this notebook, or any other notebook that we will use in this course, we will need to save our own copy of it. We can do this by clicking File > Save a Copy in Drive. We will then be able to make edits to our own copy of this notebook.*</font>\n",
        "\n",
        "---"
      ],
      "metadata": {
        "id": "5M4kXSoRqL1N"
      }
    },
    {
      "cell_type": "markdown",
      "source": [
        "# Lambda Functions"
      ],
      "metadata": {
        "id": "Goofi2DHqaGY"
      }
    },
    {
      "cell_type": "markdown",
      "source": [
        "## Introduction"
      ],
      "metadata": {
        "id": "WWRfMagqqk_X"
      }
    },
    {
      "cell_type": "markdown",
      "source": [
        "Lamda functions serve as handy tools for streamlining code and performing quick, one-off operations. Imagine them as short, on-the-fly, functions that don't require a formal name. If you need to write a more complicated function, you may still need to use the more formal `def` method whereas lambda functions provide a quick and concise way to write functions."
      ],
      "metadata": {
        "id": "uzmFH83cqnM1"
      }
    },
    {
      "cell_type": "markdown",
      "source": [
        "## Objectives"
      ],
      "metadata": {
        "id": "LcDPAAqfrf8m"
      }
    },
    {
      "cell_type": "markdown",
      "source": [
        "By the end of this lesson, you will be able to:\n",
        "\n",
        "* Understand the syntax and usage of lambda functions.\n",
        "* Apply lambda functions effectively in tasks such as filtering, data transformation and sorting operations.\n",
        "* Integrate lambda functions seamlessly with built-in functions such as `map()` and `apply()`.\n",
        "* Make informed decisions on when to use lambda functions in data science."
      ],
      "metadata": {
        "id": "Tx3mQuAcrhxc"
      }
    },
    {
      "cell_type": "markdown",
      "source": [
        "## Import libraries"
      ],
      "metadata": {
        "id": "qe4wqUejwS9T"
      }
    },
    {
      "cell_type": "code",
      "execution_count": null,
      "metadata": {
        "id": "R-WxGzHTp3H-"
      },
      "outputs": [],
      "source": [
        "import pandas as pd\n",
        "import numpy as np\n",
        "\n",
        "import os"
      ]
    },
    {
      "cell_type": "markdown",
      "source": [
        "## load the data"
      ],
      "metadata": {
        "id": "rZxfp5z5wY7f"
      }
    },
    {
      "cell_type": "markdown",
      "source": [
        "[This](https://drive.google.com/file/d/1GoRRGv5ntTjzKIPMhrunDipX2ACqbPFV/view?usp=sharing) dataset contains customer feedback for British Airways.\n",
        "\n",
        "Columns:\n",
        "\n",
        "* **OverallRating**: The overall rating given by the customer.\n",
        "* **ReviewHeader**: The header or title of the customer's review.\n",
        "* **Name**: The name of the customer providing the feedback.\n",
        "* **Datetime**: The date and time when the feedback was posted.\n",
        "* **VerifiedReview**: Indicates whether the review is verified or not.\n",
        "* **ReviewBody**: The detailed body of the customer's review.\n",
        "* **TypeOfTraveller**: The type of traveler (e.g., Business, Leisure).\n",
        "* **SeatType**: Class of the traveler (e.g. Business, Economy).\n",
        "* **Route**: The flight route taken by the customer.\n",
        "* **DateFlown**: The date when the flight was taken.\n",
        "* **SeatComfort**: Rating for seat comfort.\n",
        "* **CabinStaffService**: Rating for cabin staff service.\n",
        "* **GroundService**: Rating for ground service.\n",
        "* **ValueForMoney**: Rating for the value for money.\n",
        "* **Recommended**: Whether the customer recommends British Airways.\n",
        "* **Aircraft**: The aircraft used for the flight.\n",
        "* **Food&Beverages**: Rating for food and beverages.\n",
        "* **InflightEntertainment**: Rating for inflight entertainment.\n",
        "* **Wifi&Connectivity**: Rating for onboard wifi and connectivity.\n"
      ],
      "metadata": {
        "id": "eRgQVn4Sy7q1"
      }
    },
    {
      "cell_type": "code",
      "source": [
        "from google.colab import drive\n",
        "\n",
        "drive.mount('/content/drive')"
      ],
      "metadata": {
        "colab": {
          "base_uri": "https://localhost:8080/"
        },
        "id": "GAukvpL9wYRv",
        "outputId": "911f5092-0f79-49f7-96c0-6f4178aab07d"
      },
      "execution_count": null,
      "outputs": [
        {
          "output_type": "stream",
          "name": "stdout",
          "text": [
            "Mounted at /content/drive\n"
          ]
        }
      ]
    },
    {
      "cell_type": "code",
      "source": [
        "data_path = '/content/drive/MyDrive/Product/Naivas Big Data /Data'\n",
        "\n",
        "os.chdir(data_path)"
      ],
      "metadata": {
        "id": "rk-xFRU5whk6"
      },
      "execution_count": null,
      "outputs": []
    },
    {
      "cell_type": "code",
      "source": [
        "# import the data\n",
        "df = pd.read_csv('BA_AirlineReviews.csv', index_col=0)\n",
        "df.head()"
      ],
      "metadata": {
        "colab": {
          "base_uri": "https://localhost:8080/",
          "height": 538
        },
        "id": "MfwO_H9Gy2Ij",
        "outputId": "1645e6f7-3d19-40a5-944d-2e708dee60e6"
      },
      "execution_count": null,
      "outputs": [
        {
          "output_type": "execute_result",
          "data": {
            "text/plain": [
              "   OverallRating                              ReviewHeader              Name  \\\n",
              "0            1.0    \"Service level far worse then Ryanair\"           L Keele   \n",
              "1            3.0  \"do not upgrade members based on status\"      Austin Jones   \n",
              "2            8.0             \"Flight was smooth and quick\"        M A Collie   \n",
              "3            1.0             \"Absolutely hopeless airline\"        Nigel Dean   \n",
              "4            1.0        \"Customer Service is non existent\"  Gaylynne Simpson   \n",
              "\n",
              "             Datetime  VerifiedReview  \\\n",
              "0  19th November 2023            True   \n",
              "1  19th November 2023            True   \n",
              "2  16th November 2023           False   \n",
              "3  16th November 2023            True   \n",
              "4  14th November 2023           False   \n",
              "\n",
              "                                          ReviewBody TypeOfTraveller  \\\n",
              "0  4 Hours before takeoff we received a Mail stat...  Couple Leisure   \n",
              "1  I recently had a delay on British Airways from...        Business   \n",
              "2  Boarded on time, but it took ages to get to th...  Couple Leisure   \n",
              "3  5 days before the flight, we were advised by B...  Couple Leisure   \n",
              "4  We traveled to Lisbon for our dream vacation, ...  Couple Leisure   \n",
              "\n",
              "         SeatType                      Route      DateFlown  SeatComfort  \\\n",
              "0   Economy Class        London to Stuttgart  November 2023          1.0   \n",
              "1   Economy Class         Brussels to London  November 2023          2.0   \n",
              "2  Business Class  London Heathrow to Dublin  November 2023          3.0   \n",
              "3   Economy Class           London to Dublin  December 2022          3.0   \n",
              "4   Economy Class           London to Lisbon  November 2023          1.0   \n",
              "\n",
              "   CabinStaffService  GroundService  ValueForMoney Recommended Aircraft  \\\n",
              "0                1.0            1.0            1.0          no      NaN   \n",
              "1                3.0            1.0            2.0          no     A320   \n",
              "2                3.0            4.0            3.0         yes     A320   \n",
              "3                3.0            1.0            1.0          no      NaN   \n",
              "4                1.0            1.0            1.0          no      NaN   \n",
              "\n",
              "   Food&Beverages  InflightEntertainment  Wifi&Connectivity  \n",
              "0             NaN                    NaN                NaN  \n",
              "1             1.0                    2.0                2.0  \n",
              "2             4.0                    NaN                NaN  \n",
              "3             NaN                    NaN                NaN  \n",
              "4             1.0                    1.0                1.0  "
            ],
            "text/html": [
              "\n",
              "  <div id=\"df-a72759db-ec12-4d9d-8d13-7d941d13e1fd\" class=\"colab-df-container\">\n",
              "    <div>\n",
              "<style scoped>\n",
              "    .dataframe tbody tr th:only-of-type {\n",
              "        vertical-align: middle;\n",
              "    }\n",
              "\n",
              "    .dataframe tbody tr th {\n",
              "        vertical-align: top;\n",
              "    }\n",
              "\n",
              "    .dataframe thead th {\n",
              "        text-align: right;\n",
              "    }\n",
              "</style>\n",
              "<table border=\"1\" class=\"dataframe\">\n",
              "  <thead>\n",
              "    <tr style=\"text-align: right;\">\n",
              "      <th></th>\n",
              "      <th>OverallRating</th>\n",
              "      <th>ReviewHeader</th>\n",
              "      <th>Name</th>\n",
              "      <th>Datetime</th>\n",
              "      <th>VerifiedReview</th>\n",
              "      <th>ReviewBody</th>\n",
              "      <th>TypeOfTraveller</th>\n",
              "      <th>SeatType</th>\n",
              "      <th>Route</th>\n",
              "      <th>DateFlown</th>\n",
              "      <th>SeatComfort</th>\n",
              "      <th>CabinStaffService</th>\n",
              "      <th>GroundService</th>\n",
              "      <th>ValueForMoney</th>\n",
              "      <th>Recommended</th>\n",
              "      <th>Aircraft</th>\n",
              "      <th>Food&amp;Beverages</th>\n",
              "      <th>InflightEntertainment</th>\n",
              "      <th>Wifi&amp;Connectivity</th>\n",
              "    </tr>\n",
              "  </thead>\n",
              "  <tbody>\n",
              "    <tr>\n",
              "      <th>0</th>\n",
              "      <td>1.0</td>\n",
              "      <td>\"Service level far worse then Ryanair\"</td>\n",
              "      <td>L Keele</td>\n",
              "      <td>19th November 2023</td>\n",
              "      <td>True</td>\n",
              "      <td>4 Hours before takeoff we received a Mail stat...</td>\n",
              "      <td>Couple Leisure</td>\n",
              "      <td>Economy Class</td>\n",
              "      <td>London to Stuttgart</td>\n",
              "      <td>November 2023</td>\n",
              "      <td>1.0</td>\n",
              "      <td>1.0</td>\n",
              "      <td>1.0</td>\n",
              "      <td>1.0</td>\n",
              "      <td>no</td>\n",
              "      <td>NaN</td>\n",
              "      <td>NaN</td>\n",
              "      <td>NaN</td>\n",
              "      <td>NaN</td>\n",
              "    </tr>\n",
              "    <tr>\n",
              "      <th>1</th>\n",
              "      <td>3.0</td>\n",
              "      <td>\"do not upgrade members based on status\"</td>\n",
              "      <td>Austin Jones</td>\n",
              "      <td>19th November 2023</td>\n",
              "      <td>True</td>\n",
              "      <td>I recently had a delay on British Airways from...</td>\n",
              "      <td>Business</td>\n",
              "      <td>Economy Class</td>\n",
              "      <td>Brussels to London</td>\n",
              "      <td>November 2023</td>\n",
              "      <td>2.0</td>\n",
              "      <td>3.0</td>\n",
              "      <td>1.0</td>\n",
              "      <td>2.0</td>\n",
              "      <td>no</td>\n",
              "      <td>A320</td>\n",
              "      <td>1.0</td>\n",
              "      <td>2.0</td>\n",
              "      <td>2.0</td>\n",
              "    </tr>\n",
              "    <tr>\n",
              "      <th>2</th>\n",
              "      <td>8.0</td>\n",
              "      <td>\"Flight was smooth and quick\"</td>\n",
              "      <td>M A Collie</td>\n",
              "      <td>16th November 2023</td>\n",
              "      <td>False</td>\n",
              "      <td>Boarded on time, but it took ages to get to th...</td>\n",
              "      <td>Couple Leisure</td>\n",
              "      <td>Business Class</td>\n",
              "      <td>London Heathrow to Dublin</td>\n",
              "      <td>November 2023</td>\n",
              "      <td>3.0</td>\n",
              "      <td>3.0</td>\n",
              "      <td>4.0</td>\n",
              "      <td>3.0</td>\n",
              "      <td>yes</td>\n",
              "      <td>A320</td>\n",
              "      <td>4.0</td>\n",
              "      <td>NaN</td>\n",
              "      <td>NaN</td>\n",
              "    </tr>\n",
              "    <tr>\n",
              "      <th>3</th>\n",
              "      <td>1.0</td>\n",
              "      <td>\"Absolutely hopeless airline\"</td>\n",
              "      <td>Nigel Dean</td>\n",
              "      <td>16th November 2023</td>\n",
              "      <td>True</td>\n",
              "      <td>5 days before the flight, we were advised by B...</td>\n",
              "      <td>Couple Leisure</td>\n",
              "      <td>Economy Class</td>\n",
              "      <td>London to Dublin</td>\n",
              "      <td>December 2022</td>\n",
              "      <td>3.0</td>\n",
              "      <td>3.0</td>\n",
              "      <td>1.0</td>\n",
              "      <td>1.0</td>\n",
              "      <td>no</td>\n",
              "      <td>NaN</td>\n",
              "      <td>NaN</td>\n",
              "      <td>NaN</td>\n",
              "      <td>NaN</td>\n",
              "    </tr>\n",
              "    <tr>\n",
              "      <th>4</th>\n",
              "      <td>1.0</td>\n",
              "      <td>\"Customer Service is non existent\"</td>\n",
              "      <td>Gaylynne Simpson</td>\n",
              "      <td>14th November 2023</td>\n",
              "      <td>False</td>\n",
              "      <td>We traveled to Lisbon for our dream vacation, ...</td>\n",
              "      <td>Couple Leisure</td>\n",
              "      <td>Economy Class</td>\n",
              "      <td>London to Lisbon</td>\n",
              "      <td>November 2023</td>\n",
              "      <td>1.0</td>\n",
              "      <td>1.0</td>\n",
              "      <td>1.0</td>\n",
              "      <td>1.0</td>\n",
              "      <td>no</td>\n",
              "      <td>NaN</td>\n",
              "      <td>1.0</td>\n",
              "      <td>1.0</td>\n",
              "      <td>1.0</td>\n",
              "    </tr>\n",
              "  </tbody>\n",
              "</table>\n",
              "</div>\n",
              "    <div class=\"colab-df-buttons\">\n",
              "\n",
              "  <div class=\"colab-df-container\">\n",
              "    <button class=\"colab-df-convert\" onclick=\"convertToInteractive('df-a72759db-ec12-4d9d-8d13-7d941d13e1fd')\"\n",
              "            title=\"Convert this dataframe to an interactive table.\"\n",
              "            style=\"display:none;\">\n",
              "\n",
              "  <svg xmlns=\"http://www.w3.org/2000/svg\" height=\"24px\" viewBox=\"0 -960 960 960\">\n",
              "    <path d=\"M120-120v-720h720v720H120Zm60-500h600v-160H180v160Zm220 220h160v-160H400v160Zm0 220h160v-160H400v160ZM180-400h160v-160H180v160Zm440 0h160v-160H620v160ZM180-180h160v-160H180v160Zm440 0h160v-160H620v160Z\"/>\n",
              "  </svg>\n",
              "    </button>\n",
              "\n",
              "  <style>\n",
              "    .colab-df-container {\n",
              "      display:flex;\n",
              "      gap: 12px;\n",
              "    }\n",
              "\n",
              "    .colab-df-convert {\n",
              "      background-color: #E8F0FE;\n",
              "      border: none;\n",
              "      border-radius: 50%;\n",
              "      cursor: pointer;\n",
              "      display: none;\n",
              "      fill: #1967D2;\n",
              "      height: 32px;\n",
              "      padding: 0 0 0 0;\n",
              "      width: 32px;\n",
              "    }\n",
              "\n",
              "    .colab-df-convert:hover {\n",
              "      background-color: #E2EBFA;\n",
              "      box-shadow: 0px 1px 2px rgba(60, 64, 67, 0.3), 0px 1px 3px 1px rgba(60, 64, 67, 0.15);\n",
              "      fill: #174EA6;\n",
              "    }\n",
              "\n",
              "    .colab-df-buttons div {\n",
              "      margin-bottom: 4px;\n",
              "    }\n",
              "\n",
              "    [theme=dark] .colab-df-convert {\n",
              "      background-color: #3B4455;\n",
              "      fill: #D2E3FC;\n",
              "    }\n",
              "\n",
              "    [theme=dark] .colab-df-convert:hover {\n",
              "      background-color: #434B5C;\n",
              "      box-shadow: 0px 1px 3px 1px rgba(0, 0, 0, 0.15);\n",
              "      filter: drop-shadow(0px 1px 2px rgba(0, 0, 0, 0.3));\n",
              "      fill: #FFFFFF;\n",
              "    }\n",
              "  </style>\n",
              "\n",
              "    <script>\n",
              "      const buttonEl =\n",
              "        document.querySelector('#df-a72759db-ec12-4d9d-8d13-7d941d13e1fd button.colab-df-convert');\n",
              "      buttonEl.style.display =\n",
              "        google.colab.kernel.accessAllowed ? 'block' : 'none';\n",
              "\n",
              "      async function convertToInteractive(key) {\n",
              "        const element = document.querySelector('#df-a72759db-ec12-4d9d-8d13-7d941d13e1fd');\n",
              "        const dataTable =\n",
              "          await google.colab.kernel.invokeFunction('convertToInteractive',\n",
              "                                                    [key], {});\n",
              "        if (!dataTable) return;\n",
              "\n",
              "        const docLinkHtml = 'Like what you see? Visit the ' +\n",
              "          '<a target=\"_blank\" href=https://colab.research.google.com/notebooks/data_table.ipynb>data table notebook</a>'\n",
              "          + ' to learn more about interactive tables.';\n",
              "        element.innerHTML = '';\n",
              "        dataTable['output_type'] = 'display_data';\n",
              "        await google.colab.output.renderOutput(dataTable, element);\n",
              "        const docLink = document.createElement('div');\n",
              "        docLink.innerHTML = docLinkHtml;\n",
              "        element.appendChild(docLink);\n",
              "      }\n",
              "    </script>\n",
              "  </div>\n",
              "\n",
              "\n",
              "<div id=\"df-f5ca45bb-a874-437e-8e02-3e96a1396ab4\">\n",
              "  <button class=\"colab-df-quickchart\" onclick=\"quickchart('df-f5ca45bb-a874-437e-8e02-3e96a1396ab4')\"\n",
              "            title=\"Suggest charts\"\n",
              "            style=\"display:none;\">\n",
              "\n",
              "<svg xmlns=\"http://www.w3.org/2000/svg\" height=\"24px\"viewBox=\"0 0 24 24\"\n",
              "     width=\"24px\">\n",
              "    <g>\n",
              "        <path d=\"M19 3H5c-1.1 0-2 .9-2 2v14c0 1.1.9 2 2 2h14c1.1 0 2-.9 2-2V5c0-1.1-.9-2-2-2zM9 17H7v-7h2v7zm4 0h-2V7h2v10zm4 0h-2v-4h2v4z\"/>\n",
              "    </g>\n",
              "</svg>\n",
              "  </button>\n",
              "\n",
              "<style>\n",
              "  .colab-df-quickchart {\n",
              "      --bg-color: #E8F0FE;\n",
              "      --fill-color: #1967D2;\n",
              "      --hover-bg-color: #E2EBFA;\n",
              "      --hover-fill-color: #174EA6;\n",
              "      --disabled-fill-color: #AAA;\n",
              "      --disabled-bg-color: #DDD;\n",
              "  }\n",
              "\n",
              "  [theme=dark] .colab-df-quickchart {\n",
              "      --bg-color: #3B4455;\n",
              "      --fill-color: #D2E3FC;\n",
              "      --hover-bg-color: #434B5C;\n",
              "      --hover-fill-color: #FFFFFF;\n",
              "      --disabled-bg-color: #3B4455;\n",
              "      --disabled-fill-color: #666;\n",
              "  }\n",
              "\n",
              "  .colab-df-quickchart {\n",
              "    background-color: var(--bg-color);\n",
              "    border: none;\n",
              "    border-radius: 50%;\n",
              "    cursor: pointer;\n",
              "    display: none;\n",
              "    fill: var(--fill-color);\n",
              "    height: 32px;\n",
              "    padding: 0;\n",
              "    width: 32px;\n",
              "  }\n",
              "\n",
              "  .colab-df-quickchart:hover {\n",
              "    background-color: var(--hover-bg-color);\n",
              "    box-shadow: 0 1px 2px rgba(60, 64, 67, 0.3), 0 1px 3px 1px rgba(60, 64, 67, 0.15);\n",
              "    fill: var(--button-hover-fill-color);\n",
              "  }\n",
              "\n",
              "  .colab-df-quickchart-complete:disabled,\n",
              "  .colab-df-quickchart-complete:disabled:hover {\n",
              "    background-color: var(--disabled-bg-color);\n",
              "    fill: var(--disabled-fill-color);\n",
              "    box-shadow: none;\n",
              "  }\n",
              "\n",
              "  .colab-df-spinner {\n",
              "    border: 2px solid var(--fill-color);\n",
              "    border-color: transparent;\n",
              "    border-bottom-color: var(--fill-color);\n",
              "    animation:\n",
              "      spin 1s steps(1) infinite;\n",
              "  }\n",
              "\n",
              "  @keyframes spin {\n",
              "    0% {\n",
              "      border-color: transparent;\n",
              "      border-bottom-color: var(--fill-color);\n",
              "      border-left-color: var(--fill-color);\n",
              "    }\n",
              "    20% {\n",
              "      border-color: transparent;\n",
              "      border-left-color: var(--fill-color);\n",
              "      border-top-color: var(--fill-color);\n",
              "    }\n",
              "    30% {\n",
              "      border-color: transparent;\n",
              "      border-left-color: var(--fill-color);\n",
              "      border-top-color: var(--fill-color);\n",
              "      border-right-color: var(--fill-color);\n",
              "    }\n",
              "    40% {\n",
              "      border-color: transparent;\n",
              "      border-right-color: var(--fill-color);\n",
              "      border-top-color: var(--fill-color);\n",
              "    }\n",
              "    60% {\n",
              "      border-color: transparent;\n",
              "      border-right-color: var(--fill-color);\n",
              "    }\n",
              "    80% {\n",
              "      border-color: transparent;\n",
              "      border-right-color: var(--fill-color);\n",
              "      border-bottom-color: var(--fill-color);\n",
              "    }\n",
              "    90% {\n",
              "      border-color: transparent;\n",
              "      border-bottom-color: var(--fill-color);\n",
              "    }\n",
              "  }\n",
              "</style>\n",
              "\n",
              "  <script>\n",
              "    async function quickchart(key) {\n",
              "      const quickchartButtonEl =\n",
              "        document.querySelector('#' + key + ' button');\n",
              "      quickchartButtonEl.disabled = true;  // To prevent multiple clicks.\n",
              "      quickchartButtonEl.classList.add('colab-df-spinner');\n",
              "      try {\n",
              "        const charts = await google.colab.kernel.invokeFunction(\n",
              "            'suggestCharts', [key], {});\n",
              "      } catch (error) {\n",
              "        console.error('Error during call to suggestCharts:', error);\n",
              "      }\n",
              "      quickchartButtonEl.classList.remove('colab-df-spinner');\n",
              "      quickchartButtonEl.classList.add('colab-df-quickchart-complete');\n",
              "    }\n",
              "    (() => {\n",
              "      let quickchartButtonEl =\n",
              "        document.querySelector('#df-f5ca45bb-a874-437e-8e02-3e96a1396ab4 button');\n",
              "      quickchartButtonEl.style.display =\n",
              "        google.colab.kernel.accessAllowed ? 'block' : 'none';\n",
              "    })();\n",
              "  </script>\n",
              "</div>\n",
              "    </div>\n",
              "  </div>\n"
            ]
          },
          "metadata": {},
          "execution_count": 6
        }
      ]
    },
    {
      "cell_type": "code",
      "source": [
        "df.info()"
      ],
      "metadata": {
        "colab": {
          "base_uri": "https://localhost:8080/"
        },
        "id": "MFBoHbEX1u55",
        "outputId": "27b7d11d-de03-4183-d15a-18390334fc31"
      },
      "execution_count": null,
      "outputs": [
        {
          "output_type": "stream",
          "name": "stdout",
          "text": [
            "<class 'pandas.core.frame.DataFrame'>\n",
            "Int64Index: 3701 entries, 0 to 3700\n",
            "Data columns (total 19 columns):\n",
            " #   Column                 Non-Null Count  Dtype  \n",
            "---  ------                 --------------  -----  \n",
            " 0   OverallRating          3696 non-null   float64\n",
            " 1   ReviewHeader           3701 non-null   object \n",
            " 2   Name                   3701 non-null   object \n",
            " 3   Datetime               3701 non-null   object \n",
            " 4   VerifiedReview         3701 non-null   bool   \n",
            " 5   ReviewBody             3701 non-null   object \n",
            " 6   TypeOfTraveller        2930 non-null   object \n",
            " 7   SeatType               3699 non-null   object \n",
            " 8   Route                  2926 non-null   object \n",
            " 9   DateFlown              2923 non-null   object \n",
            " 10  SeatComfort            3585 non-null   float64\n",
            " 11  CabinStaffService      3574 non-null   float64\n",
            " 12  GroundService          2855 non-null   float64\n",
            " 13  ValueForMoney          3700 non-null   float64\n",
            " 14  Recommended            3701 non-null   object \n",
            " 15  Aircraft               1922 non-null   object \n",
            " 16  Food&Beverages         3315 non-null   float64\n",
            " 17  InflightEntertainment  2551 non-null   float64\n",
            " 18  Wifi&Connectivity      609 non-null    float64\n",
            "dtypes: bool(1), float64(8), object(10)\n",
            "memory usage: 553.0+ KB\n"
          ]
        }
      ]
    },
    {
      "cell_type": "markdown",
      "source": [
        "## What are Lambda functions?"
      ],
      "metadata": {
        "id": "NrY5PIo40Qgf"
      }
    },
    {
      "cell_type": "markdown",
      "source": [
        "Also known as **anonymous** or **inline** functions, they are concise, on-line functions defined without a formal name using the `lambda` keyword.\n",
        "\n",
        "Syntax:\n",
        "\n",
        "`lamda x: x + 1`\n",
        "\n",
        "The syntax includes the `lambda` keyword, arguments, and an expression. Very similar to defining functions in general or when naming the iterable in `for` loop, the variable that we use when creating the `lambda` function argument does not matter."
      ],
      "metadata": {
        "id": "tbZxIGbQ0WPf"
      }
    },
    {
      "cell_type": "markdown",
      "source": [
        "Let's say you want to count the number of words in each review, this can be useful in Sentiment Analysis."
      ],
      "metadata": {
        "id": "0J8IIy-y1I4Q"
      }
    },
    {
      "cell_type": "code",
      "source": [
        "df['ReviewBody'].map(lambda x: len(x.split())).head()"
      ],
      "metadata": {
        "colab": {
          "base_uri": "https://localhost:8080/"
        },
        "id": "Wsrlig_y0FUS",
        "outputId": "9c40789d-d906-4d14-9537-b4e210af1a5e"
      },
      "execution_count": null,
      "outputs": [
        {
          "output_type": "execute_result",
          "data": {
            "text/plain": [
              "0    125\n",
              "1    206\n",
              "2     54\n",
              "3    255\n",
              "4    172\n",
              "Name: ReviewBody, dtype: int64"
            ]
          },
          "metadata": {},
          "execution_count": 8
        }
      ]
    },
    {
      "cell_type": "markdown",
      "source": [
        "## Lambda Functions vs General functions"
      ],
      "metadata": {
        "id": "zpS7pgT0Dluq"
      }
    },
    {
      "cell_type": "markdown",
      "source": [
        "||||\n",
        "|:-------:|:-------:|:-------:|\n",
        "||lamda|general|\n",
        "|definition|Defined using the keyword `lambda`|Normal functions are created using the `def` keyword|\n",
        "|arguments| Can have any number of arguments| Can have any number of arguments|\n",
        "|Expressions| Has only one expression| Can have any number of expressions and lines of code|\n",
        "|General usage| used for one-line expressions| used for large blocks of code|\n"
      ],
      "metadata": {
        "id": "DrDtLcn5EqSB"
      }
    },
    {
      "cell_type": "markdown",
      "source": [
        "## Lambda IIFEs"
      ],
      "metadata": {
        "id": "TQViUiseGf62"
      }
    },
    {
      "cell_type": "markdown",
      "source": [
        "IIFEs are **Immediately Invoked Function Expressions**. These functions are executed as soon as they are created and they require no explicit call to invoke the function.\n",
        "\n",
        "Let's create IIFEs using the lambda functions that returns the square of a number:"
      ],
      "metadata": {
        "id": "u3l79PaXG9OW"
      }
    },
    {
      "cell_type": "code",
      "source": [
        "# squares of number\n",
        "squares = (lambda x: x**2)(10)\n",
        "print(squares)"
      ],
      "metadata": {
        "id": "rO5MJUSF2G2E",
        "colab": {
          "base_uri": "https://localhost:8080/"
        },
        "outputId": "49e044f3-8221-4548-8664-8db5d3800b99"
      },
      "execution_count": null,
      "outputs": [
        {
          "output_type": "stream",
          "name": "stdout",
          "text": [
            "100\n"
          ]
        }
      ]
    },
    {
      "cell_type": "code",
      "source": [
        "(lambda x, y: x*y)(5, 6)"
      ],
      "metadata": {
        "colab": {
          "base_uri": "https://localhost:8080/"
        },
        "id": "Jgth1JXXWmu0",
        "outputId": "06a0add8-013d-45ad-a50c-1dc10c1a53ef"
      },
      "execution_count": null,
      "outputs": [
        {
          "output_type": "execute_result",
          "data": {
            "text/plain": [
              "30"
            ]
          },
          "metadata": {},
          "execution_count": 10
        }
      ]
    },
    {
      "cell_type": "markdown",
      "source": [
        "## Lambda with `apply()`"
      ],
      "metadata": {
        "id": "2-fq-ALjV_JD"
      }
    },
    {
      "cell_type": "markdown",
      "source": [
        "If our goal is to count the number of words in the `ReviewBody` column within the dataframe and find a suitable way to apply this count, we can utilize the `apply()` function. By employing this function, we can apply a lambda function to each entry in the `ReviewBody` column, enabling us to create a new column named `WordCount`. This approach transforms the dataframe, providing a convenient way to analyze the textual information and the corresponding word counts."
      ],
      "metadata": {
        "id": "Xdim7OKrWOWe"
      }
    },
    {
      "cell_type": "code",
      "source": [
        "# count number of words per review\n",
        "df['WordCount'] = df['ReviewBody'].apply(lambda review: len(str(review).split()))"
      ],
      "metadata": {
        "id": "locUtleMVY9_"
      },
      "execution_count": null,
      "outputs": []
    },
    {
      "cell_type": "code",
      "source": [
        "df[\"WordCount\"].head()"
      ],
      "metadata": {
        "colab": {
          "base_uri": "https://localhost:8080/"
        },
        "id": "bkB428RIZCB9",
        "outputId": "cdb49562-b0a7-4fb1-d5f3-fa93af5fc953"
      },
      "execution_count": null,
      "outputs": [
        {
          "output_type": "execute_result",
          "data": {
            "text/plain": [
              "0    125\n",
              "1    206\n",
              "2     54\n",
              "3    255\n",
              "4    172\n",
              "Name: WordCount, dtype: int64"
            ]
          },
          "metadata": {},
          "execution_count": 16
        }
      ]
    },
    {
      "cell_type": "markdown",
      "source": [
        "## Lambda with `filter()` function"
      ],
      "metadata": {
        "id": "h7-wiggKbF_x"
      }
    },
    {
      "cell_type": "markdown",
      "source": [
        "Now, let's determine the count of passengers who received an overall rating below 7, classifying them as **detractors**. This can be accomplished utilizing the `filter()` function. The `filter()` function, when supplied with a lambda function and a Pandas series, applies the lambda function to the series, effectively filtering the data to include only the relevant entries.\n",
        "\n",
        "This returns a sequence of `True` and `False`, which we are going to use to filter the data."
      ],
      "metadata": {
        "id": "GjgsFlEQbMGx"
      }
    },
    {
      "cell_type": "code",
      "source": [
        "# filtering out the detractors\n",
        "detractors_scores = list(filter(lambda rating: rating < 7, df['OverallRating']))\n",
        "\n",
        "len(detractors_scores)"
      ],
      "metadata": {
        "colab": {
          "base_uri": "https://localhost:8080/"
        },
        "id": "VGuRA6DOaqjc",
        "outputId": "83bd59bc-acca-417d-e8da-87ae368c5180"
      },
      "execution_count": null,
      "outputs": [
        {
          "output_type": "execute_result",
          "data": {
            "text/plain": [
              "2373"
            ]
          },
          "metadata": {},
          "execution_count": 17
        }
      ]
    },
    {
      "cell_type": "markdown",
      "source": [
        "## Conditional statements using Lambda functions"
      ],
      "metadata": {
        "id": "e_rdmUvXd_S7"
      }
    },
    {
      "cell_type": "markdown",
      "source": [
        "These functions also support conditional statements, such as `if..else`. Supposing we want to classify passengers into `detractors`, `passive` individuals, and `promoters` based on the `OverallRating` column using a Net Promoter Score (NPS) approach, we can do it as follows:"
      ],
      "metadata": {
        "id": "2T_KWp_eeDrd"
      }
    },
    {
      "cell_type": "code",
      "source": [
        "df['NPS_Category'] = df['OverallRating'].apply(lambda rating: 'Detractor' if rating < 7 else ('Passive' if 7 <= rating <= 8 else 'Promoter'))"
      ],
      "metadata": {
        "id": "ruFbsmOXeDQ8"
      },
      "execution_count": null,
      "outputs": []
    },
    {
      "cell_type": "code",
      "source": [
        "df['NPS_Category'].value_counts()"
      ],
      "metadata": {
        "colab": {
          "base_uri": "https://localhost:8080/"
        },
        "id": "v9NVJkZLekHy",
        "outputId": "e4e484be-80f5-48a6-ba6a-c23d38204012"
      },
      "execution_count": null,
      "outputs": [
        {
          "output_type": "execute_result",
          "data": {
            "text/plain": [
              "Detractor    2373\n",
              "Passive       683\n",
              "Promoter      645\n",
              "Name: NPS_Category, dtype: int64"
            ]
          },
          "metadata": {},
          "execution_count": 19
        }
      ]
    },
    {
      "cell_type": "markdown",
      "source": [
        "## Lambda with the `sort_values()` function"
      ],
      "metadata": {
        "id": "KOUsmxT_e-T4"
      }
    },
    {
      "cell_type": "markdown",
      "source": [
        "When employing lambda expressions in conjunction with the `sort_values()` function, we gain a versatile approach to tailor the sorting procedure for particular columns within a dataframe. This capability becomes evident when we apply it to the `TypeOfTraveller` column in our dataset. By utilizing the lambda function as the key argument in `sort_values()`, we can finely control the sorting criteria."
      ],
      "metadata": {
        "id": "PkBTi7UrfZlf"
      }
    },
    {
      "cell_type": "code",
      "source": [
        "sorted_df = df.sort_values(by='TypeOfTraveller', key=lambda x: x.str.lower())\n",
        "\n",
        "sorted_df['TypeOfTraveller']\n"
      ],
      "metadata": {
        "colab": {
          "base_uri": "https://localhost:8080/"
        },
        "id": "4aae8BovetBx",
        "outputId": "58d0eb2a-7813-4cf9-82aa-9e1a45a252ef"
      },
      "execution_count": null,
      "outputs": [
        {
          "output_type": "execute_result",
          "data": {
            "text/plain": [
              "2032    Business\n",
              "721     Business\n",
              "722     Business\n",
              "1886    Business\n",
              "724     Business\n",
              "          ...   \n",
              "3696         NaN\n",
              "3697         NaN\n",
              "3698         NaN\n",
              "3699         NaN\n",
              "3700         NaN\n",
              "Name: TypeOfTraveller, Length: 3701, dtype: object"
            ]
          },
          "metadata": {},
          "execution_count": 20
        }
      ]
    },
    {
      "cell_type": "markdown",
      "source": [
        " The lambda function lambda `x: x.str.lower()` is employed to sort the dataframe based on the lowercase values in the `TypeOfTraveller` column, ensuring a case-insensitive ordering."
      ],
      "metadata": {
        "id": "6zlJkUiOk_Yh"
      }
    },
    {
      "cell_type": "markdown",
      "source": [
        "## A general approach to writing [Data Transformation] Functions"
      ],
      "metadata": {
        "id": "EcUjPc2IhFsg"
      }
    },
    {
      "cell_type": "markdown",
      "source": [
        "Above, we've covered a lot of the syntax of lambda functions, but the thought process for writing these complex transformations was not transparent. Let's take a minute to discuss some approaches to tackling these problems."
      ],
      "metadata": {
        "id": "99UlGkG0hMBz"
      }
    },
    {
      "cell_type": "markdown",
      "source": [
        "## Experiment and solve for individual cases first"
      ],
      "metadata": {
        "id": "OK7UtcgnhN9u"
      }
    },
    {
      "cell_type": "markdown",
      "source": [
        "Before trying to write a function to apply to an entire series, it's typically easier to attempt to solve for an individual case. For example, if we're trying to determine the number of words in a review, we can try and do this for a single review first.\n",
        "\n",
        "First, choose an example field that you'll be applying the function to."
      ],
      "metadata": {
        "id": "B9zB2_ZJhSJ6"
      }
    },
    {
      "cell_type": "code",
      "source": [
        "example = df['ReviewBody'].iloc[0]\n",
        "\n",
        "example"
      ],
      "metadata": {
        "colab": {
          "base_uri": "https://localhost:8080/",
          "height": 125
        },
        "id": "-A8nFpxgfxVL",
        "outputId": "fb1d0d59-3dc4-454a-eca3-94693ed5f57e"
      },
      "execution_count": null,
      "outputs": [
        {
          "output_type": "execute_result",
          "data": {
            "text/plain": [
              "'4 Hours before takeoff we received a Mail stating a cryptic message that there are disruptions to be expected as there is a limit on how many planes can leave at the same time. So did the capacity of the Heathrow Airport really hit British Airways by surprise, 4h before departure? Anyhow - we took the one hour delay so what - but then we have been forced to check in our Hand luggage. I travel only with hand luggage to avoid waiting for the ultra slow processing of the checked in luggage. Overall 2h later at home than planed, with really no reason, just due to incompetent people. Service level far worse then Ryanair and triple the price. Really never again. Thanks for nothing.'"
            ],
            "application/vnd.google.colaboratory.intrinsic+json": {
              "type": "string"
            }
          },
          "metadata": {},
          "execution_count": 21
        }
      ]
    },
    {
      "cell_type": "markdown",
      "source": [
        "Then start writing the function for that example. For example, if we need to count the number of words, it's natural to first divide the review into words. A natural way to do this is with the `str.split()` method.\n",
        "\n"
      ],
      "metadata": {
        "id": "IJsNkByJhZHq"
      }
    },
    {
      "cell_type": "code",
      "source": [
        "example.split()"
      ],
      "metadata": {
        "colab": {
          "base_uri": "https://localhost:8080/"
        },
        "id": "WKikL0alhW41",
        "outputId": "76c40520-7c3e-4f85-de75-cefdfa6d3870"
      },
      "execution_count": null,
      "outputs": [
        {
          "output_type": "execute_result",
          "data": {
            "text/plain": [
              "['4',\n",
              " 'Hours',\n",
              " 'before',\n",
              " 'takeoff',\n",
              " 'we',\n",
              " 'received',\n",
              " 'a',\n",
              " 'Mail',\n",
              " 'stating',\n",
              " 'a',\n",
              " 'cryptic',\n",
              " 'message',\n",
              " 'that',\n",
              " 'there',\n",
              " 'are',\n",
              " 'disruptions',\n",
              " 'to',\n",
              " 'be',\n",
              " 'expected',\n",
              " 'as',\n",
              " 'there',\n",
              " 'is',\n",
              " 'a',\n",
              " 'limit',\n",
              " 'on',\n",
              " 'how',\n",
              " 'many',\n",
              " 'planes',\n",
              " 'can',\n",
              " 'leave',\n",
              " 'at',\n",
              " 'the',\n",
              " 'same',\n",
              " 'time.',\n",
              " 'So',\n",
              " 'did',\n",
              " 'the',\n",
              " 'capacity',\n",
              " 'of',\n",
              " 'the',\n",
              " 'Heathrow',\n",
              " 'Airport',\n",
              " 'really',\n",
              " 'hit',\n",
              " 'British',\n",
              " 'Airways',\n",
              " 'by',\n",
              " 'surprise,',\n",
              " '4h',\n",
              " 'before',\n",
              " 'departure?',\n",
              " 'Anyhow',\n",
              " '-',\n",
              " 'we',\n",
              " 'took',\n",
              " 'the',\n",
              " 'one',\n",
              " 'hour',\n",
              " 'delay',\n",
              " 'so',\n",
              " 'what',\n",
              " '-',\n",
              " 'but',\n",
              " 'then',\n",
              " 'we',\n",
              " 'have',\n",
              " 'been',\n",
              " 'forced',\n",
              " 'to',\n",
              " 'check',\n",
              " 'in',\n",
              " 'our',\n",
              " 'Hand',\n",
              " 'luggage.',\n",
              " 'I',\n",
              " 'travel',\n",
              " 'only',\n",
              " 'with',\n",
              " 'hand',\n",
              " 'luggage',\n",
              " 'to',\n",
              " 'avoid',\n",
              " 'waiting',\n",
              " 'for',\n",
              " 'the',\n",
              " 'ultra',\n",
              " 'slow',\n",
              " 'processing',\n",
              " 'of',\n",
              " 'the',\n",
              " 'checked',\n",
              " 'in',\n",
              " 'luggage.',\n",
              " 'Overall',\n",
              " '2h',\n",
              " 'later',\n",
              " 'at',\n",
              " 'home',\n",
              " 'than',\n",
              " 'planed,',\n",
              " 'with',\n",
              " 'really',\n",
              " 'no',\n",
              " 'reason,',\n",
              " 'just',\n",
              " 'due',\n",
              " 'to',\n",
              " 'incompetent',\n",
              " 'people.',\n",
              " 'Service',\n",
              " 'level',\n",
              " 'far',\n",
              " 'worse',\n",
              " 'then',\n",
              " 'Ryanair',\n",
              " 'and',\n",
              " 'triple',\n",
              " 'the',\n",
              " 'price.',\n",
              " 'Really',\n",
              " 'never',\n",
              " 'again.',\n",
              " 'Thanks',\n",
              " 'for',\n",
              " 'nothing.']"
            ]
          },
          "metadata": {},
          "execution_count": 22
        }
      ]
    },
    {
      "cell_type": "markdown",
      "source": [
        "Then we just need to count this!"
      ],
      "metadata": {
        "id": "1xwiDIicheuF"
      }
    },
    {
      "cell_type": "code",
      "source": [
        "len(example.split())"
      ],
      "metadata": {
        "colab": {
          "base_uri": "https://localhost:8080/"
        },
        "id": "TcE8P52_hcTv",
        "outputId": "6904fe26-875c-4673-b22a-3ac961c92dfe"
      },
      "execution_count": null,
      "outputs": [
        {
          "output_type": "execute_result",
          "data": {
            "text/plain": [
              "125"
            ]
          },
          "metadata": {},
          "execution_count": 23
        }
      ]
    },
    {
      "cell_type": "markdown",
      "source": [
        "## Then return to solving for all!"
      ],
      "metadata": {
        "id": "1aGrsTPqhh37"
      }
    },
    {
      "cell_type": "code",
      "source": [
        "df['ReviewBody'].map(lambda x: len(x.split())).head()"
      ],
      "metadata": {
        "colab": {
          "base_uri": "https://localhost:8080/"
        },
        "id": "utxt8pJHhioO",
        "outputId": "7d507c4b-aa59-471f-b814-42348d318f33"
      },
      "execution_count": null,
      "outputs": [
        {
          "output_type": "execute_result",
          "data": {
            "text/plain": [
              "0    125\n",
              "1    206\n",
              "2     54\n",
              "3    255\n",
              "4    172\n",
              "Name: ReviewBody, dtype: int64"
            ]
          },
          "metadata": {},
          "execution_count": 24
        }
      ]
    },
    {
      "cell_type": "markdown",
      "source": [
        "## When to use lambda functions"
      ],
      "metadata": {
        "id": "CkoenOvLiSef"
      }
    },
    {
      "cell_type": "markdown",
      "source": [
        "In data science, we should judiciously apply lambda functions based on the specific context and requirements of our tasks. We use lambda functions when a concise and temporary function is needed, particularly for one-time use cases or short transformations.\n",
        "\n",
        "We often turn to lambda functions when:\n",
        "\n",
        "1. **Quick Transformations:** For rapid, on-the-fly data manipulations or transformations, lambda functions provide a convenient and succinct way to achieve the desired results without the need for a full-fledged named function.\n",
        "\n",
        "2. **Anonymous Functions:** When the functionality is straightforward and doesn't warrant a separate function definition, lambda functions serve well as anonymous, inline functions. This can enhance code readability by keeping the logic close to where it's applied.\n",
        "\n",
        "3. **Functional Arguments:** In scenarios where functions can accept other functions as arguments, such as with higher-order functions like `map()`, `filter()`, or `sort()`, lambda functions offer a concise way to specify the function logic without the overhead of a named function.\n",
        "\n",
        "4. **Reducing Code Lines:** Lambda functions are effective in situations where brevity and conciseness are priorities. They can help reduce the number of lines in your code, making it more compact and easier to comprehend.\n",
        "\n",
        "However, it's essential to exercise caution and avoid excessive use of lambda functions, especially in scenarios where the functionality may become complex or requires reuse. For more complex logic or when functions need to be reused in multiple places, it's often better to define a named function for clarity and maintainability. Striking the right balance between readability and brevity is crucial in making informed decisions about when to leverage lambda functions in data science tasks.\n"
      ],
      "metadata": {
        "id": "9Pl6qN4uibpP"
      }
    },
    {
      "cell_type": "markdown",
      "source": [
        "## Summary"
      ],
      "metadata": {
        "id": "EgYCHz7kiwIf"
      }
    },
    {
      "cell_type": "markdown",
      "source": [
        "Lambda functions prove valuable for swift, one-time data manipulations or brief transformations, offering a concise alternative to full-fledged named functions. They excel in scenarios requiring quick transformations, serving as anonymous, inline functions for straightforward functionality. Lambda functions are particularly handy when working with functional arguments in higher-order functions like `map()`, `filter()`, or `sort_values()`, providing a succinct way to express logic without the overhead of defining a named function. Their effectiveness lies in reducing code lines, enhancing code readability, and streamlining concise operations. However, caution is advised to avoid overuse, especially when dealing with complex functionality or the need for code reuse. In such cases, opting for named functions contributes to clarity and maintainability, ensuring a balanced approach between readability and brevity in data science tasks."
      ],
      "metadata": {
        "id": "rAY8rEepiyAG"
      }
    }
  ]
}