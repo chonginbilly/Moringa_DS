{
  "nbformat": 4,
  "nbformat_minor": 0,
  "metadata": {
    "colab": {
      "provenance": [],
      "toc_visible": true,
      "include_colab_link": true
    },
    "kernelspec": {
      "name": "python3",
      "display_name": "Python 3"
    },
    "language_info": {
      "name": "python"
    }
  },
  "cells": [
    {
      "cell_type": "markdown",
      "metadata": {
        "id": "view-in-github",
        "colab_type": "text"
      },
      "source": [
        "<a href=\"https://colab.research.google.com/github/chonginbilly/Moringa_DS/blob/main/While_Loops_Break_and_Continue.ipynb\" target=\"_parent\"><img src=\"https://colab.research.google.com/assets/colab-badge.svg\" alt=\"Open In Colab\"/></a>"
      ]
    },
    {
      "cell_type": "markdown",
      "source": [
        "<font color=\"green\">*To start working on this notebook, or any other notebook that we will use in this course, we will need to save our own copy of it. We can do this by clicking File > Save a Copy in Drive. We will then be able to make edits to our own copy of this notebook.*</font>\n",
        "\n",
        "---\n",
        "\n"
      ],
      "metadata": {
        "id": "tdY_ta87qwsM"
      }
    },
    {
      "cell_type": "markdown",
      "source": [
        "# While Loops, Break and Continue"
      ],
      "metadata": {
        "id": "kxdMIaL_1B-v"
      }
    },
    {
      "cell_type": "markdown",
      "source": [
        "## Introduction"
      ],
      "metadata": {
        "id": "oiDQRXcX1FUD"
      }
    },
    {
      "cell_type": "markdown",
      "source": [
        "In our prior lesson, we dived into the world of iterating over collections, but sometimes, we need loops without specific collections—enter the `while` loop! Unlike iterating through collections, while loops enable us to **repeat** actions until a condition becomes `False`. They *offer the freedom to execute a block of code repeatedly based on a condition*, granting us incredible flexibility in loop design.\n",
        "\n",
        "However, what if we desire to halt a loop at a certain point? For instance, gathering only half of a list's elements or stopping the loop upon encountering the first matching element? This is where the `break` and `continue` statements step in. These handy statements take charge of our loops, allowing precise control over their behavior. They help fine-tune loops for enhanced efficiency and accuracy in handling data."
      ],
      "metadata": {
        "id": "qD9UugCb1c3O"
      }
    },
    {
      "cell_type": "markdown",
      "source": [
        "## Objectives"
      ],
      "metadata": {
        "id": "DVIFZsHH1vj1"
      }
    },
    {
      "cell_type": "markdown",
      "source": [
        "* Understand and apply `while` loops for repetitive actions based on conditions without collection dependency.\n",
        "* Utilize `break` and `continue` statements to manage loop iteration for precise execution."
      ],
      "metadata": {
        "id": "UlT-x6ot10v4"
      }
    },
    {
      "cell_type": "markdown",
      "source": [
        "## What is a `while` loop."
      ],
      "metadata": {
        "id": "HmKsyX_K2F9G"
      }
    },
    {
      "cell_type": "markdown",
      "source": [
        "A `while` loop in Python is a **control flow** statement that repeatedly executes a block of code as long as a specified condition remains `True`. This loop doesn't require a predefined collection; instead, it hinges on a condition to dictate its execution. While the condition remains True, the code within the loop continues to execute. However, once the condition evaluates to `False`, the loop terminates, and the program proceeds to the next section of code following the while loop. It offers a flexible and dynamic approach to repetition, allowing us to execute code until a specific condition changes, offering extensive control over the flow of the program's execution."
      ],
      "metadata": {
        "id": "GGshwM872aJc"
      }
    },
    {
      "cell_type": "markdown",
      "source": [
        "Syntax:\n",
        "\n",
        "```\n",
        "while condition:\n",
        "  # Code block to be executed while the condition is True\n",
        "  # Additional statements inside the loop\n",
        "  # These lines will execute until the condition becomes False\n",
        "```\n",
        "\n",
        "The `while` keyword initiates the loop, and immediately after it comes the **condition** that needs to be evaluated. As long as this condition remains `True`, the code block within the loop, indented below the while statement, continues to execute. Each time the loop completes an iteration, it **re-evaluates** the condition. If the condition is still `True`, the loop executes again; otherwise, if the condition becomes `False`, the loop terminates, and the program continues with the code following the loop block. Proper indentation is crucial in Python as it signifies the code within the loop block."
      ],
      "metadata": {
        "id": "wCvpDhnO2y8x"
      }
    },
    {
      "cell_type": "markdown",
      "source": [
        "## Recall Conditions"
      ],
      "metadata": {
        "id": "09c5Ri933u1N"
      }
    },
    {
      "cell_type": "markdown",
      "source": [
        "Conditions in Python while loops are expressions that evaluate to either `True` or `False`. These conditions determine whether the loop continues executing or stops. They can involve various logical, comparison, or membership operators, allowing for a wide range of possibilities when defining the condition for a while loop."
      ],
      "metadata": {
        "id": "ttHW6GlP4L-L"
      }
    },
    {
      "cell_type": "markdown",
      "source": [
        "**Comparison Operators:** These include `==` (equal to), `!=` (not equal to), `<` (less than), `>` (greater than), `<=` (less than or equal to), and `>=` (greater than or equal to), allowing us to compare values and create conditional statements."
      ],
      "metadata": {
        "id": "DbWbuOjZ48kA"
      }
    },
    {
      "cell_type": "code",
      "source": [
        "# example 1 Greater than\n",
        "(7 > 5)"
      ],
      "metadata": {
        "colab": {
          "base_uri": "https://localhost:8080/"
        },
        "id": "lf3cGiA74-bT",
        "outputId": "c48515b0-b329-4181-ef87-18dbbe4386c0"
      },
      "execution_count": null,
      "outputs": [
        {
          "output_type": "execute_result",
          "data": {
            "text/plain": [
              "True"
            ]
          },
          "metadata": {},
          "execution_count": 1
        }
      ]
    },
    {
      "cell_type": "code",
      "source": [
        "# example 2 Equal to\n",
        "(8 == 8)"
      ],
      "metadata": {
        "colab": {
          "base_uri": "https://localhost:8080/"
        },
        "id": "kMNFoThW5I-y",
        "outputId": "f7a18509-42bf-4740-f0ad-5153957094e6"
      },
      "execution_count": null,
      "outputs": [
        {
          "output_type": "execute_result",
          "data": {
            "text/plain": [
              "True"
            ]
          },
          "metadata": {},
          "execution_count": 2
        }
      ]
    },
    {
      "cell_type": "code",
      "source": [
        "# example 3 Greater than evaluating to False\n",
        "(9 > 19)"
      ],
      "metadata": {
        "colab": {
          "base_uri": "https://localhost:8080/"
        },
        "id": "ac7o2SVG5U7z",
        "outputId": "65c26d24-0474-4273-b99a-5dcbc72fa93a"
      },
      "execution_count": null,
      "outputs": [
        {
          "output_type": "execute_result",
          "data": {
            "text/plain": [
              "False"
            ]
          },
          "metadata": {},
          "execution_count": 3
        }
      ]
    },
    {
      "cell_type": "markdown",
      "source": [
        "**Logical Operators:** Python offers logical operators like `and`, `or`, and `not`, enabling us to create complex conditions by combining multiple expressions.\n"
      ],
      "metadata": {
        "id": "-DJxXe9i4Qti"
      }
    },
    {
      "cell_type": "code",
      "execution_count": null,
      "metadata": {
        "id": "urQo_RGWqvwn",
        "colab": {
          "base_uri": "https://localhost:8080/"
        },
        "outputId": "84f0f21e-459e-45f0-f9cc-82c47c5c44a8"
      },
      "outputs": [
        {
          "output_type": "execute_result",
          "data": {
            "text/plain": [
              "True"
            ]
          },
          "metadata": {},
          "execution_count": 4
        }
      ],
      "source": [
        "# example 1 Evaluating to True\n",
        "(7 > 5) and (6 == 6.0)"
      ]
    },
    {
      "cell_type": "code",
      "source": [
        "# example 2 Evaluating to False\n",
        "(8 == 8) and (9 > 19)"
      ],
      "metadata": {
        "colab": {
          "base_uri": "https://localhost:8080/"
        },
        "id": "Vmyy99FP5qdF",
        "outputId": "7007ae45-8d4b-4c9a-bb18-21430799a65e"
      },
      "execution_count": null,
      "outputs": [
        {
          "output_type": "execute_result",
          "data": {
            "text/plain": [
              "False"
            ]
          },
          "metadata": {},
          "execution_count": 5
        }
      ]
    },
    {
      "cell_type": "code",
      "source": [
        "# example 2 Evaluating to True\n",
        "(8 == 8) or (9 > 19)"
      ],
      "metadata": {
        "colab": {
          "base_uri": "https://localhost:8080/"
        },
        "id": "8wkJmrY250jk",
        "outputId": "eb713b9f-fc44-4361-ff27-af05c8d882bd"
      },
      "execution_count": null,
      "outputs": [
        {
          "output_type": "execute_result",
          "data": {
            "text/plain": [
              "True"
            ]
          },
          "metadata": {},
          "execution_count": 7
        }
      ]
    },
    {
      "cell_type": "markdown",
      "source": [
        "**Membership Operators:** These operators, such as `in` and `not in`, check for the presence or absence of a value within a sequence like a list, tuple, or string."
      ],
      "metadata": {
        "id": "EDiLsE3J5F0d"
      }
    },
    {
      "cell_type": "code",
      "source": [
        "# example 1\n",
        "even_numbers = [2, 4, 6, 8, 10]\n",
        "\n",
        "2 in even_numbers"
      ],
      "metadata": {
        "colab": {
          "base_uri": "https://localhost:8080/"
        },
        "id": "QfwLTgWv6BBa",
        "outputId": "b97cc93a-73c6-418c-b79d-e4983cefd052"
      },
      "execution_count": null,
      "outputs": [
        {
          "output_type": "execute_result",
          "data": {
            "text/plain": [
              "True"
            ]
          },
          "metadata": {},
          "execution_count": 8
        }
      ]
    },
    {
      "cell_type": "code",
      "source": [
        "# example 2\n",
        "5 in even_numbers"
      ],
      "metadata": {
        "colab": {
          "base_uri": "https://localhost:8080/"
        },
        "id": "_Bd4iaNb6POd",
        "outputId": "25c8c6b0-3ce9-4bdb-c261-8dc431fd76cc"
      },
      "execution_count": null,
      "outputs": [
        {
          "output_type": "execute_result",
          "data": {
            "text/plain": [
              "False"
            ]
          },
          "metadata": {},
          "execution_count": 9
        }
      ]
    },
    {
      "cell_type": "code",
      "source": [
        "# example 3\n",
        "5 not in even_numbers"
      ],
      "metadata": {
        "colab": {
          "base_uri": "https://localhost:8080/"
        },
        "id": "O8c2eQvO6TRP",
        "outputId": "0927b334-e535-4d35-dc22-d987d00d70de"
      },
      "execution_count": null,
      "outputs": [
        {
          "output_type": "execute_result",
          "data": {
            "text/plain": [
              "True"
            ]
          },
          "metadata": {},
          "execution_count": 10
        }
      ]
    },
    {
      "cell_type": "markdown",
      "source": [
        "Conditions in while loops are critical as they determine whether the loop **continues to iterate** or **stops** based on the evaluation of the condition. It's essential to construct conditions that accurately capture the scenario required for the loop to execute or halt. Otherwise, incorrect conditions may lead to infinite loops or premature loop termination."
      ],
      "metadata": {
        "id": "BU6MlMXe7Z16"
      }
    },
    {
      "cell_type": "markdown",
      "source": [
        "## How Does a `while` loop work"
      ],
      "metadata": {
        "id": "zGP_gHaY71lF"
      }
    },
    {
      "cell_type": "markdown",
      "source": [
        "A `while` loop in Python operates by repeatedly executing a block of code as long as a specified condition remains True. Here's how it works:\n",
        "\n",
        "- **Condition Check**: Initially, the while loop checks the condition. If the condition is `True`, the code block inside the loop is executed.\n",
        "- **Code Execution**: Once inside the loop, the code block associated with the while loop is executed. Afterward, the condition is *re-evaluated*.\n",
        "- **Re-evaluation**: If the condition is still `True` after the first execution of the code block, the loop runs again. This cycle of evaluating the condition and executing the code block continues until the condition becomes `False`.\n",
        "- **Loop Termination**: When the condition eventually becomes `False`, the loop exits, and the program proceeds to the next line of code following the loop.\n",
        "\n",
        "**Note**: It's important to ensure that the condition in a while loop eventually becomes `False`; otherwise, an **infinite loop occurs**, where the loop continues endlessly without termination. The while loop's power lies in its ability to iterate dynamically based on the state of a condition, providing flexibility in designing repetitive tasks in Python programs.\n"
      ],
      "metadata": {
        "id": "SZuHCGrg8YOf"
      }
    },
    {
      "cell_type": "code",
      "source": [
        "# example 1 Simple incremental counter\n",
        "count = 0\n",
        "while (count <= 5):\n",
        "  print(f\"count is: {count}\")\n",
        "  count += 1\n",
        "\n",
        "print(\"We have finished executing the simple incremental counter using a while loop!\")"
      ],
      "metadata": {
        "colab": {
          "base_uri": "https://localhost:8080/"
        },
        "id": "umlNc2ve6ZDQ",
        "outputId": "c843b888-f003-4959-a584-cf76e0808a55"
      },
      "execution_count": null,
      "outputs": [
        {
          "output_type": "stream",
          "name": "stdout",
          "text": [
            "count is: 0\n",
            "count is: 1\n",
            "count is: 2\n",
            "count is: 3\n",
            "count is: 4\n",
            "count is: 5\n",
            "We have finished executing the simple incremental counter using a while loop!\n"
          ]
        }
      ]
    },
    {
      "cell_type": "code",
      "source": [
        "# example 2 Summing numbers\n",
        "total = 0\n",
        "number = 1\n",
        "while (number <= 10):\n",
        "  total += number\n",
        "  number += 1\n",
        "\n",
        "print(\"Total: \", total)"
      ],
      "metadata": {
        "colab": {
          "base_uri": "https://localhost:8080/"
        },
        "id": "gltPMWOj9xas",
        "outputId": "081db967-98cf-4061-dbc4-796a157d62b9"
      },
      "execution_count": null,
      "outputs": [
        {
          "output_type": "stream",
          "name": "stdout",
          "text": [
            "Total:  55\n"
          ]
        }
      ]
    },
    {
      "cell_type": "code",
      "source": [
        "# example 3  Guessing game\n",
        "import random\n",
        "secret_number = random.randint(1, 10)\n",
        "guess = 0\n",
        "while (guess != secret_number):\n",
        "  guess = int(input(\"Guess the number between 1 and 10:\\n\"))\n",
        "  if (guess == secret_number):\n",
        "    print(\"Congratulations, you have guessed the correct number!!\")\n",
        "  else:\n",
        "    print(\"Hard luck! try again\")"
      ],
      "metadata": {
        "colab": {
          "base_uri": "https://localhost:8080/"
        },
        "id": "mS1fffKUBH7e",
        "outputId": "b0f3e7a6-1b06-4ddd-fcf6-a8584b74060c"
      },
      "execution_count": null,
      "outputs": [
        {
          "output_type": "stream",
          "name": "stdout",
          "text": [
            "Guess the number between 1 and 10:\n",
            "1\n",
            "Hard luck! try again\n",
            "Guess the number between 1 and 10:\n",
            "2\n",
            "Congratulations, you have guessed the correct number!!\n"
          ]
        }
      ]
    },
    {
      "cell_type": "code",
      "source": [
        "# example 4 handling user choices\n",
        "choice = \"\"\n",
        "while choice != \"quit\":\n",
        "  choice = input(\"Enter your choice (type 'quit' to exit): \")\n",
        "  if choice == \"quit\":\n",
        "    print(\"Exiting the program...\")\n",
        "  else:\n",
        "    print(\"You chose:\", choice)"
      ],
      "metadata": {
        "colab": {
          "base_uri": "https://localhost:8080/"
        },
        "id": "aE6MnVZRCIM6",
        "outputId": "caa05b3c-c929-4cf2-c611-0ea3cfa93a76"
      },
      "execution_count": null,
      "outputs": [
        {
          "output_type": "stream",
          "name": "stdout",
          "text": [
            "Enter your choice (type 'quit' to exit): Moringa\n",
            "You chose: Moringa\n",
            "Enter your choice (type 'quit' to exit): School\n",
            "You chose: School\n",
            "Enter your choice (type 'quit' to exit): quit\n",
            "Exiting the program...\n"
          ]
        }
      ]
    },
    {
      "cell_type": "markdown",
      "source": [
        "## When to use `while` loop"
      ],
      "metadata": {
        "id": "OGfZytbxERR_"
      }
    },
    {
      "cell_type": "markdown",
      "source": [
        "We use `while` loops in Python when we need to execute a block of code repeatedly **based on a condition that might change during runtime**. These loops are handy in scenarios where the number of iterations isn't predetermined or when we want to continue executing a block of code until a specific condition becomes `False`. While loops are ideal for situations where we're uncertain about the number of iterations needed or when we aim to repeat an action until a particular condition is met. However, it's crucial to ensure that the condition within the while loop will eventually become False; otherwise, it might lead to an infinite loop, causing the program to run indefinitely. Overall, while loops provide flexibility in executing code repeatedly until a certain condition is no longer satisfied, making them suitable for dynamic and variable-dependent iterations."
      ],
      "metadata": {
        "id": "vDjAcAawEUws"
      }
    },
    {
      "cell_type": "markdown",
      "source": [
        "Let's explore how Naivas Supermarket ensures sufficient stock levels for a product on its shelves using a while loop."
      ],
      "metadata": {
        "id": "a2_RnUmgFxCl"
      }
    },
    {
      "cell_type": "code",
      "source": [
        "# Initial stock of a product on the shelf\n",
        "shelf_stock = 50\n",
        "# Minimum stock level for reordering\n",
        "min_stock_threshold = 20\n",
        "days_since_last_order = 0\n",
        "\n",
        "while shelf_stock < min_stock_threshold:\n",
        "  print(f\"Stock running low! Current shelf stock: {shelf_stock}\")\n",
        "  print(\"Placing a new order...\\n\")\n",
        "\n",
        "  # Simulating the process of restocking the product\n",
        "  shelf_stock += 30  # Restocking the product by adding 30 units\n",
        "  days_since_last_order = 0  # Resetting the days since the last order\n",
        "\n",
        "  print(\"New stock arrived! Updated shelf stock:\", shelf_stock, \"\\n\")\n",
        "\n",
        "  days_since_last_order += 1\n",
        "\n",
        "print(\"Stock level satisfactory. No need to reorder at the moment.\")\n"
      ],
      "metadata": {
        "colab": {
          "base_uri": "https://localhost:8080/"
        },
        "id": "WOeq8t1bC9sJ",
        "outputId": "355f6bab-cb69-4a4a-b346-7b66bd4190a0"
      },
      "execution_count": null,
      "outputs": [
        {
          "output_type": "stream",
          "name": "stdout",
          "text": [
            "Stock level satisfactory. No need to reorder at the moment.\n"
          ]
        }
      ]
    },
    {
      "cell_type": "code",
      "source": [
        "# Initial stock of a product on the shelf\n",
        "shelf_stock = 18\n",
        "# Minimum stock level for reordering\n",
        "min_stock_threshold = 20\n",
        "days_since_last_order = 0\n",
        "\n",
        "while shelf_stock < min_stock_threshold:\n",
        "  print(f\"Stock running low! Current shelf stock: {shelf_stock}\")\n",
        "  print(\"Placing a new order...\\n\")\n",
        "\n",
        "  # Simulating the process of restocking the product\n",
        "  shelf_stock += 30  # Restocking the product by adding 30 units\n",
        "  days_since_last_order = 0  # Resetting the days since the last order\n",
        "\n",
        "  print(\"New stock arrived! Updated shelf stock:\", shelf_stock, \"\\n\")\n",
        "\n",
        "  days_since_last_order += 1\n",
        "\n",
        "print(\"Stock level satisfactory. No need to reorder at the moment.\")"
      ],
      "metadata": {
        "colab": {
          "base_uri": "https://localhost:8080/"
        },
        "id": "mCwwZqkRFRtj",
        "outputId": "38b9726a-aa0f-433f-81d3-b5fd6e3613b8"
      },
      "execution_count": null,
      "outputs": [
        {
          "output_type": "stream",
          "name": "stdout",
          "text": [
            "Stock running low! Current shelf stock: 18\n",
            "Placing a new order...\n",
            "\n",
            "New stock arrived! Updated shelf stock: 48 \n",
            "\n",
            "Stock level satisfactory. No need to reorder at the moment.\n"
          ]
        }
      ]
    },
    {
      "cell_type": "markdown",
      "source": [
        "## `break` and `continue` statements"
      ],
      "metadata": {
        "id": "-87aZKWNKRSJ"
      }
    },
    {
      "cell_type": "markdown",
      "source": [
        "In Python while loops, the `break` statement is employed to **immediately terminate** the loop's execution, regardless of the ongoing condition being `True` or `False`. It allows us to exit the loop prematurely based on a specific condition, enabling an early escape from continuous iteration. On the other hand, the `continue` statement, when encountered within a while loop, **skips** the remaining code within the current iteration and proceeds directly to the next iteration. It doesn't exit the loop entirely but facilitates the skipping of certain iterations based on defined conditions, enhancing the loop's control flow by swiftly moving to subsequent iterations. Both break and continue statements offer us precise control over the flow of execution within while loops, aiding in the handling of diverse scenarios within Python programs."
      ],
      "metadata": {
        "id": "GkA6K7NaLVGT"
      }
    },
    {
      "cell_type": "markdown",
      "source": [
        "### `break` statement"
      ],
      "metadata": {
        "id": "ZJwIaelcQqbd"
      }
    },
    {
      "cell_type": "code",
      "source": [
        "# example 1 - Exit loop on condition\n",
        "number = 1\n",
        "while (number <= 10):\n",
        "  print(number)\n",
        "  if (number == 5):\n",
        "    break # exit the loop when number reaches five\n",
        "  number += 1"
      ],
      "metadata": {
        "colab": {
          "base_uri": "https://localhost:8080/"
        },
        "id": "tGmGzd4vFfUj",
        "outputId": "516be6a9-dbbe-4c5a-9235-36f35cea9599"
      },
      "execution_count": null,
      "outputs": [
        {
          "output_type": "stream",
          "name": "stdout",
          "text": [
            "1\n",
            "2\n",
            "3\n",
            "4\n",
            "5\n"
          ]
        }
      ]
    },
    {
      "cell_type": "markdown",
      "source": [
        "It is important we consider where we place the `break` statement within the block of code to be executed in the while loop."
      ],
      "metadata": {
        "id": "mpZFxj3NMkg7"
      }
    },
    {
      "cell_type": "code",
      "source": [
        "# example 1b - Exit loop on condition\n",
        "number = 1\n",
        "while (number <= 10):\n",
        "  if (number == 5):\n",
        "    break # exit the loop when number reaches five\n",
        "  print(number)\n",
        "  number += 1"
      ],
      "metadata": {
        "colab": {
          "base_uri": "https://localhost:8080/"
        },
        "id": "lNtkSujGMhgD",
        "outputId": "e845eef2-b9a6-4d69-aaac-fe06904146a8"
      },
      "execution_count": null,
      "outputs": [
        {
          "output_type": "stream",
          "name": "stdout",
          "text": [
            "1\n",
            "2\n",
            "3\n",
            "4\n"
          ]
        }
      ]
    },
    {
      "cell_type": "code",
      "source": [
        "# example 2 - User Input Validation\n",
        "while True:\n",
        "  user_input = input(\"Enter 'quit' to exit\\n\")\n",
        "  if (user_input.lower() == 'quit'):\n",
        "    break # exit the loop if user enters 'quit'\n",
        "  print(f\"You entered: {user_input}\")"
      ],
      "metadata": {
        "colab": {
          "base_uri": "https://localhost:8080/"
        },
        "id": "8F2FMP_yM7HN",
        "outputId": "1cff5533-a517-4b8f-fec8-8239cde0787e"
      },
      "execution_count": null,
      "outputs": [
        {
          "name": "stdout",
          "output_type": "stream",
          "text": [
            "Enter 'quit' to exit\n",
            "ngong lane\n",
            "You entered: ngong lane\n",
            "Enter 'quit' to exit\n",
            "quit\n"
          ]
        }
      ]
    },
    {
      "cell_type": "code",
      "source": [
        "# example 3 - finding a specific value\n",
        "numbers = [23, 45, 89, 73, 44, 100]\n",
        "index = 0\n",
        "while (index < len(numbers)):\n",
        "  if numbers[index] == 73:\n",
        "    print(f\"Found number 73 at index {index}\")\n",
        "    break # exit the loop once 73 is found\n",
        "\n",
        "  index += 1"
      ],
      "metadata": {
        "colab": {
          "base_uri": "https://localhost:8080/"
        },
        "id": "AyUK4WwzNnLy",
        "outputId": "1f50e211-2f68-4f5b-94bf-a34d4827523e"
      },
      "execution_count": null,
      "outputs": [
        {
          "output_type": "stream",
          "name": "stdout",
          "text": [
            "Found number 73 at index 3\n"
          ]
        }
      ]
    },
    {
      "cell_type": "markdown",
      "source": [
        "### `continue` statement"
      ],
      "metadata": {
        "id": "iooOZhnXQuX7"
      }
    },
    {
      "cell_type": "code",
      "source": [
        "# example 1 - skipping odd numbers\n",
        "num = 0\n",
        "while (num < 10):\n",
        "  num += 1\n",
        "  if (num % 2 != 0):\n",
        "    continue # skip printing odd numbers\n",
        "  print(num)"
      ],
      "metadata": {
        "colab": {
          "base_uri": "https://localhost:8080/"
        },
        "id": "3lyoA81zOXwB",
        "outputId": "eabacfe8-d768-4019-a94a-0c042e001c27"
      },
      "execution_count": null,
      "outputs": [
        {
          "output_type": "stream",
          "name": "stdout",
          "text": [
            "2\n",
            "4\n",
            "6\n",
            "8\n",
            "10\n"
          ]
        }
      ]
    },
    {
      "cell_type": "code",
      "source": [
        "# example 2 - skipping specific values\n",
        "numbers = [5, 8, 3, 12, 7, 10, 2, 15]\n",
        "index = 0\n",
        "while (index < len(numbers)):\n",
        "  if (numbers[index] < 5) or (numbers[index] > 10):\n",
        "    index += 1\n",
        "    continue  # Skip values not within the range 5-10\n",
        "  print(\"Valid number:\", numbers[index])\n",
        "  index += 1"
      ],
      "metadata": {
        "colab": {
          "base_uri": "https://localhost:8080/"
        },
        "id": "tvGmGJ50VMDz",
        "outputId": "b3720d69-c324-4078-efc4-5b34eddd2733"
      },
      "execution_count": null,
      "outputs": [
        {
          "output_type": "stream",
          "name": "stdout",
          "text": [
            "Valid number: 5\n",
            "Valid number: 8\n",
            "Valid number: 7\n",
            "Valid number: 10\n"
          ]
        }
      ]
    },
    {
      "cell_type": "code",
      "source": [
        "# example 3 - User input validation\n",
        "while True:\n",
        "  user_input = input(\"Enter a number between 1 and 5: \")\n",
        "  if (not user_input.isdigit()) or (int(user_input) < 1) or (int(user_input) > 5):\n",
        "    print(\"Invalid input! Please enter a number between 1 and 5.\")\n",
        "    continue  # Ask for input again if it doesn't meet criteria\n",
        "  print(\"You entered:\", user_input)\n",
        "  break  # Exit loop when valid input is provided"
      ],
      "metadata": {
        "colab": {
          "base_uri": "https://localhost:8080/"
        },
        "id": "Xlq436MkWZrY",
        "outputId": "b543624d-8249-42f5-9142-48c185c8f043"
      },
      "execution_count": null,
      "outputs": [
        {
          "output_type": "stream",
          "name": "stdout",
          "text": [
            "Enter a number between 1 and 5: wewe\n",
            "Invalid input! Please enter a number between 1 and 5.\n",
            "Enter a number between 1 and 5: 5\n",
            "You entered: 5\n"
          ]
        }
      ]
    },
    {
      "cell_type": "markdown",
      "source": [
        "## Knock yourself out: Exploring the `while True` Construct in Python"
      ],
      "metadata": {
        "id": "nBzGvtMxXlK7"
      }
    },
    {
      "cell_type": "markdown",
      "source": [
        "In Python, the construct `while True` creates an indefinite loop that continues endlessly until a `break` statement or a condition within the loop itself exits the loop's execution. This type of loop is often utilized when the **exact number of iterations isn’t predetermined** or when **continuous execution is required until a certain condition is met** or **until manual interruption occurs**. It serves as a fundamental structure for creating infinite loops, commonly used in scenarios where continual monitoring, user interaction, or continuous operations are necessary, necessitating a deliberate means to exit the loop, like a conditional break statement, to prevent infinite execution."
      ],
      "metadata": {
        "id": "F8_uO_gQYJci"
      }
    },
    {
      "cell_type": "code",
      "source": [
        "# example 1 break statement\n",
        "counter = 0\n",
        "while True:\n",
        "  print(f\"Current count: {counter}\")\n",
        "  counter += 1\n",
        "  if (counter == 5):\n",
        "    break  # Exit the loop when counter reaches 5"
      ],
      "metadata": {
        "colab": {
          "base_uri": "https://localhost:8080/"
        },
        "id": "zteAx2ExXnVJ",
        "outputId": "07ec3031-08e5-4439-afc1-a2d97641bce5"
      },
      "execution_count": null,
      "outputs": [
        {
          "output_type": "stream",
          "name": "stdout",
          "text": [
            "Current count: 0\n",
            "Current count: 1\n",
            "Current count: 2\n",
            "Current count: 3\n",
            "Current count: 4\n"
          ]
        }
      ]
    },
    {
      "cell_type": "code",
      "source": [
        "# example 2 - condition to exit the loop\n",
        "while True:\n",
        "  user_input = input(\"Enter 'exit' to quit: \")\n",
        "  if user_input.lower() == 'exit':\n",
        "    print(\"Exiting the loop.\")\n",
        "    break  # Exit the loop when 'exit' is entered\n",
        "  print(\"You entered:\", user_input)"
      ],
      "metadata": {
        "colab": {
          "base_uri": "https://localhost:8080/"
        },
        "id": "KNCW-MXZY9-0",
        "outputId": "d8aa11f5-880f-4c61-9912-108719aba89c"
      },
      "execution_count": null,
      "outputs": [
        {
          "output_type": "stream",
          "name": "stdout",
          "text": [
            "Enter 'exit' to quit: you\n",
            "You entered: you\n",
            "Enter 'exit' to quit: exit\n",
            "Exiting the loop.\n"
          ]
        }
      ]
    },
    {
      "cell_type": "code",
      "source": [
        "# example 3 - condition to exit the loop\n",
        "number = 100\n",
        "while True:\n",
        "  print(number)\n",
        "  number -= 10\n",
        "  if (number < 50):\n",
        "    print(\"Reached below 50. Exiting loop.\")\n",
        "    break  # Exit the loop when number goes below 50"
      ],
      "metadata": {
        "colab": {
          "base_uri": "https://localhost:8080/"
        },
        "id": "srG18Z33ZM9R",
        "outputId": "2759a639-2837-469a-a22c-dfd6e0c442ec"
      },
      "execution_count": null,
      "outputs": [
        {
          "output_type": "stream",
          "name": "stdout",
          "text": [
            "100\n",
            "90\n",
            "80\n",
            "70\n",
            "60\n",
            "50\n",
            "Reached below 50. Exiting loop.\n"
          ]
        }
      ]
    },
    {
      "cell_type": "markdown",
      "source": [
        "## Summary"
      ],
      "metadata": {
        "id": "RaeeJ6_CaTwe"
      }
    },
    {
      "cell_type": "markdown",
      "source": [
        "`While` loops grant us a dynamic method to execute operations based on **conditions**, liberating us from the confines of iterating over collection elements. Yet, it's vital to exercise caution, ensuring these loops possess a terminating condition to sidestep those dreaded infinite loops. They're the kind of headache both we and our computers wish to avoid! Additionally, we've introduced pivotal control flow statements, `break` and `continue`, jazzing up code efficiency and readability. These statements play the role of code maestros, harmonizing our code's execution and sprucing up conditional statements, adding efficiency and flair to our code structure.\n"
      ],
      "metadata": {
        "id": "nV0hS1ZBaKRZ"
      }
    }
  ]
}