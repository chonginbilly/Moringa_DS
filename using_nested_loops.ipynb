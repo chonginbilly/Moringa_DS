{
  "nbformat": 4,
  "nbformat_minor": 0,
  "metadata": {
    "colab": {
      "provenance": [],
      "include_colab_link": true
    },
    "kernelspec": {
      "name": "python3",
      "display_name": "Python 3"
    },
    "language_info": {
      "name": "python"
    }
  },
  "cells": [
    {
      "cell_type": "markdown",
      "metadata": {
        "id": "view-in-github",
        "colab_type": "text"
      },
      "source": [
        "<a href=\"https://colab.research.google.com/github/chonginbilly/Moringa_DS/blob/main/using_nested_loops.ipynb\" target=\"_parent\"><img src=\"https://colab.research.google.com/assets/colab-badge.svg\" alt=\"Open In Colab\"/></a>"
      ]
    },
    {
      "cell_type": "markdown",
      "source": [
        "<font color=\"green\">*To start working on this notebook, or any other notebook that we will use in this course, we will need to save our own copy of it. We can do this by clicking File > Save a Copy in Drive. We will then be able to make edits to our own copy of this notebook.*</font>\n",
        "\n",
        "---\n"
      ],
      "metadata": {
        "id": "tdY_ta87qwsM"
      }
    },
    {
      "cell_type": "markdown",
      "source": [
        "# Using Nested Loop"
      ],
      "metadata": {
        "id": "TcxNlYQ9p_YE"
      }
    },
    {
      "cell_type": "markdown",
      "source": [
        "## Introduction"
      ],
      "metadata": {
        "id": "FrclLdsBrnty"
      }
    },
    {
      "cell_type": "markdown",
      "source": [
        "Nested loops are a formidable asset in the landscape of data analytics, enabling us to explore the intricate layers of information within datasets. Through the amalgamation of multiple loops, we gain the ability to iterate through complex structures, accessing and analyzing data with a precision that a single loop cannot achieve. This section delves into the mechanics and applications of nested loops, unveiling how they elevate our capacity to manipulate, extract, and interpret data efficiently."
      ],
      "metadata": {
        "id": "wmnx26Btrpuk"
      }
    },
    {
      "cell_type": "markdown",
      "source": [
        "## Objectives"
      ],
      "metadata": {
        "id": "ZW4rWVKErs7h"
      }
    },
    {
      "cell_type": "markdown",
      "source": [
        "You will be able to:\n",
        "\n",
        "- Employ nested loops for handling complex data collections.\n",
        "- Optimize code efficiency by using nested loops appropriately."
      ],
      "metadata": {
        "id": "OxcAZ94ur2KP"
      }
    },
    {
      "cell_type": "markdown",
      "source": [
        "## Understanding Intricate Data Collections"
      ],
      "metadata": {
        "id": "2OyFpI1qss0Y"
      }
    },
    {
      "cell_type": "markdown",
      "source": [
        "A dataset gets complex when it's like a set of Russian nesting dolls, where there are many layers inside each other. Imagine a list within a list, like a bunch of boxes, where each box holds more boxes inside. It's like a puzzle where every piece has smaller pieces attached to it. Such intricacy can also manifest in hierarchical formats, where data elements possess sub-elements, forming a nested or layered structure. Dealing with this kind of data gets tricky because you have to go through multiple layers to find and work with the information you need."
      ],
      "metadata": {
        "id": "-r5pouSttqT4"
      }
    },
    {
      "cell_type": "code",
      "execution_count": null,
      "metadata": {
        "id": "urQo_RGWqvwn",
        "colab": {
          "base_uri": "https://localhost:8080/"
        },
        "outputId": "30a22e9e-7dfe-4e11-e27c-22152f0306ba"
      },
      "outputs": [
        {
          "output_type": "stream",
          "name": "stdout",
          "text": [
            "['Fruits', 'Vegetables', 'Dairy']\n",
            "['TVs', 'Computers', 'Smartphones']\n"
          ]
        }
      ],
      "source": [
        "# Nested list representing departments and products at Naivas Supermarket\n",
        "departments = [\n",
        "    {'name': 'Groceries', 'products': ['Fruits', 'Vegetables', 'Dairy']},\n",
        "    {'name': 'Electronics', 'products': ['TVs', 'Computers', 'Smartphones']},\n",
        "    {'name': 'Clothing', 'products': ['Shirts', 'Pants', 'Dresses']}\n",
        "]\n",
        "\n",
        "# Accessing products within departments\n",
        "print(departments[0]['products'])\n",
        "print(departments[1]['products'])"
      ]
    },
    {
      "cell_type": "code",
      "source": [
        "# Accessing specific products within departments\n",
        "print(departments[0]['products'][0])\n",
        "print(departments[1]['products'][2])"
      ],
      "metadata": {
        "colab": {
          "base_uri": "https://localhost:8080/"
        },
        "id": "u5W13se8uhA7",
        "outputId": "9fefbe68-9609-4f4e-a414-ddeb096efdd3"
      },
      "execution_count": null,
      "outputs": [
        {
          "output_type": "stream",
          "name": "stdout",
          "text": [
            "Fruits\n",
            "Smartphones\n"
          ]
        }
      ]
    },
    {
      "cell_type": "code",
      "source": [
        "# Nested dictionary representing customer data at Naivas Supermarket\n",
        "customer_database = {\n",
        "  '1234': {'name': 'John Doe', 'contact': 'johndoe@example.com', 'purchases': [\n",
        "      {'product_id': 'P001', 'quantity': 2, 'price': 10.99},\n",
        "      {'product_id': 'P002', 'quantity': 1, 'price': 399.99}\n",
        "  ]},\n",
        "  '5678': {'name': 'Jane Smith', 'contact': 'janesmith@example.com', 'purchases': [\n",
        "      {'product_id': 'P003', 'quantity': 3, 'price': 25.49},\n",
        "      {'product_id': 'P001', 'quantity': 1, 'price': 10.99}\n",
        "  ]}\n",
        "}\n",
        "\n",
        "# Accessing specific information about customers and their purchases\n",
        "print(customer_database['1234']['name'])  # Prints the name of customer with ID '1234'\n",
        "print(customer_database['5678']['purchases'][0]['quantity'])  # Prints the quantity of the first purchase of customer '5678'\n"
      ],
      "metadata": {
        "colab": {
          "base_uri": "https://localhost:8080/"
        },
        "id": "2j7I8UKUu3VG",
        "outputId": "b73507a9-d2ad-406e-8409-6d692df2a245"
      },
      "execution_count": null,
      "outputs": [
        {
          "output_type": "stream",
          "name": "stdout",
          "text": [
            "John Doe\n",
            "3\n"
          ]
        }
      ]
    },
    {
      "cell_type": "markdown",
      "source": [
        "## What is a Nested Loop"
      ],
      "metadata": {
        "id": "53Blgpn1wMrp"
      }
    },
    {
      "cell_type": "markdown",
      "source": [
        "A nested loop involves placing one loop inside another, allowing us to iterate through complex data structures with multiple layers. This setup enables us to repeatedly execute one loop (the inner loop) for each iteration of another loop (the outer loop).\n",
        "\n",
        "Before delving further, let's examine an example."
      ],
      "metadata": {
        "id": "X3CU-sqtxiyu"
      }
    },
    {
      "cell_type": "code",
      "source": [
        "# example using high school classes\n",
        "forms = ['Form 1', 'Form 2', 'Form 3', 'Form 4']\n",
        "streams = ['North', 'East', 'West', 'South']\n",
        "\n",
        "# outer loop\n",
        "for form_index, form in enumerate(forms, start=1):\n",
        "  print(f\"This is iteration {form_index} of the OUTER loop for {form}:\")\n",
        "\n",
        "  # inner loop\n",
        "  for stream_index, stream in enumerate(streams, start=1):\n",
        "      print(f\"\\tThis is iteration {stream_index} of the INNER loop for Stream {stream}\")\n",
        "\n",
        "  print(\"\\n\") # adding a new line after every outer loop"
      ],
      "metadata": {
        "colab": {
          "base_uri": "https://localhost:8080/"
        },
        "id": "Gs0_6IYlvEm4",
        "outputId": "f4507156-3a2e-4152-c547-1ee52ff91160"
      },
      "execution_count": null,
      "outputs": [
        {
          "output_type": "stream",
          "name": "stdout",
          "text": [
            "This is iteration 1 of the OUTER loop for Form 1:\n",
            "\tThis is iteration 1 of the INNER loop for Stream North\n",
            "\tThis is iteration 2 of the INNER loop for Stream East\n",
            "\tThis is iteration 3 of the INNER loop for Stream West\n",
            "\tThis is iteration 4 of the INNER loop for Stream South\n",
            "\n",
            "\n",
            "This is iteration 2 of the OUTER loop for Form 2:\n",
            "\tThis is iteration 1 of the INNER loop for Stream North\n",
            "\tThis is iteration 2 of the INNER loop for Stream East\n",
            "\tThis is iteration 3 of the INNER loop for Stream West\n",
            "\tThis is iteration 4 of the INNER loop for Stream South\n",
            "\n",
            "\n",
            "This is iteration 3 of the OUTER loop for Form 3:\n",
            "\tThis is iteration 1 of the INNER loop for Stream North\n",
            "\tThis is iteration 2 of the INNER loop for Stream East\n",
            "\tThis is iteration 3 of the INNER loop for Stream West\n",
            "\tThis is iteration 4 of the INNER loop for Stream South\n",
            "\n",
            "\n",
            "This is iteration 4 of the OUTER loop for Form 4:\n",
            "\tThis is iteration 1 of the INNER loop for Stream North\n",
            "\tThis is iteration 2 of the INNER loop for Stream East\n",
            "\tThis is iteration 3 of the INNER loop for Stream West\n",
            "\tThis is iteration 4 of the INNER loop for Stream South\n",
            "\n",
            "\n"
          ]
        }
      ]
    },
    {
      "cell_type": "markdown",
      "source": [
        "The outer loop goes through each form while the inner loop runs through each stream within that form.\n",
        "```\n",
        "Outer Loop: Iterates through forms (Form 1 to Form 4)\n",
        "    For each form:\n",
        "        Inner Loop: Iterates through streams (North, East, West, South) within the form.\n",
        "            Each inner loop iteration completes within every form before the outer loop proceeds to the next form.\n",
        "```\n",
        "This sequence ensures that for every form, all streams are processed before the outer loop advances to the subsequent form.\n"
      ],
      "metadata": {
        "id": "v_saXuBT4chB"
      }
    },
    {
      "cell_type": "code",
      "source": [
        "# using a while loop\n",
        "outer_iteration = 0\n",
        "inner_iteration = 0\n",
        "\n",
        "# outer loop\n",
        "while outer_iteration < 4:\n",
        "  outer_iteration += 1\n",
        "  print(\"Outer iteration:\", outer_iteration)\n",
        "\n",
        "  # inner loop\n",
        "  while inner_iteration < 3:\n",
        "      inner_iteration += 1\n",
        "      print(\"\\tInner iteration:\", inner_iteration)\n",
        "\n",
        "  inner_iteration = 0\n",
        "  print(\"\\n\")\n"
      ],
      "metadata": {
        "colab": {
          "base_uri": "https://localhost:8080/"
        },
        "id": "hTGiayr-zg1y",
        "outputId": "593d3c35-3e53-4862-f3fa-ecfc4c96ae44"
      },
      "execution_count": null,
      "outputs": [
        {
          "output_type": "stream",
          "name": "stdout",
          "text": [
            "Outer iteration: 1\n",
            "\tInner iteration: 1\n",
            "\tInner iteration: 2\n",
            "\tInner iteration: 3\n",
            "\n",
            "\n",
            "Outer iteration: 2\n",
            "\tInner iteration: 1\n",
            "\tInner iteration: 2\n",
            "\tInner iteration: 3\n",
            "\n",
            "\n",
            "Outer iteration: 3\n",
            "\tInner iteration: 1\n",
            "\tInner iteration: 2\n",
            "\tInner iteration: 3\n",
            "\n",
            "\n",
            "Outer iteration: 4\n",
            "\tInner iteration: 1\n",
            "\tInner iteration: 2\n",
            "\tInner iteration: 3\n",
            "\n",
            "\n"
          ]
        }
      ]
    },
    {
      "cell_type": "markdown",
      "source": [
        "```\n",
        "Outer Loop: Begins with outer_iteration set to 0, incrementing with each iteration until it reaches 4.\n",
        "    For each outer iteration:\n",
        "        Increments outer_iteration and displays the current value as \"Outer iteration: [value].\"\n",
        "            Inner Loop: Starts with inner_iteration at 0, continues while inner_iteration is less than 3.\n",
        "                For each inner iteration within an outer iteration:\n",
        "                    Increments inner_iteration and shows the current value as \"Inner iteration: [value].\"\n",
        "        Resets inner_iteration to 0 to prepare for the next outer iteration.\n",
        "        Adds a newline (\"\\n\") for clearer output separation between iterations.\n",
        "```\n",
        "This loop structure ensures:\n",
        "- The outer loop runs 4 times, printing the outer iteration count.\n",
        "- The inner loop, nested within the outer loop, runs 3 times for each outer loop iteration, displaying the inner iteration count.\n",
        "- The inner loop resets after completing its 3 iterations for each run of the outer loop.\n",
        "- Each iteration of the outer loop triggers the inner loop to execute its set of iterations, providing a clear sequence of both outer and inner iterations in the output."
      ],
      "metadata": {
        "id": "yrLVd_JE5nyj"
      }
    },
    {
      "cell_type": "markdown",
      "source": [
        "In both instances, the nested loops ensure the inner loop completes its entire set of iterations for every iteration of the outer loop. This structured approach systematically processes data or executes specific actions at different levels within the nested structure. The inner loop wraps up its task entirely before the outer loop proceeds, ensuring an organized execution of the code."
      ],
      "metadata": {
        "id": "0DOg982261kB"
      }
    },
    {
      "cell_type": "markdown",
      "source": [
        "## Using nested loops"
      ],
      "metadata": {
        "id": "hFuF-_5Y7Iwn"
      }
    },
    {
      "cell_type": "markdown",
      "source": [
        "Initially, handling a nested data structure might seem complex, but with repeated practice, it becomes far less daunting. This familiarity applies similarly to composing nested loops. As they become more routine in our programming endeavors, it's crucial to grow comfortable with their usage."
      ],
      "metadata": {
        "id": "YGcZ4k1w7LJJ"
      }
    },
    {
      "cell_type": "code",
      "source": [
        "# example 1 list within a list\n",
        "naivas_branches = [[\"Naivas Greenhouse\", \"Naivas Westlands Foodmarket\", \"Naivas Buruburu\", \"Naivas Development House\"],\n",
        "                   [\"Naivas Supercentre Nakuru\", \"Naivas Westside Foodmarket\", \"Naivas Nakuru Downtown\", \"Naivas Safari Center\"],\n",
        "                   [\"Naivas Mwembe Tayari\", \"Naivas Digo\", \"Naivas Likoni\", \"Naivas Bamburi\", \"Naivas Supercentre Nyali\"],\n",
        "                   [\"Naivas Kiambu Town\", \"Naivas Ananas\", \"Naivas Thika Town\", \"Naivas Juja City Foodmarket\", \"Naivas Kiambu Foodmarket\"]\n",
        "]\n",
        "\n",
        "print(len(naivas_branches)) # items in the outer list\n",
        "print(len(naivas_branches[2])) # naivas branches in Mombasa"
      ],
      "metadata": {
        "colab": {
          "base_uri": "https://localhost:8080/"
        },
        "id": "d5cMgyuB1moV",
        "outputId": "d481d298-d0fc-4e12-fd49-3e59d59f0f3d"
      },
      "execution_count": null,
      "outputs": [
        {
          "output_type": "stream",
          "name": "stdout",
          "text": [
            "4\n",
            "5\n"
          ]
        }
      ]
    },
    {
      "cell_type": "code",
      "source": [
        "# using a nested for loop\n",
        "for county in naivas_branches:\n",
        "  for branch in county:\n",
        "    print(branch)\n",
        "\n",
        "  print('\\n')"
      ],
      "metadata": {
        "colab": {
          "base_uri": "https://localhost:8080/"
        },
        "id": "1PZRrXlC9Ynk",
        "outputId": "94861f84-c3b4-4ff5-cf3d-07ed1cd66478"
      },
      "execution_count": null,
      "outputs": [
        {
          "output_type": "stream",
          "name": "stdout",
          "text": [
            "Naivas Greenhouse\n",
            "Naivas Westlands Foodmarket\n",
            "Naivas Buruburu\n",
            "Naivas Development House\n",
            "\n",
            "\n",
            "Naivas Supercentre Nakuru\n",
            "Naivas Westside Foodmarket\n",
            "Naivas Nakuru Downtown\n",
            "Naivas Safari Center\n",
            "\n",
            "\n",
            "Naivas Mwembe Tayari\n",
            "Naivas Digo\n",
            "Naivas Likoni\n",
            "Naivas Bamburi\n",
            "Naivas Supercentre Nyali\n",
            "\n",
            "\n",
            "Naivas Kiambu Town\n",
            "Naivas Ananas\n",
            "Naivas Thika Town\n",
            "Naivas Juja City Foodmarket\n",
            "Naivas Kiambu Foodmarket\n",
            "\n",
            "\n"
          ]
        }
      ]
    },
    {
      "cell_type": "code",
      "source": [
        "# using a nested while loop\n",
        "row = 0\n",
        "while (row < len(naivas_branches)):\n",
        "  col = 0\n",
        "  while (col < len(naivas_branches[row])):\n",
        "    print(naivas_branches[row][col])\n",
        "    col += 1\n",
        "  row += 1\n",
        "  print('\\n')"
      ],
      "metadata": {
        "colab": {
          "base_uri": "https://localhost:8080/"
        },
        "id": "szeGEL09-ZTp",
        "outputId": "8a7822ec-9a05-4198-8773-8a6681c7a80d"
      },
      "execution_count": null,
      "outputs": [
        {
          "output_type": "stream",
          "name": "stdout",
          "text": [
            "Naivas Greenhouse\n",
            "Naivas Westlands Foodmarket\n",
            "Naivas Buruburu\n",
            "Naivas Development House\n",
            "\n",
            "\n",
            "Naivas Supercentre Nakuru\n",
            "Naivas Westside Foodmarket\n",
            "Naivas Nakuru Downtown\n",
            "Naivas Safari Center\n",
            "\n",
            "\n",
            "Naivas Mwembe Tayari\n",
            "Naivas Digo\n",
            "Naivas Likoni\n",
            "Naivas Bamburi\n",
            "Naivas Supercentre Nyali\n",
            "\n",
            "\n",
            "Naivas Kiambu Town\n",
            "Naivas Ananas\n",
            "Naivas Thika Town\n",
            "Naivas Juja City Foodmarket\n",
            "Naivas Kiambu Foodmarket\n",
            "\n",
            "\n"
          ]
        }
      ]
    },
    {
      "cell_type": "code",
      "source": [
        "# example 2 - Dict with list as values\n",
        "\n",
        "naivas_branches_county = {\n",
        "    \"Nairobi\" : [\"Naivas Greenhouse\", \"Naivas Westlands Foodmarket\", \"Naivas Buruburu\", \"Naivas Development House\"],\n",
        "    \"Nakuru\" : [\"Naivas Supercentre Nakuru\", \"Naivas Westside Foodmarket\", \"Naivas Nakuru Downtown\", \"Naivas Safari Center\"],\n",
        "    \"Mombasa\" : [\"Naivas Mwembe Tayari\", \"Naivas Digo\", \"Naivas Likoni\", \"Naivas Bamburi\", \"Naivas Supercentre Nyali\"],\n",
        "    \"Kiambu\" : [\"Naivas Kiambu Town\", \"Naivas Ananas\", \"Naivas Thika Town\", \"Naivas Juja City Foodmarket\", \"Naivas Kiambu Foodmarket\"]\n",
        "\n",
        "}\n",
        "\n",
        "print(naivas_branches_county[\"Kiambu\"])"
      ],
      "metadata": {
        "colab": {
          "base_uri": "https://localhost:8080/"
        },
        "id": "MUj19pLHD6I3",
        "outputId": "33d468c6-e867-4f99-c4e3-857c8ac054f8"
      },
      "execution_count": null,
      "outputs": [
        {
          "output_type": "stream",
          "name": "stdout",
          "text": [
            "['Naivas Kiambu Town', 'Naivas Ananas', 'Naivas Thika Town', 'Naivas Juja City Foodmarket', 'Naivas Kiambu Foodmarket']\n"
          ]
        }
      ]
    },
    {
      "cell_type": "code",
      "source": [
        "# looping using a for loop\n",
        "for counties, branches in naivas_branches_county.items():\n",
        "  print(f\"Naivas branches in {counties}\")\n",
        "  for branch in branches:\n",
        "    print(f'- {branch}')\n",
        "  print('\\n')"
      ],
      "metadata": {
        "colab": {
          "base_uri": "https://localhost:8080/"
        },
        "id": "09gMn7PKGSqu",
        "outputId": "c5d05f07-e7c6-42ce-e714-224d87647b64"
      },
      "execution_count": null,
      "outputs": [
        {
          "output_type": "stream",
          "name": "stdout",
          "text": [
            "Naivas branches in Nairobi\n",
            "- Naivas Greenhouse\n",
            "- Naivas Westlands Foodmarket\n",
            "- Naivas Buruburu\n",
            "- Naivas Development House\n",
            "\n",
            "\n",
            "Naivas branches in Nakuru\n",
            "- Naivas Supercentre Nakuru\n",
            "- Naivas Westside Foodmarket\n",
            "- Naivas Nakuru Downtown\n",
            "- Naivas Safari Center\n",
            "\n",
            "\n",
            "Naivas branches in Mombasa\n",
            "- Naivas Mwembe Tayari\n",
            "- Naivas Digo\n",
            "- Naivas Likoni\n",
            "- Naivas Bamburi\n",
            "- Naivas Supercentre Nyali\n",
            "\n",
            "\n",
            "Naivas branches in Kiambu\n",
            "- Naivas Kiambu Town\n",
            "- Naivas Ananas\n",
            "- Naivas Thika Town\n",
            "- Naivas Juja City Foodmarket\n",
            "- Naivas Kiambu Foodmarket\n",
            "\n",
            "\n"
          ]
        }
      ]
    },
    {
      "cell_type": "code",
      "source": [
        "# example 3\n",
        "# Using nested loops to iterate through departments and their products\n",
        "for department in departments:\n",
        "  print(f\"The department is: {department['name']}\")\n",
        "  for product in department['products']:\n",
        "      print(f\"- {product}\")"
      ],
      "metadata": {
        "colab": {
          "base_uri": "https://localhost:8080/"
        },
        "id": "JmIJbm9uHwDF",
        "outputId": "c5c7bea5-2122-4889-ffdf-fe6abfa1cf0d"
      },
      "execution_count": null,
      "outputs": [
        {
          "output_type": "stream",
          "name": "stdout",
          "text": [
            "The department is: Groceries\n",
            "- Fruits\n",
            "- Vegetables\n",
            "- Dairy\n",
            "The department is: Electronics\n",
            "- TVs\n",
            "- Computers\n",
            "- Smartphones\n",
            "The department is: Clothing\n",
            "- Shirts\n",
            "- Pants\n",
            "- Dresses\n"
          ]
        }
      ]
    },
    {
      "cell_type": "markdown",
      "source": [],
      "metadata": {
        "id": "WTeTUVcILztJ"
      }
    },
    {
      "cell_type": "markdown",
      "source": [
        "## Knock yourself out: Nested List with List Comprehension"
      ],
      "metadata": {
        "id": "7SF_YBcgLF69"
      }
    },
    {
      "cell_type": "code",
      "source": [
        "# example\n",
        "nested_list = [[1, 2, 3], [4, 5, 6], [7, 8, 9]]\n",
        "\n",
        "# Using list comprehension to flatten the nested list\n",
        "flattened_list = [element for inner_list in nested_list for element in inner_list]\n",
        "\n",
        "print(flattened_list)"
      ],
      "metadata": {
        "colab": {
          "base_uri": "https://localhost:8080/"
        },
        "id": "stFM9AIiKRSv",
        "outputId": "d38f8eed-bfa4-41dc-bac9-3c501612255d"
      },
      "execution_count": null,
      "outputs": [
        {
          "output_type": "stream",
          "name": "stdout",
          "text": [
            "[1, 2, 3, 4, 5, 6, 7, 8, 9]\n"
          ]
        }
      ]
    },
    {
      "cell_type": "markdown",
      "source": [
        "In the above code, we use list comprehension to flatten a nested list.\n",
        "- We iterate through each `inner_list` within the `nested_list`, then for each `inner_list`, we further iterate through each element contained within it.\n",
        "- By gathering these elements and appending them to the flattened_list, we merge all the individual elements from the nested lists into a unified, flattened list.\n",
        "- Finally, we print this flattened_list, showcasing the result of combining elements from various layers of the nested structure into one cohesive list.\n",
        "\n",
        "This technique simplifies the complex nested structure into a single, linear list for easier handling and analysis.\n"
      ],
      "metadata": {
        "id": "NR0fCOBSPROP"
      }
    },
    {
      "cell_type": "markdown",
      "source": [
        "## Summary"
      ],
      "metadata": {
        "id": "04Xzb0lQQM-7"
      }
    },
    {
      "cell_type": "markdown",
      "source": [
        "In our lesson, we explored the concept of nested loops and nested data structures. We used these techniques to navigate through complex data arrangements, such as nested lists and dictionaries, by employing loops within loops. With this approach, we iterated through layers of data, accessing elements at different levels within these structures. Our utilization of both for loops and while loops allowed us to manage and process these nested formations effectively. Additionally, we employed list comprehension to simplify and flatten nested lists, condensing multi-layered data into more manageable formats. By understanding how nested operations function, we clarified that inner loops execute their entire set of actions for each iteration of the outer loop. This knowledge empowers us to organize and analyze intricate data systematically, enhancing our ability to handle diverse and complex information structures within programming contexts."
      ],
      "metadata": {
        "id": "PHOiAVBsQPRI"
      }
    }
  ]
}