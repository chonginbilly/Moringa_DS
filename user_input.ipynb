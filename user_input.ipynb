{
  "nbformat": 4,
  "nbformat_minor": 0,
  "metadata": {
    "colab": {
      "provenance": [],
      "include_colab_link": true
    },
    "kernelspec": {
      "name": "python3",
      "display_name": "Python 3"
    },
    "language_info": {
      "name": "python"
    }
  },
  "cells": [
    {
      "cell_type": "markdown",
      "metadata": {
        "id": "view-in-github",
        "colab_type": "text"
      },
      "source": [
        "<a href=\"https://colab.research.google.com/github/chonginbilly/Moringa_DS/blob/main/user_input.ipynb\" target=\"_parent\"><img src=\"https://colab.research.google.com/assets/colab-badge.svg\" alt=\"Open In Colab\"/></a>"
      ]
    },
    {
      "cell_type": "markdown",
      "source": [
        "<font color=\"green\">*To start working on this notebook, or any other notebook that we will use in this course, we will need to save our own copy of it. We can do this by clicking File > Save a Copy in Drive. We will then be able to make edits to our own copy of this notebook.*</font>\n",
        "\n",
        "---"
      ],
      "metadata": {
        "id": "dP0rlnntyVwL"
      }
    },
    {
      "cell_type": "markdown",
      "source": [
        "# User Input in Python"
      ],
      "metadata": {
        "id": "7bRnp5j4xHWn"
      }
    },
    {
      "cell_type": "markdown",
      "source": [
        "## Introduction"
      ],
      "metadata": {
        "id": "kb-PsAXvxM0b"
      }
    },
    {
      "cell_type": "markdown",
      "source": [
        "In the realm of programming, the significance of user input cannot be overstated, as it serves as a crucial conduit linking our code to the individuals actively engaging with it. By effectively incorporating user input, we endow our programs with the capability to dynamically adjust and respond based on the information furnished by users, fostering a heightened level of adaptability and customization.\n",
        "\n",
        "The integration of user input not only broadens the functional scope of our programs but also introduces a profound dimension of interactivity, transforming otherwise static scripts into dynamic and immersive applications. Through this interactive exchange, our programs evolve beyond mere executables, becoming responsive entities that cater to the unique preferences and requirements of users, thereby enhancing the overall user experience and usability of our software."
      ],
      "metadata": {
        "id": "HjzQss3zxOne"
      }
    },
    {
      "cell_type": "markdown",
      "source": [
        "## Objectives"
      ],
      "metadata": {
        "id": "T0ar0TPVyX24"
      }
    },
    {
      "cell_type": "markdown",
      "source": [
        "By the end of this lesson, you will be able to:\n",
        "\n",
        "- Capture user input within your Python programs.\n",
        "- Understand the role of user input in making programs interactive.\n",
        "- Effectively use user input to customize the behavior of your Python scripts."
      ],
      "metadata": {
        "id": "m4ANs5tQycO7"
      }
    },
    {
      "cell_type": "markdown",
      "source": [
        "## Capture user input"
      ],
      "metadata": {
        "id": "x0WAM6ybzXGm"
      }
    },
    {
      "cell_type": "markdown",
      "source": [
        "To capture user input within our Python programs, we utilize the built-in `input()` function. We prompt the user with a message, receive their input, and store it in a variable for further processing."
      ],
      "metadata": {
        "id": "6i7CROFLzaQt"
      }
    },
    {
      "cell_type": "code",
      "source": [
        "# example\n",
        "user_input = input(\"Please enter your input: \")"
      ],
      "metadata": {
        "colab": {
          "base_uri": "https://localhost:8080/"
        },
        "id": "tJ9gT870zgtq",
        "outputId": "6e5e8034-4491-4f78-9d57-9f06f99f1030"
      },
      "execution_count": null,
      "outputs": [
        {
          "name": "stdout",
          "output_type": "stream",
          "text": [
            "Please enter your input: Moringa School\n"
          ]
        }
      ]
    },
    {
      "cell_type": "code",
      "source": [
        "# confirm the input\n",
        "print(user_input)"
      ],
      "metadata": {
        "colab": {
          "base_uri": "https://localhost:8080/"
        },
        "id": "RtWP6KZFzzLD",
        "outputId": "740157b7-377c-45c3-b80a-df7f2c86e165"
      },
      "execution_count": null,
      "outputs": [
        {
          "output_type": "stream",
          "name": "stdout",
          "text": [
            "Moringa School\n"
          ]
        }
      ]
    },
    {
      "cell_type": "markdown",
      "source": [
        "Let's go through the different ways we can capture user input in Python"
      ],
      "metadata": {
        "id": "qH52GJqyzyuR"
      }
    },
    {
      "cell_type": "code",
      "source": [
        "# Simple Text Input\n",
        "name = input(\"Enter your name: \")"
      ],
      "metadata": {
        "id": "mrhge--dCKyn",
        "colab": {
          "base_uri": "https://localhost:8080/"
        },
        "outputId": "cc23b692-8c04-4f71-861c-74f9496e74af"
      },
      "execution_count": null,
      "outputs": [
        {
          "name": "stdout",
          "output_type": "stream",
          "text": [
            "Enter your name: Moody Awori\n"
          ]
        }
      ]
    },
    {
      "cell_type": "code",
      "source": [
        "# Numeric Input\n",
        "age = int(input(\"Enter your age: \"))"
      ],
      "metadata": {
        "colab": {
          "base_uri": "https://localhost:8080/"
        },
        "id": "viN6n9ot0eqP",
        "outputId": "b926bc10-3a62-494c-ec62-09e47c63bd95"
      },
      "execution_count": null,
      "outputs": [
        {
          "name": "stdout",
          "output_type": "stream",
          "text": [
            "Enter your age: 78\n"
          ]
        }
      ]
    },
    {
      "cell_type": "code",
      "source": [
        "# Boolean Input\n",
        "is_active = input(\"Are you active? (yes/no): \").lower() == 'yes'"
      ],
      "metadata": {
        "colab": {
          "base_uri": "https://localhost:8080/"
        },
        "id": "Zx4m1h8T0r1a",
        "outputId": "33be5540-1cf6-40c4-b03e-81f9cd8d4e10"
      },
      "execution_count": null,
      "outputs": [
        {
          "name": "stdout",
          "output_type": "stream",
          "text": [
            "Are you active? (yes/no): no\n"
          ]
        }
      ]
    },
    {
      "cell_type": "code",
      "source": [
        "print(is_active)"
      ],
      "metadata": {
        "colab": {
          "base_uri": "https://localhost:8080/"
        },
        "id": "iVFGNq060xuD",
        "outputId": "f2d15a5d-f4ff-401d-8101-9efb912cf74a"
      },
      "execution_count": null,
      "outputs": [
        {
          "output_type": "stream",
          "name": "stdout",
          "text": [
            "False\n"
          ]
        }
      ]
    },
    {
      "cell_type": "code",
      "source": [
        "# Multiple Inputs\n",
        "values = input(\"Enter multiple values separated by space: \").split()"
      ],
      "metadata": {
        "colab": {
          "base_uri": "https://localhost:8080/"
        },
        "id": "TaFepbrQ03jN",
        "outputId": "bdcbaaf6-6735-4e8a-8ec6-30864bfe1e23"
      },
      "execution_count": null,
      "outputs": [
        {
          "name": "stdout",
          "output_type": "stream",
          "text": [
            "Enter multiple values separated by space: Moody Awori was the 9th vice president of the republic ok Kenya\n"
          ]
        }
      ]
    },
    {
      "cell_type": "code",
      "source": [
        "print(values)"
      ],
      "metadata": {
        "colab": {
          "base_uri": "https://localhost:8080/"
        },
        "id": "4ORh7Ld1085N",
        "outputId": "fb11cf31-a352-4492-bcfb-1a759b5c0c47"
      },
      "execution_count": null,
      "outputs": [
        {
          "output_type": "stream",
          "name": "stdout",
          "text": [
            "['Moody', 'Awori', 'was', 'the', '9th', 'vice', 'president', 'of', 'the', 'republic', 'ok', 'Kenya']\n"
          ]
        }
      ]
    },
    {
      "cell_type": "code",
      "source": [
        "# Password Input (masked)\n",
        "import getpass\n",
        "password = getpass.getpass(\"Enter your password: \")"
      ],
      "metadata": {
        "colab": {
          "base_uri": "https://localhost:8080/"
        },
        "id": "oMz6Sin31LCi",
        "outputId": "b0b6e3b1-0d9d-4a29-a98c-199012958baf"
      },
      "execution_count": null,
      "outputs": [
        {
          "name": "stdout",
          "output_type": "stream",
          "text": [
            "Enter your password: ··········\n"
          ]
        }
      ]
    },
    {
      "cell_type": "code",
      "source": [
        "print(password)"
      ],
      "metadata": {
        "colab": {
          "base_uri": "https://localhost:8080/"
        },
        "id": "wnezD21V1Q97",
        "outputId": "1287760d-a4c5-41dc-f13a-ed2c4129b29b"
      },
      "execution_count": null,
      "outputs": [
        {
          "output_type": "stream",
          "name": "stdout",
          "text": [
            "password@123\n"
          ]
        }
      ]
    },
    {
      "cell_type": "markdown",
      "source": [
        "## Role of user input"
      ],
      "metadata": {
        "id": "vevRZKCw14c6"
      }
    },
    {
      "cell_type": "markdown",
      "source": [
        "User input plays a pivotal role in enhancing the interactivity of our programs by providing a means for users to actively engage with and influence the behavior of the software. Through the incorporation of user input, we empower our programs to adapt dynamically, allowing users to customize their experience and influence the output based on their specific needs and preferences.\n",
        "\n",
        "In Python, the `input()` function serves as a key tool for capturing user input. This function prompts the user with a specified message, awaits their response, and then returns the entered value as a string. By processing and utilizing this input, we enable a back-and-forth interaction between the user and the program, transforming static scripts into dynamic applications. Let's delve into a simple example to illustrate the significance of user input in fostering interactivity:"
      ],
      "metadata": {
        "id": "Tjvm2-3n2BHi"
      }
    },
    {
      "cell_type": "code",
      "source": [
        "# Interactive program asking for the user's name\n",
        "user_name = input(\"Hello! Please enter your name: \")\n",
        "\n",
        "# Greeting the user using their input\n",
        "print(f\"Welcome, {user_name}! Thanks for using our interactive program.\")"
      ],
      "metadata": {
        "colab": {
          "base_uri": "https://localhost:8080/"
        },
        "id": "xlRmlcBg16tP",
        "outputId": "6c1707b7-585a-4c3b-ccdd-27e4a93a92c7"
      },
      "execution_count": null,
      "outputs": [
        {
          "output_type": "stream",
          "name": "stdout",
          "text": [
            "Hello! Please enter your name: John Mark\n",
            "Welcome, John Mark! Thanks for using our interactive program.\n"
          ]
        }
      ]
    },
    {
      "cell_type": "markdown",
      "source": [
        "In this example, the program actively engages the user by prompting them for input, creating a more personalized and interactive experience. By incorporating user input, we enhance the adaptability of our programs and open avenues for dynamic customization, ultimately making the software more user-friendly and engaging."
      ],
      "metadata": {
        "id": "27L1rwVW2heW"
      }
    },
    {
      "cell_type": "markdown",
      "source": [
        "## Customizing behaviour with User Input"
      ],
      "metadata": {
        "id": "qX1OLlVt3gFS"
      }
    },
    {
      "cell_type": "markdown",
      "source": [
        "To effectively use user input for customizing the behavior of Python scripts, we leverage the information provided by users to influence program outcomes. This approach grants us the ability to create more versatile and user-centric scripts. Let's explore this through a practical example:"
      ],
      "metadata": {
        "id": "wd_ksGtM4BVq"
      }
    },
    {
      "cell_type": "code",
      "source": [
        "# Prompt the user for a preferred greeting\n",
        "user_preference = input(\"Do you prefer a formal or informal greeting? Enter 'formal' or 'informal': \")\n",
        "\n",
        "# Customize the script behavior based on user input\n",
        "if user_preference.lower() == 'formal':\n",
        "  greeting = \"Good day, \"\n",
        "elif user_preference.lower() == 'informal':\n",
        "  greeting = \"Hey, \"\n",
        "else:\n",
        "  greeting = \"Hello, \"\n",
        "\n",
        "# Prompt the user for their name\n",
        "user_name = input(f\"{greeting}Please enter your name: \")\n",
        "\n",
        "# Output a personalized greeting\n",
        "print(f\"{greeting}{user_name}! Welcome to our customized Python script.\")"
      ],
      "metadata": {
        "colab": {
          "base_uri": "https://localhost:8080/"
        },
        "id": "u4viyK5M383d",
        "outputId": "13cb0361-e158-41cd-af36-68448221e755"
      },
      "execution_count": null,
      "outputs": [
        {
          "output_type": "stream",
          "name": "stdout",
          "text": [
            "Do you prefer a formal or informal greeting? Enter 'formal' or 'informal': formal\n",
            "Good day, Please enter your name: Kevin\n",
            "Good day, Kevin! Welcome to our customized Python script.\n"
          ]
        }
      ]
    },
    {
      "cell_type": "markdown",
      "source": [
        "In this example, the script adapts its behavior based on the user's input regarding their preferred greeting style. By incorporating the `input()` function and conditionals, we dynamically customize the program's output, creating a more personalized experience for the user. This approach allows us to tailor the behavior of Python scripts to suit individual preferences, demonstrating the power of user input in shaping the interactive nature of our programs."
      ],
      "metadata": {
        "id": "uc9rL4T24gHW"
      }
    },
    {
      "cell_type": "code",
      "source": [
        "# Customizing Output Format:\n",
        "# Ask the user if they want output in uppercase or lowercase\n",
        "output_format = input(\"Do you prefer 'uppercase' or 'lowercase' output? \").lower()\n",
        "user_input = input(\"Enter a message: \")\n",
        "\n",
        "# Customize output based on user preference\n",
        "if output_format == 'uppercase':\n",
        "  result = user_input.upper()\n",
        "elif output_format == 'lowercase':\n",
        "  result = user_input.lower()\n",
        "else:\n",
        "  result = \"Invalid preference.\"\n",
        "\n",
        "print(f\"Customized output: {result}\")"
      ],
      "metadata": {
        "colab": {
          "base_uri": "https://localhost:8080/"
        },
        "id": "LR8hfYt54NEe",
        "outputId": "e8989cb2-9931-4630-aecd-b1c4d5835f9e"
      },
      "execution_count": null,
      "outputs": [
        {
          "output_type": "stream",
          "name": "stdout",
          "text": [
            "Do you prefer 'uppercase' or 'lowercase' output? lowercase\n",
            "Enter a message: Welcome TO MORINGA SCHOOL\n",
            "Customized output: welcome to moringa school\n"
          ]
        }
      ]
    },
    {
      "cell_type": "code",
      "source": [
        "# Dynamic Calculation Based on User Input\n",
        "# Ask the user for two numbers and an operation\n",
        "num1 = float(input(\"Enter the first number: \"))\n",
        "num2 = float(input(\"Enter the second number: \"))\n",
        "operation = input(\"Enter the operation (+, -, *, /): \")\n",
        "\n",
        "# Perform the calculation based on user input\n",
        "if operation == '+':\n",
        "  result = num1 + num2\n",
        "elif operation == '-':\n",
        "  result = num1 - num2\n",
        "elif operation == '*':\n",
        "  result = num1 * num2\n",
        "elif operation == '/':\n",
        "  result = num1 / num2\n",
        "else:\n",
        "  result = \"Invalid operation.\"\n",
        "\n",
        "print(f\"Result of {num1} {operation} {num2}: {result}\")"
      ],
      "metadata": {
        "colab": {
          "base_uri": "https://localhost:8080/"
        },
        "id": "mEWB9ITt40ai",
        "outputId": "6ccf372b-c77f-437d-bbe7-f42e368b142f"
      },
      "execution_count": null,
      "outputs": [
        {
          "output_type": "stream",
          "name": "stdout",
          "text": [
            "Enter the first number: 12\n",
            "Enter the second number: 78\n",
            "Enter the operation (+, -, *, /): +\n",
            "Result of 12.0 + 78.0: 90.0\n"
          ]
        }
      ]
    },
    {
      "cell_type": "code",
      "source": [
        "# Choosing Display Themes\n",
        "\n",
        "# Ask the user for their preferred display theme\n",
        "theme_choice = input(\"Choose a display theme ('light' or 'dark'): \")\n",
        "\n",
        "# Customize program behavior based on the selected theme\n",
        "if theme_choice.lower() == 'light':\n",
        "  background_color = 'white'\n",
        "  text_color = 'black'\n",
        "elif theme_choice.lower() == 'dark':\n",
        "  background_color = 'black'\n",
        "  text_color = 'white'\n",
        "else:\n",
        "  background_color = 'white'\n",
        "  text_color = 'black'\n",
        "\n",
        "print(f\"Customized display theme - Background: {background_color}, Text: {text_color}\")"
      ],
      "metadata": {
        "colab": {
          "base_uri": "https://localhost:8080/"
        },
        "id": "nAdPNUNV5KsF",
        "outputId": "d4eb10b2-0abc-4cdf-b26e-052df4a32e3b"
      },
      "execution_count": null,
      "outputs": [
        {
          "output_type": "stream",
          "name": "stdout",
          "text": [
            "Choose a display theme ('light' or 'dark'): dark\n",
            "Customized display theme - Background: black, Text: white\n"
          ]
        }
      ]
    },
    {
      "cell_type": "code",
      "source": [
        "# User-Defined Functionality\n",
        "\n",
        "# Ask the user for a specific functionality to execute\n",
        "functionality_choice = input(\"Choose a functionality ('A' or 'B'): \")\n",
        "\n",
        "# Customize script behavior based on user choice\n",
        "if functionality_choice.upper() == 'A':\n",
        "  result = \"Executing functionality A.\"\n",
        "elif functionality_choice.upper() == 'B':\n",
        "  result = \"Executing functionality B.\"\n",
        "else:\n",
        "  result = \"Invalid choice.\"\n",
        "\n",
        "print(result)"
      ],
      "metadata": {
        "colab": {
          "base_uri": "https://localhost:8080/"
        },
        "id": "l45QO5oj5t2H",
        "outputId": "c9990946-2ba6-448b-880e-d53897f6b21d"
      },
      "execution_count": null,
      "outputs": [
        {
          "output_type": "stream",
          "name": "stdout",
          "text": [
            "Choose a functionality ('A' or 'B'): A\n",
            "Executing functionality A.\n"
          ]
        }
      ]
    },
    {
      "cell_type": "code",
      "source": [
        "# Language Preference:\n",
        "# Ask the user for their preferred language\n",
        "language_choice = input(\"Choose a language ('English' or 'Spanish'): \")\n",
        "\n",
        "# Customize output based on the selected language\n",
        "if language_choice.lower() == 'english':\n",
        "  greeting = \"Hello\"\n",
        "elif language_choice.lower() == 'spanish':\n",
        "  greeting = \"Hola\"\n",
        "else:\n",
        "  greeting = \"Habari\"\n",
        "\n",
        "print(f\"{greeting}, welcome to our program!\")"
      ],
      "metadata": {
        "colab": {
          "base_uri": "https://localhost:8080/"
        },
        "id": "dDGLWHm46GIt",
        "outputId": "5ecbf402-f510-4b58-8ce5-7f6cc26d9395"
      },
      "execution_count": null,
      "outputs": [
        {
          "output_type": "stream",
          "name": "stdout",
          "text": [
            "Choose a language ('English' or 'Spanish'): kiswahili\n",
            "Habari, welcome to our program!\n"
          ]
        }
      ]
    },
    {
      "cell_type": "markdown",
      "source": [
        "## Summary"
      ],
      "metadata": {
        "id": "7OrSmFsR6W7w"
      }
    },
    {
      "cell_type": "markdown",
      "source": [
        "In this lesson, we explored the dynamic utilization of user input to customize the behavior of Python scripts. By actively engaging users through the `input()` function, we harnessed their preferences and choices to tailor program outputs. Through diverse examples, we demonstrated the versatility of this approach, allowing for personalized greetings, customized output formats, dynamic calculations, display theme preferences, and user-defined functionalities. This interactive utilization of user input not only enhances the adaptability of scripts but also fosters a more engaging and user-centric experience, showcasing the power of incorporating user preferences into programming solutions."
      ],
      "metadata": {
        "id": "M0J9Crti6oOY"
      }
    }
  ]
}