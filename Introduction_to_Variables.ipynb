{
  "nbformat": 4,
  "nbformat_minor": 0,
  "metadata": {
    "colab": {
      "provenance": [],
      "include_colab_link": true
    },
    "kernelspec": {
      "name": "python3",
      "display_name": "Python 3"
    },
    "language_info": {
      "name": "python"
    }
  },
  "cells": [
    {
      "cell_type": "markdown",
      "metadata": {
        "id": "view-in-github",
        "colab_type": "text"
      },
      "source": [
        "<a href=\"https://colab.research.google.com/github/chonginbilly/Moringa_DS/blob/main/Introduction_to_Variables.ipynb\" target=\"_parent\"><img src=\"https://colab.research.google.com/assets/colab-badge.svg\" alt=\"Open In Colab\"/></a>"
      ]
    },
    {
      "cell_type": "markdown",
      "source": [
        "<font color=\"green\">*To start working on this notebook, or any other notebook that we will use in this course, we will need to save our own copy of it. We can do this by clicking File > Save a Copy in Drive. We will then be able to make edits to our own copy of this notebook.*</font>\n",
        "\n",
        "---\n",
        "\n"
      ],
      "metadata": {
        "id": "NNER6LDkk047"
      }
    },
    {
      "cell_type": "markdown",
      "source": [
        "# Introduction to Variables\n",
        "\n"
      ],
      "metadata": {
        "id": "zCIb00Lnk5sR"
      }
    },
    {
      "cell_type": "markdown",
      "source": [
        "![python logo](https://drive.google.com/uc?export=view&id=1nfkplsgHrqkvk-zpPo9Xnl3kiHAmjRgD)"
      ],
      "metadata": {
        "id": "sNNblWLknneD"
      }
    },
    {
      "cell_type": "markdown",
      "source": [
        "In this lesson, we will introduce the foundational concept of variables in programming. We'll begin by emphasizing the importance of variables and how they are essential for various programming tasks. Then, we'll delve into the rules governing variable naming in Python. Following that, we'll explore the process of assigning values to variables and, crucially, reassigning values to them, enabling dynamic data manipulation. Understanding variables is a cornerstone for programming and prepares you for more advanced concepts."
      ],
      "metadata": {
        "id": "99f_n3uptJr1"
      }
    },
    {
      "cell_type": "markdown",
      "source": [
        "## Objectives\n",
        "\n",
        "You will be able to:\n",
        "* Understand the importance of Variables in programming\n",
        "* Discuss the rules governing variable naming in Python.\n",
        "* Explore the process of assigning values to variables.\n",
        "* Understand the concept of reassigning values to variables.\n",
        "\n",
        "\n"
      ],
      "metadata": {
        "id": "t3wt6fL6oLMq"
      }
    },
    {
      "cell_type": "markdown",
      "source": [
        "## What are Variables?"
      ],
      "metadata": {
        "id": "4OgjV8cbpL_n"
      }
    },
    {
      "cell_type": "markdown",
      "source": [
        "* A **variable** is a named storage location used to hold and represent data within a computer program.\n",
        "* It serves as a symbolic representation of a value that can be accessed and manipulated by the program during its execution.\n",
        "* Variables allow programmers to store and manage data of various types, such as *numbers*, *text*, and *objects*, making it easier to perform computations, process information, and control the flow of a program.\n",
        "* When a variable is created, it is allocated a specific memory location in the computer's memory, and the data assigned to that variable is stored at that location.\n",
        "* The value stored in a variable can be changed or updated during the program's execution, which is why the term *variable* is used, as it can vary over time.\n",
        "* Variables play a crucial role in programming, as they enable the reuse and manipulation of data, making code more efficient and flexible."
      ],
      "metadata": {
        "id": "fJvwdaCVprA6"
      }
    },
    {
      "cell_type": "code",
      "execution_count": null,
      "metadata": {
        "id": "KlxwgyQ9sNSm",
        "colab": {
          "base_uri": "https://localhost:8080/"
        },
        "outputId": "67fc982f-33e4-48b3-db47-89f1d6350dda"
      },
      "outputs": [
        {
          "output_type": "stream",
          "name": "stdout",
          "text": [
            "Moringa School\n"
          ]
        }
      ],
      "source": [
        "# Example 1 - variable to store text\n",
        "institution_name = \"Moringa School\"\n",
        "print(institution_name)"
      ]
    },
    {
      "cell_type": "code",
      "source": [
        "# Example 2 - variable to store number\n",
        "pie = 3.142\n",
        "print(pie)"
      ],
      "metadata": {
        "colab": {
          "base_uri": "https://localhost:8080/"
        },
        "id": "sZhcoCCYqPYe",
        "outputId": "20588524-d406-41e0-d857-e6e697fb37b1"
      },
      "execution_count": null,
      "outputs": [
        {
          "output_type": "stream",
          "name": "stdout",
          "text": [
            "3.142\n"
          ]
        }
      ]
    },
    {
      "cell_type": "code",
      "source": [
        "# Example 3 - Variable to store a list\n",
        "student_names = [\"Jeff\", \"Christine\", \"John\", \"Agnes\"]\n",
        "print(student_names)"
      ],
      "metadata": {
        "colab": {
          "base_uri": "https://localhost:8080/"
        },
        "id": "8rtwejGzqeHV",
        "outputId": "552d04d9-d28d-49e4-9cd3-abd362fb46a2"
      },
      "execution_count": null,
      "outputs": [
        {
          "output_type": "stream",
          "name": "stdout",
          "text": [
            "['Jeff', 'Christine', 'John', 'Agnes']\n"
          ]
        }
      ]
    },
    {
      "cell_type": "markdown",
      "source": [
        "### Importance of variables in storing and managing data during program execution."
      ],
      "metadata": {
        "id": "mci_cW8utiQ3"
      }
    },
    {
      "cell_type": "markdown",
      "source": [
        "* **Data Storage**: Variables act as containers for holding different types of data, such as numbers, strings, lists, and more."
      ],
      "metadata": {
        "id": "lu-rGiAtttcT"
      }
    },
    {
      "cell_type": "code",
      "source": [
        "# example 1\n",
        "country = \"Kenya\"\n",
        "print(country)"
      ],
      "metadata": {
        "colab": {
          "base_uri": "https://localhost:8080/"
        },
        "id": "uAfAM1ukqyA0",
        "outputId": "e52934da-bf19-4183-cd5a-c27f6ce1a870"
      },
      "execution_count": null,
      "outputs": [
        {
          "output_type": "stream",
          "name": "stdout",
          "text": [
            "Kenya\n"
          ]
        }
      ]
    },
    {
      "cell_type": "code",
      "source": [
        "# example 2\n",
        "national_language = \"Swahili\"\n",
        "print(national_language)"
      ],
      "metadata": {
        "colab": {
          "base_uri": "https://localhost:8080/"
        },
        "id": "cEKfc8ctt2AU",
        "outputId": "263fb162-5ffd-49f2-fff9-19bda5f59876"
      },
      "execution_count": null,
      "outputs": [
        {
          "output_type": "stream",
          "name": "stdout",
          "text": [
            "Swahili\n"
          ]
        }
      ]
    },
    {
      "cell_type": "markdown",
      "source": [
        "* **Data Manipulation**: By storing data in variables, we can easily manipulate and process it."
      ],
      "metadata": {
        "id": "BK6h3Q0euSK2"
      }
    },
    {
      "cell_type": "code",
      "source": [
        "# example 1 - manipulating text\n",
        "name = \"john\"\n",
        "print(name.upper())"
      ],
      "metadata": {
        "colab": {
          "base_uri": "https://localhost:8080/"
        },
        "id": "VVnCN3wGuL1A",
        "outputId": "18bcadfa-14ed-4bdd-954f-5ca8e77d5295"
      },
      "execution_count": null,
      "outputs": [
        {
          "output_type": "stream",
          "name": "stdout",
          "text": [
            "JOHN\n"
          ]
        }
      ]
    },
    {
      "cell_type": "code",
      "source": [
        "# example 2 - processing numbers\n",
        "celsius_temp = 20\n",
        "# Convert to Fahrenheit\n",
        "fahrenheit_temp = (celsius_temp * 9/5) + 32\n",
        "print(fahrenheit_temp)"
      ],
      "metadata": {
        "colab": {
          "base_uri": "https://localhost:8080/"
        },
        "id": "Adsmepd7upuA",
        "outputId": "35e39ac3-4553-4bf8-f0bc-ccaff02ab3dc"
      },
      "execution_count": null,
      "outputs": [
        {
          "output_type": "stream",
          "name": "stdout",
          "text": [
            "68.0\n"
          ]
        }
      ]
    },
    {
      "cell_type": "markdown",
      "source": [
        "* **Data Reusability**: Once we store data in variables, it becomes reusable throughout our program. Instead of having to re-enter or recalculate data, variables allow us to use the same data multiple times, reducing redundancy and improving code readability."
      ],
      "metadata": {
        "id": "EJFpGeISwLBy"
      }
    },
    {
      "cell_type": "code",
      "source": [
        "# example 1 - add new student to the list above\n",
        "student_names.append(\"Catherine\")\n",
        "print(student_names)"
      ],
      "metadata": {
        "colab": {
          "base_uri": "https://localhost:8080/"
        },
        "id": "2F6qyzD4v11w",
        "outputId": "b8436721-73dc-4202-8fef-a4fc402c1522"
      },
      "execution_count": null,
      "outputs": [
        {
          "output_type": "stream",
          "name": "stdout",
          "text": [
            "['Jeff', 'Christine', 'John', 'Agnes', 'Catherine']\n"
          ]
        }
      ]
    },
    {
      "cell_type": "markdown",
      "source": [
        "* **Program Flow Control**: We often use variables in control structures such as loops and conditional statements."
      ],
      "metadata": {
        "id": "H5hHzVL6xIuN"
      }
    },
    {
      "cell_type": "code",
      "source": [
        "# example 1 - variable in loops\n",
        "for student in student_names:\n",
        "  print(student)"
      ],
      "metadata": {
        "colab": {
          "base_uri": "https://localhost:8080/"
        },
        "id": "_UCkXN2bwn5r",
        "outputId": "699b40da-919a-4ffb-d400-9e6184cefb94"
      },
      "execution_count": null,
      "outputs": [
        {
          "output_type": "stream",
          "name": "stdout",
          "text": [
            "Jeff\n",
            "Christine\n",
            "John\n",
            "Agnes\n",
            "Catherine\n"
          ]
        }
      ]
    },
    {
      "cell_type": "markdown",
      "source": [
        "* We have a list of student names.\n",
        "* The loop starts, and we use a variable called **student** to represent each name in the list one at a time.\n",
        "* Inside the loop, we print the current student name.\n",
        "* The loop repeats this process for each name in the list until all names have been printed.\n",
        "\n",
        "We're using the variable student to control the flow of the loop, which allows us to work with each student's name without having to write separate code for each one.\n"
      ],
      "metadata": {
        "id": "SDvFBGGRx6JL"
      }
    },
    {
      "cell_type": "code",
      "source": [
        "# example 2\n",
        "age = 17\n",
        "\n",
        "if age >= 18:\n",
        "  print(\"You are eligible to vote.\")\n",
        "else:\n",
        "  print(\"Please try again when you are 18 and over!!\")"
      ],
      "metadata": {
        "colab": {
          "base_uri": "https://localhost:8080/"
        },
        "id": "vfRLonC4xZW6",
        "outputId": "1987d8d5-d5c6-4069-a18a-9736862c8279"
      },
      "execution_count": null,
      "outputs": [
        {
          "output_type": "stream",
          "name": "stdout",
          "text": [
            "Please try again when you are 18 and over!!\n"
          ]
        }
      ]
    },
    {
      "cell_type": "markdown",
      "source": [
        "* We have a variable age representing a person's age.\n",
        "* We use an ```if``` statement to check whether the age is greater than or equal to 18, which is the legal age for one to be eligible to vote.\n",
        "* If the condition is true (age is 18 or older), it prints \"*You are eligible for voting*\"\n",
        "* If the condition is false (age is less than 18), it prints \"*Please try again when you are 18 and over!!*\".\n",
        "\n",
        "This demonstrates how control flow allows us to make decisions and execute different parts of the code based on conditions."
      ],
      "metadata": {
        "id": "RXiu3zhuy-ij"
      }
    },
    {
      "cell_type": "markdown",
      "source": [
        "## Rules for naming variables in Python."
      ],
      "metadata": {
        "id": "SguRViGF0HYK"
      }
    },
    {
      "cell_type": "markdown",
      "source": [
        "* **Valid Characters**: Variable names can contain letters ```(a-z, A-Z)```, digits ```(0-9)```, and underscores ```(_)```. They **cannot** start with a digit. For instance, you can call a variable ```message_1``` but not ```1_message```.\n",
        "\n",
        "* **No Special Characters**: Variable names should not include spaces or any special characters like ```!```, ```@```,``` #```,``` $```,``` %```, etc.\n",
        "\n",
        "* **Case-Sensitivity**: Python variable names are case-sensitive, meaning that variables with different letter cases are considered distinct. For example, ```name```, ```Name```, and ```NAME``` are three different variables.\n",
        "\n",
        "* **Reserved Keywords**: Avoid using Python's reserved keywords as variable names, as they have predefined meanings in the language. Some examples of reserved keywords include ```if```, ```else```, ```while```, ```for```, ```def```, ```class```, ```import```, and ```True```.\n",
        "\n",
        "* **Descriptive and Readable**: Choose descriptive and meaningful variable names that convey the purpose or content of the data they store. This improves the code's readability and makes it easier for others (and your future self) to understand the code.\n",
        "\n",
        "* **Snake Case**: In Python, the convention for multi-word variable names is to use snake case, which involves writing all lowercase letters and separating words with underscores. For example, ```user_age```, ```item_list```, and ```total_count``` are all valid snake case variable names.\n",
        "\n",
        "* **Length Limitation**: While Python allows variable names of any length, it's advisable to keep them reasonably concise to avoid excessive typing and enhance code readability."
      ],
      "metadata": {
        "id": "xf6CIjXV0DNG"
      }
    },
    {
      "cell_type": "markdown",
      "source": [
        "## Avoiding Name Errors When Using Variables"
      ],
      "metadata": {
        "id": "NjUbVDsv0Ncd"
      }
    },
    {
      "cell_type": "markdown",
      "source": [
        "* Every programmer makes mistakes, and most make mistakes every day.\n",
        "* This Mistakes will results into errors, and good programmers know how to respond to those error efficiently."
      ],
      "metadata": {
        "id": "dK79tqjq0RrS"
      }
    },
    {
      "cell_type": "code",
      "source": [
        "# example 1 - Intentionally, let's create a name error\n",
        "print(first_name)"
      ],
      "metadata": {
        "id": "WDUu77_zysht"
      },
      "execution_count": null,
      "outputs": []
    },
    {
      "cell_type": "code",
      "source": [
        "# example 2 - Misspelt variable, student_name instead of student_names\n",
        "print(student_name)"
      ],
      "metadata": {
        "id": "6tlp8roG1t8T"
      },
      "execution_count": null,
      "outputs": []
    },
    {
      "cell_type": "markdown",
      "source": [
        "* Python Interpreter does its best to help you figure out where the problem is by providing a **traceback**.\n",
        "* A *traceback* is a record of where a the interpreter ran into trouble when trying to excute your code.\n",
        "* A **name error** usually means we either forgot to set a variable’s value before using it, or we made a spelling mistake when entering the variable’s name."
      ],
      "metadata": {
        "id": "AmBCWRQU03Rp"
      }
    },
    {
      "cell_type": "markdown",
      "source": [
        "## Knock Yourself Out"
      ],
      "metadata": {
        "id": "-O7GqqVF4sc4"
      }
    },
    {
      "cell_type": "markdown",
      "source": [
        "### Variable Scope\n",
        "In programming, we encounter the concept of variable scope, which determines where a variable can be accessed or modified within our code. Python, like many other programming languages, recognizes two primary types of variable scope: **global** and **local**.italicized text"
      ],
      "metadata": {
        "id": "b5iH9JCU403e"
      }
    },
    {
      "cell_type": "markdown",
      "source": [
        "#### Global Scope\n",
        "\n",
        "* Global scope pertains to variables defined outside of any specific function or code block.\n",
        "* In this scope, we have the freedom to access and modify variables from anywhere in our program, whether it's inside or outside functions.\n",
        "* These global variables persist throughout the entire execution of our program."
      ],
      "metadata": {
        "id": "vMGuCijR5ISw"
      }
    },
    {
      "cell_type": "code",
      "source": [
        "# example\n",
        "global_variable = 10\n",
        "\n",
        "def our_function():\n",
        "  print(global_variable)  # Here, we're accessing the global variable\n",
        "\n",
        "our_function()  # It prints 10"
      ],
      "metadata": {
        "colab": {
          "base_uri": "https://localhost:8080/"
        },
        "id": "tdwV4_gn4r5K",
        "outputId": "1275d5f6-8918-41a8-927b-e9b6a2d30247"
      },
      "execution_count": null,
      "outputs": [
        {
          "output_type": "stream",
          "name": "stdout",
          "text": [
            "10\n"
          ]
        }
      ]
    },
    {
      "cell_type": "code",
      "source": [
        "# We can access global_variable from outside this function.\n",
        "print(global_variable)"
      ],
      "metadata": {
        "colab": {
          "base_uri": "https://localhost:8080/"
        },
        "id": "rNZ0fNYh6O0Q",
        "outputId": "b82ada94-60ac-4cb5-eead-376efc964c20"
      },
      "execution_count": null,
      "outputs": [
        {
          "output_type": "stream",
          "name": "stdout",
          "text": [
            "10\n"
          ]
        }
      ]
    },
    {
      "cell_type": "markdown",
      "source": [
        "#### Local Scope\n",
        "* Local scope, on the other hand, is associated with variables defined within a function.\n",
        "* Variables in this scope can only be accessed and manipulated within the function where they are defined.\n",
        "* They come into existence when the function is called and are discarded when the function exits.\n",
        "\n",
        "\n"
      ],
      "metadata": {
        "id": "gme31Suz5lIn"
      }
    },
    {
      "cell_type": "code",
      "source": [
        "def our_function():\n",
        "  local_variable = 5\n",
        "  print(local_variable)  # Here, we're accessing the local variable\n",
        "\n",
        "our_function()  # It prints 5"
      ],
      "metadata": {
        "colab": {
          "base_uri": "https://localhost:8080/"
        },
        "id": "QYlfN4ng5cGN",
        "outputId": "fd67134a-f7a5-4503-fb5c-5b945f8191e3"
      },
      "execution_count": null,
      "outputs": [
        {
          "output_type": "stream",
          "name": "stdout",
          "text": [
            "5\n"
          ]
        }
      ]
    },
    {
      "cell_type": "code",
      "source": [
        "# Attempting to access local_variable from outside this function would result in an error\n",
        "print(local_variable)"
      ],
      "metadata": {
        "colab": {
          "base_uri": "https://localhost:8080/",
          "height": 197
        },
        "id": "2xjcKaM36FI3",
        "outputId": "0a6e9a52-6590-4e3d-bdd6-844e0dda4acd"
      },
      "execution_count": null,
      "outputs": [
        {
          "output_type": "error",
          "ename": "NameError",
          "evalue": "ignored",
          "traceback": [
            "\u001b[0;31m---------------------------------------------------------------------------\u001b[0m",
            "\u001b[0;31mNameError\u001b[0m                                 Traceback (most recent call last)",
            "\u001b[0;32m<ipython-input-20-7a2cf25b40c0>\u001b[0m in \u001b[0;36m<cell line: 2>\u001b[0;34m()\u001b[0m\n\u001b[1;32m      1\u001b[0m \u001b[0;31m# Attempting to access local_variable from outside this function would result in an error\u001b[0m\u001b[0;34m\u001b[0m\u001b[0;34m\u001b[0m\u001b[0m\n\u001b[0;32m----> 2\u001b[0;31m \u001b[0mprint\u001b[0m\u001b[0;34m(\u001b[0m\u001b[0mlocal_variable\u001b[0m\u001b[0;34m)\u001b[0m\u001b[0;34m\u001b[0m\u001b[0;34m\u001b[0m\u001b[0m\n\u001b[0m",
            "\u001b[0;31mNameError\u001b[0m: name 'local_variable' is not defined"
          ]
        }
      ]
    },
    {
      "cell_type": "markdown",
      "source": [
        "## Summary\n"
      ],
      "metadata": {
        "id": "v7yjRc767y_V"
      }
    },
    {
      "cell_type": "markdown",
      "source": [
        "In this lesson, we laid the foundation for understanding the essential concept of variables in Python. We learned how to declare and assign values to variables, gaining insights into their significance. In the next lesson, we'll delve into the world of variable data types, enhancing our understanding of Python's versatile variable system."
      ],
      "metadata": {
        "id": "DmBIMWeL74Er"
      }
    }
  ]
}