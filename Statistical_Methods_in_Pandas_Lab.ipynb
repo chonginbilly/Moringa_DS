{
  "nbformat": 4,
  "nbformat_minor": 0,
  "metadata": {
    "colab": {
      "provenance": [],
      "include_colab_link": true
    },
    "kernelspec": {
      "name": "python3",
      "display_name": "Python 3"
    },
    "language_info": {
      "name": "python"
    }
  },
  "cells": [
    {
      "cell_type": "markdown",
      "metadata": {
        "id": "view-in-github",
        "colab_type": "text"
      },
      "source": [
        "<a href=\"https://colab.research.google.com/github/chonginbilly/Moringa_DS/blob/Moringa_python/Statistical_Methods_in_Pandas_Lab.ipynb\" target=\"_parent\"><img src=\"https://colab.research.google.com/assets/colab-badge.svg\" alt=\"Open In Colab\"/></a>"
      ]
    },
    {
      "cell_type": "markdown",
      "source": [
        "<font color=\"green\">*To start working on this notebook, or any other notebook that we will use in this course, we will need to save our own copy of it. We can do this by clicking File > Save a Copy in Drive. We will then be able to make edits to our own copy of this notebook.*</font>\n",
        "\n",
        "---"
      ],
      "metadata": {
        "id": "HaAEUKrDxVL4"
      }
    },
    {
      "cell_type": "markdown",
      "source": [
        "## Introduction"
      ],
      "metadata": {
        "id": "4-1GhCKzxRqd"
      }
    },
    {
      "cell_type": "markdown",
      "source": [
        "Welcome, in this session, we aim to empower you with practical skills in data analysis and manipulation. The tasks ahead will guide us through obtaining comprehensive DataFrame-level summary statistics, computing individual column statistics, and applying custom functions using the `.apply()` methods. By actively engaging with the Titanic dataset, you will gain valuable insights into the passengers' demographics, fare distributions, and potential correlations with survival rates. Let's embark on this journey together, sail away!"
      ],
      "metadata": {
        "id": "kmvJ_eXqxLtP"
      }
    },
    {
      "cell_type": "markdown",
      "source": [
        "## Objectives"
      ],
      "metadata": {
        "id": "lsUfPO4Txhgm"
      }
    },
    {
      "cell_type": "markdown",
      "source": [
        "By the end of this lab, you will be able to:\n",
        "\n",
        "- Calculate summary statistics for a series and DataFrame\n",
        "- Compute individual column statistics\n",
        "- Use the .apply() methods to apply a function to a pandas series or DataFrame"
      ],
      "metadata": {
        "id": "CJEI42_5uT37"
      }
    },
    {
      "cell_type": "markdown",
      "source": [
        "## importing libraries"
      ],
      "metadata": {
        "id": "W9mGMVG3yLr7"
      }
    },
    {
      "cell_type": "code",
      "source": [
        "## CODE GOES HERE"
      ],
      "metadata": {
        "id": "QsFmscr9ukgc"
      },
      "execution_count": null,
      "outputs": []
    },
    {
      "cell_type": "markdown",
      "source": [
        "## Aboard the Titanic"
      ],
      "metadata": {
        "id": "RgbYEK420I4T"
      }
    },
    {
      "cell_type": "markdown",
      "source": [
        "Let’s get started, we'll be working with the Titanic dataset. This dataset revolves around the passengers aboard the Titanic during its ill-fated maiden voyage. Each row represents an individual passenger, and columns provide information such as their *age, fare, class*, and *survival status*. This dataset serves as a window into understanding the demographics and characteristics of the passengers, allowing us to apply statistical methods in Pandas for insightful data analysis.You can find the dataset [here](https://drive.google.com/file/d/1Dwrqt3r80WbeukyQ9cuTr7RxC9q8ZBzF/view?usp=sharing)"
      ],
      "metadata": {
        "id": "nWOAiE5ByQzh"
      }
    },
    {
      "cell_type": "code",
      "source": [
        "## Import the Titanic dataset\n",
        "\n",
        "df = None"
      ],
      "metadata": {
        "id": "1dtMksdl0Hed"
      },
      "execution_count": null,
      "outputs": []
    },
    {
      "cell_type": "code",
      "source": [
        "## Preview the first five columns"
      ],
      "metadata": {
        "id": "5RKmWlUj0arX"
      },
      "execution_count": null,
      "outputs": []
    },
    {
      "cell_type": "markdown",
      "source": [
        "## Getting DataFrame-Level Statistics\n",
        "We'll begin by getting some overall summary statistics on the dataset. There are two ways we'll get this information -- `.info()` and `.describe()`.\n",
        "\n",
        "The `.info()` method provides us with metadata on the DataFrame itself. This allows us to answer questions such as:\n",
        "- What data type does each column contain?\n",
        "- How many rows are in my dataset?\n",
        "- How many total non-missing values does each column contain?\n",
        "- How much memory does the DataFrame take up?\n",
        "\n",
        "In the cell below, call our DataFrame's `.info()` method."
      ],
      "metadata": {
        "id": "yKRoTt2N1PSW"
      }
    },
    {
      "cell_type": "code",
      "source": [
        "# Call the .info() method"
      ],
      "metadata": {
        "id": "NKWEB3L50fCc"
      },
      "execution_count": null,
      "outputs": []
    },
    {
      "cell_type": "markdown",
      "source": [
        "Are there any columns with missing values? Name them below and indicate how many values are missing from that column based on the information provided by `.info()`\n",
        "\n",
        "*   `List item` : x\n",
        "*   `List item` : y\n",
        "\n"
      ],
      "metadata": {
        "id": "JrpvudWn1zGN"
      }
    },
    {
      "cell_type": "markdown",
      "source": [
        "Whereas `.info()` provides statistics about the DataFrame itself, `.describe()` returns output containing basic summary statistics about the data contained with the DataFrame.\n",
        "\n",
        "In the cell below, call the DataFrame's `.describe()` method."
      ],
      "metadata": {
        "id": "AdI_HvZC2ZXe"
      }
    },
    {
      "cell_type": "code",
      "source": [
        "# Call the .describe() method"
      ],
      "metadata": {
        "id": "_2eJ36iL1kFS"
      },
      "execution_count": null,
      "outputs": []
    },
    {
      "cell_type": "markdown",
      "source": [
        "**Interpreting the results**\n",
        "\n",
        "The output contains descriptive statistics corresponding to the columns. Use these to answer the following questions:"
      ],
      "metadata": {
        "id": "xHkVJHY62ieC"
      }
    },
    {
      "cell_type": "markdown",
      "source": [
        "- What is the standard deviation of `age` among the passengers? What does this value imply?\n",
        "- How many siblings or spouses (SibSp) are present in the largest family aboard the Titanic?\n",
        "- Conversely, in the smallest family, how many parents or children (Parch) are there?"
      ],
      "metadata": {
        "id": "lPIhlv314cel"
      }
    },
    {
      "cell_type": "markdown",
      "source": [
        "## Computing Individual Column Statistics"
      ],
      "metadata": {
        "id": "WM1Qx_md5UzT"
      }
    },
    {
      "cell_type": "markdown",
      "source": [
        "Pandas also allows us to easily compute individual summary statistics using built-in methods. Next, we'll get some practice using these methods.\n",
        "\n",
        "In the cell below, calculate individual column statistics for the `'Age'` column, including *mean, median,* and *standard deviation*."
      ],
      "metadata": {
        "id": "-GtGT3uW5aYz"
      }
    },
    {
      "cell_type": "code",
      "source": [
        "## CODE GOES HERE"
      ],
      "metadata": {
        "id": "efmA8Ifg2mlE"
      },
      "execution_count": null,
      "outputs": []
    },
    {
      "cell_type": "markdown",
      "source": [
        "Next, compute statistics for the `'Fare'` column, focusing on measures like *minimum, maximum*, and *mean*."
      ],
      "metadata": {
        "id": "vOMVnXI352RB"
      }
    },
    {
      "cell_type": "code",
      "source": [
        "## CODE GOES HERE"
      ],
      "metadata": {
        "id": "9nYHUuTo6COy"
      },
      "execution_count": null,
      "outputs": []
    },
    {
      "cell_type": "markdown",
      "source": [
        "How about you analyze and interpret the results, identifying potential trends or outliers in the *age* and *fare* distributions."
      ],
      "metadata": {
        "id": "_0GrAxq-6F4P"
      }
    },
    {
      "cell_type": "code",
      "source": [
        "## CODE GOES HERE"
      ],
      "metadata": {
        "id": "tSjWYQFq6OvC"
      },
      "execution_count": null,
      "outputs": []
    },
    {
      "cell_type": "markdown",
      "source": [
        "## Getting Summary Statistics on Categorical Data"
      ],
      "metadata": {
        "id": "ia-aAiYQ7ugo"
      }
    },
    {
      "cell_type": "markdown",
      "source": [
        "When dealing with categorical data in the Titanic dataset, we encounter limitations in utilizing methods designed for numerical data. For instance, calculating the standard deviation of a column containing string values is not feasible. However, there are insightful methods available to explore categorical columns. In the cell below, print the unique values present within the `'Embarked'` column.\n"
      ],
      "metadata": {
        "id": "HHBRnnIg6nUd"
      }
    },
    {
      "cell_type": "code",
      "source": [
        "## CODE GOES HERE"
      ],
      "metadata": {
        "id": "GmJWz3yu6yqx"
      },
      "execution_count": null,
      "outputs": []
    },
    {
      "cell_type": "markdown",
      "source": [
        "Next, let's utilize the `value_counts()` method to understand the frequency of each unique value in this column, providing valuable insights into the distribution of embarkation locations."
      ],
      "metadata": {
        "id": "n9int-aM64x_"
      }
    },
    {
      "cell_type": "code",
      "source": [
        "## CODE GOES HERE"
      ],
      "metadata": {
        "id": "JeCntidb68CR"
      },
      "execution_count": null,
      "outputs": []
    },
    {
      "cell_type": "markdown",
      "source": [
        "These operations offer quick and effective ways to extract meaningful information about columns containing categorical data in the Titanic dataset. Question we can be able to answer might include:\n",
        "\n",
        "- What are the unique embarkation locations recorded in the dataset?\n",
        "- How many passengers embarked from each unique location, and what is the distribution among these locations?\n",
        "- Are there any missing or irregular values in the `'Embarked'` column that might require further investigation?"
      ],
      "metadata": {
        "id": "vM1KuM4l6_E1"
      }
    },
    {
      "cell_type": "markdown",
      "source": [
        "##  Applying Functions with `.apply()` Methods"
      ],
      "metadata": {
        "id": "bm3QUBxY8Y0q"
      }
    },
    {
      "cell_type": "markdown",
      "source": [
        "Pandas provides a versatile way to apply custom functions to our data using the `.apply()` method. Let's explore this capability by performing specific tasks on the Titanic dataset."
      ],
      "metadata": {
        "id": "76xhCWzp-5zp"
      }
    },
    {
      "cell_type": "markdown",
      "source": [
        "In the cell below, create a new column named `'Age_Category'` using `.apply()`, categorizing passengers as `'Child'`, `'Adult'`, or `'Senior'` based on their age."
      ],
      "metadata": {
        "id": "dIGhXxR1_OkQ"
      }
    },
    {
      "cell_type": "code",
      "source": [
        "## CODE GOES HERE"
      ],
      "metadata": {
        "id": "B9jNkZm57Ao3"
      },
      "execution_count": null,
      "outputs": []
    },
    {
      "cell_type": "markdown",
      "source": [
        "Next, use `.apply()` to calculate a new column `'Family_Size'` by adding `'SibSp'` and `'Parch'` columns."
      ],
      "metadata": {
        "id": "I71105tS_Uky"
      }
    },
    {
      "cell_type": "code",
      "source": [
        "## CODE GOES HERE"
      ],
      "metadata": {
        "id": "fPUkswoa_Tub"
      },
      "execution_count": null,
      "outputs": []
    },
    {
      "cell_type": "markdown",
      "source": [
        "## Summary"
      ],
      "metadata": {
        "id": "4rFcBnZS_uPK"
      }
    },
    {
      "cell_type": "markdown",
      "source": [
        "Congratulations! Throughout this session, we actively navigated the Titanic dataset, utilizing Panda's methods to derive meaningful insights. You adeptly obtained DataFrame-level summary statistics, dived into individual column statistics, and applied custom functions using powerful `.apply()` methods. This hands-on experience has equipped us with the tools to confidently explore and analyze datasets that will guide us in making informed decisions."
      ],
      "metadata": {
        "id": "Po5DWT-q_0HE"
      }
    }
  ]
}