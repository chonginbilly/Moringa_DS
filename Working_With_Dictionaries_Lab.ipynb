{
  "nbformat": 4,
  "nbformat_minor": 0,
  "metadata": {
    "colab": {
      "provenance": [],
      "toc_visible": true,
      "include_colab_link": true
    },
    "kernelspec": {
      "name": "python3",
      "display_name": "Python 3"
    },
    "language_info": {
      "name": "python"
    }
  },
  "cells": [
    {
      "cell_type": "markdown",
      "metadata": {
        "id": "view-in-github",
        "colab_type": "text"
      },
      "source": [
        "<a href=\"https://colab.research.google.com/github/chonginbilly/Moringa_DS/blob/Moringa_python/Working_With_Dictionaries_Lab.ipynb\" target=\"_parent\"><img src=\"https://colab.research.google.com/assets/colab-badge.svg\" alt=\"Open In Colab\"/></a>"
      ]
    },
    {
      "cell_type": "markdown",
      "source": [
        "<font color=\"green\">*To start working on this notebook, or any other notebook that we will use in this course, we will need to save our own copy of it. We can do this by clicking File > Save a Copy in Drive. We will then be able to make edits to our own copy of this notebook.*</font>\n",
        "\n",
        "---"
      ],
      "metadata": {
        "id": "4gv1WWz7p5Vx"
      }
    },
    {
      "cell_type": "markdown",
      "source": [
        "# Working With Dictionaries Lab"
      ],
      "metadata": {
        "id": "78ZujbXqqgYb"
      }
    },
    {
      "cell_type": "markdown",
      "source": [
        "## Introduction"
      ],
      "metadata": {
        "id": "Lvxi9wFzqrlf"
      }
    },
    {
      "cell_type": "markdown",
      "source": [
        "Welcome to the Python Dictionaries Lab! This hands-on session is designed to reinforce your understanding of dictionaries, a foundational data structure in Python, empowering you to associate keys with values for effective data management.\n",
        "\n",
        "Throughout this lab, we'll dive deeper into working with dictionaries, where you'll grasp their syntax, retrieve specific values, add new entries, and explore the flexibility of nested data structures. By engaging in exercises and practical tasks, we'll boost your confidence in manipulating dictionaries, allowing you to leverage their capabilities in real-world scenarios. Get ready to apply your knowledge and enhance your proficiency in using Python dictionaries! Together, let's embark on these exercises and refine our skills in handling this versatile data structure.\n"
      ],
      "metadata": {
        "id": "M9uaRIrhqk9P"
      }
    },
    {
      "cell_type": "markdown",
      "source": [
        "## Objectives"
      ],
      "metadata": {
        "id": "HVJNhnqPq6er"
      }
    },
    {
      "cell_type": "markdown",
      "source": [
        "You will be able to:\n",
        "\n",
        "* Apply dictionary manipulation techniques to manage and organize information.\n",
        "* Retrieving specific data and assigning new attributes to a dictionary.\n",
        "* Efficiently manage and modify key-value pairs within dictionaries."
      ],
      "metadata": {
        "id": "2zWjyiImq8To"
      }
    },
    {
      "cell_type": "markdown",
      "source": [
        "## Lab Tasks"
      ],
      "metadata": {
        "id": "60pSuONduzmj"
      }
    },
    {
      "cell_type": "markdown",
      "source": [
        "* Let's use a dictionary to hold information about someone you know, including their first name, last name, age, and the city they live in. Create keys like first_name, last_name, age, and city within the dictionary. Then, print out each piece of information stored in the dictionary."
      ],
      "metadata": {
        "id": "Zd0rN-Qpu1qF"
      }
    },
    {
      "cell_type": "code",
      "execution_count": null,
      "metadata": {
        "id": "qIZUlWhdoKaL"
      },
      "outputs": [],
      "source": [
        "# CODE GOES HERE"
      ]
    },
    {
      "cell_type": "markdown",
      "source": [
        "Create a dictionary that includes three major rivers as keys and the corresponding countries they run through as values. For instance, one key-value pair could be `nile: egypt`.\n",
        "- Utilize a loop to generate a sentence about each river, such as \"*The Nile runs through Egypt*.\"\n",
        "- Use another loop to print the name of each river present in the dictionary.\n",
        "- Lastly, employ a loop to print the name of each country included within the dictionary.\n"
      ],
      "metadata": {
        "id": "iW63aytpu7pk"
      }
    },
    {
      "cell_type": "code",
      "source": [
        "# CODE GOES HERE"
      ],
      "metadata": {
        "id": "D8t3p3wBvim-"
      },
      "execution_count": null,
      "outputs": []
    },
    {
      "cell_type": "markdown",
      "source": [
        "* Let's craft a dictionary named `cities`. Assign three city names as keys within this dictionary. For each city, generate a dictionary encompassing details like the country, approximate population, and an interesting fact about the city. Use keys like `country`, `population`, and `fact` for each city's dictionary. Finally, display the name of each city along with the gathered information stored about it."
      ],
      "metadata": {
        "id": "lde9rxdPvlMZ"
      }
    },
    {
      "cell_type": "code",
      "source": [
        "# CODE GOES HERE"
      ],
      "metadata": {
        "id": "loKEqEanwddg"
      },
      "execution_count": null,
      "outputs": []
    },
    {
      "cell_type": "markdown",
      "source": [
        "Imagine we want to represent the information about Naivas Supermarket Shop Menu."
      ],
      "metadata": {
        "id": "H7xODZ8jxfxr"
      }
    },
    {
      "cell_type": "markdown",
      "source": [
        "![Naivas_foods](https://drive.google.com/uc?export=view&id=18pkJnnJy7vBS2pAEKEgYYATGaqP3K-aD)"
      ],
      "metadata": {
        "id": "wT7s9ovOxGCv"
      }
    },
    {
      "cell_type": "markdown",
      "source": [
        "* Create an empty Dictionary called `naivas_shop_menu`. We will later on add, modify and remove Key value pairs from the created dictionary"
      ],
      "metadata": {
        "id": "41IeSdAzyCFg"
      }
    },
    {
      "cell_type": "code",
      "source": [
        "# CODE GOES HERE"
      ],
      "metadata": {
        "id": "fQyCKejPxc1g"
      },
      "execution_count": null,
      "outputs": []
    },
    {
      "cell_type": "markdown",
      "source": [
        "* Expand the dictionary `naivas_shop_menu` by incorporating the key `food additives` alongside its corresponding values, mirroring the structure depicted in the provided image. Each distinct food additive should contain a dropdown menu representing its subcategories, all integrated into the created dictionary. For the subcategories, i.e., `Tomato sauce`, provide examples as values such as `[zesta, peptang, sunfresh, lyons, ken]`."
      ],
      "metadata": {
        "id": "KSjFCJc6yYgG"
      }
    },
    {
      "cell_type": "code",
      "source": [
        "# CODE GOES HERE"
      ],
      "metadata": {
        "id": "cKgIl8-ozLcR"
      },
      "execution_count": null,
      "outputs": []
    },
    {
      "cell_type": "markdown",
      "source": [
        "* We'll enhance the current `naivas_shop_menu` dictionary by introducing two new keys: `Fats & Oils` and `Frozen`. Ensure to incorporate dropdown subcategories within both of these categories of food additives within your dictionary."
      ],
      "metadata": {
        "id": "G1vN8yTUzPPv"
      }
    },
    {
      "cell_type": "code",
      "source": [
        "# CODE GOES HERE"
      ],
      "metadata": {
        "id": "oXfR2MBG2-xx"
      },
      "execution_count": null,
      "outputs": []
    },
    {
      "cell_type": "markdown",
      "source": [
        "* Print the different types of frozen cooked meals."
      ],
      "metadata": {
        "id": "Gie9S0mJ5Dyh"
      }
    },
    {
      "cell_type": "code",
      "source": [
        "# CODE GOES HERE"
      ],
      "metadata": {
        "id": "3_WarXop5Txm"
      },
      "execution_count": null,
      "outputs": []
    },
    {
      "cell_type": "markdown",
      "source": [
        "## Knock yourself out"
      ],
      "metadata": {
        "id": "cpecemTT5WgB"
      }
    },
    {
      "cell_type": "markdown",
      "source": [
        "* For each product within the `naivas_shop_menu` dictionary, incorporate its respective price."
      ],
      "metadata": {
        "id": "Bww1Lr4v5eIM"
      }
    },
    {
      "cell_type": "code",
      "source": [
        "# CODE GOES HERE"
      ],
      "metadata": {
        "id": "XzAHiflV5aEs"
      },
      "execution_count": null,
      "outputs": []
    },
    {
      "cell_type": "markdown",
      "source": [
        "* Showcase any individual product of your preference from a category within the `naivas_shop_menu` dictionary, presenting its associated price."
      ],
      "metadata": {
        "id": "kVhR25f551C-"
      }
    },
    {
      "cell_type": "code",
      "source": [
        "# CODE GOES HERE"
      ],
      "metadata": {
        "id": "itJkHoPL6HBH"
      },
      "execution_count": null,
      "outputs": []
    },
    {
      "cell_type": "markdown",
      "source": [
        "## Summary"
      ],
      "metadata": {
        "id": "TN0IS-_Y6KM6"
      }
    },
    {
      "cell_type": "markdown",
      "source": [
        "In the Python Dictionaries Lab, we explored the diverse capabilities of dictionaries. This practical session involved tasks like organizing city data, managing a shop's menu with product details, and performing operations to access specific product information. Throughout the lab, we focused on creating, modifying, and retrieving data from dictionaries, highlighting their significance in efficiently organizing and accessing information within Python."
      ],
      "metadata": {
        "id": "3DgAHRnc6bE8"
      }
    }
  ]
}