{
  "nbformat": 4,
  "nbformat_minor": 0,
  "metadata": {
    "colab": {
      "provenance": [],
      "include_colab_link": true
    },
    "kernelspec": {
      "name": "python3",
      "display_name": "Python 3"
    },
    "language_info": {
      "name": "python"
    }
  },
  "cells": [
    {
      "cell_type": "markdown",
      "metadata": {
        "id": "view-in-github",
        "colab_type": "text"
      },
      "source": [
        "<a href=\"https://colab.research.google.com/github/chonginbilly/Moringa_DS/blob/Moringa_python/Copy_of_Introduction_to_variables_Data_Types_labs.ipynb\" target=\"_parent\"><img src=\"https://colab.research.google.com/assets/colab-badge.svg\" alt=\"Open In Colab\"/></a>"
      ]
    },
    {
      "cell_type": "markdown",
      "source": [
        "<font color=\"green\">*To start working on this notebook, or any other notebook that we will use in this course, we will need to save our own copy of it. We can do this by clicking File > Save a Copy in Drive. We will then be able to make edits to our own copy of this notebook.*</font>\n",
        "\n",
        "---\n",
        "\n"
      ],
      "metadata": {
        "id": "qA7fjgmS_KYH"
      }
    },
    {
      "cell_type": "markdown",
      "source": [
        "# Introduction to Variables: Data Types - Lab"
      ],
      "metadata": {
        "id": "BVbu3PVI_Mme"
      }
    },
    {
      "cell_type": "markdown",
      "source": [
        "## Introduction"
      ],
      "metadata": {
        "id": "DEPlcN6B_VkZ"
      }
    },
    {
      "cell_type": "markdown",
      "source": [
        "Welcome to the Data Types Lab! In this hands-on session, we'll reinforce our understanding of essential Python data types: strings, numeric types (integers and floats), and Booleans. Get ready to dive into practical exercises that cover string manipulation, arithmetic operations, and the use of Booleans for making logical comparisons.\n"
      ],
      "metadata": {
        "id": "7JPuvcHA_Ya-"
      }
    },
    {
      "cell_type": "markdown",
      "source": [
        "## Objectives"
      ],
      "metadata": {
        "id": "wUEng7Ff_wyj"
      }
    },
    {
      "cell_type": "markdown",
      "source": [
        "You will be able to:\n",
        "* Enhance understanding of string operations, encompassing alterations in case, effective variable utilization, and removal of whitespace.\n",
        "* Perform arithmetic operations involving numeric data types, both integers and floats.\n",
        "* Demonstrate employing comparison operators with Boolean variables.\n",
        "\n",
        "\n"
      ],
      "metadata": {
        "id": "tNHsaH9S_zEk"
      }
    },
    {
      "cell_type": "markdown",
      "source": [
        "## Lab Tasks\n"
      ],
      "metadata": {
        "id": "tMDxqN0GAO2r"
      }
    },
    {
      "cell_type": "markdown",
      "source": [
        "### String Operations"
      ],
      "metadata": {
        "id": "80XdOjBQAWIw"
      }
    },
    {
      "cell_type": "markdown",
      "source": [
        "* Declare a string variable and set it to your favorite quote.\n",
        "* Use a string method to convert the entire quote to uppercase.\n",
        "* Incorporate a variable in a new string that includes the quote and a personal message using an f-string.\n",
        "* Strip any leading or trailing whitespaces from the string."
      ],
      "metadata": {
        "id": "ByHSVWUeAb59"
      }
    },
    {
      "cell_type": "code",
      "execution_count": null,
      "metadata": {
        "id": "WqZhDFCq-hfc",
        "outputId": "a17d51e7-5eb2-4ac1-be31-a2ae6e13936a",
        "colab": {
          "base_uri": "https://localhost:8080/"
        }
      },
      "outputs": [
        {
          "output_type": "stream",
          "name": "stdout",
          "text": [
            "TODAY IS A FANTASTIC DAY.I will be jogging for 90 mins\n"
          ]
        }
      ],
      "source": [
        "# CODE GOES HERE\n",
        "a=\"Today is a fantastic day\"\n",
        "#print(a.upper())\n",
        "Message=\"I will be jogging for 90 mins\"\n",
        "Combined=f\"{a.upper()}.{Message}\"\n",
        "print(Combined)\n",
        "\n"
      ]
    },
    {
      "cell_type": "markdown",
      "source": [
        "### Numeric Operations"
      ],
      "metadata": {
        "id": "lS1OHCVUAnGD"
      }
    },
    {
      "cell_type": "markdown",
      "source": [
        "* Declare an integer variable representing your age and a float variable representing your height (in meters).\n",
        "* Calculate the square of your age and print the result.\n",
        "* Add 1.5 to your height\n",
        "* Print the height."
      ],
      "metadata": {
        "id": "6SnVdz6JAtUz"
      }
    },
    {
      "cell_type": "code",
      "source": [
        "# CODE GOES HERE\n",
        "age = 90\n",
        "height = 6.75\n",
        "# Calculate the square of your age and print the result\n",
        "square = age * age\n",
        "print(f\"The square of your age is {square}\")\n",
        "\n",
        "# Add 1.5 to your height\n",
        "height += 1.5\n",
        "print(f\"updated height is {height} meters\")\n",
        "\n"
      ],
      "metadata": {
        "id": "DkV0EetlAi8b",
        "outputId": "aa3bdc34-a106-487a-e2f7-98c059e7211b",
        "colab": {
          "base_uri": "https://localhost:8080/"
        }
      },
      "execution_count": null,
      "outputs": [
        {
          "output_type": "stream",
          "name": "stdout",
          "text": [
            "The square of your age is 8100\n",
            "updated height is 8.25 meters\n"
          ]
        }
      ]
    },
    {
      "cell_type": "markdown",
      "source": [
        "### Boolean Operations"
      ],
      "metadata": {
        "id": "8yEtgViOBHMG"
      }
    },
    {
      "cell_type": "markdown",
      "source": [
        "* Compare the length of your favorite quote from Task 1 to 50 using a Boolean variable"
      ],
      "metadata": {
        "id": "XPClxZhFBYtY"
      }
    },
    {
      "cell_type": "markdown",
      "source": [
        "<details>\n",
        "  <summary>Hint</summary>\n",
        "\n",
        "  The ```len(variable_name)``` function provides the count of characters comprising the string stored in the specified variable.\n",
        "\n",
        "  ```\n",
        "  name = \"Moringa School\"\n",
        "  len(name)\n",
        "  ```\n",
        "\n",
        "  Returns: 14\n",
        "</details>"
      ],
      "metadata": {
        "id": "-pkUKjieBfUd"
      }
    },
    {
      "cell_type": "markdown",
      "source": [
        "* Create a Boolean variable that is ```True``` if your **age** is greater than 20 and your **height** is less than 1.8 meters, and False otherwise.\n",
        "* Print the results of the Boolean comparisons."
      ],
      "metadata": {
        "id": "z_FIt2HmBgq7"
      }
    },
    {
      "cell_type": "code",
      "source": [
        "# CODE GOES HERE\n",
        "age = 25\n",
        "height = 2.01\n",
        "\n",
        "boolean= age > 20 and height < 1.8\n",
        "\n",
        "# Print the result of the Boolean comparison\n",
        "print(f\"Is your age greater than 20 and your height less than 1.8 meters? {boolean}\")\n"
      ],
      "metadata": {
        "id": "SXO3OE6KEDKF",
        "outputId": "e1d08728-331a-447b-a40a-a2d44b039e12",
        "colab": {
          "base_uri": "https://localhost:8080/"
        }
      },
      "execution_count": null,
      "outputs": [
        {
          "output_type": "stream",
          "name": "stdout",
          "text": [
            "Is your age greater than 20 and your height less than 1.8 meters? False\n"
          ]
        }
      ]
    },
    {
      "cell_type": "markdown",
      "source": [
        "## Summary"
      ],
      "metadata": {
        "id": "iSu3CPFREKBJ"
      }
    },
    {
      "cell_type": "markdown",
      "source": [
        "Awesome! In this lab, we've engaged in practical exercises to reinforce our skills in string manipulation, numeric operations, and Boolean comparisons. These foundational concepts are crucial for effective Python programming and will be invaluable as we advance in our coding journey. Let's keep practicing and experimenting, and enjoy the process of mastering these fundamental data types!"
      ],
      "metadata": {
        "id": "K-r0l9ASEMvd"
      }
    }
  ]
}