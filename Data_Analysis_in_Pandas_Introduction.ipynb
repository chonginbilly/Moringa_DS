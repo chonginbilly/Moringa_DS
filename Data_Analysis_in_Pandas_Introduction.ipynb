{
  "nbformat": 4,
  "nbformat_minor": 0,
  "metadata": {
    "colab": {
      "provenance": [],
      "include_colab_link": true
    },
    "kernelspec": {
      "name": "python3",
      "display_name": "Python 3"
    },
    "language_info": {
      "name": "python"
    }
  },
  "cells": [
    {
      "cell_type": "markdown",
      "metadata": {
        "id": "view-in-github",
        "colab_type": "text"
      },
      "source": [
        "<a href=\"https://colab.research.google.com/github/chonginbilly/Moringa_DS/blob/main/Data_Analysis_in_Pandas_Introduction.ipynb\" target=\"_parent\"><img src=\"https://colab.research.google.com/assets/colab-badge.svg\" alt=\"Open In Colab\"/></a>"
      ]
    },
    {
      "cell_type": "markdown",
      "source": [
        "<font color=\"green\">*To start working on this notebook, or any other notebook that we will use in this course, we will need to save our own copy of it. We can do this by clicking File > Save a Copy in Drive. We will then be able to make edits to our own copy of this notebook.*</font>\n",
        "\n",
        "---"
      ],
      "metadata": {
        "id": "a9yMu5R4s2GE"
      }
    },
    {
      "cell_type": "markdown",
      "source": [
        "# Introduction to Data Analysis in Pandas"
      ],
      "metadata": {
        "id": "4G5HSTaJrie_"
      }
    },
    {
      "cell_type": "markdown",
      "source": [
        "Welcome to the fascinating world of data analysis with Pandas! In this lesson, we'll explore one of the most powerful and widely used Python libraries for data manipulation – Pandas. As we explore its capabilities, you'll discover how Pandas facilitates efficient handling, cleaning, and analysis of structured data. This skill set is essential for extracting valuable insights and patterns from your datasets."
      ],
      "metadata": {
        "id": "QUPZY5XErn16"
      }
    },
    {
      "cell_type": "markdown",
      "source": [
        "## Objectives"
      ],
      "metadata": {
        "id": "51pKu4-6ubvf"
      }
    },
    {
      "cell_type": "markdown",
      "source": [
        "By the end of this lesson, you will be able to:\n",
        "\n",
        "- Understand the role of Pandas in data analysis and manipulation."
      ],
      "metadata": {
        "id": "1Nmafq6Svico"
      }
    },
    {
      "cell_type": "markdown",
      "source": [
        "## Import libraries"
      ],
      "metadata": {
        "id": "dg-nZbCamfoa"
      }
    },
    {
      "cell_type": "code",
      "execution_count": null,
      "metadata": {
        "id": "lR08vR5QlVGG"
      },
      "outputs": [],
      "source": [
        "import csv\n",
        "# for operating system functionalities\n",
        "import os\n",
        "# for numerical operations\n",
        "import numpy as np\n",
        "# for tabular data analysis\n",
        "import pandas as pd"
      ]
    },
    {
      "cell_type": "markdown",
      "source": [
        "## Exploring Python Libraries: Our Gateway to Versatility\n",
        "\n",
        "Python, a language celebrated for its simplicity and versatility, comes alive through its extensive ecosystem of libraries. While base Python provides fundamental functionality for various tasks, the real magic happens when we tap into the vast collection of open-source libraries crafted by the vibrant Python community.\n",
        "\n",
        "In data science, Python shines as a preferred language due to its rich ecosystem. The thriving scientific community has bestowed upon us a treasure trove of specialized packages tailored for advanced data manipulation, analysis, and visualization. These libraries serve as invaluable tools, empowering users to tackle complex tasks with efficiency and ease.\n",
        "\n",
        "Whether you're opening a JSON file, exploring machine learning algorithms, or creating stunning visualizations, Python libraries offer a streamlined path. These libraries, developed and maintained by dedicated volunteers and professionals, epitomize the collaborative spirit of the Python community. As we embark on our data analysis journey, we'll harness the power of these libraries to elevate our Python experience, unlocking new realms of possibilities in the world of data science. Get ready to discover the artistry of Python libraries – your gateway to unparalleled versatility and efficiency.\n"
      ],
      "metadata": {
        "id": "cT1dCnLutyfJ"
      }
    },
    {
      "cell_type": "markdown",
      "source": [
        "## Pandas: Your Data's Best Friend"
      ],
      "metadata": {
        "id": "U4wjb4pUuZo-"
      }
    },
    {
      "cell_type": "markdown",
      "source": [
        "![pandas](https://drive.google.com/uc?export=view&id=1a53XdfP_lQiNO5BxiAC76CHCJJ59y3iw)"
      ],
      "metadata": {
        "id": "V-FPOka8tZGl"
      }
    },
    {
      "cell_type": "markdown",
      "source": [
        "Pandas, an essential Python library, is your trusted companion in the world of data manipulation and analysis. Imagine it as the superhero cape for your datasets, enabling you to effortlessly handle, analyze, and visualize information. With Pandas, tasks that seem daunting become a breeze.\n",
        "\n",
        "This library introduces two fundamental data structures: **Series** and **DataFrame**. A Series is like a **single-column table**, while a DataFrame is your **go-to multi-dimensional table**, akin to a spreadsheet. Armed with these structures, you can filter, sort, and transform your data with simplicity and finesse.\n",
        "\n",
        "Get ready to dive into the Pandas world where data manipulation becomes a joy. It's a must-have in your toolkit as you venture into the captivating realm of data science. For detailed guidance, explore the official [Pandas documentation](https://pandas.pydata.org/pandas-docs/stable/). Let's unleash the power of Pandas and elevate our data game!\n"
      ],
      "metadata": {
        "id": "5QgbFp8wvQW-"
      }
    },
    {
      "cell_type": "markdown",
      "source": [
        "### Why Pandas?"
      ],
      "metadata": {
        "id": "-x2gDLdhrqn3"
      }
    },
    {
      "cell_type": "markdown",
      "source": [
        "Pandas stands as a cornerstone in the field of data science, providing a user-friendly toolkit for Python that streamlines the manipulation of structured data. Its versatility extends from data cleaning to exploration and analysis, making it an indispensable tool for data scientists, analysts, and researchers.\n",
        "\n",
        "Throughout this lesson, you'll witness firsthand how Pandas simplifies tasks such as cleaning and preprocessing data, enabling you to focus on the core aspects of your analysis. Whether you're dealing with spreadsheets, CSV files, databases, or any other structured data source, Pandas empowers you to navigate and extract meaningful information seamlessly.\n",
        "\n",
        "Get ready to enhance your data manipulation skills and unlock the potential of your datasets with Pandas! Let's embark on this exciting journey into the world of data analysis."
      ],
      "metadata": {
        "id": "Yh9qq1pArx4o"
      }
    },
    {
      "cell_type": "markdown",
      "source": [
        "## From `csv.DictReader` to DataFrames"
      ],
      "metadata": {
        "id": "ZzW3eNjy3LjB"
      }
    },
    {
      "cell_type": "markdown",
      "source": [
        "Moving from `csv.DictReader` to Pandas, the spotlight is on the remarkable DataFrame feature within the Pandas library. The DataFrame, akin to a tabular representation of data, brings a new level of flexibility by integrating an index. This means you can effortlessly select and manipulate data using rows or columns, making your data-handling tasks smoother.\n",
        "\n",
        "Now, let's make a swift comparison between using Pandas and the built-in `csv` module. While the base Python syntax might require more intricate maneuvers, Pandas steps in with a syntax that is not only simpler but also more efficient. The DataFrame shines as your tool of choice for navigating and transforming tabular data, offering a seamless experience in the world of data science."
      ],
      "metadata": {
        "id": "zKWp9G693QOC"
      }
    },
    {
      "cell_type": "markdown",
      "source": [
        "We'll utilize the renowned [Iris dataset](https://archive.ics.uci.edu/dataset/53/iris) for our exploration into Pandas. The initial five entries in this dataset are as follows:\n",
        "\n",
        "\n",
        "\n",
        "||||||\n",
        "|:------:|:------:|:------:|:------:|:------:|\n",
        "|sepal_length(cm)|\tsepal_width(cm)|\tpetal_length(cm)|\tpetal_width(cm)|\tclass|\n",
        "|5.1\t|3.5\t|1.4\t|0.2\t|Iris-setosa|\n",
        "|4.9\t|3.0\t|1.4\t|0.2\t|Iris-setosa|\n",
        "|4.7\t|3.2\t|1.3\t|0.2\t|Iris-setosa|\n",
        "|4.6\t|3.1\t|1.5\t|0.2\t|Iris-setosa|\n",
        "|5.0\t|3.6\t|1.4\t|0.2\t|Iris-setosa|"
      ],
      "metadata": {
        "id": "OFGMDhQC3mpL"
      }
    },
    {
      "cell_type": "markdown",
      "source": [
        "### Mount Google Drive"
      ],
      "metadata": {
        "id": "2x-AmULe5mRh"
      }
    },
    {
      "cell_type": "code",
      "source": [
        "from google.colab import drive\n",
        "drive.mount('/content/gdrive')"
      ],
      "metadata": {
        "colab": {
          "base_uri": "https://localhost:8080/"
        },
        "id": "orOzxdvR5pNm",
        "outputId": "0e50f3d8-e8c2-416b-f18a-75157f259e06"
      },
      "execution_count": null,
      "outputs": [
        {
          "output_type": "stream",
          "name": "stdout",
          "text": [
            "Mounted at /content/gdrive\n"
          ]
        }
      ]
    },
    {
      "cell_type": "markdown",
      "source": [
        "Path to the where the data has been stored in **your** google drive."
      ],
      "metadata": {
        "id": "ovryoUSa64ql"
      }
    },
    {
      "cell_type": "code",
      "source": [
        "# Define the path to your data\n",
        "data_path = '/content/gdrive/MyDrive/Product/Naivas Big Data /Data/Iris'\n",
        "\n",
        "# Change the current working directory to the specified path\n",
        "os.chdir(data_path)\n",
        "\n",
        "# List files in the directory\n",
        "files = os.listdir()\n",
        "print(\"Files in the directory:\", files)"
      ],
      "metadata": {
        "colab": {
          "base_uri": "https://localhost:8080/"
        },
        "id": "NHceKnt06cXt",
        "outputId": "3938bfa8-6183-4f99-fde7-8121cfb89234"
      },
      "execution_count": null,
      "outputs": [
        {
          "output_type": "stream",
          "name": "stdout",
          "text": [
            "Files in the directory: ['Index', 'iris.names', 'iris.data']\n"
          ]
        }
      ]
    },
    {
      "cell_type": "code",
      "source": [
        "# current working directory\n",
        "os.getcwd()"
      ],
      "metadata": {
        "colab": {
          "base_uri": "https://localhost:8080/",
          "height": 35
        },
        "id": "JWGKziwb7Nv4",
        "outputId": "7522a828-b9b9-4dab-d219-0af5a4b2770c"
      },
      "execution_count": null,
      "outputs": [
        {
          "output_type": "execute_result",
          "data": {
            "text/plain": [
              "'/content/gdrive/MyDrive/Product/Naivas Big Data /Data/Iris'"
            ],
            "application/vnd.google.colaboratory.intrinsic+json": {
              "type": "string"
            }
          },
          "metadata": {},
          "execution_count": 5
        }
      ]
    },
    {
      "cell_type": "markdown",
      "source": [
        "To open and read the initial 5 lines using the `csv` module, the procedure is as follows:"
      ],
      "metadata": {
        "id": "JT_uopTo8ohK"
      }
    },
    {
      "cell_type": "code",
      "source": [
        "# Using with open and csv.DictReader to read csv\n",
        "with open(\"iris.data\", \"r\") as csvfile:\n",
        "    reader = csv.DictReader(csvfile)\n",
        "    iris_data = list(reader)\n",
        "\n",
        "# Print the first 5 rows of data\n",
        "for index in range(5):\n",
        "    print(iris_data[index])"
      ],
      "metadata": {
        "colab": {
          "base_uri": "https://localhost:8080/"
        },
        "id": "P38H3sBJ8vFu",
        "outputId": "3738b18a-bf51-4204-c056-1b623bcc56bb"
      },
      "execution_count": null,
      "outputs": [
        {
          "output_type": "stream",
          "name": "stdout",
          "text": [
            "{'sepal_length(cm)': '5.1', 'sepal_width(cm)': '3.5', 'petal_length(cm)': '1.4', 'petal_width(cm)': '0.2', 'class': 'Iris-setosa'}\n",
            "{'sepal_length(cm)': '4.9', 'sepal_width(cm)': '3.0', 'petal_length(cm)': '1.4', 'petal_width(cm)': '0.2', 'class': 'Iris-setosa'}\n",
            "{'sepal_length(cm)': '4.7', 'sepal_width(cm)': '3.2', 'petal_length(cm)': '1.3', 'petal_width(cm)': '0.2', 'class': 'Iris-setosa'}\n",
            "{'sepal_length(cm)': '4.6', 'sepal_width(cm)': '3.1', 'petal_length(cm)': '1.5', 'petal_width(cm)': '0.2', 'class': 'Iris-setosa'}\n",
            "{'sepal_length(cm)': '5.0', 'sepal_width(cm)': '3.6', 'petal_length(cm)': '1.4', 'petal_width(cm)': '0.2', 'class': 'Iris-setosa'}\n"
          ]
        }
      ]
    },
    {
      "cell_type": "markdown",
      "source": [
        "We possess a list comprising dictionaries, each sharing identical keys. Suppose we aim to extract all data for the 3rd row (record). This can be accomplished straightforwardly by employing list indexing:"
      ],
      "metadata": {
        "id": "Qn11v7PhHylL"
      }
    },
    {
      "cell_type": "code",
      "source": [
        "# 3rd row\n",
        "iris_data[4]"
      ],
      "metadata": {
        "colab": {
          "base_uri": "https://localhost:8080/"
        },
        "id": "AVMA0fVoA-me",
        "outputId": "cb2a615e-ec44-4c0d-f38d-9b4d7d3db5a2"
      },
      "execution_count": null,
      "outputs": [
        {
          "output_type": "execute_result",
          "data": {
            "text/plain": [
              "{'sepal_length(cm)': '5.0',\n",
              " 'sepal_width(cm)': '3.6',\n",
              " 'petal_length(cm)': '1.4',\n",
              " 'petal_width(cm)': '0.2',\n",
              " 'class': 'Iris-setosa'}"
            ]
          },
          "metadata": {},
          "execution_count": 32
        }
      ]
    },
    {
      "cell_type": "markdown",
      "source": [
        "Now, if our goal is to retrieve all data for the 5th column (i.e., the values associated with the `Class` keys), accomplishing this task is feasible, although it would necessitate the use of a loop or list comprehension. The process might resemble the following:"
      ],
      "metadata": {
        "id": "jQhQn_imIZDM"
      }
    },
    {
      "cell_type": "code",
      "source": [
        "# Extracting all data for the Class using list comprehension\n",
        "class_data = [row['class'] for row in iris_data]\n",
        "\n",
        "# Print the data for the 3rd column\n",
        "print(class_data)"
      ],
      "metadata": {
        "colab": {
          "base_uri": "https://localhost:8080/"
        },
        "id": "6bRlDc7CIcNa",
        "outputId": "4441ff4b-077e-4215-fed9-1952f13baf8b"
      },
      "execution_count": null,
      "outputs": [
        {
          "output_type": "stream",
          "name": "stdout",
          "text": [
            "['Iris-setosa', 'Iris-setosa', 'Iris-setosa', 'Iris-setosa', 'Iris-setosa', 'Iris-setosa', 'Iris-setosa', 'Iris-setosa', 'Iris-setosa', 'Iris-setosa', 'Iris-setosa', 'Iris-setosa', 'Iris-setosa', 'Iris-setosa', 'Iris-setosa', 'Iris-setosa', 'Iris-setosa', 'Iris-setosa', 'Iris-setosa', 'Iris-setosa', 'Iris-setosa', 'Iris-setosa', 'Iris-setosa', 'Iris-setosa', 'Iris-setosa', 'Iris-setosa', 'Iris-setosa', 'Iris-setosa', 'Iris-setosa', 'Iris-setosa', 'Iris-setosa', 'Iris-setosa', 'Iris-setosa', 'Iris-setosa', 'Iris-setosa', 'Iris-setosa', 'Iris-setosa', 'Iris-setosa', 'Iris-setosa', 'Iris-setosa', 'Iris-setosa', 'Iris-setosa', 'Iris-setosa', 'Iris-setosa', 'Iris-setosa', 'Iris-setosa', 'Iris-setosa', 'Iris-setosa', 'Iris-setosa', 'Iris-setosa', 'Iris-versicolor', 'Iris-versicolor', 'Iris-versicolor', 'Iris-versicolor', 'Iris-versicolor', 'Iris-versicolor', 'Iris-versicolor', 'Iris-versicolor', 'Iris-versicolor', 'Iris-versicolor', 'Iris-versicolor', 'Iris-versicolor', 'Iris-versicolor', 'Iris-versicolor', 'Iris-versicolor', 'Iris-versicolor', 'Iris-versicolor', 'Iris-versicolor', 'Iris-versicolor', 'Iris-versicolor', 'Iris-versicolor', 'Iris-versicolor', 'Iris-versicolor', 'Iris-versicolor', 'Iris-versicolor', 'Iris-versicolor', 'Iris-versicolor', 'Iris-versicolor', 'Iris-versicolor', 'Iris-versicolor', 'Iris-versicolor', 'Iris-versicolor', 'Iris-versicolor', 'Iris-versicolor', 'Iris-versicolor', 'Iris-versicolor', 'Iris-versicolor', 'Iris-versicolor', 'Iris-versicolor', 'Iris-versicolor', 'Iris-versicolor', 'Iris-versicolor', 'Iris-versicolor', 'Iris-versicolor', 'Iris-versicolor', 'Iris-versicolor', 'Iris-versicolor', 'Iris-versicolor', 'Iris-versicolor', 'Iris-versicolor', 'Iris-virginica', 'Iris-virginica', 'Iris-virginica', 'Iris-virginica', 'Iris-virginica', 'Iris-virginica', 'Iris-virginica', 'Iris-virginica', 'Iris-virginica', 'Iris-virginica', 'Iris-virginica', 'Iris-virginica', 'Iris-virginica', 'Iris-virginica', 'Iris-virginica', 'Iris-virginica', 'Iris-virginica', 'Iris-virginica', 'Iris-virginica', 'Iris-virginica', 'Iris-virginica', 'Iris-virginica', 'Iris-virginica', 'Iris-virginica', 'Iris-virginica', 'Iris-virginica', 'Iris-virginica', 'Iris-virginica', 'Iris-virginica', 'Iris-virginica', 'Iris-virginica', 'Iris-virginica', 'Iris-virginica', 'Iris-virginica', 'Iris-virginica', 'Iris-virginica', 'Iris-virginica', 'Iris-virginica', 'Iris-virginica', 'Iris-virginica', 'Iris-virginica', 'Iris-virginica', 'Iris-virginica', 'Iris-virginica', 'Iris-virginica', 'Iris-virginica', 'Iris-virginica', 'Iris-virginica', 'Iris-virginica', 'Iris-virginica']\n"
          ]
        }
      ]
    },
    {
      "cell_type": "markdown",
      "source": [
        "## Using Pandas"
      ],
      "metadata": {
        "id": "iV9bw2GKJJ9g"
      }
    },
    {
      "cell_type": "markdown",
      "source": [
        "Using pandas, the same task of selecting data becomes more straightforward. We can create a DataFrame directly from the CSV file, and then we can easily access specific columns or rows."
      ],
      "metadata": {
        "id": "6QISJ1ZHJMaz"
      }
    },
    {
      "cell_type": "markdown",
      "source": [
        "With pandas, accessing columns is as straightforward as accessing rows. For instance, if we convert the `iris_data` (a list of dictionaries) into a DataFrame and then view the first five rows:"
      ],
      "metadata": {
        "id": "GhJPm5cyJpWo"
      }
    },
    {
      "cell_type": "code",
      "source": [
        "# Converting the list of dictionaries into a DataFrame\n",
        "iris_df = pd.DataFrame(iris_data)\n",
        "\n",
        "# Displaying the first five rows of the DataFrame\n",
        "iris_df.head()"
      ],
      "metadata": {
        "colab": {
          "base_uri": "https://localhost:8080/",
          "height": 206
        },
        "id": "RUbmy9vJJris",
        "outputId": "a689a262-eed8-41a7-db9b-e8bf0f056aa4"
      },
      "execution_count": null,
      "outputs": [
        {
          "output_type": "execute_result",
          "data": {
            "text/plain": [
              "  sepal_length(cm) sepal_width(cm) petal_length(cm) petal_width(cm)  \\\n",
              "0              5.1             3.5              1.4             0.2   \n",
              "1              4.9             3.0              1.4             0.2   \n",
              "2              4.7             3.2              1.3             0.2   \n",
              "3              4.6             3.1              1.5             0.2   \n",
              "4              5.0             3.6              1.4             0.2   \n",
              "\n",
              "         class  \n",
              "0  Iris-setosa  \n",
              "1  Iris-setosa  \n",
              "2  Iris-setosa  \n",
              "3  Iris-setosa  \n",
              "4  Iris-setosa  "
            ],
            "text/html": [
              "\n",
              "  <div id=\"df-949a1ef5-31b2-4671-9d6e-38e531ae2cb0\" class=\"colab-df-container\">\n",
              "    <div>\n",
              "<style scoped>\n",
              "    .dataframe tbody tr th:only-of-type {\n",
              "        vertical-align: middle;\n",
              "    }\n",
              "\n",
              "    .dataframe tbody tr th {\n",
              "        vertical-align: top;\n",
              "    }\n",
              "\n",
              "    .dataframe thead th {\n",
              "        text-align: right;\n",
              "    }\n",
              "</style>\n",
              "<table border=\"1\" class=\"dataframe\">\n",
              "  <thead>\n",
              "    <tr style=\"text-align: right;\">\n",
              "      <th></th>\n",
              "      <th>sepal_length(cm)</th>\n",
              "      <th>sepal_width(cm)</th>\n",
              "      <th>petal_length(cm)</th>\n",
              "      <th>petal_width(cm)</th>\n",
              "      <th>class</th>\n",
              "    </tr>\n",
              "  </thead>\n",
              "  <tbody>\n",
              "    <tr>\n",
              "      <th>0</th>\n",
              "      <td>5.1</td>\n",
              "      <td>3.5</td>\n",
              "      <td>1.4</td>\n",
              "      <td>0.2</td>\n",
              "      <td>Iris-setosa</td>\n",
              "    </tr>\n",
              "    <tr>\n",
              "      <th>1</th>\n",
              "      <td>4.9</td>\n",
              "      <td>3.0</td>\n",
              "      <td>1.4</td>\n",
              "      <td>0.2</td>\n",
              "      <td>Iris-setosa</td>\n",
              "    </tr>\n",
              "    <tr>\n",
              "      <th>2</th>\n",
              "      <td>4.7</td>\n",
              "      <td>3.2</td>\n",
              "      <td>1.3</td>\n",
              "      <td>0.2</td>\n",
              "      <td>Iris-setosa</td>\n",
              "    </tr>\n",
              "    <tr>\n",
              "      <th>3</th>\n",
              "      <td>4.6</td>\n",
              "      <td>3.1</td>\n",
              "      <td>1.5</td>\n",
              "      <td>0.2</td>\n",
              "      <td>Iris-setosa</td>\n",
              "    </tr>\n",
              "    <tr>\n",
              "      <th>4</th>\n",
              "      <td>5.0</td>\n",
              "      <td>3.6</td>\n",
              "      <td>1.4</td>\n",
              "      <td>0.2</td>\n",
              "      <td>Iris-setosa</td>\n",
              "    </tr>\n",
              "  </tbody>\n",
              "</table>\n",
              "</div>\n",
              "    <div class=\"colab-df-buttons\">\n",
              "\n",
              "  <div class=\"colab-df-container\">\n",
              "    <button class=\"colab-df-convert\" onclick=\"convertToInteractive('df-949a1ef5-31b2-4671-9d6e-38e531ae2cb0')\"\n",
              "            title=\"Convert this dataframe to an interactive table.\"\n",
              "            style=\"display:none;\">\n",
              "\n",
              "  <svg xmlns=\"http://www.w3.org/2000/svg\" height=\"24px\" viewBox=\"0 -960 960 960\">\n",
              "    <path d=\"M120-120v-720h720v720H120Zm60-500h600v-160H180v160Zm220 220h160v-160H400v160Zm0 220h160v-160H400v160ZM180-400h160v-160H180v160Zm440 0h160v-160H620v160ZM180-180h160v-160H180v160Zm440 0h160v-160H620v160Z\"/>\n",
              "  </svg>\n",
              "    </button>\n",
              "\n",
              "  <style>\n",
              "    .colab-df-container {\n",
              "      display:flex;\n",
              "      gap: 12px;\n",
              "    }\n",
              "\n",
              "    .colab-df-convert {\n",
              "      background-color: #E8F0FE;\n",
              "      border: none;\n",
              "      border-radius: 50%;\n",
              "      cursor: pointer;\n",
              "      display: none;\n",
              "      fill: #1967D2;\n",
              "      height: 32px;\n",
              "      padding: 0 0 0 0;\n",
              "      width: 32px;\n",
              "    }\n",
              "\n",
              "    .colab-df-convert:hover {\n",
              "      background-color: #E2EBFA;\n",
              "      box-shadow: 0px 1px 2px rgba(60, 64, 67, 0.3), 0px 1px 3px 1px rgba(60, 64, 67, 0.15);\n",
              "      fill: #174EA6;\n",
              "    }\n",
              "\n",
              "    .colab-df-buttons div {\n",
              "      margin-bottom: 4px;\n",
              "    }\n",
              "\n",
              "    [theme=dark] .colab-df-convert {\n",
              "      background-color: #3B4455;\n",
              "      fill: #D2E3FC;\n",
              "    }\n",
              "\n",
              "    [theme=dark] .colab-df-convert:hover {\n",
              "      background-color: #434B5C;\n",
              "      box-shadow: 0px 1px 3px 1px rgba(0, 0, 0, 0.15);\n",
              "      filter: drop-shadow(0px 1px 2px rgba(0, 0, 0, 0.3));\n",
              "      fill: #FFFFFF;\n",
              "    }\n",
              "  </style>\n",
              "\n",
              "    <script>\n",
              "      const buttonEl =\n",
              "        document.querySelector('#df-949a1ef5-31b2-4671-9d6e-38e531ae2cb0 button.colab-df-convert');\n",
              "      buttonEl.style.display =\n",
              "        google.colab.kernel.accessAllowed ? 'block' : 'none';\n",
              "\n",
              "      async function convertToInteractive(key) {\n",
              "        const element = document.querySelector('#df-949a1ef5-31b2-4671-9d6e-38e531ae2cb0');\n",
              "        const dataTable =\n",
              "          await google.colab.kernel.invokeFunction('convertToInteractive',\n",
              "                                                    [key], {});\n",
              "        if (!dataTable) return;\n",
              "\n",
              "        const docLinkHtml = 'Like what you see? Visit the ' +\n",
              "          '<a target=\"_blank\" href=https://colab.research.google.com/notebooks/data_table.ipynb>data table notebook</a>'\n",
              "          + ' to learn more about interactive tables.';\n",
              "        element.innerHTML = '';\n",
              "        dataTable['output_type'] = 'display_data';\n",
              "        await google.colab.output.renderOutput(dataTable, element);\n",
              "        const docLink = document.createElement('div');\n",
              "        docLink.innerHTML = docLinkHtml;\n",
              "        element.appendChild(docLink);\n",
              "      }\n",
              "    </script>\n",
              "  </div>\n",
              "\n",
              "\n",
              "<div id=\"df-906c796f-9342-4b10-85c5-e2aa46771fb2\">\n",
              "  <button class=\"colab-df-quickchart\" onclick=\"quickchart('df-906c796f-9342-4b10-85c5-e2aa46771fb2')\"\n",
              "            title=\"Suggest charts\"\n",
              "            style=\"display:none;\">\n",
              "\n",
              "<svg xmlns=\"http://www.w3.org/2000/svg\" height=\"24px\"viewBox=\"0 0 24 24\"\n",
              "     width=\"24px\">\n",
              "    <g>\n",
              "        <path d=\"M19 3H5c-1.1 0-2 .9-2 2v14c0 1.1.9 2 2 2h14c1.1 0 2-.9 2-2V5c0-1.1-.9-2-2-2zM9 17H7v-7h2v7zm4 0h-2V7h2v10zm4 0h-2v-4h2v4z\"/>\n",
              "    </g>\n",
              "</svg>\n",
              "  </button>\n",
              "\n",
              "<style>\n",
              "  .colab-df-quickchart {\n",
              "      --bg-color: #E8F0FE;\n",
              "      --fill-color: #1967D2;\n",
              "      --hover-bg-color: #E2EBFA;\n",
              "      --hover-fill-color: #174EA6;\n",
              "      --disabled-fill-color: #AAA;\n",
              "      --disabled-bg-color: #DDD;\n",
              "  }\n",
              "\n",
              "  [theme=dark] .colab-df-quickchart {\n",
              "      --bg-color: #3B4455;\n",
              "      --fill-color: #D2E3FC;\n",
              "      --hover-bg-color: #434B5C;\n",
              "      --hover-fill-color: #FFFFFF;\n",
              "      --disabled-bg-color: #3B4455;\n",
              "      --disabled-fill-color: #666;\n",
              "  }\n",
              "\n",
              "  .colab-df-quickchart {\n",
              "    background-color: var(--bg-color);\n",
              "    border: none;\n",
              "    border-radius: 50%;\n",
              "    cursor: pointer;\n",
              "    display: none;\n",
              "    fill: var(--fill-color);\n",
              "    height: 32px;\n",
              "    padding: 0;\n",
              "    width: 32px;\n",
              "  }\n",
              "\n",
              "  .colab-df-quickchart:hover {\n",
              "    background-color: var(--hover-bg-color);\n",
              "    box-shadow: 0 1px 2px rgba(60, 64, 67, 0.3), 0 1px 3px 1px rgba(60, 64, 67, 0.15);\n",
              "    fill: var(--button-hover-fill-color);\n",
              "  }\n",
              "\n",
              "  .colab-df-quickchart-complete:disabled,\n",
              "  .colab-df-quickchart-complete:disabled:hover {\n",
              "    background-color: var(--disabled-bg-color);\n",
              "    fill: var(--disabled-fill-color);\n",
              "    box-shadow: none;\n",
              "  }\n",
              "\n",
              "  .colab-df-spinner {\n",
              "    border: 2px solid var(--fill-color);\n",
              "    border-color: transparent;\n",
              "    border-bottom-color: var(--fill-color);\n",
              "    animation:\n",
              "      spin 1s steps(1) infinite;\n",
              "  }\n",
              "\n",
              "  @keyframes spin {\n",
              "    0% {\n",
              "      border-color: transparent;\n",
              "      border-bottom-color: var(--fill-color);\n",
              "      border-left-color: var(--fill-color);\n",
              "    }\n",
              "    20% {\n",
              "      border-color: transparent;\n",
              "      border-left-color: var(--fill-color);\n",
              "      border-top-color: var(--fill-color);\n",
              "    }\n",
              "    30% {\n",
              "      border-color: transparent;\n",
              "      border-left-color: var(--fill-color);\n",
              "      border-top-color: var(--fill-color);\n",
              "      border-right-color: var(--fill-color);\n",
              "    }\n",
              "    40% {\n",
              "      border-color: transparent;\n",
              "      border-right-color: var(--fill-color);\n",
              "      border-top-color: var(--fill-color);\n",
              "    }\n",
              "    60% {\n",
              "      border-color: transparent;\n",
              "      border-right-color: var(--fill-color);\n",
              "    }\n",
              "    80% {\n",
              "      border-color: transparent;\n",
              "      border-right-color: var(--fill-color);\n",
              "      border-bottom-color: var(--fill-color);\n",
              "    }\n",
              "    90% {\n",
              "      border-color: transparent;\n",
              "      border-bottom-color: var(--fill-color);\n",
              "    }\n",
              "  }\n",
              "</style>\n",
              "\n",
              "  <script>\n",
              "    async function quickchart(key) {\n",
              "      const quickchartButtonEl =\n",
              "        document.querySelector('#' + key + ' button');\n",
              "      quickchartButtonEl.disabled = true;  // To prevent multiple clicks.\n",
              "      quickchartButtonEl.classList.add('colab-df-spinner');\n",
              "      try {\n",
              "        const charts = await google.colab.kernel.invokeFunction(\n",
              "            'suggestCharts', [key], {});\n",
              "      } catch (error) {\n",
              "        console.error('Error during call to suggestCharts:', error);\n",
              "      }\n",
              "      quickchartButtonEl.classList.remove('colab-df-spinner');\n",
              "      quickchartButtonEl.classList.add('colab-df-quickchart-complete');\n",
              "    }\n",
              "    (() => {\n",
              "      let quickchartButtonEl =\n",
              "        document.querySelector('#df-906c796f-9342-4b10-85c5-e2aa46771fb2 button');\n",
              "      quickchartButtonEl.style.display =\n",
              "        google.colab.kernel.accessAllowed ? 'block' : 'none';\n",
              "    })();\n",
              "  </script>\n",
              "</div>\n",
              "    </div>\n",
              "  </div>\n"
            ]
          },
          "metadata": {},
          "execution_count": 12
        }
      ]
    },
    {
      "cell_type": "markdown",
      "source": [
        "After importing the pandas library and assigning the standard alias `pd`, we used the DataFrame constructor to convert our existing list of dictionaries into a DataFrame.\n",
        "\n",
        "Now, with a more straightforward syntax, we can extract all the information from the `class` column:\n"
      ],
      "metadata": {
        "id": "Dq6st3svJ_CK"
      }
    },
    {
      "cell_type": "code",
      "source": [
        "# information about the class column\n",
        "iris_df['class']"
      ],
      "metadata": {
        "colab": {
          "base_uri": "https://localhost:8080/"
        },
        "id": "TYfJNtJLKExU",
        "outputId": "c34ffcab-783e-49d7-ff5c-83a32df03bf7"
      },
      "execution_count": null,
      "outputs": [
        {
          "output_type": "execute_result",
          "data": {
            "text/plain": [
              "0         Iris-setosa\n",
              "1         Iris-setosa\n",
              "2         Iris-setosa\n",
              "3         Iris-setosa\n",
              "4         Iris-setosa\n",
              "            ...      \n",
              "145    Iris-virginica\n",
              "146    Iris-virginica\n",
              "147    Iris-virginica\n",
              "148    Iris-virginica\n",
              "149    Iris-virginica\n",
              "Name: class, Length: 150, dtype: object"
            ]
          },
          "metadata": {},
          "execution_count": 13
        }
      ]
    },
    {
      "cell_type": "markdown",
      "source": [
        "However, extracting information by row is also straightforward, similar to how it was done with the list of dictionaries:"
      ],
      "metadata": {
        "id": "nuuy8LpYKVVC"
      }
    },
    {
      "cell_type": "code",
      "source": [
        "# extracting information about a row\n",
        "iris_df.iloc[3]"
      ],
      "metadata": {
        "colab": {
          "base_uri": "https://localhost:8080/"
        },
        "id": "LboF2TZzKXii",
        "outputId": "fd96b219-d082-4650-8d2a-2875f458411d"
      },
      "execution_count": null,
      "outputs": [
        {
          "output_type": "execute_result",
          "data": {
            "text/plain": [
              "sepal_length(cm)            4.6\n",
              "sepal_width(cm)             3.1\n",
              "petal_length(cm)            1.5\n",
              "petal_width(cm)             0.2\n",
              "class               Iris-setosa\n",
              "Name: 3, dtype: object"
            ]
          },
          "metadata": {},
          "execution_count": 37
        }
      ]
    },
    {
      "cell_type": "markdown",
      "source": [
        "We can eliminate the use of the `csv` module and the `iris_data` variable by directly reading the data from the CSV file. Simply specify the file path:"
      ],
      "metadata": {
        "id": "7j68HxJtK0cu"
      }
    },
    {
      "cell_type": "code",
      "source": [
        "df = pd.read_csv('iris.data')\n",
        "df"
      ],
      "metadata": {
        "colab": {
          "base_uri": "https://localhost:8080/",
          "height": 423
        },
        "id": "GN6FH98EK39c",
        "outputId": "f42b5d65-7c5f-4838-e6d5-f69ab5205b5f"
      },
      "execution_count": null,
      "outputs": [
        {
          "output_type": "execute_result",
          "data": {
            "text/plain": [
              "     sepal_length(cm)  sepal_width(cm)  petal_length(cm)  petal_width(cm)  \\\n",
              "0                 5.1              3.5               1.4              0.2   \n",
              "1                 4.9              3.0               1.4              0.2   \n",
              "2                 4.7              3.2               1.3              0.2   \n",
              "3                 4.6              3.1               1.5              0.2   \n",
              "4                 5.0              3.6               1.4              0.2   \n",
              "..                ...              ...               ...              ...   \n",
              "145               6.7              3.0               5.2              2.3   \n",
              "146               6.3              2.5               5.0              1.9   \n",
              "147               6.5              3.0               5.2              2.0   \n",
              "148               6.2              3.4               5.4              2.3   \n",
              "149               5.9              3.0               5.1              1.8   \n",
              "\n",
              "              class  \n",
              "0       Iris-setosa  \n",
              "1       Iris-setosa  \n",
              "2       Iris-setosa  \n",
              "3       Iris-setosa  \n",
              "4       Iris-setosa  \n",
              "..              ...  \n",
              "145  Iris-virginica  \n",
              "146  Iris-virginica  \n",
              "147  Iris-virginica  \n",
              "148  Iris-virginica  \n",
              "149  Iris-virginica  \n",
              "\n",
              "[150 rows x 5 columns]"
            ],
            "text/html": [
              "\n",
              "  <div id=\"df-ff8549c8-2e38-49ff-9ab9-f1926df6341b\" class=\"colab-df-container\">\n",
              "    <div>\n",
              "<style scoped>\n",
              "    .dataframe tbody tr th:only-of-type {\n",
              "        vertical-align: middle;\n",
              "    }\n",
              "\n",
              "    .dataframe tbody tr th {\n",
              "        vertical-align: top;\n",
              "    }\n",
              "\n",
              "    .dataframe thead th {\n",
              "        text-align: right;\n",
              "    }\n",
              "</style>\n",
              "<table border=\"1\" class=\"dataframe\">\n",
              "  <thead>\n",
              "    <tr style=\"text-align: right;\">\n",
              "      <th></th>\n",
              "      <th>sepal_length(cm)</th>\n",
              "      <th>sepal_width(cm)</th>\n",
              "      <th>petal_length(cm)</th>\n",
              "      <th>petal_width(cm)</th>\n",
              "      <th>class</th>\n",
              "    </tr>\n",
              "  </thead>\n",
              "  <tbody>\n",
              "    <tr>\n",
              "      <th>0</th>\n",
              "      <td>5.1</td>\n",
              "      <td>3.5</td>\n",
              "      <td>1.4</td>\n",
              "      <td>0.2</td>\n",
              "      <td>Iris-setosa</td>\n",
              "    </tr>\n",
              "    <tr>\n",
              "      <th>1</th>\n",
              "      <td>4.9</td>\n",
              "      <td>3.0</td>\n",
              "      <td>1.4</td>\n",
              "      <td>0.2</td>\n",
              "      <td>Iris-setosa</td>\n",
              "    </tr>\n",
              "    <tr>\n",
              "      <th>2</th>\n",
              "      <td>4.7</td>\n",
              "      <td>3.2</td>\n",
              "      <td>1.3</td>\n",
              "      <td>0.2</td>\n",
              "      <td>Iris-setosa</td>\n",
              "    </tr>\n",
              "    <tr>\n",
              "      <th>3</th>\n",
              "      <td>4.6</td>\n",
              "      <td>3.1</td>\n",
              "      <td>1.5</td>\n",
              "      <td>0.2</td>\n",
              "      <td>Iris-setosa</td>\n",
              "    </tr>\n",
              "    <tr>\n",
              "      <th>4</th>\n",
              "      <td>5.0</td>\n",
              "      <td>3.6</td>\n",
              "      <td>1.4</td>\n",
              "      <td>0.2</td>\n",
              "      <td>Iris-setosa</td>\n",
              "    </tr>\n",
              "    <tr>\n",
              "      <th>...</th>\n",
              "      <td>...</td>\n",
              "      <td>...</td>\n",
              "      <td>...</td>\n",
              "      <td>...</td>\n",
              "      <td>...</td>\n",
              "    </tr>\n",
              "    <tr>\n",
              "      <th>145</th>\n",
              "      <td>6.7</td>\n",
              "      <td>3.0</td>\n",
              "      <td>5.2</td>\n",
              "      <td>2.3</td>\n",
              "      <td>Iris-virginica</td>\n",
              "    </tr>\n",
              "    <tr>\n",
              "      <th>146</th>\n",
              "      <td>6.3</td>\n",
              "      <td>2.5</td>\n",
              "      <td>5.0</td>\n",
              "      <td>1.9</td>\n",
              "      <td>Iris-virginica</td>\n",
              "    </tr>\n",
              "    <tr>\n",
              "      <th>147</th>\n",
              "      <td>6.5</td>\n",
              "      <td>3.0</td>\n",
              "      <td>5.2</td>\n",
              "      <td>2.0</td>\n",
              "      <td>Iris-virginica</td>\n",
              "    </tr>\n",
              "    <tr>\n",
              "      <th>148</th>\n",
              "      <td>6.2</td>\n",
              "      <td>3.4</td>\n",
              "      <td>5.4</td>\n",
              "      <td>2.3</td>\n",
              "      <td>Iris-virginica</td>\n",
              "    </tr>\n",
              "    <tr>\n",
              "      <th>149</th>\n",
              "      <td>5.9</td>\n",
              "      <td>3.0</td>\n",
              "      <td>5.1</td>\n",
              "      <td>1.8</td>\n",
              "      <td>Iris-virginica</td>\n",
              "    </tr>\n",
              "  </tbody>\n",
              "</table>\n",
              "<p>150 rows × 5 columns</p>\n",
              "</div>\n",
              "    <div class=\"colab-df-buttons\">\n",
              "\n",
              "  <div class=\"colab-df-container\">\n",
              "    <button class=\"colab-df-convert\" onclick=\"convertToInteractive('df-ff8549c8-2e38-49ff-9ab9-f1926df6341b')\"\n",
              "            title=\"Convert this dataframe to an interactive table.\"\n",
              "            style=\"display:none;\">\n",
              "\n",
              "  <svg xmlns=\"http://www.w3.org/2000/svg\" height=\"24px\" viewBox=\"0 -960 960 960\">\n",
              "    <path d=\"M120-120v-720h720v720H120Zm60-500h600v-160H180v160Zm220 220h160v-160H400v160Zm0 220h160v-160H400v160ZM180-400h160v-160H180v160Zm440 0h160v-160H620v160ZM180-180h160v-160H180v160Zm440 0h160v-160H620v160Z\"/>\n",
              "  </svg>\n",
              "    </button>\n",
              "\n",
              "  <style>\n",
              "    .colab-df-container {\n",
              "      display:flex;\n",
              "      gap: 12px;\n",
              "    }\n",
              "\n",
              "    .colab-df-convert {\n",
              "      background-color: #E8F0FE;\n",
              "      border: none;\n",
              "      border-radius: 50%;\n",
              "      cursor: pointer;\n",
              "      display: none;\n",
              "      fill: #1967D2;\n",
              "      height: 32px;\n",
              "      padding: 0 0 0 0;\n",
              "      width: 32px;\n",
              "    }\n",
              "\n",
              "    .colab-df-convert:hover {\n",
              "      background-color: #E2EBFA;\n",
              "      box-shadow: 0px 1px 2px rgba(60, 64, 67, 0.3), 0px 1px 3px 1px rgba(60, 64, 67, 0.15);\n",
              "      fill: #174EA6;\n",
              "    }\n",
              "\n",
              "    .colab-df-buttons div {\n",
              "      margin-bottom: 4px;\n",
              "    }\n",
              "\n",
              "    [theme=dark] .colab-df-convert {\n",
              "      background-color: #3B4455;\n",
              "      fill: #D2E3FC;\n",
              "    }\n",
              "\n",
              "    [theme=dark] .colab-df-convert:hover {\n",
              "      background-color: #434B5C;\n",
              "      box-shadow: 0px 1px 3px 1px rgba(0, 0, 0, 0.15);\n",
              "      filter: drop-shadow(0px 1px 2px rgba(0, 0, 0, 0.3));\n",
              "      fill: #FFFFFF;\n",
              "    }\n",
              "  </style>\n",
              "\n",
              "    <script>\n",
              "      const buttonEl =\n",
              "        document.querySelector('#df-ff8549c8-2e38-49ff-9ab9-f1926df6341b button.colab-df-convert');\n",
              "      buttonEl.style.display =\n",
              "        google.colab.kernel.accessAllowed ? 'block' : 'none';\n",
              "\n",
              "      async function convertToInteractive(key) {\n",
              "        const element = document.querySelector('#df-ff8549c8-2e38-49ff-9ab9-f1926df6341b');\n",
              "        const dataTable =\n",
              "          await google.colab.kernel.invokeFunction('convertToInteractive',\n",
              "                                                    [key], {});\n",
              "        if (!dataTable) return;\n",
              "\n",
              "        const docLinkHtml = 'Like what you see? Visit the ' +\n",
              "          '<a target=\"_blank\" href=https://colab.research.google.com/notebooks/data_table.ipynb>data table notebook</a>'\n",
              "          + ' to learn more about interactive tables.';\n",
              "        element.innerHTML = '';\n",
              "        dataTable['output_type'] = 'display_data';\n",
              "        await google.colab.output.renderOutput(dataTable, element);\n",
              "        const docLink = document.createElement('div');\n",
              "        docLink.innerHTML = docLinkHtml;\n",
              "        element.appendChild(docLink);\n",
              "      }\n",
              "    </script>\n",
              "  </div>\n",
              "\n",
              "\n",
              "<div id=\"df-304d66de-dd9a-41fe-9cc7-7f16654b8d2a\">\n",
              "  <button class=\"colab-df-quickchart\" onclick=\"quickchart('df-304d66de-dd9a-41fe-9cc7-7f16654b8d2a')\"\n",
              "            title=\"Suggest charts\"\n",
              "            style=\"display:none;\">\n",
              "\n",
              "<svg xmlns=\"http://www.w3.org/2000/svg\" height=\"24px\"viewBox=\"0 0 24 24\"\n",
              "     width=\"24px\">\n",
              "    <g>\n",
              "        <path d=\"M19 3H5c-1.1 0-2 .9-2 2v14c0 1.1.9 2 2 2h14c1.1 0 2-.9 2-2V5c0-1.1-.9-2-2-2zM9 17H7v-7h2v7zm4 0h-2V7h2v10zm4 0h-2v-4h2v4z\"/>\n",
              "    </g>\n",
              "</svg>\n",
              "  </button>\n",
              "\n",
              "<style>\n",
              "  .colab-df-quickchart {\n",
              "      --bg-color: #E8F0FE;\n",
              "      --fill-color: #1967D2;\n",
              "      --hover-bg-color: #E2EBFA;\n",
              "      --hover-fill-color: #174EA6;\n",
              "      --disabled-fill-color: #AAA;\n",
              "      --disabled-bg-color: #DDD;\n",
              "  }\n",
              "\n",
              "  [theme=dark] .colab-df-quickchart {\n",
              "      --bg-color: #3B4455;\n",
              "      --fill-color: #D2E3FC;\n",
              "      --hover-bg-color: #434B5C;\n",
              "      --hover-fill-color: #FFFFFF;\n",
              "      --disabled-bg-color: #3B4455;\n",
              "      --disabled-fill-color: #666;\n",
              "  }\n",
              "\n",
              "  .colab-df-quickchart {\n",
              "    background-color: var(--bg-color);\n",
              "    border: none;\n",
              "    border-radius: 50%;\n",
              "    cursor: pointer;\n",
              "    display: none;\n",
              "    fill: var(--fill-color);\n",
              "    height: 32px;\n",
              "    padding: 0;\n",
              "    width: 32px;\n",
              "  }\n",
              "\n",
              "  .colab-df-quickchart:hover {\n",
              "    background-color: var(--hover-bg-color);\n",
              "    box-shadow: 0 1px 2px rgba(60, 64, 67, 0.3), 0 1px 3px 1px rgba(60, 64, 67, 0.15);\n",
              "    fill: var(--button-hover-fill-color);\n",
              "  }\n",
              "\n",
              "  .colab-df-quickchart-complete:disabled,\n",
              "  .colab-df-quickchart-complete:disabled:hover {\n",
              "    background-color: var(--disabled-bg-color);\n",
              "    fill: var(--disabled-fill-color);\n",
              "    box-shadow: none;\n",
              "  }\n",
              "\n",
              "  .colab-df-spinner {\n",
              "    border: 2px solid var(--fill-color);\n",
              "    border-color: transparent;\n",
              "    border-bottom-color: var(--fill-color);\n",
              "    animation:\n",
              "      spin 1s steps(1) infinite;\n",
              "  }\n",
              "\n",
              "  @keyframes spin {\n",
              "    0% {\n",
              "      border-color: transparent;\n",
              "      border-bottom-color: var(--fill-color);\n",
              "      border-left-color: var(--fill-color);\n",
              "    }\n",
              "    20% {\n",
              "      border-color: transparent;\n",
              "      border-left-color: var(--fill-color);\n",
              "      border-top-color: var(--fill-color);\n",
              "    }\n",
              "    30% {\n",
              "      border-color: transparent;\n",
              "      border-left-color: var(--fill-color);\n",
              "      border-top-color: var(--fill-color);\n",
              "      border-right-color: var(--fill-color);\n",
              "    }\n",
              "    40% {\n",
              "      border-color: transparent;\n",
              "      border-right-color: var(--fill-color);\n",
              "      border-top-color: var(--fill-color);\n",
              "    }\n",
              "    60% {\n",
              "      border-color: transparent;\n",
              "      border-right-color: var(--fill-color);\n",
              "    }\n",
              "    80% {\n",
              "      border-color: transparent;\n",
              "      border-right-color: var(--fill-color);\n",
              "      border-bottom-color: var(--fill-color);\n",
              "    }\n",
              "    90% {\n",
              "      border-color: transparent;\n",
              "      border-bottom-color: var(--fill-color);\n",
              "    }\n",
              "  }\n",
              "</style>\n",
              "\n",
              "  <script>\n",
              "    async function quickchart(key) {\n",
              "      const quickchartButtonEl =\n",
              "        document.querySelector('#' + key + ' button');\n",
              "      quickchartButtonEl.disabled = true;  // To prevent multiple clicks.\n",
              "      quickchartButtonEl.classList.add('colab-df-spinner');\n",
              "      try {\n",
              "        const charts = await google.colab.kernel.invokeFunction(\n",
              "            'suggestCharts', [key], {});\n",
              "      } catch (error) {\n",
              "        console.error('Error during call to suggestCharts:', error);\n",
              "      }\n",
              "      quickchartButtonEl.classList.remove('colab-df-spinner');\n",
              "      quickchartButtonEl.classList.add('colab-df-quickchart-complete');\n",
              "    }\n",
              "    (() => {\n",
              "      let quickchartButtonEl =\n",
              "        document.querySelector('#df-304d66de-dd9a-41fe-9cc7-7f16654b8d2a button');\n",
              "      quickchartButtonEl.style.display =\n",
              "        google.colab.kernel.accessAllowed ? 'block' : 'none';\n",
              "    })();\n",
              "  </script>\n",
              "</div>\n",
              "    </div>\n",
              "  </div>\n"
            ]
          },
          "metadata": {},
          "execution_count": 14
        }
      ]
    },
    {
      "cell_type": "markdown",
      "source": [
        "## Features of Pandas"
      ],
      "metadata": {
        "id": "xZFIPHL9LWK4"
      }
    },
    {
      "cell_type": "markdown",
      "source": [
        "The code snippets above showcase two prominent features of the pandas library as highlighted on the pandas [about page](https://pandas.pydata.org/about/):\n",
        "\n",
        "1. A fast and efficient **DataFrame** object designed for data manipulation with integrated indexing.\n",
        "2. Tools for seamless **reading and writing of data** between in-memory data structures and various formats, including CSV and text files, Microsoft Excel, SQL databases, and the high-performance HDF5 format.\n",
        "\n",
        "Additional key features include:\n",
        "\n",
        "- Intelligent **data alignment** and integrated **handling of missing data**, allowing for automatic label-based alignment in computations and easy manipulation of messy data into an organized form.\n",
        "- Flexible **reshaping** and pivoting of data sets.\n",
        "- Intelligent label-based **slicing**, fancy **indexing**, and **subsetting** of large data sets.\n",
        "- Aggregating or transforming data with a powerful **group-by** engine that facilitates split-apply-combine operations on data sets.\n",
        "- High-performance **merging and joining** of data sets.\n",
        "- **Time series** functionality, including date range generation, frequency conversion, moving window statistics, date shifting, and lagging. Users can even create domain-specific time offsets and join time series without losing data.\n",
        "- Highly **optimized for performance**, with critical code paths written in Cython or C.\n",
        "\n",
        "In this module, we will explore these features in more detail.\n"
      ],
      "metadata": {
        "id": "Y9yLyumCLiKe"
      }
    },
    {
      "cell_type": "markdown",
      "source": [
        "## Summary"
      ],
      "metadata": {
        "id": "n0xjYyYpMvVT"
      }
    },
    {
      "cell_type": "markdown",
      "source": [
        "In this introductory lesson, we explored the pandas library, a robust tool for data manipulation and analysis in Python. The focus was on understanding the core features of pandas, particularly its central data structure, the DataFrame. We witnessed the transition from using the CSV module and DictReader to pandas, illustrating the library's efficiency and user-friendly syntax. The lesson highlighted the ease of creating a DataFrame from a list of dictionaries and demonstrated the straightforward methods for accessing rows and columns in pandas. Using the iris dataset, we showcased the simplicity of reading and analyzing tabular data with pandas. Additionally, we discussed notable features of pandas, including integrated indexing, versatile data reading and writing tools, intelligent data alignment, and support for time series functionality. As we progress in the course, we will delve into more advanced pandas features, leveraging its capabilities for efficient data manipulation and analysis."
      ],
      "metadata": {
        "id": "3u5bsrmOMxWf"
      }
    }
  ]
}