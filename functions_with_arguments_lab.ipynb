{
  "nbformat": 4,
  "nbformat_minor": 0,
  "metadata": {
    "colab": {
      "provenance": [],
      "include_colab_link": true
    },
    "kernelspec": {
      "name": "python3",
      "display_name": "Python 3"
    },
    "language_info": {
      "name": "python"
    }
  },
  "cells": [
    {
      "cell_type": "markdown",
      "metadata": {
        "id": "view-in-github",
        "colab_type": "text"
      },
      "source": [
        "<a href=\"https://colab.research.google.com/github/chonginbilly/Moringa_DS/blob/Moringa_python/functions_with_arguments_lab.ipynb\" target=\"_parent\"><img src=\"https://colab.research.google.com/assets/colab-badge.svg\" alt=\"Open In Colab\"/></a>"
      ]
    },
    {
      "cell_type": "markdown",
      "source": [
        "<font color=\"green\">*To start working on this notebook, or any other notebook that we will use in this course, we will need to save our own copy of it. We can do this by clicking File > Save a Copy in Drive. We will then be able to make edits to our own copy of this notebook.*</font>\n",
        "\n",
        "---"
      ],
      "metadata": {
        "id": "tdY_ta87qwsM"
      }
    },
    {
      "cell_type": "markdown",
      "source": [
        "# Functions with Arguments Lab"
      ],
      "metadata": {
        "id": "yxvG0kWDtRBt"
      }
    },
    {
      "cell_type": "markdown",
      "source": [
        "## Introduction"
      ],
      "metadata": {
        "id": "9xqJVNyUtVD2"
      }
    },
    {
      "cell_type": "markdown",
      "source": [
        "In this exciting lab, we find ourselves at the heart of a virtual football stadium, witnessing a legendary match between Croatia and France in the 2018 World Cup! The stakes are high, and as aspiring football data analysts, our goal is to dissect the performance of these two powerhouse teams.\n",
        "\n",
        "But before we dive into the action, let's get to know the star players, analyze key statistics, and, most importantly, celebrate the spirit of football! Get ready to explore the dynamic world of soccer analytics as we kick off this thrilling lab adventure.\n"
      ],
      "metadata": {
        "id": "UH2c815YQZGA"
      }
    },
    {
      "cell_type": "markdown",
      "source": [
        "## Objectives"
      ],
      "metadata": {
        "id": "9dkeXQjSRHmH"
      }
    },
    {
      "cell_type": "markdown",
      "source": [
        "You will be able to:\n",
        "\n",
        "- Define and utilize a function with arguments."
      ],
      "metadata": {
        "id": "mgbQGEPFRReM"
      }
    },
    {
      "cell_type": "markdown",
      "source": [
        "## Navigating the 2018 World Cup: Croatia vs. France"
      ],
      "metadata": {
        "id": "AUo2K2uxEleW"
      }
    },
    {
      "cell_type": "markdown",
      "source": [
        "Now, let's introduce our two competing teams: Croatia and France. Using detailed dictionaries, we'll capture every aspect of these teams, from their captains to their strategic formations. It's time to bring the football magic to the world of Python programming!"
      ],
      "metadata": {
        "id": "sB6MBp4lSJn-"
      }
    },
    {
      "cell_type": "code",
      "execution_count": null,
      "metadata": {
        "id": "urQo_RGWqvwn"
      },
      "outputs": [],
      "source": [
        "# Run this cell without changes\n",
        "france_performance = {\n",
        "  \"team\": \"France\",\n",
        "  \"opponent\": \"Croatia\",\n",
        "  \"goals_scored\": 4,\n",
        "  \"goals_conceded\": 2,\n",
        "  \"captain\": \"Hugo Lloris\",\n",
        "  \"num_completed_passes\": 423,\n",
        "  \"num_attempted_passes\": 484,\n",
        "  \"fouls_committed\": 16,\n",
        "  \"starting_lineup\": [\"Hugo Lloris\", \"Benjamin Pavard\", \"Raphael Varane\", \"Samuel Umtiti\", \"Paul Pogba\", \"Antoine Griezmann\", \"Kylian Mbappe\", \"Ousmane Dembele\", \"Corentin Tolisso\", \"Ngolo Kante\", \"Lucas Hernandez\"],\n",
        "  \"formation\": \"4-3-3\"\n",
        "}"
      ]
    },
    {
      "cell_type": "code",
      "source": [
        "# Run this cell without changes\n",
        "croatia_performance = {\n",
        "  \"team\": \"Croatia\",\n",
        "  \"opponent\": \"France\",\n",
        "  \"goals_scored\": 2,\n",
        "  \"goals_conceded\": 4,\n",
        "  \"captain\": \"Luka Modric\",\n",
        "  \"num_completed_passes\": 335,\n",
        "  \"num_attempted_passes\": 382,\n",
        "  \"fouls_committed\": 14,\n",
        "  \"starting_lineup\": [\"Danijel Subasic\", \"Sime Vrsaljko\", \"Dejan Lovren\", \"Domagoj Vida\", \"Ivan Strinic\", \"Ivan Rakitic\", \"Luka Modric\", \"Ante Rebic\", \"Andrej Kramaric\", \"Ivan Perisic\", \"Mario Mandzukic\"],\n",
        "  \"formation\": \"4-2-3-1\"\n",
        "}"
      ],
      "metadata": {
        "id": "YNBE6-7QRtWz"
      },
      "execution_count": null,
      "outputs": []
    },
    {
      "cell_type": "markdown",
      "source": [
        "As we are aware, a swift method to inspect the characteristics of a dictionary involves examining its keys. Let’s inspect out two teams:"
      ],
      "metadata": {
        "id": "iC_549vVS7IA"
      }
    },
    {
      "cell_type": "code",
      "source": [
        "# Run this cell without changes\n",
        "\n",
        "france_performance.keys()"
      ],
      "metadata": {
        "colab": {
          "base_uri": "https://localhost:8080/"
        },
        "id": "zNHURxhhR5LB",
        "outputId": "7054ae7f-45bf-4f10-e6a3-81020744c780"
      },
      "execution_count": null,
      "outputs": [
        {
          "output_type": "execute_result",
          "data": {
            "text/plain": [
              "dict_keys(['team', 'opponent', 'goals_scored', 'goals_conceded', 'captain', 'num_completed_passes', 'num_attempted_passes', 'fouls_committed', 'starting_lineup', 'formation'])"
            ]
          },
          "metadata": {},
          "execution_count": 5
        }
      ]
    },
    {
      "cell_type": "code",
      "source": [
        "# Run this cell without changes\n",
        "\n",
        "croatia_performance.keys()"
      ],
      "metadata": {
        "colab": {
          "base_uri": "https://localhost:8080/"
        },
        "id": "eJEs1fz8SouN",
        "outputId": "a445ee97-3802-4388-8ed6-c3cfc3d4c793"
      },
      "execution_count": null,
      "outputs": [
        {
          "output_type": "execute_result",
          "data": {
            "text/plain": [
              "dict_keys(['team', 'opponent', 'goals_scored', 'goals_conceded', 'captain', 'num_completed_passes', 'num_attempted_passes', 'fouls_committed', 'starting_lineup', 'formation'])"
            ]
          },
          "metadata": {},
          "execution_count": 6
        }
      ]
    },
    {
      "cell_type": "code",
      "source": [
        "# Run this cell without changes\n",
        "\n",
        "france_performance.keys() == croatia_performance.keys()"
      ],
      "metadata": {
        "colab": {
          "base_uri": "https://localhost:8080/"
        },
        "id": "B0BZHYXHS8h6",
        "outputId": "db2ddf52-db4c-48b2-89a2-32f8ec78e6f4"
      },
      "execution_count": null,
      "outputs": [
        {
          "output_type": "execute_result",
          "data": {
            "text/plain": [
              "True"
            ]
          },
          "metadata": {},
          "execution_count": 7
        }
      ]
    },
    {
      "cell_type": "markdown",
      "source": [
        "In this comparison, we confirm that the information provided for both France and Croatia's performance in the World Cup final is identical."
      ],
      "metadata": {
        "id": "X1naCyxlTt2w"
      }
    },
    {
      "cell_type": "markdown",
      "source": [
        "## Lab Tasks"
      ],
      "metadata": {
        "id": "BeP7GZNdVoR1"
      }
    },
    {
      "cell_type": "markdown",
      "source": [
        "**Task 1: Goals scored**\n",
        "- Create a function named `get_goals_scored` that takes a team's performance dictionary as an argument and returns the number of goals scored by that team in the World Cup Final.\n",
        "\n"
      ],
      "metadata": {
        "id": "UAvMs4DcVqdx"
      }
    },
    {
      "cell_type": "code",
      "source": [
        "## CODE GOES HERE"
      ],
      "metadata": {
        "id": "B2FY629YTHIB"
      },
      "execution_count": null,
      "outputs": []
    },
    {
      "cell_type": "markdown",
      "source": [
        "**Task 2: Starting Lineup**\n",
        "- Implement a function called `get_starting_lineup` that accepts a team's performance dictionary and returns the list of players in the starting lineup for the World Cup Final.\n",
        "\n"
      ],
      "metadata": {
        "id": "b-yu2z3AVvms"
      }
    },
    {
      "cell_type": "code",
      "source": [
        "## CODE GOES HERE"
      ],
      "metadata": {
        "id": "5n3yDAJCVz5t"
      },
      "execution_count": null,
      "outputs": []
    },
    {
      "cell_type": "markdown",
      "source": [
        "**Task 3: Captain**\n",
        "- Develop a function named `get_captain` which takes a team's performance dictionary as an argument and returns the name of the team's captain during the World Cup Final.\n"
      ],
      "metadata": {
        "id": "vlqHQ7NOV1rn"
      }
    },
    {
      "cell_type": "code",
      "source": [
        "## CODE GOES HERE"
      ],
      "metadata": {
        "id": "ts4BxB5bV4rT"
      },
      "execution_count": null,
      "outputs": []
    },
    {
      "cell_type": "markdown",
      "source": [
        "**Task 4: Pass Accuracy**\n",
        "- Create a function called `calculate_pass_accuracy` that accepts a team's performance dictionary and calculates the pass accuracy by dividing the number of completed passes by the number of attempted passes, returning the result as a percentage"
      ],
      "metadata": {
        "id": "JE4kHOfMV6s4"
      }
    },
    {
      "cell_type": "code",
      "source": [
        "## CODE GOES HERE"
      ],
      "metadata": {
        "id": "cSkf6SYwV90s"
      },
      "execution_count": null,
      "outputs": []
    },
    {
      "cell_type": "markdown",
      "source": [
        "## Summary"
      ],
      "metadata": {
        "id": "QcOZYLJ0WlDa"
      }
    },
    {
      "cell_type": "markdown",
      "source": [
        "In this lab, we delved into the captivating world of football, analyzing the thrilling World Cup Final performances of France and Croatia. Through a series of skill-testing tasks, we honed our ability to leverage Python functions with arguments, exploring the intricacies of function definitions and calls. We harnessed the power of dictionaries to extract key details such as goals scored, starting lineups, team captains, and pass accuracy. This hands-on experience not only solidified our understanding of functions but also provided a practical application of our newfound Python prowess. Through this engaging journey, we not only tackled the challenges posed by the lab tasks but also elevated our coding skills, reinforcing our proficiency in Python programming."
      ],
      "metadata": {
        "id": "rFs66ZTbWm8s"
      }
    }
  ]
}