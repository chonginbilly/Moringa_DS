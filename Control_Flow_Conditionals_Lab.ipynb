{
  "nbformat": 4,
  "nbformat_minor": 0,
  "metadata": {
    "colab": {
      "provenance": [],
      "include_colab_link": true
    },
    "kernelspec": {
      "name": "python3",
      "display_name": "Python 3"
    },
    "language_info": {
      "name": "python"
    }
  },
  "cells": [
    {
      "cell_type": "markdown",
      "metadata": {
        "id": "view-in-github",
        "colab_type": "text"
      },
      "source": [
        "<a href=\"https://colab.research.google.com/github/chonginbilly/Moringa_DS/blob/Moringa_python/Control_Flow_Conditionals_Lab.ipynb\" target=\"_parent\"><img src=\"https://colab.research.google.com/assets/colab-badge.svg\" alt=\"Open In Colab\"/></a>"
      ]
    },
    {
      "cell_type": "markdown",
      "source": [
        "<font color=\"green\">*To start working on this notebook, or any other notebook that we will use in this course, we will need to save our own copy of it. We can do this by clicking File > Save a Copy in Drive. We will then be able to make edits to our own copy of this notebook.*</font>\n",
        "\n",
        "---"
      ],
      "metadata": {
        "id": "cV0I3HKOj-T0"
      }
    },
    {
      "cell_type": "markdown",
      "source": [
        "# Control Flow: Conditionals - Lab"
      ],
      "metadata": {
        "id": "uJhIYTxwkVZj"
      }
    },
    {
      "cell_type": "markdown",
      "source": [
        "## Introduction"
      ],
      "metadata": {
        "id": "d6gMBXjtkebk"
      }
    },
    {
      "cell_type": "markdown",
      "source": [
        "Having acquired a comprehensive understanding of conditionals, we are now poised to put our knowledge into practical use. Our next task involves crafting discerning conditional statements that intelligently assign values to variables based on predefined conditions. This lab serves as a hands-on application of our acquired knowledge, emphasizing the strategic use of Python's conditional constructs for precise and selective variable assignments. Through this practical endeavor, we aim to reinforce our proficiency in utilizing conditionals to create tailored and effective programming logic."
      ],
      "metadata": {
        "id": "dheoW1ZxkgjY"
      }
    },
    {
      "cell_type": "markdown",
      "source": [
        "## Objectives"
      ],
      "metadata": {
        "id": "HJT7JjcokiUH"
      }
    },
    {
      "cell_type": "markdown",
      "source": [
        "You will be able to:\n",
        "* Use Python conditional constructs to enhance code logic and decision-making."
      ],
      "metadata": {
        "id": "XZnwuBjEknD3"
      }
    },
    {
      "cell_type": "markdown",
      "source": [
        "## Lab Tasks"
      ],
      "metadata": {
        "id": "6aqghk5IlH5r"
      }
    },
    {
      "cell_type": "markdown",
      "source": [
        "### Pass / Fail Determination"
      ],
      "metadata": {
        "id": "pw_X6o-AlKS3"
      }
    },
    {
      "cell_type": "markdown",
      "source": [
        "* Create a script for a grading system. Define a variable that stores a student's exam score, and determine whether the student passed or failed based on a predefined passing threshold. Output a corresponding message.\n"
      ],
      "metadata": {
        "id": "64iSW30jl13g"
      }
    },
    {
      "cell_type": "code",
      "execution_count": null,
      "metadata": {
        "id": "vN0BGvVSi9eM"
      },
      "outputs": [],
      "source": [
        "# CODE GOES HERE"
      ]
    },
    {
      "cell_type": "markdown",
      "source": [
        "### Student Grade Determination"
      ],
      "metadata": {
        "id": "2hcozu2mmTxa"
      }
    },
    {
      "cell_type": "markdown",
      "source": [
        "* Modify the above script to output the grade the student scored based on a defined grading threshold of your own choosing.\n",
        "* Ensure that the grading system is robust by incorporating checks to prevent erroneous input such as negative numbers or scores exceeding the valid range of 0 to 100. This ensures the accuracy and reliability of the grading process.\n"
      ],
      "metadata": {
        "id": "hcf9ILTomX9c"
      }
    },
    {
      "cell_type": "code",
      "source": [
        "## CODE GOES HERE"
      ],
      "metadata": {
        "id": "PUUPPFXNmXSO"
      },
      "execution_count": null,
      "outputs": []
    },
    {
      "cell_type": "markdown",
      "source": [
        "### Temperature Assessment"
      ],
      "metadata": {
        "id": "fNzlMua0naoV"
      }
    },
    {
      "cell_type": "markdown",
      "source": [
        "* Imagine you are building a weather application. Create a Python program that uses a defined value for the current temperature and outputs a message based on whether it's hot, mild, or cold.\n"
      ],
      "metadata": {
        "id": "gZkuPwhAnjcs"
      }
    },
    {
      "cell_type": "code",
      "source": [
        "## CODE GOES HERE"
      ],
      "metadata": {
        "id": "-_Jo2WqNnclY"
      },
      "execution_count": null,
      "outputs": []
    },
    {
      "cell_type": "markdown",
      "source": [
        "### Age Classifier"
      ],
      "metadata": {
        "id": "8XKZhqQ0noUL"
      }
    },
    {
      "cell_type": "markdown",
      "source": [
        "* Construct a Python script that requests the user's age and categorizes it into different groups (e.g., child, teenager, adult, senior). Output a message based on the identified age group.\n"
      ],
      "metadata": {
        "id": "y_HPE5_Dn0DH"
      }
    },
    {
      "cell_type": "code",
      "source": [
        "## CODE GOES HERE"
      ],
      "metadata": {
        "id": "DQ-qkhX5nxEG"
      },
      "execution_count": null,
      "outputs": []
    },
    {
      "cell_type": "markdown",
      "source": [
        "## Summary"
      ],
      "metadata": {
        "id": "4L60x5XEn95m"
      }
    },
    {
      "cell_type": "markdown",
      "source": [
        "Great job! In this lab, we applied our understanding of conditionals to selectively assign values according to specified conditions. This marks the beginning of incorporating conditionals in diverse ways throughout our code, showcasing their versatility and utility in solving more intricate problems. As we progress, we'll witness the expanding role of conditionals in addressing complex challenges within our coding endeavors."
      ],
      "metadata": {
        "id": "lPOQFGrCn5fu"
      }
    }
  ]
}