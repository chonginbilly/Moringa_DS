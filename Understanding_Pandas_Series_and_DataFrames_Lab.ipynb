{
  "nbformat": 4,
  "nbformat_minor": 0,
  "metadata": {
    "colab": {
      "provenance": [],
      "include_colab_link": true
    },
    "kernelspec": {
      "name": "python3",
      "display_name": "Python 3"
    },
    "language_info": {
      "name": "python"
    }
  },
  "cells": [
    {
      "cell_type": "markdown",
      "metadata": {
        "id": "view-in-github",
        "colab_type": "text"
      },
      "source": [
        "<a href=\"https://colab.research.google.com/github/chonginbilly/Moringa_DS/blob/Moringa_python/Understanding_Pandas_Series_and_DataFrames_Lab.ipynb\" target=\"_parent\"><img src=\"https://colab.research.google.com/assets/colab-badge.svg\" alt=\"Open In Colab\"/></a>"
      ]
    },
    {
      "cell_type": "markdown",
      "source": [
        "<font color=\"green\">*To start working on this notebook, or any other notebook that we will use in this course, we will need to save our own copy of it. We can do this by clicking File > Save a Copy in Drive. We will then be able to make edits to our own copy of this notebook.*</font>\n",
        "\n",
        "---"
      ],
      "metadata": {
        "id": "EA7Uk8fMX7Un"
      }
    },
    {
      "cell_type": "markdown",
      "source": [
        "# Understanding Pandas Series and DataFrames - Lab"
      ],
      "metadata": {
        "id": "ZnE_CmN1X-dA"
      }
    },
    {
      "cell_type": "markdown",
      "source": [
        "## Introduction"
      ],
      "metadata": {
        "id": "YtuW2Anki_iU"
      }
    },
    {
      "cell_type": "markdown",
      "source": [
        "In this lab, let's get some hands-on practice into various aspects of data manipulation and analysis using Pandas, focusing on key objectives covered in our recent lessons. Throughout the exercises, we'll actively engage with the dataset, applying our knowledge to create and manipulate Pandas Series, construct and modify DataFrames, strategically apply functions for versatile data manipulation, and manage DataFrame indices.\n",
        "\n",
        "By actively participating in these tasks, we aim to reinforce your understanding of these essential Pandas concepts and their practical applications. So, let's dive in!!\n"
      ],
      "metadata": {
        "id": "y2YYMIYTjBfe"
      }
    },
    {
      "cell_type": "markdown",
      "source": [
        "## Objectives"
      ],
      "metadata": {
        "id": "MP57auVsjGeC"
      }
    },
    {
      "cell_type": "markdown",
      "source": [
        "By the end of this lesson, you will be able to:\n",
        "\n",
        "- Create and manipulate Pandas Series.\n",
        "- Construct, modify, and comprehend Pandas DataFrames.\n",
        "- Apply functions to DataFrames strategically.\n",
        "- Manage and customize DataFrame indices."
      ],
      "metadata": {
        "id": "J_eyUqzEjcnH"
      }
    },
    {
      "cell_type": "markdown",
      "source": [
        "## Importing the libraries"
      ],
      "metadata": {
        "id": "0zG7Na4ejn31"
      }
    },
    {
      "cell_type": "code",
      "execution_count": null,
      "metadata": {
        "id": "dGWEQTKtXx-y"
      },
      "outputs": [],
      "source": [
        "## CODE GOES HERE"
      ]
    },
    {
      "cell_type": "markdown",
      "source": [
        "## Loading the Data"
      ],
      "metadata": {
        "id": "Vo84O42hjslU"
      }
    },
    {
      "cell_type": "markdown",
      "source": [
        "The data we are going to use for this lab is the [Car Evaluation](https://archive.ics.uci.edu/dataset/19/car+evaluation).  It contains various attributes related to car features, such as buying price, maintenance cost, number of doors, number of passengers, luggage capacity, safety rating, and the class of the car (which is the target variable)."
      ],
      "metadata": {
        "id": "MVDirLVBju2s"
      }
    },
    {
      "cell_type": "code",
      "source": [
        "## CODE GOES HERE"
      ],
      "metadata": {
        "id": "PMMirD5xjsBd"
      },
      "execution_count": null,
      "outputs": []
    },
    {
      "cell_type": "markdown",
      "source": [
        "Its very important to do a background check of your data file to understand what you are dealing with."
      ],
      "metadata": {
        "id": "vtf64BtOkT6j"
      }
    },
    {
      "cell_type": "code",
      "source": [
        "# preview the first five columns"
      ],
      "metadata": {
        "id": "hxaojDmLkjBr"
      },
      "execution_count": null,
      "outputs": []
    },
    {
      "cell_type": "markdown",
      "source": [
        "Return a tuple that indicates the number of rows and columns that make up the data."
      ],
      "metadata": {
        "id": "RSpzwAjvkv6I"
      }
    },
    {
      "cell_type": "code",
      "source": [
        "## CODE GOES HERE"
      ],
      "metadata": {
        "id": "XUODQ3F4k3si"
      },
      "execution_count": null,
      "outputs": []
    },
    {
      "cell_type": "markdown",
      "source": [
        "Provide a general report that seeks to provide a summary desciption of the data."
      ],
      "metadata": {
        "id": "oTqMhZnqkQRq"
      }
    },
    {
      "cell_type": "code",
      "source": [
        "## CODE GOES HERE"
      ],
      "metadata": {
        "id": "c9wpcaspk5mD"
      },
      "execution_count": null,
      "outputs": []
    },
    {
      "cell_type": "markdown",
      "source": [
        "## Lab Tasks"
      ],
      "metadata": {
        "id": "UsIIOd3blDjs"
      }
    },
    {
      "cell_type": "markdown",
      "source": [
        "**Task 1: Price Range Analysis**\n",
        "   - Create a Pandas Series from the `buying_price` column of the Car Evaluation dataset.\n",
        "   - Perform basic statistical operations on the Series, such as finding the mean, median, and maximum value.\n"
      ],
      "metadata": {
        "id": "fLiP-yAxlyFw"
      }
    },
    {
      "cell_type": "code",
      "source": [
        "## CODE GOES HERE"
      ],
      "metadata": {
        "id": "OrxRKxqklFFD"
      },
      "execution_count": null,
      "outputs": []
    },
    {
      "cell_type": "markdown",
      "source": [
        "\n",
        "**Task 2: Passenger Count Transformation**\n",
        "   - Create a new Pandas Series from the `num_passengers` column.\n",
        "   - Use the `apply()` function to transform the values. For example, double the values in the Series."
      ],
      "metadata": {
        "id": "HyYVfYZLl811"
      }
    },
    {
      "cell_type": "code",
      "source": [
        "## CODE GOES HERE"
      ],
      "metadata": {
        "id": "4ti-eZ70l_0i"
      },
      "execution_count": null,
      "outputs": []
    },
    {
      "cell_type": "markdown",
      "source": [
        "\n",
        "**Task 3: Luggage Capacity Categorization**\n",
        "   - Create a Pandas Series from the `luggage_capacity` column.\n",
        "   - Categorize the luggage capacity into *Small, Medium*, and *Large* using a custom function and the `map()` method."
      ],
      "metadata": {
        "id": "ukddjkc9mAeR"
      }
    },
    {
      "cell_type": "code",
      "source": [
        "## CODE GOES HERE"
      ],
      "metadata": {
        "id": "xgLLS0ZdmDKJ"
      },
      "execution_count": null,
      "outputs": []
    },
    {
      "cell_type": "markdown",
      "source": [
        "**Task 4: Dataframe Exploration**\n",
        "   - Create a new DataFrame containing only the `buying_price`, `maintenance_cost`, and `safety_rating` columns from the Car Evaluation dataset.\n",
        "   - Display basic information about the DataFrame, such as column names, data types, and summary statistics."
      ],
      "metadata": {
        "id": "cfAMtKKwmDzp"
      }
    },
    {
      "cell_type": "code",
      "source": [
        "## CODE GOES HERE"
      ],
      "metadata": {
        "id": "_XNw_wgtmGnn"
      },
      "execution_count": null,
      "outputs": []
    },
    {
      "cell_type": "markdown",
      "source": [
        "**Task 5: Adding a New Feature**\n",
        "   - Add a new column to the Car Evaluation DataFrame representing the total cost by combining the `buying_price` and `maintenance_cost`.\n",
        "   - Display the updated DataFrame."
      ],
      "metadata": {
        "id": "tJJ-PVknmHNR"
      }
    },
    {
      "cell_type": "code",
      "source": [
        "## CODE GOES HERE"
      ],
      "metadata": {
        "id": "HUJU0rCxmI48"
      },
      "execution_count": null,
      "outputs": []
    },
    {
      "cell_type": "markdown",
      "source": [
        "**Task 6: Filtering and Sorting**\n",
        "   - Filter the DataFrame to include only cars with `acceptable` and `good` ratings in the `evaluation` column.\n",
        "   - Sort the DataFrame based on the `safety_rating` in ascending order."
      ],
      "metadata": {
        "id": "UYt9p3ZymJpu"
      }
    },
    {
      "cell_type": "code",
      "source": [
        "## CODE GOES HERE"
      ],
      "metadata": {
        "id": "l5XoA3mKmLa6"
      },
      "execution_count": null,
      "outputs": []
    },
    {
      "cell_type": "markdown",
      "source": [
        " **Task 7: Advanced Price Adjustment**\n",
        "   - Create a function that adjusts the `buying_price` of a car based on its `safety_rating`. Apply this function to the DataFrame.\n",
        "   - Display the DataFrame before and after the adjustment."
      ],
      "metadata": {
        "id": "dj-ORBqQmMHv"
      }
    },
    {
      "cell_type": "code",
      "source": [
        "## CODE GOES HERE"
      ],
      "metadata": {
        "id": "hlJdvGgrmN0M"
      },
      "execution_count": null,
      "outputs": []
    },
    {
      "cell_type": "markdown",
      "source": [
        "**Task 8: Custom Mapping**\n",
        "   - Map a custom function to the `evaluation` column to replace `unacceptable` with `low` and `acceptable` with `medium`.\n",
        "   - Display the updated `evaluation` column."
      ],
      "metadata": {
        "id": "j9hjtCU9mOWq"
      }
    },
    {
      "cell_type": "code",
      "source": [
        "## CODE GOES HERE"
      ],
      "metadata": {
        "id": "1dvwApG1mQXg"
      },
      "execution_count": null,
      "outputs": []
    },
    {
      "cell_type": "markdown",
      "source": [
        "**Task 9: Applymap Challenge**\n",
        "   - Create a function that categorizes the `num_doors` column into `2 doors` and `4 doors`. Use `applymap()` to apply this function to the entire DataFrame.\n",
        "   - Display the updated DataFrame."
      ],
      "metadata": {
        "id": "Ni-mNcJcmRfV"
      }
    },
    {
      "cell_type": "code",
      "source": [
        "## CODE GOES HERE"
      ],
      "metadata": {
        "id": "mkwcvjhXmSEY"
      },
      "execution_count": null,
      "outputs": []
    },
    {
      "cell_type": "markdown",
      "source": [
        "## Summary"
      ],
      "metadata": {
        "id": "qrMi3Yl6mSkA"
      }
    },
    {
      "cell_type": "markdown",
      "source": [
        "We Explored the Car Evaluation dataset, actively engaging with Pandas to reinforce key concepts from our recent lessons. We created and manipulated Pandas Series, gaining insights into buying prices, passenger counts, and other crucial features. Constructing and modifying DataFrames, we enhanced our comprehension of the dataset's structure, adding new features and applying strategic filters. By applying functions to DataFrames, we showcased versatile data manipulation skills, from custom mapping to using `applymap()`. This hands-on experience has equipped us with practical skills in data manipulation, preparing us for more advanced challenges in our journey with Pandas. Great work!"
      ],
      "metadata": {
        "id": "zKZXmtMkoDf1"
      }
    }
  ]
}