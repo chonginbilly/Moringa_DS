{
  "nbformat": 4,
  "nbformat_minor": 0,
  "metadata": {
    "colab": {
      "provenance": [],
      "include_colab_link": true
    },
    "kernelspec": {
      "name": "python3",
      "display_name": "Python 3"
    },
    "language_info": {
      "name": "python"
    }
  },
  "cells": [
    {
      "cell_type": "markdown",
      "metadata": {
        "id": "view-in-github",
        "colab_type": "text"
      },
      "source": [
        "<a href=\"https://colab.research.google.com/github/chonginbilly/Moringa_DS/blob/Moringa_python/While_Loops_Break_and_Continue_Lab.ipynb\" target=\"_parent\"><img src=\"https://colab.research.google.com/assets/colab-badge.svg\" alt=\"Open In Colab\"/></a>"
      ]
    },
    {
      "cell_type": "markdown",
      "source": [
        "<font color=\"green\">*To start working on this notebook, or any other notebook that we will use in this course, we will need to save our own copy of it. We can do this by clicking File > Save a Copy in Drive. We will then be able to make edits to our own copy of this notebook.*</font>\n",
        "\n",
        "---\n"
      ],
      "metadata": {
        "id": "tdY_ta87qwsM"
      }
    },
    {
      "cell_type": "markdown",
      "source": [
        "# While Loops, Break and Continue - Lab"
      ],
      "metadata": {
        "id": "cEz9rxHbbQ95"
      }
    },
    {
      "cell_type": "markdown",
      "source": [
        "## Introduction"
      ],
      "metadata": {
        "id": "g9vcUorFbeKF"
      }
    },
    {
      "cell_type": "markdown",
      "source": [
        "Prepare for a thrilling coding escapade! In this lab, we'll wield `while` loops, `break`, and `continue` like seasoned treasure hunters. Picture us sorting through a trove of items, using our control flow prowess to sift through collections, pinpointing gems, and deftly sidestepping mere rocks. With `break` and `continue` as our trusty tools, we'll expertly filter out the treasures, carrying out operations until our pursuit for the ultimate loot is fulfilled! Join us on this exhilarating coding treasure hunt—it's where professional expertise meets the thrill of an adventure!"
      ],
      "metadata": {
        "id": "N6GzTYJObz1r"
      }
    },
    {
      "cell_type": "markdown",
      "source": [
        "## Objectives"
      ],
      "metadata": {
        "id": "uZD0cj_zcQUo"
      }
    },
    {
      "cell_type": "markdown",
      "source": [
        "You will be able to:\n",
        "\n",
        "* Recall the syntax and functionality of `while` loops.\n",
        "* Apply `break` to filter and `continue` to skip elements within while loops.\n",
        "* Evaluate conditions within `while` loops, effectively controlling iteration based on specific conditions."
      ],
      "metadata": {
        "id": "gnCmjlmOcSMw"
      }
    },
    {
      "cell_type": "markdown",
      "source": [
        "## Lab Tasks"
      ],
      "metadata": {
        "id": "bZzpuJQbc4iE"
      }
    },
    {
      "cell_type": "markdown",
      "source": [
        "**Task 1: Exploring Basic While Loop**\n",
        "- Create a while loop that counts from 1 to 5.\n",
        "- Print each count within the loop.\n"
      ],
      "metadata": {
        "id": "Qw3cRsGVdrzX"
      }
    },
    {
      "cell_type": "code",
      "execution_count": null,
      "metadata": {
        "id": "urQo_RGWqvwn"
      },
      "outputs": [],
      "source": [
        "## CODE GOES HERE"
      ]
    },
    {
      "cell_type": "markdown",
      "source": [
        "**Task 2: Looping with `while True`**\n",
        "- Use a `while True` loop to prompt the user for a number input.\n",
        "- If the number is greater than 10, print *Treasure Found!* and exit the loop.\n"
      ],
      "metadata": {
        "id": "4xHlQ_vFeB8s"
      }
    },
    {
      "cell_type": "code",
      "source": [
        "## CODE GOES HERE"
      ],
      "metadata": {
        "id": "CpSfsL8kfP4u"
      },
      "execution_count": null,
      "outputs": []
    },
    {
      "cell_type": "markdown",
      "source": [
        "**Task 3: Treasure Threshold**\n",
        "- Create a while loop asking the user to guess a secret number (consider setting a secret number beforehand).\n",
        "- Continue the loop until the user guesses the correct number. Print *You found the treasure!* upon successful guessing.\n"
      ],
      "metadata": {
        "id": "h26ackTGeF-4"
      }
    },
    {
      "cell_type": "code",
      "source": [
        "## CODE GOES HERE"
      ],
      "metadata": {
        "id": "sJMOjY23fZkd"
      },
      "execution_count": null,
      "outputs": []
    },
    {
      "cell_type": "markdown",
      "source": [
        "**Task 4: Skipping Undesirable Items**\n",
        "- Set up a while loop to accept user input for items (like *rock* or *gem*).\n",
        "- If the item is *rock*, use *continue* to skip it; if it's *gem*, print *Treasure Found* and exit the loop.\n"
      ],
      "metadata": {
        "id": "hNwa0HtZeNfO"
      }
    },
    {
      "cell_type": "code",
      "source": [
        "## CODE GOES HERE"
      ],
      "metadata": {
        "id": "1eLARj5Cfj31"
      },
      "execution_count": null,
      "outputs": []
    },
    {
      "cell_type": "markdown",
      "source": [
        "**Task 5: Limiting Attempts**\n",
        "- Create a loop that asks the user to guess a secret word (consider setting the secret word beforehand).\n",
        "- Allow only three attempts for guessing. Exit the loop after three attempts or upon guessing the correct word.\n"
      ],
      "metadata": {
        "id": "Mti3yhzQeUBz"
      }
    },
    {
      "cell_type": "code",
      "source": [
        "## CODE GOES HERE"
      ],
      "metadata": {
        "id": "d5pyhKgFfmg2"
      },
      "execution_count": null,
      "outputs": []
    },
    {
      "cell_type": "markdown",
      "source": [
        "**Task 6: The Limitless Loop**\n",
        "- Employ a 'while True' loop to continuously prompt the user for their name.\n",
        "- Once the user inputs *quit*, break the loop and print *End of the Hunt!*."
      ],
      "metadata": {
        "id": "AfCCFkwFfDc8"
      }
    },
    {
      "cell_type": "code",
      "source": [
        "## CODE GOES HERE"
      ],
      "metadata": {
        "id": "zMXsqSY1fnCT"
      },
      "execution_count": null,
      "outputs": []
    },
    {
      "cell_type": "markdown",
      "source": [
        "**Task 7: Searching for the Perfect Treasure**\n",
        "- Utilize a while loop to simulate a treasure hunt game.\n",
        "- Prompt the user to enter directions (e.g., 'left' or 'right') to find the treasure. Print `\"You found the treasure!\"` when they input `treasure`."
      ],
      "metadata": {
        "id": "xOQfghJrfGki"
      }
    },
    {
      "cell_type": "code",
      "source": [
        "## CODE GOES HERE"
      ],
      "metadata": {
        "id": "Q0M1yzCvfnqC"
      },
      "execution_count": null,
      "outputs": []
    },
    {
      "cell_type": "markdown",
      "source": [
        "## Summary"
      ],
      "metadata": {
        "id": "wQU6HHQecvuS"
      }
    },
    {
      "cell_type": "markdown",
      "source": [
        "In this coding adventure, we skillfully navigated `while` loops, `break`, and `continue` to sort through a trove of items. Employing our control flow mastery, we discerned gems while skirting past ordinary rocks. Break and continue acted as our trusty companions, aiding in filtering out treasures and executing operations until our quest for the perfect loot reached its conclusion. This exhilarating journey fused professional expertise with the excitement of an adventure, showcasing how coding prowess can make exploration a thrilling escapade!"
      ],
      "metadata": {
        "id": "j9ZhNIrLcxm5"
      }
    }
  ]
}